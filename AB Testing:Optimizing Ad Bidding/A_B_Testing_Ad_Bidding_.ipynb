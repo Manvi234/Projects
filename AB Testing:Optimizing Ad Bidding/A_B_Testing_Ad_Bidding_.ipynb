{
  "cells": [
    {
      "cell_type": "markdown",
      "metadata": {
        "id": "2b326aba"
      },
      "source": [
        "\n",
        "# 📊 A/B Testing: Optimizing Ad Bidding\n",
        "\n",
        "**Objective**: Evaluate whether a new ad bidding strategy improves key performance metrics compared to the existing one.\n",
        "\n",
        "**Hypothesis**: The test group is expected to have higher purchase rate, click-through rate, and earnings per impression.\n",
        "\n",
        "**Dataset**: Contains impression, click, purchase, and earnings data for both control and test groups.\n"
      ]
    },
    {
      "cell_type": "markdown",
      "metadata": {
        "id": "04846e4c"
      },
      "source": [
        "\n",
        "## 📐 Metric Definitions\n",
        "\n",
        "| Metric | Formula | Description |\n",
        "|--------|---------|-------------|\n",
        "|  **Purchase Rate** | Purchases / Impressions | Measures how often impressions convert to purchases |\n",
        "|  **Click-Through Rate (CTR)** | Clicks / Impressions | Indicates user engagement with the ad |\n",
        "|  **Earnings per Impression (EPI)** | Earnings / Impressions | Tracks revenue efficiency per ad impression |\n"
      ]
    },
    {
      "cell_type": "code",
      "execution_count": null,
      "metadata": {
        "id": "pmjA6iMyuv0f"
      },
      "outputs": [],
      "source": [
        "import pandas as pd\n",
        "import numpy as np\n",
        "import matplotlib.pyplot as plt\n",
        "import seaborn as sns\n",
        "from statsmodels.stats.power import NormalIndPower\n",
        "from statsmodels.stats.proportion import proportion_effectsize\n",
        "from statsmodels.stats.proportion import proportions_ztest, proportion_confint\n",
        "from scipy.stats import ttest_ind\n",
        "import warnings\n",
        "warnings.filterwarnings('ignore')"
      ]
    },
    {
      "cell_type": "code",
      "execution_count": null,
      "metadata": {
        "colab": {
          "base_uri": "https://localhost:8080/"
        },
        "id": "QcTTDN0xvHHq",
        "outputId": "ffba84c5-4c0c-4b1a-e59a-3498e72645e7"
      },
      "outputs": [
        {
          "name": "stdout",
          "output_type": "stream",
          "text": [
            "Control Group \n",
            "    Impression  Click  Purchase  Earning\n",
            "0       82529   6090       665     2311\n",
            "1       98050   3383       315     1743\n",
            "2       82696   4168       458     1798\n",
            "3      109914   4911       487     1696\n",
            "4      108458   5988       441     1544\n",
            "\n",
            "\n",
            "Test Group \n",
            "    Impression  Click  Purchase  Earning\n",
            "0      120104   3217       702     1940\n",
            "1      134776   3635       834     2929\n",
            "2      107807   3057       423     2526\n",
            "3      116445   4650       429     2281\n",
            "4      145083   5201       750     2782\n"
          ]
        }
      ],
      "source": [
        "df_control = pd.read_csv('control_group.csv')\n",
        "df_test = pd.read_csv('test_group.csv')\n",
        "print('Control Group \\n',df_control.head())\n",
        "print('\\n')\n",
        "print('Test Group \\n',df_test.head())"
      ]
    },
    {
      "cell_type": "code",
      "execution_count": null,
      "metadata": {
        "colab": {
          "base_uri": "https://localhost:8080/"
        },
        "id": "O1IM2w1evjkY",
        "outputId": "4886286e-edc7-416e-beb1-4ab92a7f34c5"
      },
      "outputs": [
        {
          "name": "stdout",
          "output_type": "stream",
          "text": [
            "Control Group Info \n",
            "\n",
            "<class 'pandas.core.frame.DataFrame'>\n",
            "RangeIndex: 40 entries, 0 to 39\n",
            "Data columns (total 4 columns):\n",
            " #   Column      Non-Null Count  Dtype\n",
            "---  ------      --------------  -----\n",
            " 0   Impression  40 non-null     int64\n",
            " 1   Click       40 non-null     int64\n",
            " 2   Purchase    40 non-null     int64\n",
            " 3   Earning     40 non-null     int64\n",
            "dtypes: int64(4)\n",
            "memory usage: 1.4 KB\n",
            "None\n",
            "\n",
            "\n",
            "Test Group Info \n",
            "\n",
            "<class 'pandas.core.frame.DataFrame'>\n",
            "RangeIndex: 40 entries, 0 to 39\n",
            "Data columns (total 4 columns):\n",
            " #   Column      Non-Null Count  Dtype\n",
            "---  ------      --------------  -----\n",
            " 0   Impression  40 non-null     int64\n",
            " 1   Click       40 non-null     int64\n",
            " 2   Purchase    40 non-null     int64\n",
            " 3   Earning     40 non-null     int64\n",
            "dtypes: int64(4)\n",
            "memory usage: 1.4 KB\n",
            "None\n"
          ]
        }
      ],
      "source": [
        "print('Control Group Info \\n')\n",
        "print(df_control.info())\n",
        "print('\\n')\n",
        "print('Test Group Info \\n')\n",
        "print(df_test.info())"
      ]
    },
    {
      "cell_type": "code",
      "execution_count": null,
      "metadata": {
        "colab": {
          "base_uri": "https://localhost:8080/",
          "height": 207
        },
        "id": "W5RghYVywDAT",
        "outputId": "c3a08597-256b-41d5-fff6-e80684d9a752"
      },
      "outputs": [
        {
          "data": {
            "text/html": [
              "<div>\n",
              "<style scoped>\n",
              "    .dataframe tbody tr th:only-of-type {\n",
              "        vertical-align: middle;\n",
              "    }\n",
              "\n",
              "    .dataframe tbody tr th {\n",
              "        vertical-align: top;\n",
              "    }\n",
              "\n",
              "    .dataframe thead th {\n",
              "        text-align: right;\n",
              "    }\n",
              "</style>\n",
              "<table border=\"1\" class=\"dataframe\">\n",
              "  <thead>\n",
              "    <tr style=\"text-align: right;\">\n",
              "      <th></th>\n",
              "      <th>0</th>\n",
              "    </tr>\n",
              "  </thead>\n",
              "  <tbody>\n",
              "    <tr>\n",
              "      <th>Impression</th>\n",
              "      <td>0</td>\n",
              "    </tr>\n",
              "    <tr>\n",
              "      <th>Click</th>\n",
              "      <td>0</td>\n",
              "    </tr>\n",
              "    <tr>\n",
              "      <th>Purchase</th>\n",
              "      <td>0</td>\n",
              "    </tr>\n",
              "    <tr>\n",
              "      <th>Earning</th>\n",
              "      <td>0</td>\n",
              "    </tr>\n",
              "  </tbody>\n",
              "</table>\n",
              "</div><br><label><b>dtype:</b> int64</label>"
            ],
            "text/plain": [
              "Impression    0\n",
              "Click         0\n",
              "Purchase      0\n",
              "Earning       0\n",
              "dtype: int64"
            ]
          },
          "execution_count": 4,
          "metadata": {},
          "output_type": "execute_result"
        }
      ],
      "source": [
        "df_control.isnull().sum()"
      ]
    },
    {
      "cell_type": "code",
      "execution_count": null,
      "metadata": {
        "colab": {
          "base_uri": "https://localhost:8080/",
          "height": 207
        },
        "id": "Xp3nHrs1wGNn",
        "outputId": "073d1a08-a895-40b5-b3e5-fcb4d03c2ce8"
      },
      "outputs": [
        {
          "data": {
            "text/html": [
              "<div>\n",
              "<style scoped>\n",
              "    .dataframe tbody tr th:only-of-type {\n",
              "        vertical-align: middle;\n",
              "    }\n",
              "\n",
              "    .dataframe tbody tr th {\n",
              "        vertical-align: top;\n",
              "    }\n",
              "\n",
              "    .dataframe thead th {\n",
              "        text-align: right;\n",
              "    }\n",
              "</style>\n",
              "<table border=\"1\" class=\"dataframe\">\n",
              "  <thead>\n",
              "    <tr style=\"text-align: right;\">\n",
              "      <th></th>\n",
              "      <th>0</th>\n",
              "    </tr>\n",
              "  </thead>\n",
              "  <tbody>\n",
              "    <tr>\n",
              "      <th>Impression</th>\n",
              "      <td>0</td>\n",
              "    </tr>\n",
              "    <tr>\n",
              "      <th>Click</th>\n",
              "      <td>0</td>\n",
              "    </tr>\n",
              "    <tr>\n",
              "      <th>Purchase</th>\n",
              "      <td>0</td>\n",
              "    </tr>\n",
              "    <tr>\n",
              "      <th>Earning</th>\n",
              "      <td>0</td>\n",
              "    </tr>\n",
              "  </tbody>\n",
              "</table>\n",
              "</div><br><label><b>dtype:</b> int64</label>"
            ],
            "text/plain": [
              "Impression    0\n",
              "Click         0\n",
              "Purchase      0\n",
              "Earning       0\n",
              "dtype: int64"
            ]
          },
          "execution_count": 5,
          "metadata": {},
          "output_type": "execute_result"
        }
      ],
      "source": [
        "df_test.isnull().sum()"
      ]
    },
    {
      "cell_type": "code",
      "execution_count": null,
      "metadata": {
        "colab": {
          "base_uri": "https://localhost:8080/"
        },
        "id": "k3shrzIjwItm",
        "outputId": "5e3a6742-6aab-40ef-db4b-74853f6a4a6a"
      },
      "outputs": [
        {
          "data": {
            "text/plain": [
              "np.int64(0)"
            ]
          },
          "execution_count": 6,
          "metadata": {},
          "output_type": "execute_result"
        }
      ],
      "source": [
        "df_control.duplicated().sum()"
      ]
    },
    {
      "cell_type": "code",
      "execution_count": null,
      "metadata": {
        "colab": {
          "base_uri": "https://localhost:8080/"
        },
        "id": "XQLDW-EIwM-3",
        "outputId": "b9e59750-8f03-4c2c-b7aa-047db4a9a840"
      },
      "outputs": [
        {
          "data": {
            "text/plain": [
              "np.int64(0)"
            ]
          },
          "execution_count": 7,
          "metadata": {},
          "output_type": "execute_result"
        }
      ],
      "source": [
        "df_test.duplicated().sum()"
      ]
    },
    {
      "cell_type": "code",
      "execution_count": null,
      "metadata": {
        "colab": {
          "base_uri": "https://localhost:8080/"
        },
        "id": "jpE2WgdNTBkD",
        "outputId": "a4666dfd-202b-4a34-997a-85b7b921a89e"
      },
      "outputs": [
        {
          "data": {
            "text/plain": [
              "Index(['Impression', 'Click', 'Purchase', 'Earning'], dtype='object')"
            ]
          },
          "execution_count": 8,
          "metadata": {},
          "output_type": "execute_result"
        }
      ],
      "source": [
        "df_control.columns"
      ]
    },
    {
      "cell_type": "code",
      "execution_count": null,
      "metadata": {
        "colab": {
          "base_uri": "https://localhost:8080/",
          "height": 207
        },
        "id": "DjXvo6tUSsbv",
        "outputId": "4b1dcad0-d1b7-4285-8e25-501e171f1285"
      },
      "outputs": [
        {
          "data": {
            "text/html": [
              "<div>\n",
              "<style scoped>\n",
              "    .dataframe tbody tr th:only-of-type {\n",
              "        vertical-align: middle;\n",
              "    }\n",
              "\n",
              "    .dataframe tbody tr th {\n",
              "        vertical-align: top;\n",
              "    }\n",
              "\n",
              "    .dataframe thead th {\n",
              "        text-align: right;\n",
              "    }\n",
              "</style>\n",
              "<table border=\"1\" class=\"dataframe\">\n",
              "  <thead>\n",
              "    <tr style=\"text-align: right;\">\n",
              "      <th></th>\n",
              "      <th>0</th>\n",
              "    </tr>\n",
              "  </thead>\n",
              "  <tbody>\n",
              "    <tr>\n",
              "      <th>Impression</th>\n",
              "      <td>39</td>\n",
              "    </tr>\n",
              "    <tr>\n",
              "      <th>Click</th>\n",
              "      <td>40</td>\n",
              "    </tr>\n",
              "    <tr>\n",
              "      <th>Purchase</th>\n",
              "      <td>37</td>\n",
              "    </tr>\n",
              "    <tr>\n",
              "      <th>Earning</th>\n",
              "      <td>39</td>\n",
              "    </tr>\n",
              "  </tbody>\n",
              "</table>\n",
              "</div><br><label><b>dtype:</b> int64</label>"
            ],
            "text/plain": [
              "Impression    39\n",
              "Click         40\n",
              "Purchase      37\n",
              "Earning       39\n",
              "dtype: int64"
            ]
          },
          "execution_count": 9,
          "metadata": {},
          "output_type": "execute_result"
        }
      ],
      "source": [
        "df_control_cat = df_control[['Impression', 'Click', 'Purchase', 'Earning']]\n",
        "df_control_cat.nunique()"
      ]
    },
    {
      "cell_type": "code",
      "execution_count": null,
      "metadata": {
        "colab": {
          "base_uri": "https://localhost:8080/",
          "height": 193
        },
        "id": "YrG5T1ZzwQj0",
        "outputId": "8a58ec9b-1016-4df4-950a-409611044eaf"
      },
      "outputs": [
        {
          "data": {
            "image/png": "[encoded data removed]",
            "text/plain": [
              "<Figure size 2000x400 with 4 Axes>"
            ]
          },
          "metadata": {},
          "output_type": "display_data"
        }
      ],
      "source": [
        "numeric_cols = df_control.select_dtypes(include='number').columns\n",
        "\n",
        "plt.figure(figsize=(5 * len(numeric_cols), 4))\n",
        "\n",
        "for i, variable in enumerate(numeric_cols):\n",
        "    plt.subplot(1, len(numeric_cols), i + 1)\n",
        "    sns.histplot(x=variable, data=df_control_cat, kde=True, color='skyblue', edgecolor='black')\n",
        "    plt.title(variable)\n",
        "    plt.xticks(rotation=45)\n",
        "\n",
        "plt.tight_layout()\n",
        "plt.show()"
      ]
    },
    {
      "cell_type": "code",
      "execution_count": null,
      "metadata": {
        "id": "62xUt26SQy8S"
      },
      "outputs": [],
      "source": [
        "main_metric = 'Purchase'\n",
        "driver_metric = 'Click'\n",
        "safety_metric = [['Impression','Earning']]\n"
      ]
    },
    {
      "cell_type": "code",
      "execution_count": null,
      "metadata": {
        "colab": {
          "base_uri": "https://localhost:8080/"
        },
        "id": "UzG1i83DZYDV",
        "outputId": "9122fb62-f054-47ab-a196-b637b82d136e"
      },
      "outputs": [
        {
          "name": "stdout",
          "output_type": "stream",
          "text": [
            "40\n",
            "40\n"
          ]
        }
      ],
      "source": [
        "randomized_unit_control = len(df_control)\n",
        "randomized_unit_test = len(df_test)"
      ]
    },
    {
      "cell_type": "code",
      "execution_count": null,
      "metadata": {
        "colab": {
          "base_uri": "https://localhost:8080/"
        },
        "id": "bOLSH63dchX4",
        "outputId": "3a5007e6-bd69-4612-d1ab-9bd1b7bccb62"
      },
      "outputs": [
        {
          "name": "stdout",
          "output_type": "stream",
          "text": [
            "0.005416302687652177\n"
          ]
        }
      ],
      "source": [
        "baseline_converstion_rate = df_control[main_metric].sum()/df_control['Impression'].sum()\n",
        "print(baseline_converstion_rate)"
      ]
    },
    {
      "cell_type": "code",
      "execution_count": null,
      "metadata": {
        "id": "AWPGPKD4hTa0"
      },
      "outputs": [],
      "source": [
        "mde = 0.01\n",
        "alpha = 0.05\n",
        "power = 0.80"
      ]
    },
    {
      "cell_type": "code",
      "execution_count": null,
      "metadata": {
        "colab": {
          "base_uri": "https://localhost:8080/"
        },
        "id": "kYj5MM77hc6p",
        "outputId": "9976ece1-4f5b-4e41-aab0-295df238fcb0"
      },
      "outputs": [
        {
          "name": "stdout",
          "output_type": "stream",
          "text": [
            "846\n"
          ]
        }
      ],
      "source": [
        "power_analysis = NormalIndPower()\n",
        "effect_size = mde / np.sqrt(baseline_converstion_rate  * (1 -baseline_converstion_rate ))\n",
        "n_per_group = power_analysis.solve_power(\n",
        "    effect_size=effect_size,\n",
        "    power=0.8,\n",
        "    alpha=0.05,\n",
        "    ratio=1,\n",
        "    alternative='two-sided'\n",
        ")\n",
        "sample_size = int(np.ceil(n_per_group))"
      ]
    },
    {
      "cell_type": "code",
      "execution_count": null,
      "metadata": {
        "id": "eUf-Edn_jcll"
      },
      "outputs": [],
      "source": [
        "avg_imp_randomized_unit_control = df_control['Impression'].mean()\n",
        "avg_imp_randomized_unit_test    = df_test['Impression'].mean()\n",
        "duration_of_control   = sample_size / avg_imp_randomized_unit_control\n",
        "duration_of_test      = sample_size / avg_imp_randomized_unit_test"
      ]
    },
    {
      "cell_type": "code",
      "execution_count": null,
      "metadata": {
        "colab": {
          "base_uri": "https://localhost:8080/"
        },
        "id": "nsRpgftpkXjB",
        "outputId": "259d3de9-bc29-4b26-d618-184e10b11b5b"
      },
      "outputs": [
        {
          "name": "stdout",
          "output_type": "stream",
          "text": [
            "Randomized Unit for Control Group: 40\n",
            "Randomized Unit for Test Group: 40\n",
            "Sample Size:  846\n",
            "Average Impressions in Control:  101711.45\n",
            "Average Impressions in Test:  120512.425\n",
            "Duration of Control in Days:  0\n",
            "Duration of Test in Days :  0\n"
          ]
        }
      ],
      "source": [
        "print('Randomized Unit for Control Group:',randomized_unit_control)\n",
        "print('Randomized Unit for Test Group:',randomized_unit_test)\n",
        "print(\"Sample Size: \", sample_size)\n",
        "print(\"Average Impressions in Control: \", avg_imp_randomized_unit_control)\n",
        "print(\"Average Impressions in Test: \", avg_imp_randomized_unit_test)\n",
        "print(\"Duration of Control in Days: \", round(duration_of_control))\n",
        "print(\"Duration of Test in Days : \", round(duration_of_test))\n"
      ]
    },
    {
      "cell_type": "code",
      "execution_count": null,
      "metadata": {
        "id": "W4cA1piilrNv"
      },
      "outputs": [],
      "source": [
        "count = np.array([df_control['Purchase'].sum(), df_test['Purchase'].sum()])\n",
        "nobs  = np.array([df_control['Impression'].sum(), df_test['Impression'].sum()])\n",
        "z_pr, p_pr = proportions_ztest(count, nobs)\n",
        "ci_c_pr, ci_t_pr = proportion_confint(count[0], nobs[0]), proportion_confint(count[1], nobs[1])"
      ]
    },
    {
      "cell_type": "code",
      "execution_count": null,
      "metadata": {
        "id": "ypxa5sUayiat"
      },
      "outputs": [],
      "source": [
        "count_ctr = np.array([df_control['Click'].sum(), df_test['Click'].sum()])\n",
        "z_ctr, p_ctr = proportions_ztest(count_ctr, nobs)\n",
        "ci_c_ctr, ci_t_ctr = proportion_confint(count_ctr[0], nobs[0]), proportion_confint(count_ctr[1], nobs[1])"
      ]
    },
    {
      "cell_type": "code",
      "execution_count": null,
      "metadata": {
        "id": "QaCYcHfDyw31"
      },
      "outputs": [],
      "source": [
        "epi_control = df_control['Earning'] / df_control['Impression']\n",
        "epi_test    = df_test['Earning']    / df_test['Impression']\n",
        "t_epi, p_epi = ttest_ind(epi_control, epi_test, equal_var=False)\n",
        "ci_c_epi = np.percentile(epi_control, [2.5, 97.5])\n",
        "ci_t_epi = np.percentile(epi_test,    [2.5, 97.5])"
      ]
    },
    {
      "cell_type": "code",
      "execution_count": null,
      "metadata": {
        "colab": {
          "base_uri": "https://localhost:8080/"
        },
        "id": "mmPWJT7RzBva",
        "outputId": "cd2f0194-ac5a-49b7-dfc6-68e828e11857"
      },
      "outputs": [
        {
          "name": "stdout",
          "output_type": "stream",
          "text": [
            "Purchase Rate Test\n",
            "z: 12.232379854771155 p:  2.087321934700134e-34\n",
            "CI Control: (0.0053449836779779925, 0.005487621697326361) CI Test: (0.004767903213839255, 0.004891681679585635)\n",
            "\n",
            "\n",
            "Click Rate Test\n",
            "z: 129.3283262976726 p:  0.0\n",
            "CI Control: (0.04993591794745217, 0.05036006642795493) CI Test: (0.03276304525262912, 0.03308161765246137)\n",
            "\n",
            "\n",
            "Earning Per Impression Test\n",
            "t: -1.890283586128312 p:  0.06246994327644144\n",
            "CI Control: [0.01235294 0.02807457] CI Test: [0.01549398 0.03050733]\n"
          ]
        }
      ],
      "source": [
        "print(\"Purchase Rate Test\")\n",
        "print(\"z:\",z_pr,\"p: \",p_pr)\n",
        "print(\"CI Control:\",ci_c_pr,\"CI Test:\",ci_t_pr)\n",
        "print(\"\\n\")\n",
        "print(\"Click Rate Test\")\n",
        "print(\"z:\",z_ctr,\"p: \",p_ctr)\n",
        "print(\"CI Control:\",ci_c_ctr,\"CI Test:\",ci_t_ctr)\n",
        "print(\"\\n\")\n",
        "print(\"Earning Per Impression Test\")\n",
        "print(\"t:\",t_epi,\"p: \",p_epi)\n",
        "print(\"CI Control:\",ci_c_epi,\"CI Test:\",ci_t_epi)"
      ]
    },
    {
      "cell_type": "markdown",
      "metadata": {
        "id": "j1Pz1DHb1pah"
      },
      "source": [
        "# **INSIGHTS**\n",
        "\n",
        "# **1. Purchase Rate Test**\n",
        "\n",
        "**Interpretation:**\n",
        "\n",
        "- The control group has a higher purchase rate than the test group.\n",
        "- The difference is very statistically significant (p ≪ 0.05).\n",
        "- Even the confidence intervals don’t overlap, which supports this.\n",
        "\n",
        "**The change in the test group reduced the purchase rate significantly. From a business perspective, the control version performs better in driving purchases.**\n",
        "\n",
        "# **2. Click Rate Test**\n",
        "\n",
        "**Interpretation:**\n",
        "- The control group also has a much higher click rate than the test group.\n",
        "- Confidence intervals are again non-overlapping, confirming significance.\n",
        "- Very high z-score suggests a large sample size and a real effect.\n",
        "\n",
        "**The test group significantly underperforms on click-through rate. Control is better at engaging users via clicks.**\n",
        "\n",
        "# **3.  Earnings Per Impression (EPI)**\n",
        "**Interpretation:**\n",
        "- The test group appears to have slightly higher EPI, but this is not statistically significant at the 0.05 level (p = 0.062).\n",
        "- The confidence intervals overlap, which supports this.\n",
        "\n",
        "**There's a possible small increase in earnings per impression with the test version, but we can't confidently say it's not due to chance. This result is on the edge and might warrant further investigation with more data.**"
      ]
    },
    {
      "cell_type": "markdown",
      "metadata": {
        "id": "553e4cfd"
      },
      "source": [
        "\n",
        "# **Final Recommendation**\n",
        "\n",
        "The test group significantly underperformed the control group on both purchase rate and click-through rate. Although earnings per impression were slightly higher, the difference was not statistically significant.\n",
        "\n",
        "**Conclusion**:  Do not implement the test variant. The current control strategy yields better user engagement and conversions.\n"
      ]
    }
  ],
  "metadata": {
    "colab": {
      "provenance": []
    },
    "kernelspec": {
      "display_name": "Python 3",
      "name": "python3"
    },
    "language_info": {
      "name": "python"
    }
  },
  "nbformat": 4,
  "nbformat_minor": 0
}