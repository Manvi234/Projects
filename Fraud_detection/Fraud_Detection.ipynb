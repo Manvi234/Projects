{
 "cells": [
  {
   "cell_type": "markdown",
   "metadata": {
    "id": "3X0xdK1gCDrr"
   },
   "source": [
    "Name: Manvi Gawande\n",
    "\n",
    "Email : manvigawande234@gmail.com\n",
    "\n",
    "Github : https://github.com/Manvi234\n",
    "\n",
    "LinkedIn : https://www.linkedin.com/in/manvi-gawande"
   ]
  },
  {
   "cell_type": "markdown",
   "metadata": {
    "id": "crMs2jmCxhas"
   },
   "source": [
    "## **FRAUD DETECTION**\n",
    "The model is a classification model that classifies whether Fraud has taken place or not. If the Fraud has taken place then it is represented using 1 else by 0. The model used is Logistic Regression which is suitable for Binary Classification and the realtionship found between the independent and dependent variables graphically is a S-shape graph which an indicator of Logistic Regression"
   ]
  },
  {
   "cell_type": "markdown",
   "metadata": {
    "id": "vl17fittbG05"
   },
   "source": [
    "## **Importing Important Libraries**"
   ]
  },
  {
   "cell_type": "code",
   "execution_count": 1,
   "metadata": {
    "id": "3snfXefEfZdL"
   },
   "outputs": [],
   "source": [
    "import numpy as np\n",
    "import pandas as pd\n",
    "import matplotlib.pyplot as plt\n",
    "import seaborn as sns\n",
    "from sklearn.preprocessing import LabelEncoder\n",
    "from sklearn.model_selection import train_test_split\n",
    "from sklearn.linear_model import LogisticRegression\n",
    "from sklearn.metrics import confusion_matrix\n",
    "from sklearn.metrics import precision_score,recall_score,f1_score,accuracy_score"
   ]
  },
  {
   "cell_type": "code",
   "execution_count": 2,
   "metadata": {
    "id": "peqwMzuGhSR6"
   },
   "outputs": [],
   "source": [
    "df = pd.read_csv('Fraud.csv')"
   ]
  },
  {
   "cell_type": "markdown",
   "metadata": {
    "id": "yG-VyzdfnZzP"
   },
   "source": [
    "## **Data Exploration**"
   ]
  },
  {
   "cell_type": "code",
   "execution_count": 3,
   "metadata": {
    "colab": {
     "base_uri": "https://localhost:8080/",
     "height": 270
    },
    "id": "_N2QU0kChZEn",
    "outputId": "fa3c3487-e6c5-4a5c-cfca-5ed6fb2891b0"
   },
   "outputs": [
    {
     "data": {
      "text/html": [
       "<div>\n",
       "<style scoped>\n",
       "    .dataframe tbody tr th:only-of-type {\n",
       "        vertical-align: middle;\n",
       "    }\n",
       "\n",
       "    .dataframe tbody tr th {\n",
       "        vertical-align: top;\n",
       "    }\n",
       "\n",
       "    .dataframe thead th {\n",
       "        text-align: right;\n",
       "    }\n",
       "</style>\n",
       "<table border=\"1\" class=\"dataframe\">\n",
       "  <thead>\n",
       "    <tr style=\"text-align: right;\">\n",
       "      <th></th>\n",
       "      <th>step</th>\n",
       "      <th>type</th>\n",
       "      <th>amount</th>\n",
       "      <th>nameOrig</th>\n",
       "      <th>oldbalanceOrg</th>\n",
       "      <th>newbalanceOrig</th>\n",
       "      <th>nameDest</th>\n",
       "      <th>oldbalanceDest</th>\n",
       "      <th>newbalanceDest</th>\n",
       "      <th>isFraud</th>\n",
       "      <th>isFlaggedFraud</th>\n",
       "    </tr>\n",
       "  </thead>\n",
       "  <tbody>\n",
       "    <tr>\n",
       "      <th>0</th>\n",
       "      <td>1</td>\n",
       "      <td>PAYMENT</td>\n",
       "      <td>9839.64</td>\n",
       "      <td>C1231006815</td>\n",
       "      <td>170136.0</td>\n",
       "      <td>160296.36</td>\n",
       "      <td>M1979787155</td>\n",
       "      <td>0.0</td>\n",
       "      <td>0.0</td>\n",
       "      <td>0</td>\n",
       "      <td>0</td>\n",
       "    </tr>\n",
       "    <tr>\n",
       "      <th>1</th>\n",
       "      <td>1</td>\n",
       "      <td>PAYMENT</td>\n",
       "      <td>1864.28</td>\n",
       "      <td>C1666544295</td>\n",
       "      <td>21249.0</td>\n",
       "      <td>19384.72</td>\n",
       "      <td>M2044282225</td>\n",
       "      <td>0.0</td>\n",
       "      <td>0.0</td>\n",
       "      <td>0</td>\n",
       "      <td>0</td>\n",
       "    </tr>\n",
       "    <tr>\n",
       "      <th>2</th>\n",
       "      <td>1</td>\n",
       "      <td>TRANSFER</td>\n",
       "      <td>181.00</td>\n",
       "      <td>C1305486145</td>\n",
       "      <td>181.0</td>\n",
       "      <td>0.00</td>\n",
       "      <td>C553264065</td>\n",
       "      <td>0.0</td>\n",
       "      <td>0.0</td>\n",
       "      <td>1</td>\n",
       "      <td>0</td>\n",
       "    </tr>\n",
       "    <tr>\n",
       "      <th>3</th>\n",
       "      <td>1</td>\n",
       "      <td>CASH_OUT</td>\n",
       "      <td>181.00</td>\n",
       "      <td>C840083671</td>\n",
       "      <td>181.0</td>\n",
       "      <td>0.00</td>\n",
       "      <td>C38997010</td>\n",
       "      <td>21182.0</td>\n",
       "      <td>0.0</td>\n",
       "      <td>1</td>\n",
       "      <td>0</td>\n",
       "    </tr>\n",
       "    <tr>\n",
       "      <th>4</th>\n",
       "      <td>1</td>\n",
       "      <td>PAYMENT</td>\n",
       "      <td>11668.14</td>\n",
       "      <td>C2048537720</td>\n",
       "      <td>41554.0</td>\n",
       "      <td>29885.86</td>\n",
       "      <td>M1230701703</td>\n",
       "      <td>0.0</td>\n",
       "      <td>0.0</td>\n",
       "      <td>0</td>\n",
       "      <td>0</td>\n",
       "    </tr>\n",
       "  </tbody>\n",
       "</table>\n",
       "</div>"
      ],
      "text/plain": [
       "   step      type    amount     nameOrig  oldbalanceOrg  newbalanceOrig  \\\n",
       "0     1   PAYMENT   9839.64  C1231006815       170136.0       160296.36   \n",
       "1     1   PAYMENT   1864.28  C1666544295        21249.0        19384.72   \n",
       "2     1  TRANSFER    181.00  C1305486145          181.0            0.00   \n",
       "3     1  CASH_OUT    181.00   C840083671          181.0            0.00   \n",
       "4     1   PAYMENT  11668.14  C2048537720        41554.0        29885.86   \n",
       "\n",
       "      nameDest  oldbalanceDest  newbalanceDest  isFraud  isFlaggedFraud  \n",
       "0  M1979787155             0.0             0.0        0               0  \n",
       "1  M2044282225             0.0             0.0        0               0  \n",
       "2   C553264065             0.0             0.0        1               0  \n",
       "3    C38997010         21182.0             0.0        1               0  \n",
       "4  M1230701703             0.0             0.0        0               0  "
      ]
     },
     "execution_count": 3,
     "metadata": {},
     "output_type": "execute_result"
    }
   ],
   "source": [
    "df.head()"
   ]
  },
  {
   "cell_type": "code",
   "execution_count": 4,
   "metadata": {
    "colab": {
     "base_uri": "https://localhost:8080/",
     "height": 364
    },
    "id": "ydZYeak-hfNJ",
    "outputId": "dd81a711-017b-446b-b286-31f805007a05"
   },
   "outputs": [
    {
     "data": {
      "text/html": [
       "<div>\n",
       "<style scoped>\n",
       "    .dataframe tbody tr th:only-of-type {\n",
       "        vertical-align: middle;\n",
       "    }\n",
       "\n",
       "    .dataframe tbody tr th {\n",
       "        vertical-align: top;\n",
       "    }\n",
       "\n",
       "    .dataframe thead th {\n",
       "        text-align: right;\n",
       "    }\n",
       "</style>\n",
       "<table border=\"1\" class=\"dataframe\">\n",
       "  <thead>\n",
       "    <tr style=\"text-align: right;\">\n",
       "      <th></th>\n",
       "      <th>step</th>\n",
       "      <th>amount</th>\n",
       "      <th>oldbalanceOrg</th>\n",
       "      <th>newbalanceOrig</th>\n",
       "      <th>oldbalanceDest</th>\n",
       "      <th>newbalanceDest</th>\n",
       "      <th>isFraud</th>\n",
       "      <th>isFlaggedFraud</th>\n",
       "    </tr>\n",
       "  </thead>\n",
       "  <tbody>\n",
       "    <tr>\n",
       "      <th>count</th>\n",
       "      <td>1.048575e+06</td>\n",
       "      <td>1.048575e+06</td>\n",
       "      <td>1.048575e+06</td>\n",
       "      <td>1.048575e+06</td>\n",
       "      <td>1.048575e+06</td>\n",
       "      <td>1.048575e+06</td>\n",
       "      <td>1.048575e+06</td>\n",
       "      <td>1048575.0</td>\n",
       "    </tr>\n",
       "    <tr>\n",
       "      <th>mean</th>\n",
       "      <td>2.696617e+01</td>\n",
       "      <td>1.586670e+05</td>\n",
       "      <td>8.740095e+05</td>\n",
       "      <td>8.938089e+05</td>\n",
       "      <td>9.781600e+05</td>\n",
       "      <td>1.114198e+06</td>\n",
       "      <td>1.089097e-03</td>\n",
       "      <td>0.0</td>\n",
       "    </tr>\n",
       "    <tr>\n",
       "      <th>std</th>\n",
       "      <td>1.562325e+01</td>\n",
       "      <td>2.649409e+05</td>\n",
       "      <td>2.971751e+06</td>\n",
       "      <td>3.008271e+06</td>\n",
       "      <td>2.296780e+06</td>\n",
       "      <td>2.416593e+06</td>\n",
       "      <td>3.298351e-02</td>\n",
       "      <td>0.0</td>\n",
       "    </tr>\n",
       "    <tr>\n",
       "      <th>min</th>\n",
       "      <td>1.000000e+00</td>\n",
       "      <td>1.000000e-01</td>\n",
       "      <td>0.000000e+00</td>\n",
       "      <td>0.000000e+00</td>\n",
       "      <td>0.000000e+00</td>\n",
       "      <td>0.000000e+00</td>\n",
       "      <td>0.000000e+00</td>\n",
       "      <td>0.0</td>\n",
       "    </tr>\n",
       "    <tr>\n",
       "      <th>25%</th>\n",
       "      <td>1.500000e+01</td>\n",
       "      <td>1.214907e+04</td>\n",
       "      <td>0.000000e+00</td>\n",
       "      <td>0.000000e+00</td>\n",
       "      <td>0.000000e+00</td>\n",
       "      <td>0.000000e+00</td>\n",
       "      <td>0.000000e+00</td>\n",
       "      <td>0.0</td>\n",
       "    </tr>\n",
       "    <tr>\n",
       "      <th>50%</th>\n",
       "      <td>2.000000e+01</td>\n",
       "      <td>7.634333e+04</td>\n",
       "      <td>1.600200e+04</td>\n",
       "      <td>0.000000e+00</td>\n",
       "      <td>1.263772e+05</td>\n",
       "      <td>2.182604e+05</td>\n",
       "      <td>0.000000e+00</td>\n",
       "      <td>0.0</td>\n",
       "    </tr>\n",
       "    <tr>\n",
       "      <th>75%</th>\n",
       "      <td>3.900000e+01</td>\n",
       "      <td>2.137619e+05</td>\n",
       "      <td>1.366420e+05</td>\n",
       "      <td>1.746000e+05</td>\n",
       "      <td>9.159235e+05</td>\n",
       "      <td>1.149808e+06</td>\n",
       "      <td>0.000000e+00</td>\n",
       "      <td>0.0</td>\n",
       "    </tr>\n",
       "    <tr>\n",
       "      <th>max</th>\n",
       "      <td>9.500000e+01</td>\n",
       "      <td>1.000000e+07</td>\n",
       "      <td>3.890000e+07</td>\n",
       "      <td>3.890000e+07</td>\n",
       "      <td>4.210000e+07</td>\n",
       "      <td>4.220000e+07</td>\n",
       "      <td>1.000000e+00</td>\n",
       "      <td>0.0</td>\n",
       "    </tr>\n",
       "  </tbody>\n",
       "</table>\n",
       "</div>"
      ],
      "text/plain": [
       "               step        amount  oldbalanceOrg  newbalanceOrig  \\\n",
       "count  1.048575e+06  1.048575e+06   1.048575e+06    1.048575e+06   \n",
       "mean   2.696617e+01  1.586670e+05   8.740095e+05    8.938089e+05   \n",
       "std    1.562325e+01  2.649409e+05   2.971751e+06    3.008271e+06   \n",
       "min    1.000000e+00  1.000000e-01   0.000000e+00    0.000000e+00   \n",
       "25%    1.500000e+01  1.214907e+04   0.000000e+00    0.000000e+00   \n",
       "50%    2.000000e+01  7.634333e+04   1.600200e+04    0.000000e+00   \n",
       "75%    3.900000e+01  2.137619e+05   1.366420e+05    1.746000e+05   \n",
       "max    9.500000e+01  1.000000e+07   3.890000e+07    3.890000e+07   \n",
       "\n",
       "       oldbalanceDest  newbalanceDest       isFraud  isFlaggedFraud  \n",
       "count    1.048575e+06    1.048575e+06  1.048575e+06       1048575.0  \n",
       "mean     9.781600e+05    1.114198e+06  1.089097e-03             0.0  \n",
       "std      2.296780e+06    2.416593e+06  3.298351e-02             0.0  \n",
       "min      0.000000e+00    0.000000e+00  0.000000e+00             0.0  \n",
       "25%      0.000000e+00    0.000000e+00  0.000000e+00             0.0  \n",
       "50%      1.263772e+05    2.182604e+05  0.000000e+00             0.0  \n",
       "75%      9.159235e+05    1.149808e+06  0.000000e+00             0.0  \n",
       "max      4.210000e+07    4.220000e+07  1.000000e+00             0.0  "
      ]
     },
     "execution_count": 4,
     "metadata": {},
     "output_type": "execute_result"
    }
   ],
   "source": [
    "df.describe()"
   ]
  },
  {
   "cell_type": "code",
   "execution_count": 5,
   "metadata": {
    "colab": {
     "base_uri": "https://localhost:8080/"
    },
    "id": "lGen7CSShq_n",
    "outputId": "b3d51323-5189-4397-cd8f-1632175b7671"
   },
   "outputs": [
    {
     "data": {
      "text/plain": [
       "<bound method DataFrame.info of          step      type     amount     nameOrig  oldbalanceOrg  \\\n",
       "0           1   PAYMENT    9839.64  C1231006815      170136.00   \n",
       "1           1   PAYMENT    1864.28  C1666544295       21249.00   \n",
       "2           1  TRANSFER     181.00  C1305486145         181.00   \n",
       "3           1  CASH_OUT     181.00   C840083671         181.00   \n",
       "4           1   PAYMENT   11668.14  C2048537720       41554.00   \n",
       "...       ...       ...        ...          ...            ...   \n",
       "1048570    95  CASH_OUT  132557.35  C1179511630      479803.00   \n",
       "1048571    95   PAYMENT    9917.36  C1956161225       90545.00   \n",
       "1048572    95   PAYMENT   14140.05  C2037964975       20545.00   \n",
       "1048573    95   PAYMENT   10020.05  C1633237354       90605.00   \n",
       "1048574    95   PAYMENT   11450.03  C1264356443       80584.95   \n",
       "\n",
       "         newbalanceOrig     nameDest  oldbalanceDest  newbalanceDest  isFraud  \\\n",
       "0             160296.36  M1979787155            0.00            0.00        0   \n",
       "1              19384.72  M2044282225            0.00            0.00        0   \n",
       "2                  0.00   C553264065            0.00            0.00        1   \n",
       "3                  0.00    C38997010        21182.00            0.00        1   \n",
       "4              29885.86  M1230701703            0.00            0.00        0   \n",
       "...                 ...          ...             ...             ...      ...   \n",
       "1048570       347245.65   C435674507       484329.37       616886.72        0   \n",
       "1048571        80627.64   M668364942            0.00            0.00        0   \n",
       "1048572         6404.95  M1355182933            0.00            0.00        0   \n",
       "1048573        80584.95  M1964992463            0.00            0.00        0   \n",
       "1048574        69134.92   M677577406            0.00            0.00        0   \n",
       "\n",
       "         isFlaggedFraud  \n",
       "0                     0  \n",
       "1                     0  \n",
       "2                     0  \n",
       "3                     0  \n",
       "4                     0  \n",
       "...                 ...  \n",
       "1048570               0  \n",
       "1048571               0  \n",
       "1048572               0  \n",
       "1048573               0  \n",
       "1048574               0  \n",
       "\n",
       "[1048575 rows x 11 columns]>"
      ]
     },
     "execution_count": 5,
     "metadata": {},
     "output_type": "execute_result"
    }
   ],
   "source": [
    "df.info"
   ]
  },
  {
   "cell_type": "code",
   "execution_count": 6,
   "metadata": {
    "colab": {
     "base_uri": "https://localhost:8080/"
    },
    "id": "3jzVJLSmhuji",
    "outputId": "2eca994a-46ca-470c-f4d2-40901c3caa76"
   },
   "outputs": [
    {
     "data": {
      "text/plain": [
       "(1048575, 11)"
      ]
     },
     "execution_count": 6,
     "metadata": {},
     "output_type": "execute_result"
    }
   ],
   "source": [
    "df.shape"
   ]
  },
  {
   "cell_type": "code",
   "execution_count": 7,
   "metadata": {
    "colab": {
     "base_uri": "https://localhost:8080/"
    },
    "id": "NBr5eGtUsDY0",
    "outputId": "b80157fa-6788-428d-ab95-4b5841ae0139"
   },
   "outputs": [
    {
     "data": {
      "text/plain": [
       "array(['PAYMENT', 'TRANSFER', 'CASH_OUT', 'DEBIT', 'CASH_IN'],\n",
       "      dtype=object)"
      ]
     },
     "execution_count": 7,
     "metadata": {},
     "output_type": "execute_result"
    }
   ],
   "source": [
    "df['type'].unique()"
   ]
  },
  {
   "cell_type": "code",
   "execution_count": 8,
   "metadata": {
    "colab": {
     "base_uri": "https://localhost:8080/"
    },
    "id": "tEUZvNsquvtw",
    "outputId": "c56fd726-bbb8-4df8-bc9f-9561bd4b67d9"
   },
   "outputs": [
    {
     "data": {
      "text/plain": [
       "array([0], dtype=int64)"
      ]
     },
     "execution_count": 8,
     "metadata": {},
     "output_type": "execute_result"
    }
   ],
   "source": [
    "df['isFlaggedFraud'].unique()"
   ]
  },
  {
   "cell_type": "code",
   "execution_count": 9,
   "metadata": {
    "id": "rZGnLD74uF1p"
   },
   "outputs": [],
   "source": [
    "type_count = pd.crosstab(type,df.type)"
   ]
  },
  {
   "cell_type": "code",
   "execution_count": 10,
   "metadata": {
    "colab": {
     "base_uri": "https://localhost:8080/",
     "height": 112
    },
    "id": "v74ZVY4QuiQY",
    "outputId": "70389c87-935e-4630-9ddc-9e3290ee12ea"
   },
   "outputs": [
    {
     "data": {
      "text/html": [
       "<div>\n",
       "<style scoped>\n",
       "    .dataframe tbody tr th:only-of-type {\n",
       "        vertical-align: middle;\n",
       "    }\n",
       "\n",
       "    .dataframe tbody tr th {\n",
       "        vertical-align: top;\n",
       "    }\n",
       "\n",
       "    .dataframe thead th {\n",
       "        text-align: right;\n",
       "    }\n",
       "</style>\n",
       "<table border=\"1\" class=\"dataframe\">\n",
       "  <thead>\n",
       "    <tr style=\"text-align: right;\">\n",
       "      <th>type</th>\n",
       "      <th>CASH_IN</th>\n",
       "      <th>CASH_OUT</th>\n",
       "      <th>DEBIT</th>\n",
       "      <th>PAYMENT</th>\n",
       "      <th>TRANSFER</th>\n",
       "    </tr>\n",
       "    <tr>\n",
       "      <th>row_0</th>\n",
       "      <th></th>\n",
       "      <th></th>\n",
       "      <th></th>\n",
       "      <th></th>\n",
       "      <th></th>\n",
       "    </tr>\n",
       "  </thead>\n",
       "  <tbody>\n",
       "    <tr>\n",
       "      <th>&lt;class 'type'&gt;</th>\n",
       "      <td>227130</td>\n",
       "      <td>373641</td>\n",
       "      <td>7178</td>\n",
       "      <td>353873</td>\n",
       "      <td>86753</td>\n",
       "    </tr>\n",
       "  </tbody>\n",
       "</table>\n",
       "</div>"
      ],
      "text/plain": [
       "type            CASH_IN  CASH_OUT  DEBIT  PAYMENT  TRANSFER\n",
       "row_0                                                      \n",
       "<class 'type'>   227130    373641   7178   353873     86753"
      ]
     },
     "execution_count": 10,
     "metadata": {},
     "output_type": "execute_result"
    }
   ],
   "source": [
    "type_count"
   ]
  },
  {
   "cell_type": "markdown",
   "metadata": {
    "id": "DoOzZWHHtEYN"
   },
   "source": [
    "## **Data Visualization**"
   ]
  },
  {
   "cell_type": "code",
   "execution_count": 11,
   "metadata": {
    "colab": {
     "base_uri": "https://localhost:8080/",
     "height": 472
    },
    "id": "j1Mhn9Ttpw2R",
    "outputId": "d1455336-3f01-4677-d913-84addf32b6d2"
   },
   "outputs": [
    {
     "data": {
      "image/png": "[encoded data removed]",
      "text/plain": [
       "<Figure size 640x480 with 1 Axes>"
      ]
     },
     "metadata": {},
     "output_type": "display_data"
    }
   ],
   "source": [
    "plt.scatter(df['amount'],df['isFraud'],color=\"red\")\n",
    "plt.scatter(df['oldbalanceOrg'],df['isFraud'],color=\"green\")\n",
    "plt.scatter(df['newbalanceOrig'],df['isFraud'],color=\"yellow\",marker='*')\n",
    "plt.title('Relationship between amount,oldbalanceOrg,newbalanceOrig with Fraud')\n",
    "plt.ylabel('Fraud')\n",
    "plt.xlabel('amount(red),oldbalanceOrg(green),newbalanceOrig(yellow)')\n",
    "plt.show()"
   ]
  },
  {
   "cell_type": "code",
   "execution_count": 12,
   "metadata": {
    "colab": {
     "base_uri": "https://localhost:8080/",
     "height": 472
    },
    "id": "BVQdXTqNqeS0",
    "outputId": "c8302471-096d-4a76-907e-36e923a720b2"
   },
   "outputs": [
    {
     "data": {
      "image/png": "[encoded data removed]",
      "text/plain": [
       "<Figure size 640x480 with 1 Axes>"
      ]
     },
     "metadata": {},
     "output_type": "display_data"
    }
   ],
   "source": [
    "plt.scatter(df['oldbalanceDest'],df['isFraud'],color=\"green\")\n",
    "plt.scatter(df['newbalanceDest'],df['isFraud'],color=\"yellow\",marker='*')\n",
    "plt.title('Relationship between oldbalanceDest,newbalanceDest with Fraud')\n",
    "plt.ylabel('Fraud')\n",
    "plt.xlabel('oldbalanceDest(green),newbalanceDest(yellow)')\n",
    "plt.show()"
   ]
  },
  {
   "cell_type": "code",
   "execution_count": 13,
   "metadata": {
    "colab": {
     "base_uri": "https://localhost:8080/",
     "height": 568
    },
    "id": "RX6T7d_fuZlN",
    "outputId": "b1ba5e1f-eceb-4b7f-fdb7-a562d9b0169b"
   },
   "outputs": [
    {
     "data": {
      "text/plain": [
       "<AxesSubplot:xlabel='row_0'>"
      ]
     },
     "execution_count": 13,
     "metadata": {},
     "output_type": "execute_result"
    },
    {
     "data": {
      "image/png": "[encoded data removed]",
      "text/plain": [
       "<Figure size 640x480 with 1 Axes>"
      ]
     },
     "metadata": {},
     "output_type": "display_data"
    }
   ],
   "source": [
    "type_count.plot(kind = 'bar')"
   ]
  },
  {
   "cell_type": "markdown",
   "metadata": {
    "id": "6hKcwQF3nk41"
   },
   "source": [
    "## **Handling The Missing Values**"
   ]
  },
  {
   "cell_type": "code",
   "execution_count": 14,
   "metadata": {
    "colab": {
     "base_uri": "https://localhost:8080/"
    },
    "id": "JUuqG6Cchx0B",
    "outputId": "9040e16a-7016-4d92-9a2e-256bcce2b8e0"
   },
   "outputs": [
    {
     "data": {
      "text/plain": [
       "step              0\n",
       "type              0\n",
       "amount            0\n",
       "nameOrig          0\n",
       "oldbalanceOrg     0\n",
       "newbalanceOrig    0\n",
       "nameDest          0\n",
       "oldbalanceDest    0\n",
       "newbalanceDest    0\n",
       "isFraud           0\n",
       "isFlaggedFraud    0\n",
       "dtype: int64"
      ]
     },
     "execution_count": 14,
     "metadata": {},
     "output_type": "execute_result"
    }
   ],
   "source": [
    "df.isnull().sum()"
   ]
  },
  {
   "cell_type": "code",
   "execution_count": 15,
   "metadata": {
    "id": "NFllvGPHiZYR"
   },
   "outputs": [],
   "source": [
    "df.dropna(axis=\"rows\",inplace=True)"
   ]
  },
  {
   "cell_type": "code",
   "execution_count": 16,
   "metadata": {
    "colab": {
     "base_uri": "https://localhost:8080/"
    },
    "id": "3ojq2cJVizGQ",
    "outputId": "f320e32c-06de-42c3-a2ad-6e64700270bd"
   },
   "outputs": [
    {
     "data": {
      "text/plain": [
       "step              0\n",
       "type              0\n",
       "amount            0\n",
       "nameOrig          0\n",
       "oldbalanceOrg     0\n",
       "newbalanceOrig    0\n",
       "nameDest          0\n",
       "oldbalanceDest    0\n",
       "newbalanceDest    0\n",
       "isFraud           0\n",
       "isFlaggedFraud    0\n",
       "dtype: int64"
      ]
     },
     "execution_count": 16,
     "metadata": {},
     "output_type": "execute_result"
    }
   ],
   "source": [
    "df.isnull().sum()"
   ]
  },
  {
   "cell_type": "code",
   "execution_count": 17,
   "metadata": {
    "colab": {
     "base_uri": "https://localhost:8080/"
    },
    "id": "DydJUlZji3RQ",
    "outputId": "dff60903-8803-4706-b83f-88db216a581b"
   },
   "outputs": [
    {
     "data": {
      "text/plain": [
       "(1048575, 11)"
      ]
     },
     "execution_count": 17,
     "metadata": {},
     "output_type": "execute_result"
    }
   ],
   "source": [
    "df.shape"
   ]
  },
  {
   "cell_type": "markdown",
   "metadata": {
    "id": "T-yCjj7dntK0"
   },
   "source": [
    "## **Using Label Encoder for Type**"
   ]
  },
  {
   "cell_type": "code",
   "execution_count": 18,
   "metadata": {
    "id": "zCjnheSCrw7d"
   },
   "outputs": [],
   "source": [
    "le = LabelEncoder()\n",
    "df['type'] = le.fit_transform(df['type'])"
   ]
  },
  {
   "cell_type": "code",
   "execution_count": 19,
   "metadata": {
    "colab": {
     "base_uri": "https://localhost:8080/",
     "height": 270
    },
    "id": "kao_2L4Vr0fV",
    "outputId": "65e932a0-feaf-458b-ee9c-beb03fecbb3c"
   },
   "outputs": [
    {
     "data": {
      "text/html": [
       "<div>\n",
       "<style scoped>\n",
       "    .dataframe tbody tr th:only-of-type {\n",
       "        vertical-align: middle;\n",
       "    }\n",
       "\n",
       "    .dataframe tbody tr th {\n",
       "        vertical-align: top;\n",
       "    }\n",
       "\n",
       "    .dataframe thead th {\n",
       "        text-align: right;\n",
       "    }\n",
       "</style>\n",
       "<table border=\"1\" class=\"dataframe\">\n",
       "  <thead>\n",
       "    <tr style=\"text-align: right;\">\n",
       "      <th></th>\n",
       "      <th>step</th>\n",
       "      <th>type</th>\n",
       "      <th>amount</th>\n",
       "      <th>nameOrig</th>\n",
       "      <th>oldbalanceOrg</th>\n",
       "      <th>newbalanceOrig</th>\n",
       "      <th>nameDest</th>\n",
       "      <th>oldbalanceDest</th>\n",
       "      <th>newbalanceDest</th>\n",
       "      <th>isFraud</th>\n",
       "      <th>isFlaggedFraud</th>\n",
       "    </tr>\n",
       "  </thead>\n",
       "  <tbody>\n",
       "    <tr>\n",
       "      <th>0</th>\n",
       "      <td>1</td>\n",
       "      <td>3</td>\n",
       "      <td>9839.64</td>\n",
       "      <td>C1231006815</td>\n",
       "      <td>170136.0</td>\n",
       "      <td>160296.36</td>\n",
       "      <td>M1979787155</td>\n",
       "      <td>0.0</td>\n",
       "      <td>0.0</td>\n",
       "      <td>0</td>\n",
       "      <td>0</td>\n",
       "    </tr>\n",
       "    <tr>\n",
       "      <th>1</th>\n",
       "      <td>1</td>\n",
       "      <td>3</td>\n",
       "      <td>1864.28</td>\n",
       "      <td>C1666544295</td>\n",
       "      <td>21249.0</td>\n",
       "      <td>19384.72</td>\n",
       "      <td>M2044282225</td>\n",
       "      <td>0.0</td>\n",
       "      <td>0.0</td>\n",
       "      <td>0</td>\n",
       "      <td>0</td>\n",
       "    </tr>\n",
       "    <tr>\n",
       "      <th>2</th>\n",
       "      <td>1</td>\n",
       "      <td>4</td>\n",
       "      <td>181.00</td>\n",
       "      <td>C1305486145</td>\n",
       "      <td>181.0</td>\n",
       "      <td>0.00</td>\n",
       "      <td>C553264065</td>\n",
       "      <td>0.0</td>\n",
       "      <td>0.0</td>\n",
       "      <td>1</td>\n",
       "      <td>0</td>\n",
       "    </tr>\n",
       "    <tr>\n",
       "      <th>3</th>\n",
       "      <td>1</td>\n",
       "      <td>1</td>\n",
       "      <td>181.00</td>\n",
       "      <td>C840083671</td>\n",
       "      <td>181.0</td>\n",
       "      <td>0.00</td>\n",
       "      <td>C38997010</td>\n",
       "      <td>21182.0</td>\n",
       "      <td>0.0</td>\n",
       "      <td>1</td>\n",
       "      <td>0</td>\n",
       "    </tr>\n",
       "    <tr>\n",
       "      <th>4</th>\n",
       "      <td>1</td>\n",
       "      <td>3</td>\n",
       "      <td>11668.14</td>\n",
       "      <td>C2048537720</td>\n",
       "      <td>41554.0</td>\n",
       "      <td>29885.86</td>\n",
       "      <td>M1230701703</td>\n",
       "      <td>0.0</td>\n",
       "      <td>0.0</td>\n",
       "      <td>0</td>\n",
       "      <td>0</td>\n",
       "    </tr>\n",
       "  </tbody>\n",
       "</table>\n",
       "</div>"
      ],
      "text/plain": [
       "   step  type    amount     nameOrig  oldbalanceOrg  newbalanceOrig  \\\n",
       "0     1     3   9839.64  C1231006815       170136.0       160296.36   \n",
       "1     1     3   1864.28  C1666544295        21249.0        19384.72   \n",
       "2     1     4    181.00  C1305486145          181.0            0.00   \n",
       "3     1     1    181.00   C840083671          181.0            0.00   \n",
       "4     1     3  11668.14  C2048537720        41554.0        29885.86   \n",
       "\n",
       "      nameDest  oldbalanceDest  newbalanceDest  isFraud  isFlaggedFraud  \n",
       "0  M1979787155             0.0             0.0        0               0  \n",
       "1  M2044282225             0.0             0.0        0               0  \n",
       "2   C553264065             0.0             0.0        1               0  \n",
       "3    C38997010         21182.0             0.0        1               0  \n",
       "4  M1230701703             0.0             0.0        0               0  "
      ]
     },
     "execution_count": 19,
     "metadata": {},
     "output_type": "execute_result"
    }
   ],
   "source": [
    "df.head()"
   ]
  },
  {
   "cell_type": "markdown",
   "metadata": {
    "id": "jrDEuoCooDkf"
   },
   "source": [
    "## **Scaling of Data**"
   ]
  },
  {
   "cell_type": "code",
   "execution_count": 20,
   "metadata": {
    "id": "8V7Zj3TA0cIq"
   },
   "outputs": [],
   "source": [
    "max_amount = df['amount'].max()\n",
    "df['amount'] = df['amount']/max_amount"
   ]
  },
  {
   "cell_type": "code",
   "execution_count": 21,
   "metadata": {
    "id": "6Q_e71cp08gI"
   },
   "outputs": [],
   "source": [
    "max_oldbalanceOrg\t= df['oldbalanceOrg'].max()\n",
    "df['oldbalanceOrg'] = df['oldbalanceOrg']/max_oldbalanceOrg"
   ]
  },
  {
   "cell_type": "code",
   "execution_count": 22,
   "metadata": {
    "id": "TjNurrdX0_A0"
   },
   "outputs": [],
   "source": [
    "max_newbalanceOrig\t= df['newbalanceOrig'].max()\n",
    "df['newbalanceOrig'] = df['newbalanceOrig']/max_newbalanceOrig"
   ]
  },
  {
   "cell_type": "code",
   "execution_count": 23,
   "metadata": {
    "id": "N_8y7VZ52pSg"
   },
   "outputs": [],
   "source": [
    "max_oldbalanceDest = df['oldbalanceDest'].max()\n",
    "df['oldbalanceDest'] = df['oldbalanceDest']/max_oldbalanceDest"
   ]
  },
  {
   "cell_type": "code",
   "execution_count": 24,
   "metadata": {
    "id": "8V_Rz_MP2piW"
   },
   "outputs": [],
   "source": [
    "max_newbalanceDest = df['newbalanceDest'].max()\n",
    "df['newbalanceDest'] = df['newbalanceDest']/max_newbalanceDest"
   ]
  },
  {
   "cell_type": "code",
   "execution_count": 25,
   "metadata": {
    "colab": {
     "base_uri": "https://localhost:8080/",
     "height": 740
    },
    "id": "D4lZir233ABe",
    "outputId": "1eb4f7c7-84e3-4e69-9575-f6fc6e667c70"
   },
   "outputs": [
    {
     "data": {
      "text/html": [
       "<div>\n",
       "<style scoped>\n",
       "    .dataframe tbody tr th:only-of-type {\n",
       "        vertical-align: middle;\n",
       "    }\n",
       "\n",
       "    .dataframe tbody tr th {\n",
       "        vertical-align: top;\n",
       "    }\n",
       "\n",
       "    .dataframe thead th {\n",
       "        text-align: right;\n",
       "    }\n",
       "</style>\n",
       "<table border=\"1\" class=\"dataframe\">\n",
       "  <thead>\n",
       "    <tr style=\"text-align: right;\">\n",
       "      <th></th>\n",
       "      <th>step</th>\n",
       "      <th>type</th>\n",
       "      <th>amount</th>\n",
       "      <th>nameOrig</th>\n",
       "      <th>oldbalanceOrg</th>\n",
       "      <th>newbalanceOrig</th>\n",
       "      <th>nameDest</th>\n",
       "      <th>oldbalanceDest</th>\n",
       "      <th>newbalanceDest</th>\n",
       "      <th>isFraud</th>\n",
       "      <th>isFlaggedFraud</th>\n",
       "    </tr>\n",
       "  </thead>\n",
       "  <tbody>\n",
       "    <tr>\n",
       "      <th>0</th>\n",
       "      <td>1</td>\n",
       "      <td>3</td>\n",
       "      <td>0.000984</td>\n",
       "      <td>C1231006815</td>\n",
       "      <td>0.004374</td>\n",
       "      <td>0.004121</td>\n",
       "      <td>M1979787155</td>\n",
       "      <td>0.000000</td>\n",
       "      <td>0.000000</td>\n",
       "      <td>0</td>\n",
       "      <td>0</td>\n",
       "    </tr>\n",
       "    <tr>\n",
       "      <th>1</th>\n",
       "      <td>1</td>\n",
       "      <td>3</td>\n",
       "      <td>0.000186</td>\n",
       "      <td>C1666544295</td>\n",
       "      <td>0.000546</td>\n",
       "      <td>0.000498</td>\n",
       "      <td>M2044282225</td>\n",
       "      <td>0.000000</td>\n",
       "      <td>0.000000</td>\n",
       "      <td>0</td>\n",
       "      <td>0</td>\n",
       "    </tr>\n",
       "    <tr>\n",
       "      <th>2</th>\n",
       "      <td>1</td>\n",
       "      <td>4</td>\n",
       "      <td>0.000018</td>\n",
       "      <td>C1305486145</td>\n",
       "      <td>0.000005</td>\n",
       "      <td>0.000000</td>\n",
       "      <td>C553264065</td>\n",
       "      <td>0.000000</td>\n",
       "      <td>0.000000</td>\n",
       "      <td>1</td>\n",
       "      <td>0</td>\n",
       "    </tr>\n",
       "    <tr>\n",
       "      <th>3</th>\n",
       "      <td>1</td>\n",
       "      <td>1</td>\n",
       "      <td>0.000018</td>\n",
       "      <td>C840083671</td>\n",
       "      <td>0.000005</td>\n",
       "      <td>0.000000</td>\n",
       "      <td>C38997010</td>\n",
       "      <td>0.000503</td>\n",
       "      <td>0.000000</td>\n",
       "      <td>1</td>\n",
       "      <td>0</td>\n",
       "    </tr>\n",
       "    <tr>\n",
       "      <th>4</th>\n",
       "      <td>1</td>\n",
       "      <td>3</td>\n",
       "      <td>0.001167</td>\n",
       "      <td>C2048537720</td>\n",
       "      <td>0.001068</td>\n",
       "      <td>0.000768</td>\n",
       "      <td>M1230701703</td>\n",
       "      <td>0.000000</td>\n",
       "      <td>0.000000</td>\n",
       "      <td>0</td>\n",
       "      <td>0</td>\n",
       "    </tr>\n",
       "    <tr>\n",
       "      <th>5</th>\n",
       "      <td>1</td>\n",
       "      <td>3</td>\n",
       "      <td>0.000782</td>\n",
       "      <td>C90045638</td>\n",
       "      <td>0.001385</td>\n",
       "      <td>0.001184</td>\n",
       "      <td>M573487274</td>\n",
       "      <td>0.000000</td>\n",
       "      <td>0.000000</td>\n",
       "      <td>0</td>\n",
       "      <td>0</td>\n",
       "    </tr>\n",
       "    <tr>\n",
       "      <th>6</th>\n",
       "      <td>1</td>\n",
       "      <td>3</td>\n",
       "      <td>0.000711</td>\n",
       "      <td>C154988899</td>\n",
       "      <td>0.004709</td>\n",
       "      <td>0.004527</td>\n",
       "      <td>M408069119</td>\n",
       "      <td>0.000000</td>\n",
       "      <td>0.000000</td>\n",
       "      <td>0</td>\n",
       "      <td>0</td>\n",
       "    </tr>\n",
       "    <tr>\n",
       "      <th>7</th>\n",
       "      <td>1</td>\n",
       "      <td>3</td>\n",
       "      <td>0.000786</td>\n",
       "      <td>C1912850431</td>\n",
       "      <td>0.004527</td>\n",
       "      <td>0.004325</td>\n",
       "      <td>M633326333</td>\n",
       "      <td>0.000000</td>\n",
       "      <td>0.000000</td>\n",
       "      <td>0</td>\n",
       "      <td>0</td>\n",
       "    </tr>\n",
       "    <tr>\n",
       "      <th>8</th>\n",
       "      <td>1</td>\n",
       "      <td>3</td>\n",
       "      <td>0.000402</td>\n",
       "      <td>C1265012928</td>\n",
       "      <td>0.000069</td>\n",
       "      <td>0.000000</td>\n",
       "      <td>M1176932104</td>\n",
       "      <td>0.000000</td>\n",
       "      <td>0.000000</td>\n",
       "      <td>0</td>\n",
       "      <td>0</td>\n",
       "    </tr>\n",
       "    <tr>\n",
       "      <th>9</th>\n",
       "      <td>1</td>\n",
       "      <td>2</td>\n",
       "      <td>0.000534</td>\n",
       "      <td>C712410124</td>\n",
       "      <td>0.001072</td>\n",
       "      <td>0.000935</td>\n",
       "      <td>C195600860</td>\n",
       "      <td>0.000995</td>\n",
       "      <td>0.000956</td>\n",
       "      <td>0</td>\n",
       "      <td>0</td>\n",
       "    </tr>\n",
       "    <tr>\n",
       "      <th>10</th>\n",
       "      <td>1</td>\n",
       "      <td>2</td>\n",
       "      <td>0.000964</td>\n",
       "      <td>C1900366749</td>\n",
       "      <td>0.000115</td>\n",
       "      <td>0.000000</td>\n",
       "      <td>C997608398</td>\n",
       "      <td>0.000258</td>\n",
       "      <td>0.003744</td>\n",
       "      <td>0</td>\n",
       "      <td>0</td>\n",
       "    </tr>\n",
       "    <tr>\n",
       "      <th>11</th>\n",
       "      <td>1</td>\n",
       "      <td>3</td>\n",
       "      <td>0.000310</td>\n",
       "      <td>C249177573</td>\n",
       "      <td>0.000534</td>\n",
       "      <td>0.000454</td>\n",
       "      <td>M2096539129</td>\n",
       "      <td>0.000000</td>\n",
       "      <td>0.000000</td>\n",
       "      <td>0</td>\n",
       "      <td>0</td>\n",
       "    </tr>\n",
       "    <tr>\n",
       "      <th>12</th>\n",
       "      <td>1</td>\n",
       "      <td>3</td>\n",
       "      <td>0.000256</td>\n",
       "      <td>C1648232591</td>\n",
       "      <td>0.000130</td>\n",
       "      <td>0.000065</td>\n",
       "      <td>M972865270</td>\n",
       "      <td>0.000000</td>\n",
       "      <td>0.000000</td>\n",
       "      <td>0</td>\n",
       "      <td>0</td>\n",
       "    </tr>\n",
       "    <tr>\n",
       "      <th>13</th>\n",
       "      <td>1</td>\n",
       "      <td>3</td>\n",
       "      <td>0.001163</td>\n",
       "      <td>C1716932897</td>\n",
       "      <td>0.000260</td>\n",
       "      <td>0.000000</td>\n",
       "      <td>M801569151</td>\n",
       "      <td>0.000000</td>\n",
       "      <td>0.000000</td>\n",
       "      <td>0</td>\n",
       "      <td>0</td>\n",
       "    </tr>\n",
       "    <tr>\n",
       "      <th>14</th>\n",
       "      <td>1</td>\n",
       "      <td>3</td>\n",
       "      <td>0.000410</td>\n",
       "      <td>C1026483832</td>\n",
       "      <td>0.012937</td>\n",
       "      <td>0.012832</td>\n",
       "      <td>M1635378213</td>\n",
       "      <td>0.000000</td>\n",
       "      <td>0.000000</td>\n",
       "      <td>0</td>\n",
       "      <td>0</td>\n",
       "    </tr>\n",
       "    <tr>\n",
       "      <th>15</th>\n",
       "      <td>1</td>\n",
       "      <td>1</td>\n",
       "      <td>0.022913</td>\n",
       "      <td>C905080434</td>\n",
       "      <td>0.000394</td>\n",
       "      <td>0.000000</td>\n",
       "      <td>C476402209</td>\n",
       "      <td>0.000121</td>\n",
       "      <td>0.001221</td>\n",
       "      <td>0</td>\n",
       "      <td>0</td>\n",
       "    </tr>\n",
       "    <tr>\n",
       "      <th>16</th>\n",
       "      <td>1</td>\n",
       "      <td>3</td>\n",
       "      <td>0.000156</td>\n",
       "      <td>C761750706</td>\n",
       "      <td>0.000012</td>\n",
       "      <td>0.000000</td>\n",
       "      <td>M1731217984</td>\n",
       "      <td>0.000000</td>\n",
       "      <td>0.000000</td>\n",
       "      <td>0</td>\n",
       "      <td>0</td>\n",
       "    </tr>\n",
       "    <tr>\n",
       "      <th>17</th>\n",
       "      <td>1</td>\n",
       "      <td>3</td>\n",
       "      <td>0.000116</td>\n",
       "      <td>C1237762639</td>\n",
       "      <td>0.000544</td>\n",
       "      <td>0.000514</td>\n",
       "      <td>M1877062907</td>\n",
       "      <td>0.000000</td>\n",
       "      <td>0.000000</td>\n",
       "      <td>0</td>\n",
       "      <td>0</td>\n",
       "    </tr>\n",
       "    <tr>\n",
       "      <th>18</th>\n",
       "      <td>1</td>\n",
       "      <td>3</td>\n",
       "      <td>0.000067</td>\n",
       "      <td>C2033524545</td>\n",
       "      <td>0.000389</td>\n",
       "      <td>0.000372</td>\n",
       "      <td>M473053293</td>\n",
       "      <td>0.000000</td>\n",
       "      <td>0.000000</td>\n",
       "      <td>0</td>\n",
       "      <td>0</td>\n",
       "    </tr>\n",
       "    <tr>\n",
       "      <th>19</th>\n",
       "      <td>1</td>\n",
       "      <td>4</td>\n",
       "      <td>0.021531</td>\n",
       "      <td>C1670993182</td>\n",
       "      <td>0.000018</td>\n",
       "      <td>0.000000</td>\n",
       "      <td>C1100439041</td>\n",
       "      <td>0.000533</td>\n",
       "      <td>0.000000</td>\n",
       "      <td>0</td>\n",
       "      <td>0</td>\n",
       "    </tr>\n",
       "  </tbody>\n",
       "</table>\n",
       "</div>"
      ],
      "text/plain": [
       "    step  type    amount     nameOrig  oldbalanceOrg  newbalanceOrig  \\\n",
       "0      1     3  0.000984  C1231006815       0.004374        0.004121   \n",
       "1      1     3  0.000186  C1666544295       0.000546        0.000498   \n",
       "2      1     4  0.000018  C1305486145       0.000005        0.000000   \n",
       "3      1     1  0.000018   C840083671       0.000005        0.000000   \n",
       "4      1     3  0.001167  C2048537720       0.001068        0.000768   \n",
       "5      1     3  0.000782    C90045638       0.001385        0.001184   \n",
       "6      1     3  0.000711   C154988899       0.004709        0.004527   \n",
       "7      1     3  0.000786  C1912850431       0.004527        0.004325   \n",
       "8      1     3  0.000402  C1265012928       0.000069        0.000000   \n",
       "9      1     2  0.000534   C712410124       0.001072        0.000935   \n",
       "10     1     2  0.000964  C1900366749       0.000115        0.000000   \n",
       "11     1     3  0.000310   C249177573       0.000534        0.000454   \n",
       "12     1     3  0.000256  C1648232591       0.000130        0.000065   \n",
       "13     1     3  0.001163  C1716932897       0.000260        0.000000   \n",
       "14     1     3  0.000410  C1026483832       0.012937        0.012832   \n",
       "15     1     1  0.022913   C905080434       0.000394        0.000000   \n",
       "16     1     3  0.000156   C761750706       0.000012        0.000000   \n",
       "17     1     3  0.000116  C1237762639       0.000544        0.000514   \n",
       "18     1     3  0.000067  C2033524545       0.000389        0.000372   \n",
       "19     1     4  0.021531  C1670993182       0.000018        0.000000   \n",
       "\n",
       "       nameDest  oldbalanceDest  newbalanceDest  isFraud  isFlaggedFraud  \n",
       "0   M1979787155        0.000000        0.000000        0               0  \n",
       "1   M2044282225        0.000000        0.000000        0               0  \n",
       "2    C553264065        0.000000        0.000000        1               0  \n",
       "3     C38997010        0.000503        0.000000        1               0  \n",
       "4   M1230701703        0.000000        0.000000        0               0  \n",
       "5    M573487274        0.000000        0.000000        0               0  \n",
       "6    M408069119        0.000000        0.000000        0               0  \n",
       "7    M633326333        0.000000        0.000000        0               0  \n",
       "8   M1176932104        0.000000        0.000000        0               0  \n",
       "9    C195600860        0.000995        0.000956        0               0  \n",
       "10   C997608398        0.000258        0.003744        0               0  \n",
       "11  M2096539129        0.000000        0.000000        0               0  \n",
       "12   M972865270        0.000000        0.000000        0               0  \n",
       "13   M801569151        0.000000        0.000000        0               0  \n",
       "14  M1635378213        0.000000        0.000000        0               0  \n",
       "15   C476402209        0.000121        0.001221        0               0  \n",
       "16  M1731217984        0.000000        0.000000        0               0  \n",
       "17  M1877062907        0.000000        0.000000        0               0  \n",
       "18   M473053293        0.000000        0.000000        0               0  \n",
       "19  C1100439041        0.000533        0.000000        0               0  "
      ]
     },
     "execution_count": 25,
     "metadata": {},
     "output_type": "execute_result"
    }
   ],
   "source": [
    "df.head(20)"
   ]
  },
  {
   "cell_type": "markdown",
   "metadata": {
    "id": "UEBPxdwrcAdj"
   },
   "source": [
    "## **Variable Selection**\n",
    "\n",
    "The reasons for selecting the following variables:\n",
    "\n",
    "\n",
    "\n",
    "*   X-varibles: There are the independent variables\n",
    "\n",
    "\n",
    "1.   amount : amount indicates the amount of money involved in the trasaction.This is considered because frausters often target large transactions\n",
    "2.   oldbalanceOrg : indicates the balance amount of the sender before transaction.\n",
    "3.   newbalanceOrig : indicates the balance amount of the sender after transaction.\n",
    "4.   oldbalanceDest : indicates the balance amount of the reciever before transaction\n",
    "5.   newbalanceDest :indicates the balance amount of the reciever after transactions\n",
    "\n",
    "\n",
    "\n",
    "\n",
    "The reasons for considering the points 2-5 is that : These features will help to identify frauds in ways like abnormally small or large transactions,repeated small transactions or a pattern in which the customer usually doesn't carry out his transactions\n",
    "6.   type : indicates the type of transactions carried out by the user that help identifying fraudulent activities\n",
    "7.   step : indicates the time so it can help in understanding a fraudsters activities\n",
    "\n",
    "\n",
    "*   y-variable:The dependent variable\n",
    "Here the y variable is isFraud because here using the X variables we have to classify whether a fraud takes place or not."
   ]
  },
  {
   "cell_type": "code",
   "execution_count": 26,
   "metadata": {
    "id": "GJGFddh5-haS"
   },
   "outputs": [],
   "source": [
    "X = df.drop(['nameOrig','nameDest','isFlaggedFraud'],axis = 1)\n",
    "y = df.isFraud"
   ]
  },
  {
   "cell_type": "markdown",
   "metadata": {
    "id": "zjuGqxF6oXuS"
   },
   "source": [
    "## **Splitting the data into Training data and Testing data**"
   ]
  },
  {
   "cell_type": "code",
   "execution_count": 27,
   "metadata": {
    "id": "6gTBkV6iDDw5"
   },
   "outputs": [],
   "source": [
    "X_train, X_test, y_train, y_test = train_test_split(X, y, test_size=0.3, random_state=40)"
   ]
  },
  {
   "cell_type": "code",
   "execution_count": 28,
   "metadata": {
    "colab": {
     "base_uri": "https://localhost:8080/"
    },
    "id": "Diz9OjmsDSA_",
    "outputId": "f9ed9cb0-3a08-4fa0-bad4-0e57b80d111b"
   },
   "outputs": [
    {
     "data": {
      "text/plain": [
       "734002"
      ]
     },
     "execution_count": 28,
     "metadata": {},
     "output_type": "execute_result"
    }
   ],
   "source": [
    "len(X_train)"
   ]
  },
  {
   "cell_type": "code",
   "execution_count": 29,
   "metadata": {
    "colab": {
     "base_uri": "https://localhost:8080/"
    },
    "id": "KTxzO7gfDXg_",
    "outputId": "443b14b7-78d8-43c9-a7dc-f80aec7557f8"
   },
   "outputs": [
    {
     "data": {
      "text/plain": [
       "314573"
      ]
     },
     "execution_count": 29,
     "metadata": {},
     "output_type": "execute_result"
    }
   ],
   "source": [
    "len(X_test)"
   ]
  },
  {
   "cell_type": "markdown",
   "metadata": {
    "id": "Mm3drkz1o8Cl"
   },
   "source": [
    "## **Building a Model**\n",
    "\n",
    "\n",
    "\n",
    "The reason for choosing Logistic Regression is evident from the graph that shows the relationship between the independent and dependent variables.\n",
    "\n",
    "\n",
    "![image1.png](data:image/png;base64,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)\n",
    "\n",
    "\n",
    "![image2.png](data:image/png;base64,iVBORw0KGgoAAAANSUhEUgAAAlEAAAHHCAYAAACfqw0dAAAAOXRFWHRTb2Z0d2FyZQBNYXRwbG90bGliIHZlcnNpb24zLjcuMSwgaHR0cHM6Ly9tYXRwbG90bGliLm9yZy/bCgiHAAAACXBIWXMAAA9hAAAPYQGoP6dpAABoh0lEQVR4nO3dd3gUVdsG8Ht3STa9kUZCCr3XAKGFBA1ERKRIEVSKgPhKFUVApImAiCX4UQQUUARBKYpKNdKkSxWpoYaShJqEAAnZfb4/wo7ZZNOGwAa4f9e1F+zZM2eemTk78+zMmYlGRAREREREVChaawdARERE9DhiEkVERESkApMoIiIiIhWYRBERERGpwCSKiIiISAUmUUREREQqMIkiIiIiUoFJFBEREZEKTKKIiIiIVHgqkqhNmzZBo9Fg06ZNRdquRqPBuHHjirTNwjp79iw0Gg0+/fTTfOuOGzcOGo2myOZtWq/Lli0rsjbpP8HBwejZs2e+9RYsWACNRoOzZ8+aTfvCCy8UWSymfrZgwYIia5OKJ9N+4urVq0XWZkREBCIiIoqsPSoaBd3HmOoW5T6lOLK0L81PsUuiTAthepUoUQL+/v7o2bMnLl68+MjjWb16tdUTpafJ9u3bMW7cONy8edPaodBjzpQMmF4ODg4IDAxEmzZtMH/+fKSlpT3U+S9evBjR0dEPdR70cJh+NJheNjY28PT0ROPGjfH+++/j/PnzD3X+R44cwbhx4wp1MC/u8826PrO+fH19i3xej1IJaweQmw8//BBlypTB3bt3sXPnTixYsAB//fUXDh8+DDs7u0cWx+rVqzFjxgyLidSdO3dQokSxXYU5fPDBBxgxYoS1w8jT9u3bMX78ePTs2RNubm7WDoeeALNmzYKTkxPS0tJw8eJFrFu3Dq+//jqio6Px22+/ISAg4KHMd/HixTh8+DCGDBnyUNqnh69r1654/vnnYTQacePGDezZswfR0dGYNm0avvnmG7z88ssPZb5HjhzB+PHjERERgeDg4IcyDwA4fvw4tNr/zqU87Pm2aNEC3bt3Nyuzt7cv8vk8SsU2A2jVqhXq1asHAOjTpw88PT0xZcoUrFq1Cp07d7ZydJkeZTJXFEqUKPFYJX1ERaFjx47w9PRU3o8ZMwaLFi1C9+7d0alTJ+zcudOK0VFxVrduXbz66qtmZefOnUPLli3Ro0cPVKlSBbVq1bJSdA9Or9c/0vlVrFgxx/rMjYjg7t27xT7JKnaX83ITFhYGADh16pRZ+bFjx9CxY0d4eHjAzs4O9erVw6pVq/Jtb+vWrejUqRMCAwOh1+sREBCAt99+G3fu3FHq9OzZEzNmzABgfirSxNKYqP3796NVq1ZwcXGBk5MTnn322Rw7adMly23btmHo0KHw8vKCo6Mj2rdvjytXrpjV/fvvvxEVFQVPT0/Y29ujTJkyeP311y0u05w5c1CuXDno9XrUr18fe/bsMfvc0pgojUaDAQMGYNGiRahUqRLs7OwQEhKCLVu25LsOTQwGA95//334+vrC0dERL774IuLi4nLU27VrF5577jm4urrCwcEB4eHh2LZtm1l8w4YNAwCUKVNGWd9nz55Fhw4dULduXbP22rRpA41GY7a9d+3aBY1GgzVr1ihlN2/exJAhQxAQEAC9Xo/y5ctjypQpMBqNZu0ZjUZER0ejWrVqsLOzg4+PD/r164cbN26Y1TONDfjrr7/QoEED2NnZoWzZsvjuu+8KtL5SU1PxzjvvKPFUqlQJn376KUQk32n//fdfPPPMM7C3t0fp0qXx0Ucf5ViOrNavX4/atWvDzs4OVatWxYoVK8w+v379Ot59913UqFEDTk5OcHFxQatWrXDw4MF8Yzl06BB69uyJsmXLws7ODr6+vnj99ddx7do1s3qmfhcbG6ucYXR1dUWvXr1w+/btHO1+//33aNCgARwcHODu7o5mzZph/fr1ZnXWrFmDsLAwODo6wtnZGa1bt8a///6bb8wmr7zyCvr06YNdu3Zhw4YNZp/l108BICUlBUOGDEFwcDD0ej28vb3RokUL7Nu3D0DmGKDff/8d586dU/pxfr/sC9OvCtKn69atiw4dOphNV6NGDWg0Ghw6dEgpW7p0KTQaDY4ePWpW9+rVq+jcuTNcXFxQsmRJDB48GHfv3jWrM3/+fDzzzDPw9vaGXq9H1apVMWvWrDyXEwDS09MxZswYhISEwNXVFY6OjggLC8PGjRvN6mUd85nf/g3IPB507twZXl5esLe3R6VKlTBq1CizOhcvXsTrr78OHx8f6PV6VKtWDfPmzcs3ZpOgoCAsWLAA6enp+OSTT8w+K+i+ZsmSJQgJCYGzszNcXFxQo0YNTJs2DUDm8aFTp04AgObNmyv9J7cxvatWrcqxTZcvXw6NRpNj+1epUgVdunRR3mcdE1XQ+ard7+XH1P/XrVuHevXqwd7eHrNnzwZQ8H6W2zhlS2O/Crsvzc1jc1rCdI3W3d1dKfv333/RpEkT+Pv7Y8SIEXB0dMSPP/6Idu3aYfny5Wjfvn2u7f3000+4ffs2/ve//6FkyZLYvXs3/u///g8XLlzATz/9BADo168fLl26hA0bNmDhwoX5xvjvv/8iLCwMLi4ueO+992BjY4PZs2cjIiICmzdvRmhoqFn9gQMHwt3dHWPHjsXZs2cRHR2NAQMGYOnSpQCAxMREtGzZEl5eXhgxYgTc3Nxw9uzZHAdCIPPSQUpKCvr16weNRoNPPvkEHTp0wOnTp2FjY5Nn3Js3b8bSpUsxaNAg6PV6zJw5E8899xx2796N6tWr57vcEydOhEajwfDhw5GYmIjo6GhERkbiwIEDyq+IP//8E61atUJISAjGjh0LrVarfDG2bt2KBg0aoEOHDjhx4gR++OEHfPHFF8rZAy8vL4SFheGXX35BcnIyXFxcICLYtm0btFottm7dihdffBFAZnKs1WrRpEkTAMDt27cRHh6Oixcvol+/fggMDMT27dsxcuRIXL582WzMSr9+/bBgwQL06tULgwYNwpkzZzB9+nTs378f27ZtM1uPsbGx6NixI3r37o0ePXpg3rx56NmzJ0JCQlCtWrVc15WI4MUXX8TGjRvRu3dv1K5dG+vWrcOwYcNw8eJFfPHFF7lOGx8fj+bNmyMjI0Pp73PmzMn1l9rJkyfRpUsXvPnmm+jRowfmz5+PTp06Ye3atWjRogUA4PTp0/j555/RqVMnlClTBgkJCZg9ezbCw8Nx5MgR+Pn55RrPhg0bcPr0afTq1Qu+vr74999/MWfOHPz777/YuXNnjoS9c+fOKFOmDCZPnox9+/bh66+/hre3N6ZMmaLUGT9+PMaNG4fGjRvjww8/hK2tLXbt2oU///wTLVu2BAAsXLgQPXr0QFRUFKZMmYLbt29j1qxZaNq0Kfbv31/gyxCvvfYa5syZg/Xr1yvroyD9FADefPNNLFu2DAMGDEDVqlVx7do1/PXXXzh69Cjq1q2LUaNGISkpCRcuXFC2qZOTU74xFaRfFbRPh4WF4YcfflDavn79Ov7991/lO1OzZk0Amd8ZLy8vVKlSJcf2Cg4OxuTJk7Fz5058+eWXuHHjhtlBc9asWahWrRpefPFFlChRAr/++iveeustGI1G9O/fP9flTE5Oxtdff42uXbuib9++SElJwTfffIOoqCjs3r0btWvXNqtfkP3boUOHEBYWBhsbG7zxxhsIDg7GqVOn8Ouvv2LixIkAgISEBDRs2FD58ejl5YU1a9agd+/eSE5OLvCl10aNGqFcuXJmCXhBt8uGDRvQtWtXPPvss0rfP3r0KLZt24bBgwejWbNmGDRoEL788ku8//77ynbJvn1MmjZtCo1Ggy1btphtU61Wi7/++kupd+XKFRw7dgwDBgyw2E5B5qt2v2dy9+7dHDcsODs7K2fEjh8/jq5du6Jfv37o27cvKlWqBEB9P8tNYfeleZJiZv78+QJA/vjjD7ly5YrExcXJsmXLxMvLS/R6vcTFxSl1n332WalRo4bcvXtXKTMajdK4cWOpUKGCUrZx40YBIBs3blTKbt++nWPekydPFo1GI+fOnVPK+vfvL7mtJgAyduxY5X27du3E1tZWTp06pZRdunRJnJ2dpVmzZjmWMTIyUoxGo1L+9ttvi06nk5s3b4qIyMqVKwWA7NmzJ9f1debMGQEgJUuWlOvXryvlv/zyiwCQX3/9VSkbO3ZsjmUBIADk77//VsrOnTsndnZ20r59+1znK/LfevX395fk5GSl/McffxQAMm3aNBHJ3CYVKlSQqKgos+W9ffu2lClTRlq0aKGUTZ06VQDImTNnzOa1Z88eASCrV68WEZFDhw4JAOnUqZOEhoYq9V588UWpU6eO8n7ChAni6OgoJ06cMGtvxIgRotPp5Pz58yIisnXrVgEgixYtMqu3du3aHOVBQUECQLZs2aKUJSYmil6vl3feeSfPdfbzzz8LAPnoo4/Myjt27CgajUZiY2PN5tOjRw/l/ZAhQwSA7Nq1y2y+rq6uOdaZKcbly5crZUlJSVKqVCmz9XP37l0xGAxmsZw5c0b0er18+OGHZmUAZP78+UqZpe/QDz/8kGPdmPrd66+/bla3ffv2UrJkSeX9yZMnRavVSvv27XPEZOo3KSkp4ubmJn379jX7PD4+XlxdXc3KTfO9cuVKjjhFRG7cuCEAlH5emH7q6uoq/fv3t9iuSevWrSUoKCjPOlkVtF8VtE//9NNPAkCOHDkiIiKrVq0SvV4vL774onTp0kWZrmbNmmbfddN6e/HFF83af+uttwSAHDx4UCmz1AeioqKkbNmyZmXh4eESHh6uvM/IyJC0tDSzOjdu3BAfHx+zflKY/VuzZs3E2dnZbP8tImbbsnfv3lKqVCm5evWqWZ2XX35ZXF1dleUxzXfq1Kk5ls+kbdu2AkCSkpJEpODbZfDgweLi4iIZGRm5tm3adlmPWXmpVq2adO7cWXlft25d6dSpkwCQo0ePiojIihUrcmy/7PuYvOb7IPs9kf+ONdlfpn2Kqf21a9fmmLag/Sz7MTm35SzMvjQ/xfZyXmRkJLy8vBAQEICOHTvC0dERq1atQunSpQFk/qr6888/0blzZ6SkpODq1au4evUqrl27hqioKJw8eTLPu/myZpypqam4evUqGjduDBHB/v37Cx2vwWDA+vXr0a5dO5QtW1YpL1WqFLp164a//voLycnJZtO88cYbZr/Ww8LCYDAYcO7cOQBQBlb/9ttvuHfvXp7z79Kli9lZOtPlz9OnT+cbe6NGjRASEqK8DwwMRNu2bbFu3ToYDIZ8p+/evTucnZ2V9x07dkSpUqWwevVqAMCBAwdw8uRJdOvWDdeuXVO2VWpqKp599lls2bIl39OoderUgZOTk3KZcevWrShdujS6d++Offv24fbt2xAR/PXXX8qyA5lnHMPCwuDu7q7M9+rVq4iMjITBYFDa++mnn+Dq6ooWLVqY1QsJCYGTk1OOywxVq1Y1m4+XlxcqVaqU7/pevXo1dDodBg0aZFb+zjvvQETMLkNamrZhw4bK2RDTfF955RWL9f38/MzOxrq4uKB79+7Yv38/4uPjAWSOiTANLDUYDLh27RqcnJxQqVIl5dJUbrJ+h0y/MBs2bAgAFqd98803zd6HhYXh2rVryvfi559/htFoxJgxY8wGuwJQvicbNmzAzZs30bVrV7PtpNPpEBoammM75cV0ZiglJQVA4fqpm5sbdu3ahUuXLhV4fgVRkH5V0D5taifrd6Z+/fpo0aIFtm7dCiDz8tPhw4fN5mmS/Rf+wIEDAUD5XgPmfSApKQlXr15FeHg4Tp8+jaSkpFyXU6fTwdbWFkDmZfTr168jIyMD9erVs9h38tu/XblyBVu2bMHrr7+OwMBAs2lNfUdEsHz5crRp0wYiYrbuoqKikJSUlG+fzyp7/ynodnFzc0NqamqOy8gPIiwsTNmmKSkpOHjwIN544w14enoq5Vu3boWbm1uBri7kRu1+z6Rt27bYsGGD2SsqKkr5vEyZMmbvTdT2s9wUdl+al2J7OW/GjBmoWLEikpKSMG/ePGzZssVsEFxsbCxEBKNHj8bo0aMttpGYmAh/f3+Ln50/fx5jxozBqlWrcox5UbNRrly5gtu3byunH7OqUqUKjEYj4uLizE55Zv+ym3YSpnjCw8Px0ksvYfz48fjiiy8QERGBdu3aoVu3bjkGBObXVl4qVKiQo6xixYq4ffs2rly5ku8tqNmn12g0KF++vHIJ9uTJkwCAHj165NpGUlKS2U4yO51Oh0aNGpntEMLCwtC0aVMYDAbs3LkTPj4+uH79utmX/OTJkzh06BC8vLwstpuYmKjUS0pKgre3d571TLKvbyBznee3vs+dOwc/Pz+zpBP475S5KYHObdrsl4QBWOxzAFC+fPkcl9QqVqwIIPPyuK+vL4xGI6ZNm4aZM2fizJkzZklzyZIl81yW69evY/z48ViyZEmO9WPpO5RXH3VxccGpU6eg1WpRtWrVXOdp6kvPPPOMxc9dXFzyjDmrW7duAYCyLQrTTz/55BP06NEDAQEBCAkJwfPPP4/u3bub/YBSoyD9qqB92sfHBxUqVMDWrVvRr18/bN26Fc2bN0ezZs0wcOBAnD59GkePHoXRaLSYRGX/XpcrVw5ardbs9vdt27Zh7Nix2LFjR47xbUlJSXB1dc11Wb/99lt89tlnOHbsmNmPxDJlyuSom9/+zXQQzytBuHLlCm7evIk5c+Zgzpw5Futk78d5sdR/CrJd3nrrLfz4449o1aoV/P390bJlS3Tu3BnPPfdcgeedXVhYGL766ivExsbi1KlT0Gg0aNSokZJc9e3bF1u3bkWTJk1y/EApDLX7PZPSpUsjMjIy188tbXvgwfqZJYXdl+al2CZRDRo0UO7Oa9euHZo2bYpu3brh+PHjcHJyUn4RvvvuuxYzVyDzIGKJwWBAixYtcP36dQwfPhyVK1eGo6MjLl68iJ49e6oaXKaGTqezWC73BxibHmS5c+dO/Prrr8qt2Z999hl27txpNsYiv7asybQ+p06dmmOsg0lBxos0bdoUEydOxN27d7F161aMGjVK+WW1detW+Pj4AIDZAcFoNKJFixZ47733LLZpSiqMRiO8vb2xaNEii/Wy7xiL8/oujEmTJmH06NF4/fXXMWHCBHh4eECr1WLIkCH5fg86d+6M7du3Y9iwYahdu7byvXzuuecsTlsU68zU7sKFCy0m94W5+/Tw4cMA/ttPFKafdu7cGWFhYVi5ciXWr1+PqVOnYsqUKVixYgVatWpV4BiyK8g6KmifBjK/MzExMbhz5w727t2LMWPGoHr16nBzc8PWrVtx9OhRODk5oU6dOvnGlj0hP3XqFJ599llUrlwZn3/+OQICAmBra4vVq1fjiy++yLP/fP/99+jZsyfatWuHYcOGwdvbGzqdDpMnT85x8xBQtH3n1VdfzTVRNo0pKojDhw/D29tbSdwLul28vb1x4MABrFu3DmvWrMGaNWswf/58dO/eHd9++22B559V06ZNAWSedTx9+jTq1q2rDNb/8ssvcevWLezfv18ZG6bWw97vWRqT9CD9zKQgV1TUKrZJVFamL1fz5s0xffp0jBgxQvnFZ2Njk2dma8k///yDEydO4NtvvzV7ZoWl06sFfcK3l5cXHBwccPz48RyfHTt2DFqtVvXzaBo2bIiGDRti4sSJWLx4MV555RUsWbIEffr0UdVedqZf4FmdOHECDg4Ouf6qymt6EUFsbKyyQypXrhyAzLME+W2rvNZ3WFgY0tPT8cMPP+DixYtKstSsWTMliapYsaKSTJnmfevWrXznW65cOfzxxx9o0qTJQ72lNigoCH/88QdSUlLMzkYdO3ZM+TyvaS1tK0t9DvjvbG3WdXrixAkAUAZfL1u2DM2bN8c333xjNu3NmzfNHguQ3Y0bNxATE4Px48djzJgxSrml+AqqXLlyMBqNOHLkSK5JjKkveXt7F/p7n53pZhHTj7DC9FMg81L9W2+9hbfeeguJiYmoW7cuJk6cqCRRRfnXAbIqaJ8GMr8z8+fPx5IlS2AwGNC4cWNotVo0bdpUSaIaN25s8eB48uRJszMDsbGxMBqNSt/59ddfkZaWhlWrVpmdoSjIJdVly5ahbNmyWLFihdl6Gjt2bL7TWmI6HpgSY0u8vLzg7OwMg8HwwH1nx44dOHXqlNnt+oXZLra2tmjTpg3atGkDo9GIt956C7Nnz8bo0aMtnkHOT2BgIAIDA7F161acPn3abN84dOhQ/PTTTzAYDGjWrFme7TysPvsgCtPP3N3dczyoOT09HZcvXzYrK+y+NC/FdkxUdhEREWjQoAGio6Nx9+5deHt7IyIiArNnz86xggDkeFRAVqYdRtbsWUSUW0yzcnR0BIB8n6Ct0+nQsmVL/PLLL2anuxMSErB48WI0bdq0UJcagMwDVfYM33RwKcqnLe/YscNsLEBcXBx++eUXtGzZMtdfHll99913yrgAIHMHefnyZeVgEhISgnLlyuHTTz9VToFnlXVb5bW+Q0NDYWNjgylTpsDDw0O5NBoWFoadO3di8+bNOS5LdO7cGTt27MC6detytHfz5k1kZGQo9QwGAyZMmJCjXkZGRpE9Qf3555+HwWDA9OnTzcq/+OILaDSaPM9iPP/889i5cyd2796tlF25ciXXs2eXLl3CypUrlffJycn47rvvULt2beUsjk6ny9HHfvrpp3z/OoCl7xCAB3pCd7t27aDVavHhhx/m+HVpmk9UVBRcXFwwadIki+ME8/reZ7V48WJ8/fXXaNSoEZ599lkABe+nBoMhx+VKb29v+Pn5mX0vHR0dVQ0NyE9B+zTw31nZKVOmoGbNmsplj7CwMMTExODvv/+2eCkPgPJ4F5P/+7//AwClj1rqA0lJSZg/f36+y2Bp2l27dmHHjh35TmuJl5cXmjVrhnnz5uV4mrhpHjqdDi+99BKWL19uMdkqaN85d+4cevbsCVtbW+WRLEDBt0v2R4BotVrlB6ep/xT0uJNVWFgY/vzzT+zevVvZprVr14azszM+/vhj2Nvbm419tUTNfB+2wvSzcuXK5Xg8z5w5c3KciSrsvjQvj8WZKJNhw4ahU6dOWLBgAd58803MmDEDTZs2RY0aNdC3b1+ULVsWCQkJ2LFjBy5cuJDrs24qV66McuXK4d1338XFixfh4uKC5cuXW7yua+p0gwYNQlRUFHQ6Xa5Pqf3oo4+wYcMGNG3aFG+99RZKlCiB2bNnIy0tLcfzRAri22+/xcyZM9G+fXuUK1cOKSkpmDt3LlxcXPD8888Xur3cVK9eHVFRUWaPOAAybzcvCA8PDzRt2hS9evVCQkICoqOjUb58efTt2xdA5k7i66+/RqtWrVCtWjX06tUL/v7+uHjxIjZu3AgXFxf8+uuvAP5b36NGjcLLL78MGxsbtGnTBo6OjnBwcEBISAh27typPCMKyPy1lZqaitTU1BwHhGHDhmHVqlV44YUXlFtxU1NT8c8//2DZsmU4e/YsPD09ER4ejn79+mHy5Mk4cOAAWrZsCRsbG5w8eRI//fQTpk2bho4dOz7wum7Tpg2aN2+OUaNG4ezZs6hVqxbWr1+PX375BUOGDFHOhljy3nvvYeHChXjuuecwePBg5bbcoKAgs2fEmFSsWBG9e/fGnj174OPjg3nz5iEhIcFs5/PCCy/gww8/RK9evdC4cWP8888/WLRoUb5je1xcXNCsWTN88sknuHfvHvz9/bF+/XqcOXNG9bopX748Ro0ahQkTJiAsLAwdOnSAXq/Hnj174Ofnh8mTJ8PFxQWzZs3Ca6+9hrp16+Lll1+Gl5cXzp8/j99//x1NmjTJkaAuW7YMTk5OSE9PV55Yvm3bNtSqVUt5nAlQ8H6akpKC0qVLo2PHjqhVqxacnJzwxx9/YM+ePfjss8+U9kJCQrB06VIMHToU9evXh5OTE9q0aQMAymNP1FwGKWifNq1TX19fHD9+XBkYDmR+Z4YPHw4AuSZRZ86cwYsvvojnnnsOO3bswPfff49u3bopD5ds2bKlckalX79+uHXrFubOnQtvb2+LP2yzeuGFF7BixQq0b98erVu3xpkzZ/DVV1+hatWqFhPYgvjyyy/RtGlT1K1bF2+88QbKlCmDs2fP4vfff8eBAwcAAB9//DE2btyI0NBQ9O3bF1WrVsX169exb98+/PHHH7h+/bpZm/v27cP3338Po9GImzdvYs+ePcozmBYuXGh2+a+g26VPnz64fv06nnnmGZQuXRrnzp3D//3f/6F27drK2MjatWtDp9NhypQpSEpKgl6vV56TlJuwsDAsWrQIGo1Gubyn0+nQuHFjrFu3DhEREcpg/tyome/DVph+1qdPH7z55pt46aWX0KJFCxw8eBDr1q3LcVa9sPvSPBX4Pr5HxHT7v6Xb+g0Gg5QrV07KlSun3B566tQp6d69u/j6+oqNjY34+/vLCy+8IMuWLVOms/SIgyNHjkhkZKQ4OTmJp6en9O3bVw4ePJjjNu6MjAwZOHCgeHl5iUajMXtEACzcTrlv3z6JiooSJycncXBwkObNm8v27dsLtIzZ49y3b5907dpVAgMDRa/Xi7e3t7zwwgtmjyPI61bc7PHl9oiD/v37y/fffy8VKlQQvV4vderUKdCttaZ4f/jhBxk5cqR4e3uLvb29tG7dOsdtxiIi+/fvlw4dOkjJkiVFr9dLUFCQdO7cWWJiYszqTZgwQfz9/UWr1ea43XTYsGECQKZMmWI2Tfny5QWA2eMlTFJSUmTkyJFSvnx5sbW1FU9PT2ncuLF8+umnkp6eblZ3zpw5EhISIvb29uLs7Cw1atSQ9957Ty5duqTUCQoKktatW+eYT/bbuHOTkpIib7/9tvj5+YmNjY1UqFBBpk6danYrtmk+WW/LFcl8tEN4eLjY2dmJv7+/TJgwQb755huLjzho3bq1rFu3TmrWrCl6vV4qV64sP/30k1l7d+/elXfeeUdKlSol9vb20qRJE9mxY0eOZbH0iIMLFy5I+/btxc3NTVxdXaVTp05y6dKlXPtd9kcNmL4H2W8nnjdvntSpU0f0er24u7tLeHi4bNiwwazOxo0bJSoqSlxdXcXOzk7KlSsnPXv2NPtumOZretnZ2Unp0qXlhRdekHnz5pk9GiWr/PppWlqaDBs2TGrVqiXOzs7i6OgotWrVkpkzZ5q1c+vWLenWrZu4ubkJALPHHYSEhIivr69Z/cL0q8L0adOt7kuXLlXK0tPTxcHBQWxtbeXOnTtm9U3r7ciRI9KxY0dxdnYWd3d3GTBgQI66q1atkpo1a4qdnZ0EBwfLlClTZN68eTm2a/ZlMBqNMmnSJAkKClL2Ob/99pv06NHDbD0VZv8mInL48GGlT9rZ2UmlSpVk9OjRZnUSEhKkf//+EhAQIDY2NuLr6yvPPvuszJkzJ8d8Ta8SJUqIh4eHhIaGysiRIy3u3wq6XZYtWyYtW7YUb29vsbW1lcDAQOnXr59cvnzZrK25c+dK2bJlRafTFehxB//++68AkCpVqpiVf/TRRwIgx3oQsbyPyW2+D7rfMx1rcpNb+yIF72cGg0GGDx8unp6e4uDgIFFRURIbG/tA+9L8aO4vHD2lNBoN+vfvn+PXOxE9HCkpKfDw8EB0dLSqBwUSUfHx2IyJIiJ6EmzZsgX+/v7K5W4ienwxiSIieoRat26Ns2fP5js+hYiKPyZRRERERCo8VnfnUdHjkDgiIiJ1eCaKiIiISAUmUUREREQqPHWX84xGIy5dugRnZ+di+Yh7IiIiyklEkJKSAj8/vwf6Q8pF6alLoi5duqT6b9gRERGRdcXFxaF06dLWDgPAU5hEmf7oa1xcXKH/lh0RERFZR3JyMgICAsz+eLu1PXVJlOkSnouLC5MoIiKix0xxGopTPC4qEhERET1mmEQRERERqcAkioiIiEgFJlFEREREKjCJIiIiIlKBSRQRERGRCkyiiIiIiFRgEkVERESkApMoIiIiIhWeuieWPyya8ZlPUM344MHaMSJnZpthBEpoAQGgAWCQzPIrt4HTN4B6pYBvDgB96wDJ6UC6AbibkVknNR0IdAWcbYGEVGD/ZaC6N5CSDpRyAuJvAXcNGhiMGqw6psHLNQzYfgFoXBrwdgQSUh1w5bYBXvY62Oj8seyIDyp7ncCtNB/M/tsWb9Y/gsqed+Fo44irt33h41QKaYZ02OnsoNVcQlJaMg4leCAprRcGNqgFG91BGIxbse9yAwhm4s/Td1HKOQ2ONnYo414OXg5e2Bb3MiqWjIeXw59IST+J5LuOOJ8cirLuKTh9wxWHElzxQoUNuJPhi9R7qdDrLuJsUl2Ud78FH8eT+P6f1ni9zg/4/URdRJS5iRpeJaHTDQHwLAADDIbnIIjB4Sve2HT2HQyor0UJ3RAA0wCcAvAlgK3313447hn+wC/Hf8HmsxqU8yiPt+q9BdsSJe7XG3i/bjMAmwEIDEYjtp7XwmDcCJ22OcICBTrtM0jPuIeZf8/EqeuxaBpogLtdW+i026DTPoOwwGbQaXUWeoTcbzf8/tZ/cAajAVvPb8XllMso5eyLsEAjdNpnCtS++bSlEBYYdj9uU5zNAGwp0nito/DrPfd1U7D2Cz590feJwsot1sKtg6yyLhOQ3/Kpn09+836c+yxZhVjR5s2b5YUXXpBSpUoJAFm5cmW+02zcuFHq1Kkjtra2Uq5cOZk/f36h5pmUlCQAJCkpSV3QFmAcBOMgGRkQkafnte9Swesu2F/wuutj8/58Qz6fJ93J7bM1cuJqgFnZyauZ/x43K39G+f+ak02U/0ctzNzOuvE6WauUv3b/3w/N2h0VY/7vuI0NRTdeJxgHee5788+iFkJKf15alh9ZLjmtVmIvCsuPLJfSn5dW+qwplr/OfVDoaTEua9ymOE3roWjitZ7Crfe8103+7Rdu+qLtE4WVW6zD1g8r5DrIKusy5b18hV/XhZk3FWcP4/j9oKx6OS81NRW1atXCjBkzClT/zJkzaN26NZo3b44DBw5gyJAh6NOnD9atW/eQI82d6QwUAGifsoujNX0KXrdt5YLXbRaU9+dh+XzurLdc/sux1xDoGmdWVtYj898gs/Ktyv/KuG1T/t+xaua/BjEg2N1U/sv9f783a/e1mub/+rvshEEMZu2YPutYFbiYfBEdf+yIFUdXZIt6WbZ/1VtxdAU6/tgRF5IvKGWmWI5d/cjCvPOeFvgv7rM3P71fYloPDx6vdRV8vee3biyv1//aL/z0RdcnCiu3WC8kX8DU7VMLuQ6yyrpMuS+funWdH+utT3r8aURErB0EkPkHBVeuXIl27drlWmf48OH4/fffcfjwYaXs5Zdfxs2bN7F27doCzSc5ORmurq5ISkp64D9APH68BqNH//deo8l8PS1ECr68RVlX7eemnp71M1PdvKYxlRsFuHEHsNUBTrbm02WfPnv5PQMQez3zYkE5D8BG999ndzOA9aeA3RcBDdwwPmIctNpb91v6BEAyAFcAw+6XuQH4HwozpNFgNCB4WjAuJl/A/+oDbnaZ5e81BlztgJt3gTl7XfFuo3eg1XqYtW+aNuuBSwPgf/UBdzsg1B9oWQ7Qmw0O0ANoAaABAPP2iicjgFkAbt5/X7D1bmndZKWBBqVdSuPM4FPQaefkaF/EBVO3A0lpybh5F5i1J/PiUtbpA1z8cWbwe9BqkwsVW1HLb1lz8986OJPlklvW9W0EMAnAXWT2GwBIA2AHYBQye5sbDMY3EDytbAHW9Zl8Lu2p29ZkfUV5/C4qj1US1axZM9StWxfR0dFK2fz58zFkyBAkJSVZnCYtLQ1paWnK++TkZAQEBBTJRrh2TQMPj6crcXraZE2OCpMIqm37+h3A2dYJNrpbyDx4aAEYAOiQufMXZCYlZwE4F3hem85uQvNvm8PJFjg7GCjpkJkUGo1ACR2QYcg8k6rVIEf7pmmzytpO/uul8PE+eikAggFcR2HWu6V1Y8mWnr8jLOi1HO0bRQvACK0GuHYbCJ4G3Eo3n9bJFrj+njNsdCmFiq2oFXRZc7Oxx0ZEBEfcf5d1fedFA9PybT23EM0WtC7kfCxRt63J+opjEvVYpdnx8fHw8TG/huTj44Pk5GTcuXPH4jSTJ0+Gq6ur8goICCiyeDynA2lpmQeR4pGKUlHLmhyYziyp3dbZp82eeGw7D9T6Clh9chKAxvdLDdn+bQzgAAq7c7+cchlA5gG6zuzMeQGZCVTWf6+kVszRvmnarLK3kzt18T56zgD2o7Dr3dK6seRCcpLF9rUaI4DM9Vh7ds4ECsgsW31yYqFjK2oFXdaCTZ91fef3yyRz+TLXYWHnY4m6bU1kyWOVRKkxcuRIJCUlKa+4uLj8JyoE+ynA0aNF2iQVY7fvqZ829V7mK7fPIr4FLiQDrnY1AGwE4JCtlgOATQAK/0OglHMp5f9xyUDzb3Muy+17wJErM3K0n3XarEzt5LZMgKPqeK0jEIVd77mtG8v1LLd/O8u2z83D6BOFVdBlLfj0ua3vrP5bvsKt6/wUflsTWfJYJVG+vr5ISEgwK0tISICLiwvs7e0tTqPX6+Hi4mL2KmoVK/KS3tPC0Vb9tnayzXzl9lmoPxDgEoCwwDAAuwGkZquVer+88MICw1DapTQ093/1N/DPGYuTLdA0MGeA2afNylI7RRGv9RRuvee1bgDTmCbTNrXcvmnb5z990faJwspvWXOTcx1kZWmZsvpv+Qq/rvNj3fVJT4bHKolq1KgRYmJizMo2bNiARo0aWSUeGZt5bUan9vEkZDWFvSR35ob5+xRlmJ35xk/PsFzvxLX/yo5fzfz3Uor5Zy9WAqKfi74/KPbX+7XbAYgF0Pb++1WFC9wUpVaHac9NA5B5sGlTKbN8xVGg/JfAz8dM9X7Pd9qsXrzfTkqa6de/7/1/yz9QvNZTuPWe17oxvf9vm+be/ouVCjJ90faJwsprWXNjeR1klXWZ3shS3hfZl6/w6zo/1l2f9GSw6sDyW7duITY2FgBQp04dfP7552jevDk8PDwQGBiIkSNH4uLFi/juu+8AZD7ioHr16ujfvz9ef/11/Pnnnxg0aBB+//13REVFFWieD2NgWkaG5ol/vIEgM/Ewyn8P/dRqMz+4mQY4lMi8O0uD+0MzjcDtjMyHfbrZZd7RZhDg+m1b2NmkAwI46TMfJKrTZD4gNPE24OMI6O8/uzHxNnD8WuajFEqYBj0LcCcj8/8JqYCrHvC0BzLux2WjzRyc7e0I3LkHpBmBS8lAWXcbOOnvwWjMTIim7gA+egbwsMuM93a6HVzsopB5V1A6gJMA/LHt/B38cfog1p8GglyBbtWBNAMQf6sL+jd4EUBpAO8A8AJQBvsup+NQwmIYjLfhZgd8vhOo6+sBR9sqcLDZDqMINtxv64fDQNfqwLmkzDovVX0HEcHv31/j2wCcA9AV/w2u/QFAEIAmqrfjiqMrMHjtYAS6XlBiCHAJQPRzX6BDlbQ82zdNm/XuqPaVvTGiaTc08H8JwHkALwNYgszLJecfON5HT916t7RuMtdrNDpU6ZBv+5vOnsVrK2flM/3D6ROFlduyvlz9Zfxw+IcCrIOssi7TdmQO5gYyB343hqXlK/i6zk/xWJ9UcMVxYLlVk6hNmzahefOcd3v06NEDCxYsQM+ePXH27Fls2rTJbJq3334bR44cQenSpTF69Gj07NmzwPN8WBsh6/OiihPt/ZONNrCBbQlb2NnYwU5nh5R7KYAAOo0O/i7+uHn3Ju7eu4t0SYdAoIEGQc5B8HP1Q+LtRLjr3RFRJgJHrhzB+aTzKOVUCnFJcYi/FY8MyUAtn1oIdAtEqH8obty9gZL2JRF/Kx4H4w8i9V4qwoLCMKD+ANiWsIXBaEDM6RjMPzAfh+IP4fa92/Bz8UPbSm1R27c2rt25Bm9Hb+WpxEYxwsPeA96O3khMTcT1O5l39LjZueH6neu4kHwBpV1Kw8PeAzfv3oRRjLh59ya0Gi0qlKxw/wnj/11zSs9Iv//k8FMo51Eux+fZFbZ+bk9TztpOsFswanjXwLU714rgicuF8yBPey7aJ0U/WR503TxO67bon1heNPOnJxuTqGKgOG4EIiIiyltxPH4/4RehiIiIiB4OJlFEREREKjCJIiIiIlKBSRQRERGRCkyiiIiIiFRgEkVERESkApMoIiIiIhWYRBERERGpwCSKiIiISAUmUUREREQqMIkiIiIiUoFJFBEREZEKTKKIiIiIVGASRURERKQCkygiIiIiFZhEEREREanAJIqIiIhIBSZRRERERCowiSIiIiJSgUkUERERkQpMooiIiIhUYBJFREREpAKTKCIiIiIVmEQRERERqcAkioiIiEgFJlFEREREKjCJIiIiIlKBSRQRERGRCkyiiIiIiFRgEkVERESkApMoIiIiIhWYRBERERGpwCSKiIiISAUmUUREREQqMIkiIiIiUoFJFBEREZEKTKKIiIiIVGASRURERKQCkygiIiIiFZhEEREREanAJIqIiIhIBSZRRERERCowiSIiIiJSgUkUERERkQpMooiIiIhUYBJFREREpAKTKCIiIiIVmEQRERERqcAkioiIiEgFJlFEREREKjCJIiIiIlKBSRQRERGRCkyiiIiIiFRgEkVERESkApMoIiIiIhWYRBERERGpYPUkasaMGQgODoadnR1CQ0Oxe/fuPOtHR0ejUqVKsLe3R0BAAN5++23cvXv3EUVLRERElMmqSdTSpUsxdOhQjB07Fvv27UOtWrUQFRWFxMREi/UXL16MESNGYOzYsTh69Ci++eYbLF26FO+///4jjpyIiIiedlZNoj7//HP07dsXvXr1QtWqVfHVV1/BwcEB8+bNs1h/+/btaNKkCbp164bg4GC0bNkSXbt2zffsFREREVFRs1oSlZ6ejr179yIyMvK/YLRaREZGYseOHRanady4Mfbu3askTadPn8bq1avx/PPP5zqftLQ0JCcnm72IiIiIHlQJa8346tWrMBgM8PHxMSv38fHBsWPHLE7TrVs3XL16FU2bNoWIICMjA2+++Wael/MmT56M8ePHF2nsRERERFYfWF4YmzZtwqRJkzBz5kzs27cPK1aswO+//44JEybkOs3IkSORlJSkvOLi4h5hxERERPSkstqZKE9PT+h0OiQkJJiVJyQkwNfX1+I0o0ePxmuvvYY+ffoAAGrUqIHU1FS88cYbGDVqFLTanDmhXq+HXq8v+gUgIiKip5rVzkTZ2toiJCQEMTExSpnRaERMTAwaNWpkcZrbt2/nSJR0Oh0AQEQeXrBERERE2VjtTBQADB06FD169EC9evXQoEEDREdHIzU1Fb169QIAdO/eHf7+/pg8eTIAoE2bNvj8889Rp04dhIaGIjY2FqNHj0abNm2UZIqIiIjoUbBqEtWlSxdcuXIFY8aMQXx8PGrXro21a9cqg83Pnz9vdubpgw8+gEajwQcffICLFy/Cy8sLbdq0wcSJE621CERERPSU0shTdh0sOTkZrq6uSEpKgouLi7XDISIiogIojsfvx+ruPCIiIqLigkkUERERkQpMooiIiIhUYBJFREREpAKTKCIiIiIVmEQRERERqcAkioiIiEgFJlFEREREKjCJIiIiIlKBSRQRERGRCkyiiIiIiFRgEkVERESkApMoIiIiIhWYRBERERGpwCSKiIiISAUmUUREREQqMIkiIiIiUoFJFBEREZEKTKKIiIiIVGASRURERKQCkygiIiIiFZhEEREREanAJIqIiIhIBSZRRERERCowiSIiIiJSgUkUERERkQpMooiIiIhUYBJFREREpAKTKCIiIiIVmEQRERERqcAkioiIiEgFJlFEREREKjCJIiIiIlKBSRQRERGRCkyiiIiIiFRgEkVERESkApMoIiIiIhWYRBERERGpwCSKiIiISAUmUUREREQqMIkiIiIiUoFJFBEREZEKTKKIiIiIVGASRURERKQCkygiIiIiFZhEEREREanAJIqIiIhIBSZRRERERCowiSIiIiJSgUkUERERkQpMooiIiIhUYBJFREREpAKTKCIiIiIVmEQRERERqcAkioiIiEgFJlFEREREKlg9iZoxYwaCg4NhZ2eH0NBQ7N69O8/6N2/eRP/+/VGqVCno9XpUrFgRq1evfkTREhEREWUqYc2ZL126FEOHDsVXX32F0NBQREdHIyoqCsePH4e3t3eO+unp6WjRogW8vb2xbNky+Pv749y5c3Bzc3v0wRMREdFTTSMiYq2Zh4aGon79+pg+fToAwGg0IiAgAAMHDsSIESNy1P/qq68wdepUHDt2DDY2NqrmmZycDFdXVyQlJcHFxeWB4iciIqJHozgev612OS89PR179+5FZGTkf8FotYiMjMSOHTssTrNq1So0atQI/fv3h4+PD6pXr45JkybBYDDkOp+0tDQkJyebvYiIiIgelNWSqKtXr8JgMMDHx8es3MfHB/Hx8RanOX36NJYtWwaDwYDVq1dj9OjR+Oyzz/DRRx/lOp/JkyfD1dVVeQUEBBTpchAREdHTyeoDywvDaDTC29sbc+bMQUhICLp06YJRo0bhq6++ynWakSNHIikpSXnFxcU9woiJiIjoSWW1geWenp7Q6XRISEgwK09ISICvr6/FaUqVKgUbGxvodDqlrEqVKoiPj0d6ejpsbW1zTKPX66HX64s2eCIiInrqWe1MlK2tLUJCQhATE6OUGY1GxMTEoFGjRhanadKkCWJjY2E0GpWyEydOoFSpUhYTKCIiIqKHxaqX84YOHYq5c+fi22+/xdGjR/G///0Pqamp6NWrFwCge/fuGDlypFL/f//7H65fv47BgwfjxIkT+P333zFp0iT079/fWotARERETymrPieqS5cuuHLlCsaMGYP4+HjUrl0ba9euVQabnz9/Hlrtf3leQEAA1q1bh7fffhs1a9aEv78/Bg8ejOHDh1trEYiIiOgpZdXnRFlDcXzOBBEREeWtOB6/H6u784iIiIiKCyZRRERERCowiSIiIiJSgUkUERERkQpMooiIiIhUYBJFREREpAKTKCIiIiIVmEQRERERqcAkioiIiEgFJlFEREREKjCJIiIiIlKBSRQRERGRCiUKWrFDhw4FbnTFihWqgiEiIiJ6XBT4TJSrq6vycnFxQUxMDP7++2/l87179yImJgaurq4PJVAiIiKi4qTAZ6Lmz5+v/H/48OHo3LkzvvrqK+h0OgCAwWDAW2+9BRcXl6KPkoiIiKiY0YiIFHYiLy8v/PXXX6hUqZJZ+fHjx9G4cWNcu3atyAIsasnJyXB1dUVSUhITPiIiosdEcTx+qxpYnpGRgWPHjuUoP3bsGIxG4wMHRURERFTcFfhyXla9evVC7969cerUKTRo0AAAsGvXLnz88cfo1atXkQZIREREVBypSqI+/fRT+Pr64rPPPsPly5cBAKVKlcKwYcPwzjvvFGmARERERMWRqjFRWSUnJwNAsbk+mZ/ieE2ViIiI8lYcj9+qzkRlVVwWhIiIiOhRUpVElSlTBhqNJtfPT58+rTogIiIioseBqiRqyJAhZu/v3buH/fv3Y+3atRg2bFhRxEVERERUrKlKogYPHmyxfMaMGWZPMSciIiJ6UhXpHyBu1aoVli9fXpRNEhERERVLRZpELVu2DB4eHkXZJBEREVGxpOpyXp06dcwGlosI4uPjceXKFcycObPIgiMiIiIqrlQlUe3atTN7r9Vq4eXlhYiICFSuXLko4iIiIiIq1h74YZuPm+L4sC4iIiLKW3E8fj/wwzbv3r2L9PR0s7LisnBERERED4uqgeWpqakYMGAAvL294ejoCHd3d7MXERER0ZNOVRL13nvv4c8//8SsWbOg1+vx9ddfY/z48fDz88N3331X1DESERERFTuqLuf9+uuv+O677xAREYFevXohLCwM5cuXR1BQEBYtWoRXXnmlqOMkIiIiKlZUnYm6fv06ypYtCyBz/NP169cBAE2bNsWWLVuKLjoiIiKiYkpVElW2bFmcOXMGAFC5cmX8+OOPADLPULm5uRVZcERERETFlaokqlevXjh48CAAYMSIEZgxYwbs7Ozw9ttv8w8QExER0VOhSJ4Tde7cOezduxfly5dHzZo1iyKuh6Y4PmeCiIiI8lYcj9+FPhN17949PPvsszh58qRSFhQUhA4dOhT7BIqIiIioqBQ6ibKxscGhQ4ceRixEREREjw1VY6JeffVVfPPNN0UdCxEREdFjQ9VzojIyMjBv3jz88ccfCAkJgaOjo9nnn3/+eZEER0RERFRcFSqJOn36NIKDg3H48GHUrVsXAHDixAmzOhqNpuiiIyIiIiqmCpVEVahQAZcvX8bGjRsBAF26dMGXX34JHx+fhxIcERERUXFVqDFR2Z+GsGbNGqSmphZpQERERESPA1UDy02K4BFTRERERI+lQiVRGo0mx5gnjoEiIiKip1GhxkSJCHr27Am9Xg8AuHv3Lt58880cd+etWLGi6CIkIiIiKoYKlUT16NHD7P2rr75apMEQERERPS4KlUTNnz//YcVBRERE9Fh5oIHlRERERE8rJlFEREREKjCJIiIiIlKBSRQRERGRCkyiiIiIiFRgEkVERESkApMoIiIiIhWKRRI1Y8YMBAcHw87ODqGhodi9e3eBpluyZAk0Gg3atWv3cAMkIiIiysbqSdTSpUsxdOhQjB07Fvv27UOtWrUQFRWFxMTEPKc7e/Ys3n33XYSFhT2iSImIiIj+Y/Uk6vPPP0ffvn3Rq1cvVK1aFV999RUcHBwwb968XKcxGAx45ZVXMH78eJQtW/YRRktERESUyapJVHp6Ovbu3YvIyEilTKvVIjIyEjt27Mh1ug8//BDe3t7o3bv3owiTiIiIKIdC/e28onb16lUYDAb4+PiYlfv4+ODYsWMWp/nrr7/wzTff4MCBAwWaR1paGtLS0pT3ycnJquMlIiIiMrH65bzCSElJwWuvvYa5c+fC09OzQNNMnjwZrq6uyisgIOAhR0lERERPA6ueifL09IROp0NCQoJZeUJCAnx9fXPUP3XqFM6ePYs2bdooZUajEQBQokQJHD9+HOXKlTObZuTIkRg6dKjyPjk5mYkUERERPTCrJlG2trYICQlBTEyM8pgCo9GImJgYDBgwIEf9ypUr459//jEr++CDD5CSkoJp06ZZTI70ej30ev1DiZ+IiIieXlZNogBg6NCh6NGjB+rVq4cGDRogOjoaqamp6NWrFwCge/fu8Pf3x+TJk2FnZ4fq1aubTe/m5gYAOcqJiIiIHiarJ1FdunTBlStXMGbMGMTHx6N27dpYu3atMtj8/Pnz0Gofq6FbRERE9BTQiIhYO4hHKTk5Ga6urkhKSoKLi4u1wyEiIqICKI7Hb57iISIiIlKBSRQRERGRCkyiiIiIiFRgEkVERESkApMoIiIiIhWYRBERERGpwCSKiIiISAUmUUREREQqMIkiIiIiUoFJFBEREZEKTKKIiIiIVGASRURERKQCkygiIiIiFZhEEREREanAJIqIiIhIBSZRRERERCowiSIiIiJSgUkUERERkQpMooiIiIhUYBJFREREpAKTKCIiIiIVmEQRERERqcAkioiIiEgFJlFEREREKjCJIiIiIlKBSRQRERGRCkyiiIiIiFRgEkVERESkApMoIiIiIhWYRBERERGpwCSKiIiISAUmUUREREQqMIkiIiIiUoFJFBEREZEKTKKIiIiIVGASRURERKQCkygiIiIiFZhEEREREanAJIqIiIhIBSZRRERERCowiSIiIiJSgUkUERERkQpMooiIiIhUYBJFREREpAKTKCIiIiIVmEQRERERqcAkioiIiEgFJlFEREREKjCJIiIiIlKBSRQRERGRCkyiiIiIiFRgEkVERESkApMoIiIiIhWYRBERERGpwCSKiIiISAUmUUREREQqFIskasaMGQgODoadnR1CQ0Oxe/fuXOvOnTsXYWFhcHd3h7u7OyIjI/OsT0RERPQwWD2JWrp0KYYOHYqxY8di3759qFWrFqKiopCYmGix/qZNm9C1a1ds3LgRO3bsQEBAAFq2bImLFy8+4siJiIjoaaYREbFmAKGhoahfvz6mT58OADAajQgICMDAgQMxYsSIfKc3GAxwd3fH9OnT0b1793zrJycnw9XVFUlJSXBxcXng+ImIiOjhK47Hb6ueiUpPT8fevXsRGRmplGm1WkRGRmLHjh0FauP27du4d+8ePDw8HlaYRERERDmUsObMr169CoPBAB8fH7NyHx8fHDt2rEBtDB8+HH5+fmaJWFZpaWlIS0tT3icnJ6sPmIiIiOg+q4+JehAff/wxlixZgpUrV8LOzs5incmTJ8PV1VV5BQQEPOIoiYiI6Elk1STK09MTOp0OCQkJZuUJCQnw9fXNc9pPP/0UH3/8MdavX4+aNWvmWm/kyJFISkpSXnFxcUUSOxERET3drJpE2draIiQkBDExMUqZ0WhETEwMGjVqlOt0n3zyCSZMmIC1a9eiXr16ec5Dr9fDxcXF7EVERET0oKw6JgoAhg4dih49eqBevXpo0KABoqOjkZqail69egEAunfvDn9/f0yePBkAMGXKFIwZMwaLFy9GcHAw4uPjAQBOTk5wcnKy2nIQERHR08XqSVSXLl1w5coVjBkzBvHx8ahduzbWrl2rDDY/f/48tNr/TpjNmjUL6enp6Nixo1k7Y8eOxbhx4x5l6ERERPQUs/pzoh614vicCSIiIspbcTx+P9Z35xERERFZC5MoIiIiIhWYRBERERGpwCSKiIiISAUmUUREREQqMIkiIiIiUoFJFBEREZEKTKKIiIiIVGASRURERKQCkygiIiIiFZhEEREREanAJIqIiIhIBSZRRERERCowiSIiIiJSgUkUERERkQpMooiIiIhUYBJFREREpAKTKCIiIiIVmEQRERERqcAkioiIiEgFJlFEREREKjCJIiIiIlKBSRQRERGRCkyiiIiIiFRgEkVERESkApMoIiIiIhWYRBERERGpwCSKiIiISAUmUUREREQqMIkiIiIiUoFJFBEREZEKTKKIiIiIVGASRURERKQCkygiIiIiFZhEEREREanAJIqIiIhIBSZRRERERCowiSIiIiJSgUkUERERkQpMooiIiIhUYBJFREREpAKTKCIiIiIVmEQRERERqcAkioiIiEgFJlFEREREKjCJIiIiIlKBSRQRERGRCkyiiIiIiFRgEkVERESkApMoIiIiIhWYRBERERGpwCSKiIiISAUmUUREREQqMIkiIiIiUoFJFBEREZEKTKKIiIiIVChh7QCeFJrxGgBAxgdWDoSIqJhJNwC2uoLVFQCaLO9T0gFn2//eGySzPfsSwNkkINgViE8FPOwyP0tKy5xXugHwcQRu3AVstICTLWAUIC4ZsCsBnL4BVPYEjl0FangDqfeAlceA9pUBT3tAowGu3AbuZgB+TsA3BwB/Z6CmD1DSHhi3GajkAZy8DrSvAiw/CjQPAhJSgaaBwKkbQJArUNIB2H0R2H4eOJyowSctBLE3MtsZvNoGDfzfx3MV7HEwYR+8HLbgXJItktLKIC6pDNpV2oiN59xRqWQVBLp0x77LfyPI7VMcSkhB40DB7D061POzQ0p6OUSWmQi9jR3ib8UjIfUyKnqswaFEoJa3Bja6d6HTloBRNmJ/vDPiU35AnVJnceByGXSu9jJq+gzC7H1fwc95GaJ3ZqB9pYuYtisdyzvfwOErgn2XKqKM++sYFDoYOq0Of575EwsPfYtmgQfw6/EgtK50CgZjBgJcgqAv8R60Gh2AzdBpn0FYYDPotAXc+I8jKQamT58uQUFBotfrpUGDBrJr16486//4449SqVIl0ev1Ur16dfn9998LPK+kpCQBIElJSQ8atgLjIBgHyciAiPDFF1988cVXwV6jYiyXb4g1fx+1EPLtgdzbiVoI5Vj0wZ/mn73/B+S573OfX9TC/6ZZf3++F5Mtt2/zoY3ZPNbH5j6vqIWQ0p+XluVHlktReBjH7wdl9ct5S5cuxdChQzF27Fjs27cPtWrVQlRUFBITEy3W3759O7p27YrevXtj//79aNeuHdq1a4fDhw8/4sgzmc5AAYDW6muTiIgeJ6/VtFweFmT+vmNV4MVKubfTsep//381W5vda/33uaX5daz63zTN7s+3lJPl9u8Z75nNo1m2OLPOq2NV4GLyRXT8sSNWHF2Re/CPMY2IiDUDCA0NRf369TF9+nQAgNFoREBAAAYOHIgRI0bkqN+lSxekpqbit99+U8oaNmyI2rVr46uvvsp3fsnJyXB1dUVSUhJcXFweKPbx4zUYPfq/9xpN5ouIiKggRCwfN7KXm47UuR1jjAIYjIBWk/nKbVpL87P0efZ6RmPmv+lGIC0DcNFbrieSeUlWq8m8pDphc+Z7wA3jIxKh09rkvULyUJTH76Ji1XMn6enp2Lt3LyIjI5UyrVaLyMhI7Nixw+I0O3bsMKsPAFFRUbnWT0tLQ3JystmrqAwYkNl5tNrMFxMoIiIqjNyOG9nL8/uRrtUANjpAZ+FYlHVaS21Y+jx7PdNxzq7EfwlUbnFq75fZaIHxzYGPngHebngT2+M25L4AjymrJlFXr16FwWCAj4+PWbmPjw/i4+MtThMfH1+o+pMnT4arq6vyCggIKJrgAXhOB9LS7mfeVj2fR0RET7uHfSyS+2e7CsqUYG07D9SeDVxITno4gVnREz+KZ+TIkUhKSlJecXFxRdq+/RTg6NEibZKIiKjQUu893PZv3wM8phR+mohvgQvJQCnnUg8nMCuy6iMOPD09odPpkJCQYFaekJAAX19fi9P4+voWqr5er4dery+agHNRsSIv5RERkXU52eZf50E42gKjwwt3vHOyBUL9gfNJAQgLDHt4wVmJVc9E2draIiQkBDExMUqZ0WhETEwMGjVqZHGaRo0amdUHgA0bNuRa/2GSsZnnTXVP8CMwiIjIeowPcHmuMJfeTLJfDsz+vluNzH/TMvKud+By5nO3gMy7CqOfi34inxdl9YdtDh06FD169EC9evXQoEEDREdHIzU1Fb169QIAdO/eHf7+/pg8eTIAYPDgwQgPD8dnn32G1q1bY8mSJfj7778xZ84cq8QvYwUZGRo+3oCI6ClhkPt3wCHzrjW5/3+txvxhoYL/kgvTYGujAH+dB0L8Mh8KqtNklm2LA/69AtTxzXwQZ0o6cPwq8MFG4Pv2mQ8ATTNkJi9rTwGtK2ZeKrPVZj50NOEW4OMEZBgyH/R5JwMYuAb4qVPmw0EBwMM+c/rzycDhRODENWDiM5lxHkkE7hoAF1sgPBi4lJL5INEVR4H3wwCHEsDOC8DxaxroSwgOJwJdqmW2W9IBmLkHiCwLVPEEElOBpf8Cs/cCA+p74KWq7yAiuMMj2jqPltWTqC5duuDKlSsYM2YM4uPjUbt2baxdu1YZPH7+/Hlos2QojRs3xuLFi/HBBx/g/fffR4UKFfDzzz+jevXq1loElCghZs+LIiKiJ58eemQgAwYYoIEGtlpb2JWwg7ONM1LSU3Dr3i0YYIAWWui1eug0OmRIBtKMadBAA2cbZwxtNBQNSjfAlnNbsPvSbiw5fBelXUrD2dYZibcS4WhzB3P31kN4UDj2Xd6H7//5HheSL+DttQINNHCycUJl78p4p+E7SMvQI/5WPJLSEnA19Speq3kB+y8HIDwoHDqtDocT43Ex5SLWxa7DheQLCHQJxLErQxERHIFVN2bj+NXjOJhwEHc23MGV21cgEBiMBhy6XBYdqnbAoNBBaFUh84nluy8uRPTOJEAAI4xIM6Rh36V6cNU3h1ajRXhQIl6uXgphgWFP5BkoE6s/J+pRK47PmSAiIqK8FcfjNy9CEREREanAJIqIiIhIBSZRRERERCowiSIiIiJSgUkUERERkQpMooiIiIhUYBJFREREpAKTKCIiIiIVmEQRERERqWD1P/vyqJke0J6cnGzlSIiIiKigTMft4vSHVp66JColJQUAEBAQYOVIiIiIqLBSUlLg6upq7TAAPIV/O89oNOLSpUtwdnaGRlO0fzQ4OTkZAQEBiIuLKzZ/14dy4nYq/riNHg/cTo+HJ2U7iQhSUlLg5+cHrbZ4jEZ66s5EabValC5d+qHOw8XF5bHuqE8Lbqfij9vo8cDt9Hh4ErZTcTkDZVI8UjkiIiKixwyTKCIiIiIVmEQVIb1ej7Fjx0Kv11s7FMoDt1Pxx230eOB2ejxwOz08T93AciIiIqKiwDNRRERERCowiSIiIiJSgUkUERERkQpMooiIiIhUYBJVRGbMmIHg4GDY2dkhNDQUu3fvtnZIlM2WLVvQpk0b+Pn5QaPR4Oeff7Z2SJTN5MmTUb9+fTg7O8Pb2xvt2rXD8ePHrR0WZTNr1izUrFlTeXhjo0aNsGbNGmuHRXn4+OOPodFoMGTIEGuH8kRhElUEli5diqFDh2Ls2LHYt28fatWqhaioKCQmJlo7NMoiNTUVtWrVwowZM6wdCuVi8+bN6N+/P3bu3IkNGzbg3r17aNmyJVJTU60dGmVRunRpfPzxx9i7dy/+/vtvPPPMM2jbti3+/fdfa4dGFuzZswezZ89GzZo1rR3KE4ePOCgCoaGhqF+/PqZPnw4g8+/zBQQEYODAgRgxYoSVoyNLNBoNVq5ciXbt2lk7FMrDlStX4O3tjc2bN6NZs2bWDofy4OHhgalTp6J3797WDoWyuHXrFurWrYuZM2fio48+Qu3atREdHW3tsJ4YPBP1gNLT07F3715ERkYqZVqtFpGRkdixY4cVIyN6/CUlJQHIPEBT8WQwGLBkyRKkpqaiUaNG1g6Hsunfvz9at25tdoyiovPU/QHionb16lUYDAb4+PiYlfv4+ODYsWNWioro8Wc0GjFkyBA0adIE1atXt3Y4lM0///yDRo0a4e7du3BycsLKlStRtWpVa4dFWSxZsgT79u3Dnj17rB3KE4tJFBEVS/3798fhw4fx119/WTsUsqBSpUo4cOAAkpKSsGzZMvTo0QObN29mIlVMxMXFYfDgwdiwYQPs7OysHc4Ti0nUA/L09IROp0NCQoJZeUJCAnx9fa0UFdHjbcCAAfjtt9+wZcsWlC5d2trhkAW2trYoX748ACAkJAR79uzBtGnTMHv2bCtHRgCwd+9eJCYmom7dukqZwWDAli1bMH36dKSlpUGn01kxwicDx0Q9IFtbW4SEhCAmJkYpMxqNiImJ4fgAokISEQwYMAArV67En3/+iTJlylg7JCogo9GItLQ0a4dB9z377LP4559/cODAAeVVr149vPLKKzhw4AATqCLCM1FFYOjQoejRowfq1auHBg0aIDo6GqmpqejVq5e1Q6Msbt26hdjYWOX9mTNncODAAXh4eCAwMNCKkZFJ//79sXjxYvzyyy9wdnZGfHw8AMDV1RX29vZWjo5MRo4ciVatWiEwMBApKSlYvHgxNm3ahHXr1lk7NLrP2dk5x1hCR0dHlCxZkmMMixCTqCLQpUsXXLlyBWPGjEF8fDxq166NtWvX5hhsTtb1999/o3nz5sr7oUOHAgB69OiBBQsWWCkqymrWrFkAgIiICLPy+fPno2fPno8+ILIoMTER3bt3x+XLl+Hq6oqaNWti3bp1aNGihbVDI3qk+JwoIiIiIhU4JoqIiIhIBSZRRERERCowiSIiIiJSgUkUERERkQpMooiIiIhUYBJFREREpAKTKCIiIiIVmETRQ7Np0yZoNBrcvHkz1zoLFiyAm5ub8n7cuHGoXbv2A89bo9Hg559/fuB2njTXrl2Dt7c3zp49a+1QCuTq1avw9vbGhQsXrB1KDhERERgyZMgDtVGQ78jTKiYmBlWqVIHBYCiyNrNvs+DgYERHRxdZ+1kV5777MG3ZsgVt2rSBn5+fqv3wuHHjoNFocrwcHR0fTsAPiEkU0SOSdedQokQJeHp6olmzZoiOji7SvzmW14F54sSJaNu2LYKDg4tsfg+Tp6cnunfvjrFjx1o7lKdKRESE0lf1ej38/f3Rpk0brFixokjnk9ePpvfeew8ffPDBY/s33p7WvpuamopatWphxowZqqZ/9913cfnyZbNX1apV0alTpyKOtGgwiSJ6hKpVq4bLly/j/Pnz2LhxIzp16oTJkyejcePGSElJeajzvn37Nr755hv07t37gdoxGAwwGo1FFFX+evXqhUWLFuH69euPbJ4E9O3bF5cvX8apU6ewfPlyVK1aFS+//DLeeOONhz7vv/76C6dOncJLL7300Of1MD2NfbdVq1b46KOP0L59e4ufp6Wl4d1334W/vz8cHR0RGhqKTZs2KZ87OTnB19dXeSUkJODIkSMPvN96WJhE0QNJS0vDoEGD4O3tDTs7OzRt2hR79uzJtf6CBQsQGBgIBwcHtG/fHteuXbNYb/bs2QgICICDgwM6d+6MpKQk5bM9e/agRYsW8PT0hKurK8LDw7Fv37484xw+fDgqVqwIBwcHlC1bFqNHj8a9e/eUz02/iBcuXIjg4GC4urri5ZdfNktsjEYjPvnkE5QvXx56vR6BgYGYOHGi8nlcXBw6d+4MNzc3eHh4oG3btjkum5UoUQK+vr7w8/NDjRo1MHDgQGzevBmHDx/GlClTzNZrXjuac+fOoU2bNnB3d4ejoyOqVauG1atX4+zZs8rfB3R3d4dGo1H+5tzq1auh1+vRsGFDs5hWrVqFChUqwM7ODs2bN8e3335rdibLdMl11apVqFq1KvR6Pc6fP59vjEDmwTAsLAz29vYICAjAoEGDkJqaqnweHByMSZMm4fXXX4ezszMCAwMxZ84cszaqVasGPz8/rFy5Mtfta4px3bp1qFKlCpycnPDcc8/h8uXLZvW+/vprVKlSBXZ2dqhcuTJmzpypfNaxY0cMGDBAeT9kyBBoNBocO3YMAJCeng5HR0f88ccfSp2MjAwMGDAArq6u8PT0xOjRo5H1L2ktXLgQ9erVg7OzM3x9fdGtWzckJibmuhzXrl1D165d4e/vDwcHB9SoUQM//PCDWZ2IiAgMGjQI7733Hjw8PODr64tx48aZ1bl58yb69esHHx8f2NnZoXr16vjtt9+Uz/PbLgDg4OAAX19flC5dGg0bNsSUKVMwe/ZszJ0712wd5NfvN23ahAYNGsDR0RFubm5o0qQJzp07hwULFmD8+PE4ePCgctbL9DcslyxZghYtWsDOzg4AcPbsWWi1Wvz9999mMUZHRyMoKEhJ6g8fPoxWrVrByckJPj4+eO2113D16tVc13d258+fR9u2beHk5AQXFxd07twZCQkJAICkpCTodDolBqPRCA8PD7Pv0/fff4+AgADlfUH67tNmwIAB2LFjB5YsWYJDhw6hU6dOeO6553Dy5EmL9b/++mtUrFgRYWFhjzjSAhKiBzBo0CDx8/OT1atXy7///is9evQQd3d3uXbtmmzcuFEAyI0bN0REZOfOnaLVamXKlCly/PhxmTZtmri5uYmrq6vS3tixY8XR0VGeeeYZ2b9/v2zevFnKly8v3bp1U+rExMTIwoUL5ejRo3LkyBHp3bu3+Pj4SHJyslIHgKxcuVJ5P2HCBNm2bZucOXNGVq1aJT4+PjJlyhSz+To5OUmHDh3kn3/+kS1btoivr6+8//77Sp333ntP3N3dZcGCBRIbGytbt26VuXPniohIenq6VKlSRV5//XU5dOiQHDlyRLp16yaVKlWStLQ0ZR61atWyuB7btm0rVapUUd736dNHGjduLFu2bJHY2FiZOnWq6PV6OXHihIiItG7dWlq0aCGHDh2SU6dOya+//iqbN2+WjIwMWb58uQCQ48ePy+XLl+XmzZvKtnruuefM5nv69GmxsbGRd999V44dOyY//PCD+Pv7m223+fPni42NjTRu3Fi2bdsmx44dk9TU1HxjjI2NFUdHR/niiy/kxIkTsm3bNqlTp4707NlTmX9QUJB4eHjIjBkz5OTJkzJ58mTRarVy7Ngxszi7dOkiPXr0sLjussYYGRkpe/bskb1790qVKlXM+s33338vpUqVkuXLl8vp06dl+fLl4uHhIQsWLBARkS+//FKqVaum1K9du7Z4enrKrFmzRETkr7/+EhsbG0lNTRURkfDwcHFycpLBgwfLsWPH5PvvvxcHBweZM2eO0sY333wjq1evllOnTsmOHTukUaNG0qpVK+Xz7N+RCxcuyNSpU2X//v1y6tQp+fLLL0Wn08muXbuUacLDw8XFxUXGjRsnJ06ckG+//VY0Go2sX79eREQMBoM0bNhQqlWrJuvXr1f6x+rVqwu8XcLDw2Xw4ME51rPBYBB3d3f53//+JyL59/t79+6Jq6urvPvuuxIbGytHjhyRBQsWyLlz5+T27dvyzjvvSLVq1eTy5cty+fJluX37toiI1KxZUz7++GOzebdo0ULeeusts7KaNWvKmDFjRETkxo0b4uXlJSNHjpSjR4/Kvn37pEWLFtK8efNclysoKEi++OILZdlq164tTZs2lb///lt27twpISEhEh4ertSvW7euTJ06VUREDhw4IB4eHmJrayspKSkikvm9feWVV8xizK/vPsmy74fPnTsnOp1OLl68aFbv2WeflZEjR+aY/s6dO+Lu7m62ry5umESRardu3RIbGxtZtGiRUpaeni5+fn7yySef5DhAdO3aVZ5//nmzNrp06ZIjidLpdHLhwgWlbM2aNaLVauXy5csW4zAYDOLs7Cy//vqrUpb9y5vd1KlTJSQkxGy+Dg4OZonYsGHDJDQ0VEREkpOTRa/XK0lTdgsXLpRKlSqJ0WhUytLS0sTe3l7WrVunzCO3JGr48OFib28vIgXb0dSoUUPGjRtnsa3s692kbdu28vrrr+eYb/Xq1c3KRo0alSOJAiAHDhxQ6hQkxt69e8sbb7xh9vnWrVtFq9XKnTt3RCTzIPbqq68qnxuNRvH29lYSF5O3335bIiIiLC5v1hhjY2OVshkzZoiPj4/yvly5crJ48WKz6SZMmCCNGjUSEZFDhw6JRqORxMREuX79utja2sqECROkS5cuIiLy0UcfSePGjZVpw8PDpUqVKmbbfPjw4WbJcHZ79uwRAMpBN7dtlVXr1q3lnXfeMZtv06ZNzerUr19fhg8fLiIi69atE61WK8ePH7fYXkG2S25JlIhIaGiokgjm1++vXbsmAGTTpk0W28rtO+Hq6irfffedWdnSpUvF3d1d7t69KyIie/fuFY1GI2fOnBGRzG3ZsmVLs2ni4uKUHxSWlitrErV+/XrR6XRy/vx55fN///1XAMju3btFRGTo0KHSunVrERGJjo6WLl26SK1atWTNmjUiIlK+fHmzJFok/777JMu+H/7tt98EgDg6Opq9SpQoIZ07d84x/eLFi6VEiRISHx//CKMunBKP+MQXPUFOnTqFe/fuoUmTJkqZjY0NGjRogKNHj6J+/fpm9Y8ePZrjOnmjRo2wdu1as7LAwED4+/ub1TEajTh+/LhyjfyDDz7Apk2bkJiYCIPBgNu3b+P8+fO5xrp06VJ8+eWXOHXqFG7duoWMjAy4uLiY1QkODoazs7PyvlSpUsqll6NHjyItLQ3PPvusxfYPHjyI2NhYs+kB4O7duzh16lSucZmICDQaDQDgn3/+gcFgQMWKFc3qpKWloWTJkgCAQYMG4X//+x/Wr1+PyMhIvPTSS6hZs2ae87hz545yecTk+PHjObZTgwYNckxra2tr1n5BYjx48CAOHTqERYsWmS2n0WjEmTNnUKVKFQAwa1ej0cDX1zfHJS97e3vcvn07z+VzcHBAuXLllPdZt19qaipOnTqF3r17o2/fvkqdjIwMuLq6AgCqV68ODw8PbN68Gba2tqhTpw5eeOEFZYDs5s2bERERYTbPhg0bKtsNyOyrn332GQwGA3Q6Hfbu3Ytx48bh4MGDuHHjhnLZ6fz586hatWqOZTAYDJg0aRJ+/PFHXLx4Eenp6UhLS4ODg4NZvezbOuuyHjhwAKVLl86xbUwKul1yk7Wv5tfvW7ZsiZ49eyIqKgotWrRAZGQkOnfujFKlSuU5D0t9tV27dujfvz9WrlyJl19+GQsWLEDz5s2VmyQOHjyIjRs3wsnJKUd7p06dynV9mBw9ehQBAQFml+OqVq0KNzc3ZX8WHh6Ob775BgaDAZs3b0bLli3h6+uLTZs2oWbNmoiNjc3RRwrSd58Wt27dUr4X2W8YsLTdvv76a7zwwgvw8fF5VCEWGpMoeuz06NED165dw7Rp0xAUFAS9Xo9GjRohPT3dYv0dO3bglVdewfjx4xEVFQVXV1csWbIEn332mVk9Gxsbs/cajUY56Nnb2+cZ061btxASEmJ2YDLx8vLKd5mOHj2KMmXKKG3lt6Pp06cPoqKi8Pvvv2P9+vWYPHkyPvvsMwwcODDXeXh6euLGjRv5xmKJvb29WbJQkBhv3bqFfv36YdCgQTnaCwwMVP6f13o3uX79er7r0VI7cn980q1btwAAc+fORWhoqFk9U/wajQbNmjXDpk2boNfrERERgZo1ayItLQ2HDx/G9u3b8e677+YZQ1apqamIiopCVFQUFi1aBC8vL5w/fx5RUVG59tWpU6di2rRpiI6ORo0aNeDo6IghQ4bkqP+gfbUg28USg8GAkydPKol3Qfr9/PnzMWjQIKxduxZLly7FBx98gA0bNuQYm5eVpb5qa2uL7t27Y/78+ejQoQMWL16MadOmmS1XmzZtzMYWmuSXtBVUs2bNkJKSgn379mHLli2YNGkSfH198fHHH6NWrVrw8/NDhQoVzKYpSN99WtSpUwcGgwGJiYn5jnE6c+YMNm7ciFWrVj2i6NRhEkWqlStXDra2tti2bRuCgoIAAPfu3cOePXssPj+nSpUq2LVrl1nZzp07c9Q7f/48Ll26BD8/P6WOVqtFpUqVAADbtm3DzJkz8fzzzwPIHNia1+DR7du3IygoCKNGjVLKzp07V6hlrVChAuzt7RETE4M+ffrk+Lxu3bpYunQpvL29c5zhys+xY8ewdu1ajBw5EkDBdzQBAQF488038eabb2LkyJGYO3cuBg4cCFtbWwDI8XydOnXq4Pvvvzcrq1SpElavXm1WlteNAVnbyi/GunXr4siRIyhfvny+7eXn8OHDOX7hF4aPjw/8/Pxw+vRpvPLKK7nWCw8Px9y5c6HX6zFx4kRotVo0a9YMU6dORVpamtlZVwAW+3OFChWg0+lw7NgxXLt2DR9//LFydiP7wOjstm3bhrZt2+LVV18FkDl4+cSJExbPWuWmZs2auHDhAk6cOGHx7MuDbJdvv/0WN27cUO6aK2i/r1OnDurUqYORI0eiUaNGWLx4MRo2bAhbW1uLz4GqU6cOjhw5kqO8T58+qF69OmbOnImMjAx06NDBbLmWL1+O4OBglChR+ENblSpVEBcXh7i4OGV7HTlyBDdv3lTWv5ubG2rWrInp06fDxsYGlStXhre3N7p06YLffvsN4eHhOdp90L77uLl16xZiY2OV92fOnMGBAwfg4eGBihUr4pVXXkH37t3x2WefoU6dOrhy5QpiYmJQs2ZNtG7dWplu3rx5KFWqFFq1amWNxSg4q15MpMfe4MGDxc/PT9asWWM2sPz69es5xnvs2LFDtFqtTJ06VU6cOCH/93//l+vA8sjISDlw4IBs2bJFKlasKC+//LJSp06dOtKiRQs5cuSI7Ny5U8LCwsTe3l4Z2yBifi3+l19+kRIlSsgPP/wgsbGxMm3aNPHw8Mgx3+xjM7744gsJCgpS3o8bN07c3d3l22+/ldjYWNmxY4d8/fXXIiKSmpoqFSpUkIiICNmyZYucPn1aNm7cKAMHDpS4uDhlHqZBtBcvXpRDhw7Jl19+Kd7e3lK/fn1lnIyIyCuvvCLBwcHKIOhdu3bJpEmT5LffflPW+9q1a+X06dOyd+9eCQ0NVcYUXLhwQTQajSxYsEASExOVdg8dOiQlSpSQ69evK/MxDSx/77335Pjx47J06VIpXbq0AFAGpM+fP99sXRU0xoMHD4q9vb30799f9u/fLydOnJCff/5Z+vfvr7SRdUyKSa1atWTs2LHK+9TUVLG3t5ctW7bkiMHEUowrV66UrLu4uXPnir29vUybNk2OHz8uhw4dknnz5slnn32m1Dlw4IBoNBrR6/XKevviiy9Ep9NJw4YNzdo3DSx/++235dixY7J48WJxdHSUr776SkREEhMTxdbWVoYNGyanTp2SX375RSpWrCgAZP/+/SKSc0zU22+/LQEBAbJt2zY5cuSI9OnTR1xcXKRt27Zm880+Xqlt27Zmg5cjIiKkevXqsn79ejl9+rSsXr1aGbdTkO0SHh4uffv2lcuXL0tcXJzs2LFD3nvvPbGxsVEGlZu2TV79/vTp0zJixAjZvn27nD17VtatWyclS5aUmTNniojIokWLxNHRUfbv3y9XrlxRxjt9+eWXZmMWs2rcuLHY2trKm2++aVZ+8eJF8fLyko4dO8ru3bslNjZW1q5dKz179pSMjAyL6y5r/zMajVK7dm0JCwuTvXv3yq5du3IMLBcRGTJkiOh0OmWsnEhmn9XpdMq2z7p+8uu7TxpTn87+MvXP9PR0GTNmjAQHB4uNjY2UKlVK2rdvL4cOHVLaMBgMUrp0abMbe4orJlH0QO7cuSMDBw4UT09P0ev10qRJE2UQpqVBs998842ULl1a7O3tpU2bNvLpp59aTGZmzpwpfn5+YmdnJx07djQ78O/bt0/q1asndnZ2UqFCBfnpp59yHIyRbUDjsGHDpGTJkuLk5CRdunSRL774otBJlMFgkI8++kiCgoLExsZGAgMDZdKkScrnly9flu7duyvromzZstK3b19JSkpS5mHaoeh0OvHw8JCmTZvKF198oRw8TPLb0QwYMEDKlSsner1evLy85LXXXpOrV68q03/44Yfi6+srGo3G7ODaoEGDHDv6X375RcqXLy96vV4iIiJk1qxZAkAZZJxbElWQneHu3bulRYsW4uTkJI6OjlKzZk2ZOHGi8nlBkqjFixdLpUqVzOqYBpJnfZ9fEiWSedCuXbu22Nrairu7uzRr1kxWrFihfG66+8x0Q4GIyP79+wWAjBgxwqyt8PBweeutt+TNN98UFxcXcXd3l/fff99skPXixYslODhY9Hq9NGrUSFatWpVnEnXt2jVp27atODk5ibe3t3zwwQfSvXv3QidR165dk169eknJkiXFzs5OqlevriS3Ivlvl/DwcKWv2traSqlSpeSFF14wW1cmefX7+Ph4adeunZQqVUpsbW0lKChIxowZIwaDQURE7t69Ky+99JK4ubkJAJk/f74Sv52dXY67NEUy9yHIMtg7qxMnTkj79u3Fzc1N7O3tpXLlyjJkyBBlm+SVRIlk3jDx4osviqOjozg7O0unTp1yDGo29ausNz8MHjxYAOSI11LfpSeLRiTLQ02I6In2+++/Y9iwYTh8+DC0WsuPiZs4cSK++uorxMXFPeLoLGvYsCEGDRqEbt26KWVjx47F5s2bczyXip4cw4YNQ3JyMmbPnm1WPmHCBPz00084dOiQlSIrOEt9l54sHBNF9BRp3bo1Tp48iYsXLyrjPmbOnIn69eujZMmS2LZtG6ZOnWr20Elrunr1Kjp06ICuXbuala9ZswbTp0+3UlT0KIwaNQozZ86E0WiEVqvFrVu3cPbsWUyfPh0fffSRtcPLV259l54sPBNF9JR7++23sXTpUly/fh2BgYF47bXXMHLkSFWDc4kelp49e+KHH35Au3btsHjx4sf2b+rRk4VJFBEREZEK/Nt5RERERCowiSIiIiJSgUkUERERkQpMooiIiIhUYBJFREREpAKTKCIiIiIVmEQRERERqcAkioiIiEgFJlFEREREKvw/vvGRvUZxKVIAAAAASUVORK5CYII=)\n",
    "\n"
   ]
  },
  {
   "cell_type": "markdown",
   "metadata": {
    "id": "FllZy-8KwqQm"
   },
   "source": [
    "We can observe in the graph that we get an **S-SHAPE** Graph which indicates that we can use Logistic Regression as **Logistic Regression** makes use of **sigmoid function** which too is represented by **S-SHAPE** Graphically.Therefore Logistic Regression can be a suitable selection for carrying out this **binary classification**"
   ]
  },
  {
   "cell_type": "code",
   "execution_count": 30,
   "metadata": {
    "colab": {
     "base_uri": "https://localhost:8080/",
     "height": 74
    },
    "id": "6ocn7YumDaST",
    "outputId": "a2c1c2c2-dd04-4aa8-d73b-f29f3b23c857"
   },
   "outputs": [
    {
     "data": {
      "text/plain": [
       "LogisticRegression()"
      ]
     },
     "execution_count": 30,
     "metadata": {},
     "output_type": "execute_result"
    }
   ],
   "source": [
    "model = LogisticRegression()\n",
    "model.fit(X_train,y_train)"
   ]
  },
  {
   "cell_type": "code",
   "execution_count": 31,
   "metadata": {
    "colab": {
     "base_uri": "https://localhost:8080/"
    },
    "id": "66esaxy7DhIn",
    "outputId": "00e791d3-e605-4599-d104-13bf923f83cc"
   },
   "outputs": [
    {
     "data": {
      "text/plain": [
       "1.0"
      ]
     },
     "execution_count": 31,
     "metadata": {},
     "output_type": "execute_result"
    }
   ],
   "source": [
    "model.score(X_test,y_test)"
   ]
  },
  {
   "cell_type": "code",
   "execution_count": 32,
   "metadata": {
    "id": "njZb9qcFD1uK"
   },
   "outputs": [],
   "source": [
    "y_pred = model.predict(X_test)"
   ]
  },
  {
   "cell_type": "markdown",
   "metadata": {
    "id": "PAnsJGg3pkFr"
   },
   "source": [
    "## **Checking the Accuracy of the Model**"
   ]
  },
  {
   "cell_type": "code",
   "execution_count": 33,
   "metadata": {
    "colab": {
     "base_uri": "https://localhost:8080/",
     "height": 447
    },
    "id": "bKBeEF3cD-6_",
    "outputId": "e0011259-669d-4310-fbf5-35669bf6097b"
   },
   "outputs": [
    {
     "data": {
      "text/plain": [
       "<AxesSubplot:>"
      ]
     },
     "execution_count": 33,
     "metadata": {},
     "output_type": "execute_result"
    },
    {
     "data": {
      "image/png": "[encoded data removed]",
      "text/plain": [
       "<Figure size 640x480 with 2 Axes>"
      ]
     },
     "metadata": {},
     "output_type": "display_data"
    }
   ],
   "source": [
    "cm = confusion_matrix(y_test,y_pred)\n",
    "sns.heatmap(cm,annot=True)\n"
   ]
  },
  {
   "cell_type": "code",
   "execution_count": 34,
   "metadata": {
    "id": "vYfbsXgPXi3P"
   },
   "outputs": [],
   "source": [
    "precision_score = precision_score(y_test,y_pred)\n",
    "recall_score = recall_score(y_test,y_pred)\n",
    "f1_score = f1_score(y_test,y_pred)\n",
    "accuracy_score = accuracy_score(y_test,y_pred)"
   ]
  },
  {
   "cell_type": "code",
   "execution_count": 35,
   "metadata": {
    "colab": {
     "base_uri": "https://localhost:8080/"
    },
    "id": "1nbx4RxcXrPP",
    "outputId": "07c9966c-3e39-4a8d-821c-ff59f24dd3a6"
   },
   "outputs": [
    {
     "name": "stdout",
     "output_type": "stream",
     "text": [
      "precision_score \t recall_score \t f1_score \t accuracy_score  \n",
      "1.0  \t\t\t  1.0  \t\t  1.0  \t\t  1.0\n"
     ]
    }
   ],
   "source": [
    "print(\"precision_score \\t recall_score \\t f1_score \\t accuracy_score  \")\n",
    "print(precision_score ,\" \\t\\t\\t \" ,recall_score,\" \\t\\t \" ,f1_score,\" \\t\\t \" ,accuracy_score)"
   ]
  },
  {
   "cell_type": "markdown",
   "metadata": {
    "id": "W5RoyHZb1HNL"
   },
   "source": [
    "Question Asked in Task Details\n",
    "\n",
    "\n",
    "Kind of prevention the company should adopt to update infrastructure\n",
    "\n",
    "Ans.The Kind of prevention the company should adopt are as follows:\n",
    "\n",
    "*  Consistently audit and check for fraud hazards. This entails constantly checking your fraud detection system to make sure it is current and efficient at spotting fraud.\n",
    "*  Inform everyone in your company about your fraud detection system. This will make it easier for staff members to spot and report any fraud.\n",
    "*  Regularly update your fraud profiles. You will need to adjust your fraud risk profile and fraud detection system as the fraud landscape changes.\n",
    "numerous reporting channels. Employees should have various options for reporting fraud suspicions, including email, phone, and in-person reporting.\n",
    "\n",
    "Assuming these actions have been implemented, how would you determine if they work?\n",
    "\n",
    "Ans. Fraud Rate ,Final Approval Rate ,Precision ,Recall and Decline Rate"
   ]
  }
 ],
 "metadata": {
  "colab": {
   "provenance": []
  },
  "kernelspec": {
   "display_name": "Python 3 (ipykernel)",
   "language": "python",
   "name": "python3"
  },
  "language_info": {
   "codemirror_mode": {
    "name": "ipython",
    "version": 3
   },
   "file_extension": ".py",
   "mimetype": "text/x-python",
   "name": "python",
   "nbconvert_exporter": "python",
   "pygments_lexer": "ipython3",
   "version": "3.9.13"
  }
 },
 "nbformat": 4,
 "nbformat_minor": 1
}
