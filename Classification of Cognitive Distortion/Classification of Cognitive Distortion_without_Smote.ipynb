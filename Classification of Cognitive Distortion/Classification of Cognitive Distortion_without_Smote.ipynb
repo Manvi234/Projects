{
  "cells": [
    {
      "cell_type": "code",
      "execution_count": null,
      "metadata": {
        "id": "7CYPbJygzaGe"
      },
      "outputs": [],
      "source": [
        "import pandas as pd\n",
        "import numpy as np\n",
        "import matplotlib.pyplot as plt\n",
        "import seaborn as sns\n",
        "import missingno as msn"
      ]
    },
    {
      "cell_type": "code",
      "execution_count": null,
      "metadata": {
        "id": "e5VSv5o60Dbw"
      },
      "outputs": [],
      "source": [
        "df = pd.read_csv(\"Annotated_data.csv\")"
      ]
    },
    {
      "cell_type": "code",
      "execution_count": null,
      "metadata": {
        "colab": {
          "base_uri": "https://localhost:8080/",
          "height": 275
        },
        "id": "cruQZ2wS0zMb",
        "outputId": "7e26f8f1-c9e0-4895-c674-c6f2a1ed2ebd"
      },
      "outputs": [
        {
          "output_type": "execute_result",
          "data": {
            "text/plain": [
              "   Id_Number                                   Patient Question  \\\n",
              "0       4500  Hello, I have a beautiful,smart,outgoing and a...   \n",
              "1       4501  Since I was about 16 years old I’ve had these ...   \n",
              "2       4502   So I’ve been dating on and off this guy for a...   \n",
              "3       4503  My parents got divorced in 2004. My mother has...   \n",
              "4       4504  I don’t really know how to explain the situati...   \n",
              "\n",
              "                                      Distorted part Dominant Distortion  \\\n",
              "0  The voice are always fimilar (someone she know...     Personalization   \n",
              "1  I feel trapped inside my disgusting self and l...            Labeling   \n",
              "2                                                NaN       No Distortion   \n",
              "3                                                NaN       No Distortion   \n",
              "4  I refused to go because I didn’t know if it wa...     Fortune-telling   \n",
              "\n",
              "  Secondary Distortion (Optional)  \n",
              "0                             NaN  \n",
              "1             Emotional Reasoning  \n",
              "2                             NaN  \n",
              "3                             NaN  \n",
              "4             Emotional Reasoning  "
            ],
            "text/html": [
              "\n",
              "  <div id=\"df-c66c8608-0658-47a1-8e58-4a0b08726173\" class=\"colab-df-container\">\n",
              "    <div>\n",
              "<style scoped>\n",
              "    .dataframe tbody tr th:only-of-type {\n",
              "        vertical-align: middle;\n",
              "    }\n",
              "\n",
              "    .dataframe tbody tr th {\n",
              "        vertical-align: top;\n",
              "    }\n",
              "\n",
              "    .dataframe thead th {\n",
              "        text-align: right;\n",
              "    }\n",
              "</style>\n",
              "<table border=\"1\" class=\"dataframe\">\n",
              "  <thead>\n",
              "    <tr style=\"text-align: right;\">\n",
              "      <th></th>\n",
              "      <th>Id_Number</th>\n",
              "      <th>Patient Question</th>\n",
              "      <th>Distorted part</th>\n",
              "      <th>Dominant Distortion</th>\n",
              "      <th>Secondary Distortion (Optional)</th>\n",
              "    </tr>\n",
              "  </thead>\n",
              "  <tbody>\n",
              "    <tr>\n",
              "      <th>0</th>\n",
              "      <td>4500</td>\n",
              "      <td>Hello, I have a beautiful,smart,outgoing and a...</td>\n",
              "      <td>The voice are always fimilar (someone she know...</td>\n",
              "      <td>Personalization</td>\n",
              "      <td>NaN</td>\n",
              "    </tr>\n",
              "    <tr>\n",
              "      <th>1</th>\n",
              "      <td>4501</td>\n",
              "      <td>Since I was about 16 years old I’ve had these ...</td>\n",
              "      <td>I feel trapped inside my disgusting self and l...</td>\n",
              "      <td>Labeling</td>\n",
              "      <td>Emotional Reasoning</td>\n",
              "    </tr>\n",
              "    <tr>\n",
              "      <th>2</th>\n",
              "      <td>4502</td>\n",
              "      <td>So I’ve been dating on and off this guy for a...</td>\n",
              "      <td>NaN</td>\n",
              "      <td>No Distortion</td>\n",
              "      <td>NaN</td>\n",
              "    </tr>\n",
              "    <tr>\n",
              "      <th>3</th>\n",
              "      <td>4503</td>\n",
              "      <td>My parents got divorced in 2004. My mother has...</td>\n",
              "      <td>NaN</td>\n",
              "      <td>No Distortion</td>\n",
              "      <td>NaN</td>\n",
              "    </tr>\n",
              "    <tr>\n",
              "      <th>4</th>\n",
              "      <td>4504</td>\n",
              "      <td>I don’t really know how to explain the situati...</td>\n",
              "      <td>I refused to go because I didn’t know if it wa...</td>\n",
              "      <td>Fortune-telling</td>\n",
              "      <td>Emotional Reasoning</td>\n",
              "    </tr>\n",
              "  </tbody>\n",
              "</table>\n",
              "</div>\n",
              "    <div class=\"colab-df-buttons\">\n",
              "\n",
              "  <div class=\"colab-df-container\">\n",
              "    <button class=\"colab-df-convert\" onclick=\"convertToInteractive('df-c66c8608-0658-47a1-8e58-4a0b08726173')\"\n",
              "            title=\"Convert this dataframe to an interactive table.\"\n",
              "            style=\"display:none;\">\n",
              "\n",
              "  <svg xmlns=\"http://www.w3.org/2000/svg\" height=\"24px\" viewBox=\"0 -960 960 960\">\n",
              "    <path d=\"M120-120v-720h720v720H120Zm60-500h600v-160H180v160Zm220 220h160v-160H400v160Zm0 220h160v-160H400v160ZM180-400h160v-160H180v160Zm440 0h160v-160H620v160ZM180-180h160v-160H180v160Zm440 0h160v-160H620v160Z\"/>\n",
              "  </svg>\n",
              "    </button>\n",
              "\n",
              "  <style>\n",
              "    .colab-df-container {\n",
              "      display:flex;\n",
              "      gap: 12px;\n",
              "    }\n",
              "\n",
              "    .colab-df-convert {\n",
              "      background-color: #E8F0FE;\n",
              "      border: none;\n",
              "      border-radius: 50%;\n",
              "      cursor: pointer;\n",
              "      display: none;\n",
              "      fill: #1967D2;\n",
              "      height: 32px;\n",
              "      padding: 0 0 0 0;\n",
              "      width: 32px;\n",
              "    }\n",
              "\n",
              "    .colab-df-convert:hover {\n",
              "      background-color: #E2EBFA;\n",
              "      box-shadow: 0px 1px 2px rgba(60, 64, 67, 0.3), 0px 1px 3px 1px rgba(60, 64, 67, 0.15);\n",
              "      fill: #174EA6;\n",
              "    }\n",
              "\n",
              "    .colab-df-buttons div {\n",
              "      margin-bottom: 4px;\n",
              "    }\n",
              "\n",
              "    [theme=dark] .colab-df-convert {\n",
              "      background-color: #3B4455;\n",
              "      fill: #D2E3FC;\n",
              "    }\n",
              "\n",
              "    [theme=dark] .colab-df-convert:hover {\n",
              "      background-color: #434B5C;\n",
              "      box-shadow: 0px 1px 3px 1px rgba(0, 0, 0, 0.15);\n",
              "      filter: drop-shadow(0px 1px 2px rgba(0, 0, 0, 0.3));\n",
              "      fill: #FFFFFF;\n",
              "    }\n",
              "  </style>\n",
              "\n",
              "    <script>\n",
              "      const buttonEl =\n",
              "        document.querySelector('#df-c66c8608-0658-47a1-8e58-4a0b08726173 button.colab-df-convert');\n",
              "      buttonEl.style.display =\n",
              "        google.colab.kernel.accessAllowed ? 'block' : 'none';\n",
              "\n",
              "      async function convertToInteractive(key) {\n",
              "        const element = document.querySelector('#df-c66c8608-0658-47a1-8e58-4a0b08726173');\n",
              "        const dataTable =\n",
              "          await google.colab.kernel.invokeFunction('convertToInteractive',\n",
              "                                                    [key], {});\n",
              "        if (!dataTable) return;\n",
              "\n",
              "        const docLinkHtml = 'Like what you see? Visit the ' +\n",
              "          '<a target=\"_blank\" href=https://colab.research.google.com/notebooks/data_table.ipynb>data table notebook</a>'\n",
              "          + ' to learn more about interactive tables.';\n",
              "        element.innerHTML = '';\n",
              "        dataTable['output_type'] = 'display_data';\n",
              "        await google.colab.output.renderOutput(dataTable, element);\n",
              "        const docLink = document.createElement('div');\n",
              "        docLink.innerHTML = docLinkHtml;\n",
              "        element.appendChild(docLink);\n",
              "      }\n",
              "    </script>\n",
              "  </div>\n",
              "\n",
              "\n",
              "<div id=\"df-15b7879f-7131-4c03-a4ef-7058c9a46dd3\">\n",
              "  <button class=\"colab-df-quickchart\" onclick=\"quickchart('df-15b7879f-7131-4c03-a4ef-7058c9a46dd3')\"\n",
              "            title=\"Suggest charts.\"\n",
              "            style=\"display:none;\">\n",
              "\n",
              "<svg xmlns=\"http://www.w3.org/2000/svg\" height=\"24px\"viewBox=\"0 0 24 24\"\n",
              "     width=\"24px\">\n",
              "    <g>\n",
              "        <path d=\"M19 3H5c-1.1 0-2 .9-2 2v14c0 1.1.9 2 2 2h14c1.1 0 2-.9 2-2V5c0-1.1-.9-2-2-2zM9 17H7v-7h2v7zm4 0h-2V7h2v10zm4 0h-2v-4h2v4z\"/>\n",
              "    </g>\n",
              "</svg>\n",
              "  </button>\n",
              "\n",
              "<style>\n",
              "  .colab-df-quickchart {\n",
              "      --bg-color: #E8F0FE;\n",
              "      --fill-color: #1967D2;\n",
              "      --hover-bg-color: #E2EBFA;\n",
              "      --hover-fill-color: #174EA6;\n",
              "      --disabled-fill-color: #AAA;\n",
              "      --disabled-bg-color: #DDD;\n",
              "  }\n",
              "\n",
              "  [theme=dark] .colab-df-quickchart {\n",
              "      --bg-color: #3B4455;\n",
              "      --fill-color: #D2E3FC;\n",
              "      --hover-bg-color: #434B5C;\n",
              "      --hover-fill-color: #FFFFFF;\n",
              "      --disabled-bg-color: #3B4455;\n",
              "      --disabled-fill-color: #666;\n",
              "  }\n",
              "\n",
              "  .colab-df-quickchart {\n",
              "    background-color: var(--bg-color);\n",
              "    border: none;\n",
              "    border-radius: 50%;\n",
              "    cursor: pointer;\n",
              "    display: none;\n",
              "    fill: var(--fill-color);\n",
              "    height: 32px;\n",
              "    padding: 0;\n",
              "    width: 32px;\n",
              "  }\n",
              "\n",
              "  .colab-df-quickchart:hover {\n",
              "    background-color: var(--hover-bg-color);\n",
              "    box-shadow: 0 1px 2px rgba(60, 64, 67, 0.3), 0 1px 3px 1px rgba(60, 64, 67, 0.15);\n",
              "    fill: var(--button-hover-fill-color);\n",
              "  }\n",
              "\n",
              "  .colab-df-quickchart-complete:disabled,\n",
              "  .colab-df-quickchart-complete:disabled:hover {\n",
              "    background-color: var(--disabled-bg-color);\n",
              "    fill: var(--disabled-fill-color);\n",
              "    box-shadow: none;\n",
              "  }\n",
              "\n",
              "  .colab-df-spinner {\n",
              "    border: 2px solid var(--fill-color);\n",
              "    border-color: transparent;\n",
              "    border-bottom-color: var(--fill-color);\n",
              "    animation:\n",
              "      spin 1s steps(1) infinite;\n",
              "  }\n",
              "\n",
              "  @keyframes spin {\n",
              "    0% {\n",
              "      border-color: transparent;\n",
              "      border-bottom-color: var(--fill-color);\n",
              "      border-left-color: var(--fill-color);\n",
              "    }\n",
              "    20% {\n",
              "      border-color: transparent;\n",
              "      border-left-color: var(--fill-color);\n",
              "      border-top-color: var(--fill-color);\n",
              "    }\n",
              "    30% {\n",
              "      border-color: transparent;\n",
              "      border-left-color: var(--fill-color);\n",
              "      border-top-color: var(--fill-color);\n",
              "      border-right-color: var(--fill-color);\n",
              "    }\n",
              "    40% {\n",
              "      border-color: transparent;\n",
              "      border-right-color: var(--fill-color);\n",
              "      border-top-color: var(--fill-color);\n",
              "    }\n",
              "    60% {\n",
              "      border-color: transparent;\n",
              "      border-right-color: var(--fill-color);\n",
              "    }\n",
              "    80% {\n",
              "      border-color: transparent;\n",
              "      border-right-color: var(--fill-color);\n",
              "      border-bottom-color: var(--fill-color);\n",
              "    }\n",
              "    90% {\n",
              "      border-color: transparent;\n",
              "      border-bottom-color: var(--fill-color);\n",
              "    }\n",
              "  }\n",
              "</style>\n",
              "\n",
              "  <script>\n",
              "    async function quickchart(key) {\n",
              "      const quickchartButtonEl =\n",
              "        document.querySelector('#' + key + ' button');\n",
              "      quickchartButtonEl.disabled = true;  // To prevent multiple clicks.\n",
              "      quickchartButtonEl.classList.add('colab-df-spinner');\n",
              "      try {\n",
              "        const charts = await google.colab.kernel.invokeFunction(\n",
              "            'suggestCharts', [key], {});\n",
              "      } catch (error) {\n",
              "        console.error('Error during call to suggestCharts:', error);\n",
              "      }\n",
              "      quickchartButtonEl.classList.remove('colab-df-spinner');\n",
              "      quickchartButtonEl.classList.add('colab-df-quickchart-complete');\n",
              "    }\n",
              "    (() => {\n",
              "      let quickchartButtonEl =\n",
              "        document.querySelector('#df-15b7879f-7131-4c03-a4ef-7058c9a46dd3 button');\n",
              "      quickchartButtonEl.style.display =\n",
              "        google.colab.kernel.accessAllowed ? 'block' : 'none';\n",
              "    })();\n",
              "  </script>\n",
              "</div>\n",
              "    </div>\n",
              "  </div>\n"
            ]
          },
          "metadata": {},
          "execution_count": 3
        }
      ],
      "source": [
        "df.head()"
      ]
    },
    {
      "cell_type": "code",
      "execution_count": null,
      "metadata": {
        "colab": {
          "base_uri": "https://localhost:8080/"
        },
        "id": "uQxfsgI800Hd",
        "outputId": "34746822-7095-492a-9a78-82cbea2b0ef1"
      },
      "outputs": [
        {
          "output_type": "execute_result",
          "data": {
            "text/plain": [
              "Id_Number                             0\n",
              "Patient Question                      0\n",
              "Distorted part                      933\n",
              "Dominant Distortion                   0\n",
              "Secondary Distortion (Optional)    2114\n",
              "dtype: int64"
            ]
          },
          "metadata": {},
          "execution_count": 4
        }
      ],
      "source": [
        "df.isnull().sum()"
      ]
    },
    {
      "cell_type": "code",
      "execution_count": null,
      "metadata": {
        "colab": {
          "base_uri": "https://localhost:8080/",
          "height": 665
        },
        "id": "CaRw8-fR0163",
        "outputId": "0961d377-0552-43a1-ad2d-8fb1e590c648"
      },
      "outputs": [
        {
          "output_type": "execute_result",
          "data": {
            "text/plain": [
              "<Axes: >"
            ]
          },
          "metadata": {},
          "execution_count": 5
        },
        {
          "output_type": "display_data",
          "data": {
            "text/plain": [
              "<Figure size 2500x1000 with 3 Axes>"
            ],
            "image/png": "[encoded data removed]"
          },
          "metadata": {}
        }
      ],
      "source": [
        "msn.bar(df)"
      ]
    },
    {
      "cell_type": "code",
      "execution_count": null,
      "metadata": {
        "colab": {
          "base_uri": "https://localhost:8080/"
        },
        "id": "2CgVP2IK1Bay",
        "outputId": "bd5707d8-a525-4892-f1bc-3dba4a330f94"
      },
      "outputs": [
        {
          "output_type": "execute_result",
          "data": {
            "text/plain": [
              "(2530, 5)"
            ]
          },
          "metadata": {},
          "execution_count": 6
        }
      ],
      "source": [
        "df.shape"
      ]
    },
    {
      "cell_type": "code",
      "execution_count": null,
      "metadata": {
        "id": "LjkSZvHn1Gpy"
      },
      "outputs": [],
      "source": [
        "df.drop(\"Secondary Distortion (Optional)\",axis=1,inplace = True)"
      ]
    },
    {
      "cell_type": "code",
      "execution_count": null,
      "metadata": {
        "colab": {
          "base_uri": "https://localhost:8080/",
          "height": 206
        },
        "id": "2BgO3fCf1SAM",
        "outputId": "871bb8c2-35fe-4122-f302-b5f4f3175970"
      },
      "outputs": [
        {
          "output_type": "execute_result",
          "data": {
            "text/plain": [
              "   Id_Number                                   Patient Question  \\\n",
              "0       4500  Hello, I have a beautiful,smart,outgoing and a...   \n",
              "1       4501  Since I was about 16 years old I’ve had these ...   \n",
              "2       4502   So I’ve been dating on and off this guy for a...   \n",
              "3       4503  My parents got divorced in 2004. My mother has...   \n",
              "4       4504  I don’t really know how to explain the situati...   \n",
              "\n",
              "                                      Distorted part Dominant Distortion  \n",
              "0  The voice are always fimilar (someone she know...     Personalization  \n",
              "1  I feel trapped inside my disgusting self and l...            Labeling  \n",
              "2                                                NaN       No Distortion  \n",
              "3                                                NaN       No Distortion  \n",
              "4  I refused to go because I didn’t know if it wa...     Fortune-telling  "
            ],
            "text/html": [
              "\n",
              "  <div id=\"df-bbf2786f-4707-41bb-ad81-424b7c1be90f\" class=\"colab-df-container\">\n",
              "    <div>\n",
              "<style scoped>\n",
              "    .dataframe tbody tr th:only-of-type {\n",
              "        vertical-align: middle;\n",
              "    }\n",
              "\n",
              "    .dataframe tbody tr th {\n",
              "        vertical-align: top;\n",
              "    }\n",
              "\n",
              "    .dataframe thead th {\n",
              "        text-align: right;\n",
              "    }\n",
              "</style>\n",
              "<table border=\"1\" class=\"dataframe\">\n",
              "  <thead>\n",
              "    <tr style=\"text-align: right;\">\n",
              "      <th></th>\n",
              "      <th>Id_Number</th>\n",
              "      <th>Patient Question</th>\n",
              "      <th>Distorted part</th>\n",
              "      <th>Dominant Distortion</th>\n",
              "    </tr>\n",
              "  </thead>\n",
              "  <tbody>\n",
              "    <tr>\n",
              "      <th>0</th>\n",
              "      <td>4500</td>\n",
              "      <td>Hello, I have a beautiful,smart,outgoing and a...</td>\n",
              "      <td>The voice are always fimilar (someone she know...</td>\n",
              "      <td>Personalization</td>\n",
              "    </tr>\n",
              "    <tr>\n",
              "      <th>1</th>\n",
              "      <td>4501</td>\n",
              "      <td>Since I was about 16 years old I’ve had these ...</td>\n",
              "      <td>I feel trapped inside my disgusting self and l...</td>\n",
              "      <td>Labeling</td>\n",
              "    </tr>\n",
              "    <tr>\n",
              "      <th>2</th>\n",
              "      <td>4502</td>\n",
              "      <td>So I’ve been dating on and off this guy for a...</td>\n",
              "      <td>NaN</td>\n",
              "      <td>No Distortion</td>\n",
              "    </tr>\n",
              "    <tr>\n",
              "      <th>3</th>\n",
              "      <td>4503</td>\n",
              "      <td>My parents got divorced in 2004. My mother has...</td>\n",
              "      <td>NaN</td>\n",
              "      <td>No Distortion</td>\n",
              "    </tr>\n",
              "    <tr>\n",
              "      <th>4</th>\n",
              "      <td>4504</td>\n",
              "      <td>I don’t really know how to explain the situati...</td>\n",
              "      <td>I refused to go because I didn’t know if it wa...</td>\n",
              "      <td>Fortune-telling</td>\n",
              "    </tr>\n",
              "  </tbody>\n",
              "</table>\n",
              "</div>\n",
              "    <div class=\"colab-df-buttons\">\n",
              "\n",
              "  <div class=\"colab-df-container\">\n",
              "    <button class=\"colab-df-convert\" onclick=\"convertToInteractive('df-bbf2786f-4707-41bb-ad81-424b7c1be90f')\"\n",
              "            title=\"Convert this dataframe to an interactive table.\"\n",
              "            style=\"display:none;\">\n",
              "\n",
              "  <svg xmlns=\"http://www.w3.org/2000/svg\" height=\"24px\" viewBox=\"0 -960 960 960\">\n",
              "    <path d=\"M120-120v-720h720v720H120Zm60-500h600v-160H180v160Zm220 220h160v-160H400v160Zm0 220h160v-160H400v160ZM180-400h160v-160H180v160Zm440 0h160v-160H620v160ZM180-180h160v-160H180v160Zm440 0h160v-160H620v160Z\"/>\n",
              "  </svg>\n",
              "    </button>\n",
              "\n",
              "  <style>\n",
              "    .colab-df-container {\n",
              "      display:flex;\n",
              "      gap: 12px;\n",
              "    }\n",
              "\n",
              "    .colab-df-convert {\n",
              "      background-color: #E8F0FE;\n",
              "      border: none;\n",
              "      border-radius: 50%;\n",
              "      cursor: pointer;\n",
              "      display: none;\n",
              "      fill: #1967D2;\n",
              "      height: 32px;\n",
              "      padding: 0 0 0 0;\n",
              "      width: 32px;\n",
              "    }\n",
              "\n",
              "    .colab-df-convert:hover {\n",
              "      background-color: #E2EBFA;\n",
              "      box-shadow: 0px 1px 2px rgba(60, 64, 67, 0.3), 0px 1px 3px 1px rgba(60, 64, 67, 0.15);\n",
              "      fill: #174EA6;\n",
              "    }\n",
              "\n",
              "    .colab-df-buttons div {\n",
              "      margin-bottom: 4px;\n",
              "    }\n",
              "\n",
              "    [theme=dark] .colab-df-convert {\n",
              "      background-color: #3B4455;\n",
              "      fill: #D2E3FC;\n",
              "    }\n",
              "\n",
              "    [theme=dark] .colab-df-convert:hover {\n",
              "      background-color: #434B5C;\n",
              "      box-shadow: 0px 1px 3px 1px rgba(0, 0, 0, 0.15);\n",
              "      filter: drop-shadow(0px 1px 2px rgba(0, 0, 0, 0.3));\n",
              "      fill: #FFFFFF;\n",
              "    }\n",
              "  </style>\n",
              "\n",
              "    <script>\n",
              "      const buttonEl =\n",
              "        document.querySelector('#df-bbf2786f-4707-41bb-ad81-424b7c1be90f button.colab-df-convert');\n",
              "      buttonEl.style.display =\n",
              "        google.colab.kernel.accessAllowed ? 'block' : 'none';\n",
              "\n",
              "      async function convertToInteractive(key) {\n",
              "        const element = document.querySelector('#df-bbf2786f-4707-41bb-ad81-424b7c1be90f');\n",
              "        const dataTable =\n",
              "          await google.colab.kernel.invokeFunction('convertToInteractive',\n",
              "                                                    [key], {});\n",
              "        if (!dataTable) return;\n",
              "\n",
              "        const docLinkHtml = 'Like what you see? Visit the ' +\n",
              "          '<a target=\"_blank\" href=https://colab.research.google.com/notebooks/data_table.ipynb>data table notebook</a>'\n",
              "          + ' to learn more about interactive tables.';\n",
              "        element.innerHTML = '';\n",
              "        dataTable['output_type'] = 'display_data';\n",
              "        await google.colab.output.renderOutput(dataTable, element);\n",
              "        const docLink = document.createElement('div');\n",
              "        docLink.innerHTML = docLinkHtml;\n",
              "        element.appendChild(docLink);\n",
              "      }\n",
              "    </script>\n",
              "  </div>\n",
              "\n",
              "\n",
              "<div id=\"df-d4a9b576-8b95-4265-bf70-a9e2a5d06c57\">\n",
              "  <button class=\"colab-df-quickchart\" onclick=\"quickchart('df-d4a9b576-8b95-4265-bf70-a9e2a5d06c57')\"\n",
              "            title=\"Suggest charts.\"\n",
              "            style=\"display:none;\">\n",
              "\n",
              "<svg xmlns=\"http://www.w3.org/2000/svg\" height=\"24px\"viewBox=\"0 0 24 24\"\n",
              "     width=\"24px\">\n",
              "    <g>\n",
              "        <path d=\"M19 3H5c-1.1 0-2 .9-2 2v14c0 1.1.9 2 2 2h14c1.1 0 2-.9 2-2V5c0-1.1-.9-2-2-2zM9 17H7v-7h2v7zm4 0h-2V7h2v10zm4 0h-2v-4h2v4z\"/>\n",
              "    </g>\n",
              "</svg>\n",
              "  </button>\n",
              "\n",
              "<style>\n",
              "  .colab-df-quickchart {\n",
              "      --bg-color: #E8F0FE;\n",
              "      --fill-color: #1967D2;\n",
              "      --hover-bg-color: #E2EBFA;\n",
              "      --hover-fill-color: #174EA6;\n",
              "      --disabled-fill-color: #AAA;\n",
              "      --disabled-bg-color: #DDD;\n",
              "  }\n",
              "\n",
              "  [theme=dark] .colab-df-quickchart {\n",
              "      --bg-color: #3B4455;\n",
              "      --fill-color: #D2E3FC;\n",
              "      --hover-bg-color: #434B5C;\n",
              "      --hover-fill-color: #FFFFFF;\n",
              "      --disabled-bg-color: #3B4455;\n",
              "      --disabled-fill-color: #666;\n",
              "  }\n",
              "\n",
              "  .colab-df-quickchart {\n",
              "    background-color: var(--bg-color);\n",
              "    border: none;\n",
              "    border-radius: 50%;\n",
              "    cursor: pointer;\n",
              "    display: none;\n",
              "    fill: var(--fill-color);\n",
              "    height: 32px;\n",
              "    padding: 0;\n",
              "    width: 32px;\n",
              "  }\n",
              "\n",
              "  .colab-df-quickchart:hover {\n",
              "    background-color: var(--hover-bg-color);\n",
              "    box-shadow: 0 1px 2px rgba(60, 64, 67, 0.3), 0 1px 3px 1px rgba(60, 64, 67, 0.15);\n",
              "    fill: var(--button-hover-fill-color);\n",
              "  }\n",
              "\n",
              "  .colab-df-quickchart-complete:disabled,\n",
              "  .colab-df-quickchart-complete:disabled:hover {\n",
              "    background-color: var(--disabled-bg-color);\n",
              "    fill: var(--disabled-fill-color);\n",
              "    box-shadow: none;\n",
              "  }\n",
              "\n",
              "  .colab-df-spinner {\n",
              "    border: 2px solid var(--fill-color);\n",
              "    border-color: transparent;\n",
              "    border-bottom-color: var(--fill-color);\n",
              "    animation:\n",
              "      spin 1s steps(1) infinite;\n",
              "  }\n",
              "\n",
              "  @keyframes spin {\n",
              "    0% {\n",
              "      border-color: transparent;\n",
              "      border-bottom-color: var(--fill-color);\n",
              "      border-left-color: var(--fill-color);\n",
              "    }\n",
              "    20% {\n",
              "      border-color: transparent;\n",
              "      border-left-color: var(--fill-color);\n",
              "      border-top-color: var(--fill-color);\n",
              "    }\n",
              "    30% {\n",
              "      border-color: transparent;\n",
              "      border-left-color: var(--fill-color);\n",
              "      border-top-color: var(--fill-color);\n",
              "      border-right-color: var(--fill-color);\n",
              "    }\n",
              "    40% {\n",
              "      border-color: transparent;\n",
              "      border-right-color: var(--fill-color);\n",
              "      border-top-color: var(--fill-color);\n",
              "    }\n",
              "    60% {\n",
              "      border-color: transparent;\n",
              "      border-right-color: var(--fill-color);\n",
              "    }\n",
              "    80% {\n",
              "      border-color: transparent;\n",
              "      border-right-color: var(--fill-color);\n",
              "      border-bottom-color: var(--fill-color);\n",
              "    }\n",
              "    90% {\n",
              "      border-color: transparent;\n",
              "      border-bottom-color: var(--fill-color);\n",
              "    }\n",
              "  }\n",
              "</style>\n",
              "\n",
              "  <script>\n",
              "    async function quickchart(key) {\n",
              "      const quickchartButtonEl =\n",
              "        document.querySelector('#' + key + ' button');\n",
              "      quickchartButtonEl.disabled = true;  // To prevent multiple clicks.\n",
              "      quickchartButtonEl.classList.add('colab-df-spinner');\n",
              "      try {\n",
              "        const charts = await google.colab.kernel.invokeFunction(\n",
              "            'suggestCharts', [key], {});\n",
              "      } catch (error) {\n",
              "        console.error('Error during call to suggestCharts:', error);\n",
              "      }\n",
              "      quickchartButtonEl.classList.remove('colab-df-spinner');\n",
              "      quickchartButtonEl.classList.add('colab-df-quickchart-complete');\n",
              "    }\n",
              "    (() => {\n",
              "      let quickchartButtonEl =\n",
              "        document.querySelector('#df-d4a9b576-8b95-4265-bf70-a9e2a5d06c57 button');\n",
              "      quickchartButtonEl.style.display =\n",
              "        google.colab.kernel.accessAllowed ? 'block' : 'none';\n",
              "    })();\n",
              "  </script>\n",
              "</div>\n",
              "    </div>\n",
              "  </div>\n"
            ]
          },
          "metadata": {},
          "execution_count": 8
        }
      ],
      "source": [
        "df.head()"
      ]
    },
    {
      "cell_type": "code",
      "execution_count": null,
      "metadata": {
        "id": "oMLRY2_a1XTG"
      },
      "outputs": [],
      "source": [
        "from sklearn.preprocessing import LabelEncoder"
      ]
    },
    {
      "cell_type": "code",
      "execution_count": null,
      "metadata": {
        "colab": {
          "base_uri": "https://localhost:8080/"
        },
        "id": "mRRlH9MS1dmC",
        "outputId": "9f3f5104-4cb3-445e-8a7f-483f92db310f"
      },
      "outputs": [
        {
          "output_type": "execute_result",
          "data": {
            "text/plain": [
              "array(['Personalization', 'Labeling', 'No Distortion', 'Fortune-telling',\n",
              "       'Magnification', 'Mind Reading', 'All-or-nothing thinking',\n",
              "       'Overgeneralization', 'Mental filter', 'Emotional Reasoning',\n",
              "       'Should statements'], dtype=object)"
            ]
          },
          "metadata": {},
          "execution_count": 10
        }
      ],
      "source": [
        "df['Dominant Distortion'].unique()"
      ]
    },
    {
      "cell_type": "code",
      "execution_count": null,
      "metadata": {
        "colab": {
          "base_uri": "https://localhost:8080/"
        },
        "id": "5M1yyMok1sxP",
        "outputId": "fcf4e4df-a62a-4adc-8b61-21a57d9b7b1b"
      },
      "outputs": [
        {
          "output_type": "execute_result",
          "data": {
            "text/plain": [
              "(11,)"
            ]
          },
          "metadata": {},
          "execution_count": 11
        }
      ],
      "source": [
        "df['Dominant Distortion'].unique().shape"
      ]
    },
    {
      "cell_type": "code",
      "execution_count": null,
      "metadata": {
        "colab": {
          "base_uri": "https://localhost:8080/",
          "height": 796
        },
        "id": "VvXqdOCD1xsi",
        "outputId": "736dad3d-fe57-4c98-d524-39d152f0c2c2"
      },
      "outputs": [
        {
          "output_type": "display_data",
          "data": {
            "text/plain": [
              "<Figure size 1500x1000 with 1 Axes>"
            ],
            "image/png": "[encoded data removed]"
          },
          "metadata": {}
        }
      ],
      "source": [
        "plt.figure(figsize=(15,10))\n",
        "sns.histplot(df['Dominant Distortion'])\n",
        "plt.show()"
      ]
    },
    {
      "cell_type": "code",
      "execution_count": null,
      "metadata": {
        "id": "WcAwUhX62hZG"
      },
      "outputs": [],
      "source": [
        "le = LabelEncoder()\n",
        "df['Dominant Distortion'] = le.fit_transform(df['Dominant Distortion'])"
      ]
    },
    {
      "cell_type": "code",
      "execution_count": null,
      "metadata": {
        "colab": {
          "base_uri": "https://localhost:8080/"
        },
        "id": "T1Zs98s43La8",
        "outputId": "49cbf392-76bd-4fd3-8c1d-2e7cd28b81b2"
      },
      "outputs": [
        {
          "output_type": "execute_result",
          "data": {
            "text/plain": [
              "0       9\n",
              "1       3\n",
              "2       7\n",
              "3       7\n",
              "4       2\n",
              "       ..\n",
              "2525    7\n",
              "2526    8\n",
              "2527    5\n",
              "2528    7\n",
              "2529    7\n",
              "Name: Dominant Distortion, Length: 2530, dtype: int64"
            ]
          },
          "metadata": {},
          "execution_count": 14
        }
      ],
      "source": [
        "df['Dominant Distortion']"
      ]
    },
    {
      "cell_type": "code",
      "execution_count": null,
      "metadata": {
        "colab": {
          "base_uri": "https://localhost:8080/"
        },
        "id": "XjXnMzHM7JE5",
        "outputId": "e68eaf60-65fc-4a68-86ae-3cabbaf9409f"
      },
      "outputs": [
        {
          "output_type": "execute_result",
          "data": {
            "text/plain": [
              "7     933\n",
              "6     239\n",
              "8     239\n",
              "4     195\n",
              "3     165\n",
              "9     153\n",
              "2     143\n",
              "1     134\n",
              "5     122\n",
              "10    107\n",
              "0     100\n",
              "Name: Dominant Distortion, dtype: int64"
            ]
          },
          "metadata": {},
          "execution_count": 15
        }
      ],
      "source": [
        "df['Dominant Distortion'].value_counts()"
      ]
    },
    {
      "cell_type": "code",
      "execution_count": null,
      "metadata": {
        "colab": {
          "base_uri": "https://localhost:8080/"
        },
        "id": "xtmWcEh73e--",
        "outputId": "5791772d-fdbf-4108-851f-3c258c7b8238"
      },
      "outputs": [
        {
          "output_type": "execute_result",
          "data": {
            "text/plain": [
              "Id_Number                0\n",
              "Patient Question         0\n",
              "Distorted part         933\n",
              "Dominant Distortion      0\n",
              "dtype: int64"
            ]
          },
          "metadata": {},
          "execution_count": 16
        }
      ],
      "source": [
        "df.isnull().sum()"
      ]
    },
    {
      "cell_type": "code",
      "execution_count": null,
      "metadata": {
        "id": "SHFeFmOF4DUQ"
      },
      "outputs": [],
      "source": [
        "df.fillna(value='0',inplace = True)"
      ]
    },
    {
      "cell_type": "code",
      "execution_count": null,
      "metadata": {
        "colab": {
          "base_uri": "https://localhost:8080/"
        },
        "id": "bWqCK_Vw4LOL",
        "outputId": "4b865b94-a1c0-464b-9316-136f58beb4bd"
      },
      "outputs": [
        {
          "output_type": "execute_result",
          "data": {
            "text/plain": [
              "Id_Number              0\n",
              "Patient Question       0\n",
              "Distorted part         0\n",
              "Dominant Distortion    0\n",
              "dtype: int64"
            ]
          },
          "metadata": {},
          "execution_count": 18
        }
      ],
      "source": [
        "df.isnull().sum()"
      ]
    },
    {
      "cell_type": "code",
      "execution_count": null,
      "metadata": {
        "colab": {
          "base_uri": "https://localhost:8080/"
        },
        "id": "Jnf4AAeX7SD1",
        "outputId": "be5f122a-0fe2-4f4b-a418-d9eaf419ac8e"
      },
      "outputs": [
        {
          "output_type": "execute_result",
          "data": {
            "text/plain": [
              "230"
            ]
          },
          "metadata": {},
          "execution_count": 19
        }
      ],
      "source": [
        "df['Dominant Distortion'].value_counts().sum()//11"
      ]
    },
    {
      "cell_type": "code",
      "execution_count": null,
      "metadata": {
        "id": "xfrvX1VW7jBf"
      },
      "outputs": [],
      "source": [
        "df2 = df"
      ]
    },
    {
      "cell_type": "code",
      "execution_count": null,
      "metadata": {
        "colab": {
          "base_uri": "https://localhost:8080/",
          "height": 206
        },
        "id": "KpzzXqoA8hSP",
        "outputId": "7f4c726d-7098-4159-c42c-ef98b92b0850"
      },
      "outputs": [
        {
          "output_type": "execute_result",
          "data": {
            "text/plain": [
              "   Id_Number                                   Patient Question  \\\n",
              "0       4500  Hello, I have a beautiful,smart,outgoing and a...   \n",
              "1       4501  Since I was about 16 years old I’ve had these ...   \n",
              "2       4502   So I’ve been dating on and off this guy for a...   \n",
              "3       4503  My parents got divorced in 2004. My mother has...   \n",
              "4       4504  I don’t really know how to explain the situati...   \n",
              "\n",
              "                                      Distorted part  Dominant Distortion  \n",
              "0  The voice are always fimilar (someone she know...                    9  \n",
              "1  I feel trapped inside my disgusting self and l...                    3  \n",
              "2                                                  0                    7  \n",
              "3                                                  0                    7  \n",
              "4  I refused to go because I didn’t know if it wa...                    2  "
            ],
            "text/html": [
              "\n",
              "  <div id=\"df-f97d582a-5b83-4658-86c5-42df26b4cc6f\" class=\"colab-df-container\">\n",
              "    <div>\n",
              "<style scoped>\n",
              "    .dataframe tbody tr th:only-of-type {\n",
              "        vertical-align: middle;\n",
              "    }\n",
              "\n",
              "    .dataframe tbody tr th {\n",
              "        vertical-align: top;\n",
              "    }\n",
              "\n",
              "    .dataframe thead th {\n",
              "        text-align: right;\n",
              "    }\n",
              "</style>\n",
              "<table border=\"1\" class=\"dataframe\">\n",
              "  <thead>\n",
              "    <tr style=\"text-align: right;\">\n",
              "      <th></th>\n",
              "      <th>Id_Number</th>\n",
              "      <th>Patient Question</th>\n",
              "      <th>Distorted part</th>\n",
              "      <th>Dominant Distortion</th>\n",
              "    </tr>\n",
              "  </thead>\n",
              "  <tbody>\n",
              "    <tr>\n",
              "      <th>0</th>\n",
              "      <td>4500</td>\n",
              "      <td>Hello, I have a beautiful,smart,outgoing and a...</td>\n",
              "      <td>The voice are always fimilar (someone she know...</td>\n",
              "      <td>9</td>\n",
              "    </tr>\n",
              "    <tr>\n",
              "      <th>1</th>\n",
              "      <td>4501</td>\n",
              "      <td>Since I was about 16 years old I’ve had these ...</td>\n",
              "      <td>I feel trapped inside my disgusting self and l...</td>\n",
              "      <td>3</td>\n",
              "    </tr>\n",
              "    <tr>\n",
              "      <th>2</th>\n",
              "      <td>4502</td>\n",
              "      <td>So I’ve been dating on and off this guy for a...</td>\n",
              "      <td>0</td>\n",
              "      <td>7</td>\n",
              "    </tr>\n",
              "    <tr>\n",
              "      <th>3</th>\n",
              "      <td>4503</td>\n",
              "      <td>My parents got divorced in 2004. My mother has...</td>\n",
              "      <td>0</td>\n",
              "      <td>7</td>\n",
              "    </tr>\n",
              "    <tr>\n",
              "      <th>4</th>\n",
              "      <td>4504</td>\n",
              "      <td>I don’t really know how to explain the situati...</td>\n",
              "      <td>I refused to go because I didn’t know if it wa...</td>\n",
              "      <td>2</td>\n",
              "    </tr>\n",
              "  </tbody>\n",
              "</table>\n",
              "</div>\n",
              "    <div class=\"colab-df-buttons\">\n",
              "\n",
              "  <div class=\"colab-df-container\">\n",
              "    <button class=\"colab-df-convert\" onclick=\"convertToInteractive('df-f97d582a-5b83-4658-86c5-42df26b4cc6f')\"\n",
              "            title=\"Convert this dataframe to an interactive table.\"\n",
              "            style=\"display:none;\">\n",
              "\n",
              "  <svg xmlns=\"http://www.w3.org/2000/svg\" height=\"24px\" viewBox=\"0 -960 960 960\">\n",
              "    <path d=\"M120-120v-720h720v720H120Zm60-500h600v-160H180v160Zm220 220h160v-160H400v160Zm0 220h160v-160H400v160ZM180-400h160v-160H180v160Zm440 0h160v-160H620v160ZM180-180h160v-160H180v160Zm440 0h160v-160H620v160Z\"/>\n",
              "  </svg>\n",
              "    </button>\n",
              "\n",
              "  <style>\n",
              "    .colab-df-container {\n",
              "      display:flex;\n",
              "      gap: 12px;\n",
              "    }\n",
              "\n",
              "    .colab-df-convert {\n",
              "      background-color: #E8F0FE;\n",
              "      border: none;\n",
              "      border-radius: 50%;\n",
              "      cursor: pointer;\n",
              "      display: none;\n",
              "      fill: #1967D2;\n",
              "      height: 32px;\n",
              "      padding: 0 0 0 0;\n",
              "      width: 32px;\n",
              "    }\n",
              "\n",
              "    .colab-df-convert:hover {\n",
              "      background-color: #E2EBFA;\n",
              "      box-shadow: 0px 1px 2px rgba(60, 64, 67, 0.3), 0px 1px 3px 1px rgba(60, 64, 67, 0.15);\n",
              "      fill: #174EA6;\n",
              "    }\n",
              "\n",
              "    .colab-df-buttons div {\n",
              "      margin-bottom: 4px;\n",
              "    }\n",
              "\n",
              "    [theme=dark] .colab-df-convert {\n",
              "      background-color: #3B4455;\n",
              "      fill: #D2E3FC;\n",
              "    }\n",
              "\n",
              "    [theme=dark] .colab-df-convert:hover {\n",
              "      background-color: #434B5C;\n",
              "      box-shadow: 0px 1px 3px 1px rgba(0, 0, 0, 0.15);\n",
              "      filter: drop-shadow(0px 1px 2px rgba(0, 0, 0, 0.3));\n",
              "      fill: #FFFFFF;\n",
              "    }\n",
              "  </style>\n",
              "\n",
              "    <script>\n",
              "      const buttonEl =\n",
              "        document.querySelector('#df-f97d582a-5b83-4658-86c5-42df26b4cc6f button.colab-df-convert');\n",
              "      buttonEl.style.display =\n",
              "        google.colab.kernel.accessAllowed ? 'block' : 'none';\n",
              "\n",
              "      async function convertToInteractive(key) {\n",
              "        const element = document.querySelector('#df-f97d582a-5b83-4658-86c5-42df26b4cc6f');\n",
              "        const dataTable =\n",
              "          await google.colab.kernel.invokeFunction('convertToInteractive',\n",
              "                                                    [key], {});\n",
              "        if (!dataTable) return;\n",
              "\n",
              "        const docLinkHtml = 'Like what you see? Visit the ' +\n",
              "          '<a target=\"_blank\" href=https://colab.research.google.com/notebooks/data_table.ipynb>data table notebook</a>'\n",
              "          + ' to learn more about interactive tables.';\n",
              "        element.innerHTML = '';\n",
              "        dataTable['output_type'] = 'display_data';\n",
              "        await google.colab.output.renderOutput(dataTable, element);\n",
              "        const docLink = document.createElement('div');\n",
              "        docLink.innerHTML = docLinkHtml;\n",
              "        element.appendChild(docLink);\n",
              "      }\n",
              "    </script>\n",
              "  </div>\n",
              "\n",
              "\n",
              "<div id=\"df-4f1ab2a3-d50c-4192-8ba6-7331245c71fa\">\n",
              "  <button class=\"colab-df-quickchart\" onclick=\"quickchart('df-4f1ab2a3-d50c-4192-8ba6-7331245c71fa')\"\n",
              "            title=\"Suggest charts.\"\n",
              "            style=\"display:none;\">\n",
              "\n",
              "<svg xmlns=\"http://www.w3.org/2000/svg\" height=\"24px\"viewBox=\"0 0 24 24\"\n",
              "     width=\"24px\">\n",
              "    <g>\n",
              "        <path d=\"M19 3H5c-1.1 0-2 .9-2 2v14c0 1.1.9 2 2 2h14c1.1 0 2-.9 2-2V5c0-1.1-.9-2-2-2zM9 17H7v-7h2v7zm4 0h-2V7h2v10zm4 0h-2v-4h2v4z\"/>\n",
              "    </g>\n",
              "</svg>\n",
              "  </button>\n",
              "\n",
              "<style>\n",
              "  .colab-df-quickchart {\n",
              "      --bg-color: #E8F0FE;\n",
              "      --fill-color: #1967D2;\n",
              "      --hover-bg-color: #E2EBFA;\n",
              "      --hover-fill-color: #174EA6;\n",
              "      --disabled-fill-color: #AAA;\n",
              "      --disabled-bg-color: #DDD;\n",
              "  }\n",
              "\n",
              "  [theme=dark] .colab-df-quickchart {\n",
              "      --bg-color: #3B4455;\n",
              "      --fill-color: #D2E3FC;\n",
              "      --hover-bg-color: #434B5C;\n",
              "      --hover-fill-color: #FFFFFF;\n",
              "      --disabled-bg-color: #3B4455;\n",
              "      --disabled-fill-color: #666;\n",
              "  }\n",
              "\n",
              "  .colab-df-quickchart {\n",
              "    background-color: var(--bg-color);\n",
              "    border: none;\n",
              "    border-radius: 50%;\n",
              "    cursor: pointer;\n",
              "    display: none;\n",
              "    fill: var(--fill-color);\n",
              "    height: 32px;\n",
              "    padding: 0;\n",
              "    width: 32px;\n",
              "  }\n",
              "\n",
              "  .colab-df-quickchart:hover {\n",
              "    background-color: var(--hover-bg-color);\n",
              "    box-shadow: 0 1px 2px rgba(60, 64, 67, 0.3), 0 1px 3px 1px rgba(60, 64, 67, 0.15);\n",
              "    fill: var(--button-hover-fill-color);\n",
              "  }\n",
              "\n",
              "  .colab-df-quickchart-complete:disabled,\n",
              "  .colab-df-quickchart-complete:disabled:hover {\n",
              "    background-color: var(--disabled-bg-color);\n",
              "    fill: var(--disabled-fill-color);\n",
              "    box-shadow: none;\n",
              "  }\n",
              "\n",
              "  .colab-df-spinner {\n",
              "    border: 2px solid var(--fill-color);\n",
              "    border-color: transparent;\n",
              "    border-bottom-color: var(--fill-color);\n",
              "    animation:\n",
              "      spin 1s steps(1) infinite;\n",
              "  }\n",
              "\n",
              "  @keyframes spin {\n",
              "    0% {\n",
              "      border-color: transparent;\n",
              "      border-bottom-color: var(--fill-color);\n",
              "      border-left-color: var(--fill-color);\n",
              "    }\n",
              "    20% {\n",
              "      border-color: transparent;\n",
              "      border-left-color: var(--fill-color);\n",
              "      border-top-color: var(--fill-color);\n",
              "    }\n",
              "    30% {\n",
              "      border-color: transparent;\n",
              "      border-left-color: var(--fill-color);\n",
              "      border-top-color: var(--fill-color);\n",
              "      border-right-color: var(--fill-color);\n",
              "    }\n",
              "    40% {\n",
              "      border-color: transparent;\n",
              "      border-right-color: var(--fill-color);\n",
              "      border-top-color: var(--fill-color);\n",
              "    }\n",
              "    60% {\n",
              "      border-color: transparent;\n",
              "      border-right-color: var(--fill-color);\n",
              "    }\n",
              "    80% {\n",
              "      border-color: transparent;\n",
              "      border-right-color: var(--fill-color);\n",
              "      border-bottom-color: var(--fill-color);\n",
              "    }\n",
              "    90% {\n",
              "      border-color: transparent;\n",
              "      border-bottom-color: var(--fill-color);\n",
              "    }\n",
              "  }\n",
              "</style>\n",
              "\n",
              "  <script>\n",
              "    async function quickchart(key) {\n",
              "      const quickchartButtonEl =\n",
              "        document.querySelector('#' + key + ' button');\n",
              "      quickchartButtonEl.disabled = true;  // To prevent multiple clicks.\n",
              "      quickchartButtonEl.classList.add('colab-df-spinner');\n",
              "      try {\n",
              "        const charts = await google.colab.kernel.invokeFunction(\n",
              "            'suggestCharts', [key], {});\n",
              "      } catch (error) {\n",
              "        console.error('Error during call to suggestCharts:', error);\n",
              "      }\n",
              "      quickchartButtonEl.classList.remove('colab-df-spinner');\n",
              "      quickchartButtonEl.classList.add('colab-df-quickchart-complete');\n",
              "    }\n",
              "    (() => {\n",
              "      let quickchartButtonEl =\n",
              "        document.querySelector('#df-4f1ab2a3-d50c-4192-8ba6-7331245c71fa button');\n",
              "      quickchartButtonEl.style.display =\n",
              "        google.colab.kernel.accessAllowed ? 'block' : 'none';\n",
              "    })();\n",
              "  </script>\n",
              "</div>\n",
              "    </div>\n",
              "  </div>\n"
            ]
          },
          "metadata": {},
          "execution_count": 21
        }
      ],
      "source": [
        "df2.head()"
      ]
    },
    {
      "cell_type": "code",
      "execution_count": null,
      "metadata": {
        "colab": {
          "base_uri": "https://localhost:8080/"
        },
        "id": "p-bDV64z6XB4",
        "outputId": "5c7dcc70-0674-4298-ecb4-adc27caac330"
      },
      "outputs": [
        {
          "output_type": "execute_result",
          "data": {
            "text/plain": [
              "0       The voice are always fimilar (someone she know...\n",
              "1       I feel trapped inside my disgusting self and l...\n",
              "2                                                       0\n",
              "3                                                       0\n",
              "4       I refused to go because I didn’t know if it wa...\n",
              "                              ...                        \n",
              "2525                                                    0\n",
              "2526    Now I am at university my peers around me all ...\n",
              "2527    He claims he’s severely depressed and has outb...\n",
              "2528                                                    0\n",
              "2529                                                    0\n",
              "Name: Distorted part, Length: 2530, dtype: object"
            ]
          },
          "metadata": {},
          "execution_count": 22
        }
      ],
      "source": [
        "df['Distorted part']"
      ]
    },
    {
      "cell_type": "code",
      "execution_count": null,
      "metadata": {
        "colab": {
          "base_uri": "https://localhost:8080/"
        },
        "id": "H8K52rkg7_GB",
        "outputId": "270727d9-323c-48b8-91f4-07c43ec6e1e9"
      },
      "outputs": [
        {
          "output_type": "stream",
          "name": "stderr",
          "text": [
            "[nltk_data] Downloading package stopwords to /root/nltk_data...\n",
            "[nltk_data]   Unzipping corpora/stopwords.zip.\n"
          ]
        }
      ],
      "source": [
        "import nltk\n",
        "import re\n",
        "nltk. download('stopwords')\n",
        "from nltk. corpus import stopwords\n",
        "stopword=set(stopwords.words('english'))\n",
        "stemmer = nltk. SnowballStemmer(\"english\")"
      ]
    },
    {
      "cell_type": "code",
      "execution_count": null,
      "metadata": {
        "id": "_MirzfNk8E22"
      },
      "outputs": [],
      "source": [
        "df['Patient Question'] = df['Patient Question'].str.lower()"
      ]
    },
    {
      "cell_type": "code",
      "execution_count": null,
      "metadata": {
        "id": "HtAhJGIn9FGi"
      },
      "outputs": [],
      "source": [
        "df['Distorted part'] = df['Distorted part'].str.lower()"
      ]
    },
    {
      "cell_type": "code",
      "execution_count": null,
      "metadata": {
        "colab": {
          "base_uri": "https://localhost:8080/",
          "height": 206
        },
        "id": "98RLuwMx9LHD",
        "outputId": "b938ccab-637a-489a-fbc6-1d576f634bd4"
      },
      "outputs": [
        {
          "output_type": "execute_result",
          "data": {
            "text/plain": [
              "   Id_Number                                   Patient Question  \\\n",
              "0       4500  hello, i have a beautiful,smart,outgoing and a...   \n",
              "1       4501  since i was about 16 years old i’ve had these ...   \n",
              "2       4502   so i’ve been dating on and off this guy for a...   \n",
              "3       4503  my parents got divorced in 2004. my mother has...   \n",
              "4       4504  i don’t really know how to explain the situati...   \n",
              "\n",
              "                                      Distorted part  Dominant Distortion  \n",
              "0  the voice are always fimilar (someone she know...                    9  \n",
              "1  i feel trapped inside my disgusting self and l...                    3  \n",
              "2                                                  0                    7  \n",
              "3                                                  0                    7  \n",
              "4  i refused to go because i didn’t know if it wa...                    2  "
            ],
            "text/html": [
              "\n",
              "  <div id=\"df-2098daab-845a-4bd5-829d-18af15b5051c\" class=\"colab-df-container\">\n",
              "    <div>\n",
              "<style scoped>\n",
              "    .dataframe tbody tr th:only-of-type {\n",
              "        vertical-align: middle;\n",
              "    }\n",
              "\n",
              "    .dataframe tbody tr th {\n",
              "        vertical-align: top;\n",
              "    }\n",
              "\n",
              "    .dataframe thead th {\n",
              "        text-align: right;\n",
              "    }\n",
              "</style>\n",
              "<table border=\"1\" class=\"dataframe\">\n",
              "  <thead>\n",
              "    <tr style=\"text-align: right;\">\n",
              "      <th></th>\n",
              "      <th>Id_Number</th>\n",
              "      <th>Patient Question</th>\n",
              "      <th>Distorted part</th>\n",
              "      <th>Dominant Distortion</th>\n",
              "    </tr>\n",
              "  </thead>\n",
              "  <tbody>\n",
              "    <tr>\n",
              "      <th>0</th>\n",
              "      <td>4500</td>\n",
              "      <td>hello, i have a beautiful,smart,outgoing and a...</td>\n",
              "      <td>the voice are always fimilar (someone she know...</td>\n",
              "      <td>9</td>\n",
              "    </tr>\n",
              "    <tr>\n",
              "      <th>1</th>\n",
              "      <td>4501</td>\n",
              "      <td>since i was about 16 years old i’ve had these ...</td>\n",
              "      <td>i feel trapped inside my disgusting self and l...</td>\n",
              "      <td>3</td>\n",
              "    </tr>\n",
              "    <tr>\n",
              "      <th>2</th>\n",
              "      <td>4502</td>\n",
              "      <td>so i’ve been dating on and off this guy for a...</td>\n",
              "      <td>0</td>\n",
              "      <td>7</td>\n",
              "    </tr>\n",
              "    <tr>\n",
              "      <th>3</th>\n",
              "      <td>4503</td>\n",
              "      <td>my parents got divorced in 2004. my mother has...</td>\n",
              "      <td>0</td>\n",
              "      <td>7</td>\n",
              "    </tr>\n",
              "    <tr>\n",
              "      <th>4</th>\n",
              "      <td>4504</td>\n",
              "      <td>i don’t really know how to explain the situati...</td>\n",
              "      <td>i refused to go because i didn’t know if it wa...</td>\n",
              "      <td>2</td>\n",
              "    </tr>\n",
              "  </tbody>\n",
              "</table>\n",
              "</div>\n",
              "    <div class=\"colab-df-buttons\">\n",
              "\n",
              "  <div class=\"colab-df-container\">\n",
              "    <button class=\"colab-df-convert\" onclick=\"convertToInteractive('df-2098daab-845a-4bd5-829d-18af15b5051c')\"\n",
              "            title=\"Convert this dataframe to an interactive table.\"\n",
              "            style=\"display:none;\">\n",
              "\n",
              "  <svg xmlns=\"http://www.w3.org/2000/svg\" height=\"24px\" viewBox=\"0 -960 960 960\">\n",
              "    <path d=\"M120-120v-720h720v720H120Zm60-500h600v-160H180v160Zm220 220h160v-160H400v160Zm0 220h160v-160H400v160ZM180-400h160v-160H180v160Zm440 0h160v-160H620v160ZM180-180h160v-160H180v160Zm440 0h160v-160H620v160Z\"/>\n",
              "  </svg>\n",
              "    </button>\n",
              "\n",
              "  <style>\n",
              "    .colab-df-container {\n",
              "      display:flex;\n",
              "      gap: 12px;\n",
              "    }\n",
              "\n",
              "    .colab-df-convert {\n",
              "      background-color: #E8F0FE;\n",
              "      border: none;\n",
              "      border-radius: 50%;\n",
              "      cursor: pointer;\n",
              "      display: none;\n",
              "      fill: #1967D2;\n",
              "      height: 32px;\n",
              "      padding: 0 0 0 0;\n",
              "      width: 32px;\n",
              "    }\n",
              "\n",
              "    .colab-df-convert:hover {\n",
              "      background-color: #E2EBFA;\n",
              "      box-shadow: 0px 1px 2px rgba(60, 64, 67, 0.3), 0px 1px 3px 1px rgba(60, 64, 67, 0.15);\n",
              "      fill: #174EA6;\n",
              "    }\n",
              "\n",
              "    .colab-df-buttons div {\n",
              "      margin-bottom: 4px;\n",
              "    }\n",
              "\n",
              "    [theme=dark] .colab-df-convert {\n",
              "      background-color: #3B4455;\n",
              "      fill: #D2E3FC;\n",
              "    }\n",
              "\n",
              "    [theme=dark] .colab-df-convert:hover {\n",
              "      background-color: #434B5C;\n",
              "      box-shadow: 0px 1px 3px 1px rgba(0, 0, 0, 0.15);\n",
              "      filter: drop-shadow(0px 1px 2px rgba(0, 0, 0, 0.3));\n",
              "      fill: #FFFFFF;\n",
              "    }\n",
              "  </style>\n",
              "\n",
              "    <script>\n",
              "      const buttonEl =\n",
              "        document.querySelector('#df-2098daab-845a-4bd5-829d-18af15b5051c button.colab-df-convert');\n",
              "      buttonEl.style.display =\n",
              "        google.colab.kernel.accessAllowed ? 'block' : 'none';\n",
              "\n",
              "      async function convertToInteractive(key) {\n",
              "        const element = document.querySelector('#df-2098daab-845a-4bd5-829d-18af15b5051c');\n",
              "        const dataTable =\n",
              "          await google.colab.kernel.invokeFunction('convertToInteractive',\n",
              "                                                    [key], {});\n",
              "        if (!dataTable) return;\n",
              "\n",
              "        const docLinkHtml = 'Like what you see? Visit the ' +\n",
              "          '<a target=\"_blank\" href=https://colab.research.google.com/notebooks/data_table.ipynb>data table notebook</a>'\n",
              "          + ' to learn more about interactive tables.';\n",
              "        element.innerHTML = '';\n",
              "        dataTable['output_type'] = 'display_data';\n",
              "        await google.colab.output.renderOutput(dataTable, element);\n",
              "        const docLink = document.createElement('div');\n",
              "        docLink.innerHTML = docLinkHtml;\n",
              "        element.appendChild(docLink);\n",
              "      }\n",
              "    </script>\n",
              "  </div>\n",
              "\n",
              "\n",
              "<div id=\"df-6b7cd6b9-f01b-4953-8f84-381a2dfdbaef\">\n",
              "  <button class=\"colab-df-quickchart\" onclick=\"quickchart('df-6b7cd6b9-f01b-4953-8f84-381a2dfdbaef')\"\n",
              "            title=\"Suggest charts.\"\n",
              "            style=\"display:none;\">\n",
              "\n",
              "<svg xmlns=\"http://www.w3.org/2000/svg\" height=\"24px\"viewBox=\"0 0 24 24\"\n",
              "     width=\"24px\">\n",
              "    <g>\n",
              "        <path d=\"M19 3H5c-1.1 0-2 .9-2 2v14c0 1.1.9 2 2 2h14c1.1 0 2-.9 2-2V5c0-1.1-.9-2-2-2zM9 17H7v-7h2v7zm4 0h-2V7h2v10zm4 0h-2v-4h2v4z\"/>\n",
              "    </g>\n",
              "</svg>\n",
              "  </button>\n",
              "\n",
              "<style>\n",
              "  .colab-df-quickchart {\n",
              "      --bg-color: #E8F0FE;\n",
              "      --fill-color: #1967D2;\n",
              "      --hover-bg-color: #E2EBFA;\n",
              "      --hover-fill-color: #174EA6;\n",
              "      --disabled-fill-color: #AAA;\n",
              "      --disabled-bg-color: #DDD;\n",
              "  }\n",
              "\n",
              "  [theme=dark] .colab-df-quickchart {\n",
              "      --bg-color: #3B4455;\n",
              "      --fill-color: #D2E3FC;\n",
              "      --hover-bg-color: #434B5C;\n",
              "      --hover-fill-color: #FFFFFF;\n",
              "      --disabled-bg-color: #3B4455;\n",
              "      --disabled-fill-color: #666;\n",
              "  }\n",
              "\n",
              "  .colab-df-quickchart {\n",
              "    background-color: var(--bg-color);\n",
              "    border: none;\n",
              "    border-radius: 50%;\n",
              "    cursor: pointer;\n",
              "    display: none;\n",
              "    fill: var(--fill-color);\n",
              "    height: 32px;\n",
              "    padding: 0;\n",
              "    width: 32px;\n",
              "  }\n",
              "\n",
              "  .colab-df-quickchart:hover {\n",
              "    background-color: var(--hover-bg-color);\n",
              "    box-shadow: 0 1px 2px rgba(60, 64, 67, 0.3), 0 1px 3px 1px rgba(60, 64, 67, 0.15);\n",
              "    fill: var(--button-hover-fill-color);\n",
              "  }\n",
              "\n",
              "  .colab-df-quickchart-complete:disabled,\n",
              "  .colab-df-quickchart-complete:disabled:hover {\n",
              "    background-color: var(--disabled-bg-color);\n",
              "    fill: var(--disabled-fill-color);\n",
              "    box-shadow: none;\n",
              "  }\n",
              "\n",
              "  .colab-df-spinner {\n",
              "    border: 2px solid var(--fill-color);\n",
              "    border-color: transparent;\n",
              "    border-bottom-color: var(--fill-color);\n",
              "    animation:\n",
              "      spin 1s steps(1) infinite;\n",
              "  }\n",
              "\n",
              "  @keyframes spin {\n",
              "    0% {\n",
              "      border-color: transparent;\n",
              "      border-bottom-color: var(--fill-color);\n",
              "      border-left-color: var(--fill-color);\n",
              "    }\n",
              "    20% {\n",
              "      border-color: transparent;\n",
              "      border-left-color: var(--fill-color);\n",
              "      border-top-color: var(--fill-color);\n",
              "    }\n",
              "    30% {\n",
              "      border-color: transparent;\n",
              "      border-left-color: var(--fill-color);\n",
              "      border-top-color: var(--fill-color);\n",
              "      border-right-color: var(--fill-color);\n",
              "    }\n",
              "    40% {\n",
              "      border-color: transparent;\n",
              "      border-right-color: var(--fill-color);\n",
              "      border-top-color: var(--fill-color);\n",
              "    }\n",
              "    60% {\n",
              "      border-color: transparent;\n",
              "      border-right-color: var(--fill-color);\n",
              "    }\n",
              "    80% {\n",
              "      border-color: transparent;\n",
              "      border-right-color: var(--fill-color);\n",
              "      border-bottom-color: var(--fill-color);\n",
              "    }\n",
              "    90% {\n",
              "      border-color: transparent;\n",
              "      border-bottom-color: var(--fill-color);\n",
              "    }\n",
              "  }\n",
              "</style>\n",
              "\n",
              "  <script>\n",
              "    async function quickchart(key) {\n",
              "      const quickchartButtonEl =\n",
              "        document.querySelector('#' + key + ' button');\n",
              "      quickchartButtonEl.disabled = true;  // To prevent multiple clicks.\n",
              "      quickchartButtonEl.classList.add('colab-df-spinner');\n",
              "      try {\n",
              "        const charts = await google.colab.kernel.invokeFunction(\n",
              "            'suggestCharts', [key], {});\n",
              "      } catch (error) {\n",
              "        console.error('Error during call to suggestCharts:', error);\n",
              "      }\n",
              "      quickchartButtonEl.classList.remove('colab-df-spinner');\n",
              "      quickchartButtonEl.classList.add('colab-df-quickchart-complete');\n",
              "    }\n",
              "    (() => {\n",
              "      let quickchartButtonEl =\n",
              "        document.querySelector('#df-6b7cd6b9-f01b-4953-8f84-381a2dfdbaef button');\n",
              "      quickchartButtonEl.style.display =\n",
              "        google.colab.kernel.accessAllowed ? 'block' : 'none';\n",
              "    })();\n",
              "  </script>\n",
              "</div>\n",
              "    </div>\n",
              "  </div>\n"
            ]
          },
          "metadata": {},
          "execution_count": 26
        }
      ],
      "source": [
        "df.head()"
      ]
    },
    {
      "cell_type": "code",
      "execution_count": null,
      "metadata": {
        "id": "2uB1C2UH9Oe4"
      },
      "outputs": [],
      "source": [
        "import string\n",
        "punctuations_list = string.punctuation"
      ]
    },
    {
      "cell_type": "code",
      "execution_count": null,
      "metadata": {
        "id": "Q8eK6o0Z9e4B"
      },
      "outputs": [],
      "source": [
        "def remove_punctuations(text):\n",
        "    temp = str.maketrans('', '', punctuations_list)\n",
        "    return text.translate(temp)"
      ]
    },
    {
      "cell_type": "code",
      "execution_count": null,
      "metadata": {
        "colab": {
          "base_uri": "https://localhost:8080/",
          "height": 206
        },
        "id": "pRYMG6o_9lU4",
        "outputId": "bcc235c8-36ad-43c2-a553-fa25dcf524aa"
      },
      "outputs": [
        {
          "output_type": "execute_result",
          "data": {
            "text/plain": [
              "   Id_Number                                   Patient Question  \\\n",
              "0       4500  hello i have a beautifulsmartoutgoing and amaz...   \n",
              "1       4501  since i was about 16 years old i’ve had these ...   \n",
              "2       4502   so i’ve been dating on and off this guy for a...   \n",
              "3       4503  my parents got divorced in 2004 my mother has ...   \n",
              "4       4504  i don’t really know how to explain the situati...   \n",
              "\n",
              "                                      Distorted part  Dominant Distortion  \n",
              "0  the voice are always fimilar (someone she know...                    9  \n",
              "1  i feel trapped inside my disgusting self and l...                    3  \n",
              "2                                                  0                    7  \n",
              "3                                                  0                    7  \n",
              "4  i refused to go because i didn’t know if it wa...                    2  "
            ],
            "text/html": [
              "\n",
              "  <div id=\"df-9a7d73bb-2079-4a84-9ac7-f6bc67ddcdbd\" class=\"colab-df-container\">\n",
              "    <div>\n",
              "<style scoped>\n",
              "    .dataframe tbody tr th:only-of-type {\n",
              "        vertical-align: middle;\n",
              "    }\n",
              "\n",
              "    .dataframe tbody tr th {\n",
              "        vertical-align: top;\n",
              "    }\n",
              "\n",
              "    .dataframe thead th {\n",
              "        text-align: right;\n",
              "    }\n",
              "</style>\n",
              "<table border=\"1\" class=\"dataframe\">\n",
              "  <thead>\n",
              "    <tr style=\"text-align: right;\">\n",
              "      <th></th>\n",
              "      <th>Id_Number</th>\n",
              "      <th>Patient Question</th>\n",
              "      <th>Distorted part</th>\n",
              "      <th>Dominant Distortion</th>\n",
              "    </tr>\n",
              "  </thead>\n",
              "  <tbody>\n",
              "    <tr>\n",
              "      <th>0</th>\n",
              "      <td>4500</td>\n",
              "      <td>hello i have a beautifulsmartoutgoing and amaz...</td>\n",
              "      <td>the voice are always fimilar (someone she know...</td>\n",
              "      <td>9</td>\n",
              "    </tr>\n",
              "    <tr>\n",
              "      <th>1</th>\n",
              "      <td>4501</td>\n",
              "      <td>since i was about 16 years old i’ve had these ...</td>\n",
              "      <td>i feel trapped inside my disgusting self and l...</td>\n",
              "      <td>3</td>\n",
              "    </tr>\n",
              "    <tr>\n",
              "      <th>2</th>\n",
              "      <td>4502</td>\n",
              "      <td>so i’ve been dating on and off this guy for a...</td>\n",
              "      <td>0</td>\n",
              "      <td>7</td>\n",
              "    </tr>\n",
              "    <tr>\n",
              "      <th>3</th>\n",
              "      <td>4503</td>\n",
              "      <td>my parents got divorced in 2004 my mother has ...</td>\n",
              "      <td>0</td>\n",
              "      <td>7</td>\n",
              "    </tr>\n",
              "    <tr>\n",
              "      <th>4</th>\n",
              "      <td>4504</td>\n",
              "      <td>i don’t really know how to explain the situati...</td>\n",
              "      <td>i refused to go because i didn’t know if it wa...</td>\n",
              "      <td>2</td>\n",
              "    </tr>\n",
              "  </tbody>\n",
              "</table>\n",
              "</div>\n",
              "    <div class=\"colab-df-buttons\">\n",
              "\n",
              "  <div class=\"colab-df-container\">\n",
              "    <button class=\"colab-df-convert\" onclick=\"convertToInteractive('df-9a7d73bb-2079-4a84-9ac7-f6bc67ddcdbd')\"\n",
              "            title=\"Convert this dataframe to an interactive table.\"\n",
              "            style=\"display:none;\">\n",
              "\n",
              "  <svg xmlns=\"http://www.w3.org/2000/svg\" height=\"24px\" viewBox=\"0 -960 960 960\">\n",
              "    <path d=\"M120-120v-720h720v720H120Zm60-500h600v-160H180v160Zm220 220h160v-160H400v160Zm0 220h160v-160H400v160ZM180-400h160v-160H180v160Zm440 0h160v-160H620v160ZM180-180h160v-160H180v160Zm440 0h160v-160H620v160Z\"/>\n",
              "  </svg>\n",
              "    </button>\n",
              "\n",
              "  <style>\n",
              "    .colab-df-container {\n",
              "      display:flex;\n",
              "      gap: 12px;\n",
              "    }\n",
              "\n",
              "    .colab-df-convert {\n",
              "      background-color: #E8F0FE;\n",
              "      border: none;\n",
              "      border-radius: 50%;\n",
              "      cursor: pointer;\n",
              "      display: none;\n",
              "      fill: #1967D2;\n",
              "      height: 32px;\n",
              "      padding: 0 0 0 0;\n",
              "      width: 32px;\n",
              "    }\n",
              "\n",
              "    .colab-df-convert:hover {\n",
              "      background-color: #E2EBFA;\n",
              "      box-shadow: 0px 1px 2px rgba(60, 64, 67, 0.3), 0px 1px 3px 1px rgba(60, 64, 67, 0.15);\n",
              "      fill: #174EA6;\n",
              "    }\n",
              "\n",
              "    .colab-df-buttons div {\n",
              "      margin-bottom: 4px;\n",
              "    }\n",
              "\n",
              "    [theme=dark] .colab-df-convert {\n",
              "      background-color: #3B4455;\n",
              "      fill: #D2E3FC;\n",
              "    }\n",
              "\n",
              "    [theme=dark] .colab-df-convert:hover {\n",
              "      background-color: #434B5C;\n",
              "      box-shadow: 0px 1px 3px 1px rgba(0, 0, 0, 0.15);\n",
              "      filter: drop-shadow(0px 1px 2px rgba(0, 0, 0, 0.3));\n",
              "      fill: #FFFFFF;\n",
              "    }\n",
              "  </style>\n",
              "\n",
              "    <script>\n",
              "      const buttonEl =\n",
              "        document.querySelector('#df-9a7d73bb-2079-4a84-9ac7-f6bc67ddcdbd button.colab-df-convert');\n",
              "      buttonEl.style.display =\n",
              "        google.colab.kernel.accessAllowed ? 'block' : 'none';\n",
              "\n",
              "      async function convertToInteractive(key) {\n",
              "        const element = document.querySelector('#df-9a7d73bb-2079-4a84-9ac7-f6bc67ddcdbd');\n",
              "        const dataTable =\n",
              "          await google.colab.kernel.invokeFunction('convertToInteractive',\n",
              "                                                    [key], {});\n",
              "        if (!dataTable) return;\n",
              "\n",
              "        const docLinkHtml = 'Like what you see? Visit the ' +\n",
              "          '<a target=\"_blank\" href=https://colab.research.google.com/notebooks/data_table.ipynb>data table notebook</a>'\n",
              "          + ' to learn more about interactive tables.';\n",
              "        element.innerHTML = '';\n",
              "        dataTable['output_type'] = 'display_data';\n",
              "        await google.colab.output.renderOutput(dataTable, element);\n",
              "        const docLink = document.createElement('div');\n",
              "        docLink.innerHTML = docLinkHtml;\n",
              "        element.appendChild(docLink);\n",
              "      }\n",
              "    </script>\n",
              "  </div>\n",
              "\n",
              "\n",
              "<div id=\"df-c7141b15-597d-44bb-80c5-7b52d38d909e\">\n",
              "  <button class=\"colab-df-quickchart\" onclick=\"quickchart('df-c7141b15-597d-44bb-80c5-7b52d38d909e')\"\n",
              "            title=\"Suggest charts.\"\n",
              "            style=\"display:none;\">\n",
              "\n",
              "<svg xmlns=\"http://www.w3.org/2000/svg\" height=\"24px\"viewBox=\"0 0 24 24\"\n",
              "     width=\"24px\">\n",
              "    <g>\n",
              "        <path d=\"M19 3H5c-1.1 0-2 .9-2 2v14c0 1.1.9 2 2 2h14c1.1 0 2-.9 2-2V5c0-1.1-.9-2-2-2zM9 17H7v-7h2v7zm4 0h-2V7h2v10zm4 0h-2v-4h2v4z\"/>\n",
              "    </g>\n",
              "</svg>\n",
              "  </button>\n",
              "\n",
              "<style>\n",
              "  .colab-df-quickchart {\n",
              "      --bg-color: #E8F0FE;\n",
              "      --fill-color: #1967D2;\n",
              "      --hover-bg-color: #E2EBFA;\n",
              "      --hover-fill-color: #174EA6;\n",
              "      --disabled-fill-color: #AAA;\n",
              "      --disabled-bg-color: #DDD;\n",
              "  }\n",
              "\n",
              "  [theme=dark] .colab-df-quickchart {\n",
              "      --bg-color: #3B4455;\n",
              "      --fill-color: #D2E3FC;\n",
              "      --hover-bg-color: #434B5C;\n",
              "      --hover-fill-color: #FFFFFF;\n",
              "      --disabled-bg-color: #3B4455;\n",
              "      --disabled-fill-color: #666;\n",
              "  }\n",
              "\n",
              "  .colab-df-quickchart {\n",
              "    background-color: var(--bg-color);\n",
              "    border: none;\n",
              "    border-radius: 50%;\n",
              "    cursor: pointer;\n",
              "    display: none;\n",
              "    fill: var(--fill-color);\n",
              "    height: 32px;\n",
              "    padding: 0;\n",
              "    width: 32px;\n",
              "  }\n",
              "\n",
              "  .colab-df-quickchart:hover {\n",
              "    background-color: var(--hover-bg-color);\n",
              "    box-shadow: 0 1px 2px rgba(60, 64, 67, 0.3), 0 1px 3px 1px rgba(60, 64, 67, 0.15);\n",
              "    fill: var(--button-hover-fill-color);\n",
              "  }\n",
              "\n",
              "  .colab-df-quickchart-complete:disabled,\n",
              "  .colab-df-quickchart-complete:disabled:hover {\n",
              "    background-color: var(--disabled-bg-color);\n",
              "    fill: var(--disabled-fill-color);\n",
              "    box-shadow: none;\n",
              "  }\n",
              "\n",
              "  .colab-df-spinner {\n",
              "    border: 2px solid var(--fill-color);\n",
              "    border-color: transparent;\n",
              "    border-bottom-color: var(--fill-color);\n",
              "    animation:\n",
              "      spin 1s steps(1) infinite;\n",
              "  }\n",
              "\n",
              "  @keyframes spin {\n",
              "    0% {\n",
              "      border-color: transparent;\n",
              "      border-bottom-color: var(--fill-color);\n",
              "      border-left-color: var(--fill-color);\n",
              "    }\n",
              "    20% {\n",
              "      border-color: transparent;\n",
              "      border-left-color: var(--fill-color);\n",
              "      border-top-color: var(--fill-color);\n",
              "    }\n",
              "    30% {\n",
              "      border-color: transparent;\n",
              "      border-left-color: var(--fill-color);\n",
              "      border-top-color: var(--fill-color);\n",
              "      border-right-color: var(--fill-color);\n",
              "    }\n",
              "    40% {\n",
              "      border-color: transparent;\n",
              "      border-right-color: var(--fill-color);\n",
              "      border-top-color: var(--fill-color);\n",
              "    }\n",
              "    60% {\n",
              "      border-color: transparent;\n",
              "      border-right-color: var(--fill-color);\n",
              "    }\n",
              "    80% {\n",
              "      border-color: transparent;\n",
              "      border-right-color: var(--fill-color);\n",
              "      border-bottom-color: var(--fill-color);\n",
              "    }\n",
              "    90% {\n",
              "      border-color: transparent;\n",
              "      border-bottom-color: var(--fill-color);\n",
              "    }\n",
              "  }\n",
              "</style>\n",
              "\n",
              "  <script>\n",
              "    async function quickchart(key) {\n",
              "      const quickchartButtonEl =\n",
              "        document.querySelector('#' + key + ' button');\n",
              "      quickchartButtonEl.disabled = true;  // To prevent multiple clicks.\n",
              "      quickchartButtonEl.classList.add('colab-df-spinner');\n",
              "      try {\n",
              "        const charts = await google.colab.kernel.invokeFunction(\n",
              "            'suggestCharts', [key], {});\n",
              "      } catch (error) {\n",
              "        console.error('Error during call to suggestCharts:', error);\n",
              "      }\n",
              "      quickchartButtonEl.classList.remove('colab-df-spinner');\n",
              "      quickchartButtonEl.classList.add('colab-df-quickchart-complete');\n",
              "    }\n",
              "    (() => {\n",
              "      let quickchartButtonEl =\n",
              "        document.querySelector('#df-c7141b15-597d-44bb-80c5-7b52d38d909e button');\n",
              "      quickchartButtonEl.style.display =\n",
              "        google.colab.kernel.accessAllowed ? 'block' : 'none';\n",
              "    })();\n",
              "  </script>\n",
              "</div>\n",
              "    </div>\n",
              "  </div>\n"
            ]
          },
          "metadata": {},
          "execution_count": 29
        }
      ],
      "source": [
        "df['Patient Question']= df['Patient Question'].apply(lambda x: remove_punctuations(x))\n",
        "df.head()"
      ]
    },
    {
      "cell_type": "code",
      "execution_count": null,
      "metadata": {
        "colab": {
          "base_uri": "https://localhost:8080/",
          "height": 206
        },
        "id": "2AAo3_oU9zk3",
        "outputId": "8e7ade91-297c-44cd-9a7e-0dd15b0d6ac7"
      },
      "outputs": [
        {
          "output_type": "execute_result",
          "data": {
            "text/plain": [
              "   Id_Number                                   Patient Question  \\\n",
              "0       4500  hello i have a beautifulsmartoutgoing and amaz...   \n",
              "1       4501  since i was about 16 years old i’ve had these ...   \n",
              "2       4502   so i’ve been dating on and off this guy for a...   \n",
              "3       4503  my parents got divorced in 2004 my mother has ...   \n",
              "4       4504  i don’t really know how to explain the situati...   \n",
              "\n",
              "                                      Distorted part  Dominant Distortion  \n",
              "0  the voice are always fimilar someone she knows...                    9  \n",
              "1  i feel trapped inside my disgusting self and l...                    3  \n",
              "2                                                  0                    7  \n",
              "3                                                  0                    7  \n",
              "4  i refused to go because i didn’t know if it wa...                    2  "
            ],
            "text/html": [
              "\n",
              "  <div id=\"df-43c7d3e6-44a4-4000-8ead-0f8bae1fa3c8\" class=\"colab-df-container\">\n",
              "    <div>\n",
              "<style scoped>\n",
              "    .dataframe tbody tr th:only-of-type {\n",
              "        vertical-align: middle;\n",
              "    }\n",
              "\n",
              "    .dataframe tbody tr th {\n",
              "        vertical-align: top;\n",
              "    }\n",
              "\n",
              "    .dataframe thead th {\n",
              "        text-align: right;\n",
              "    }\n",
              "</style>\n",
              "<table border=\"1\" class=\"dataframe\">\n",
              "  <thead>\n",
              "    <tr style=\"text-align: right;\">\n",
              "      <th></th>\n",
              "      <th>Id_Number</th>\n",
              "      <th>Patient Question</th>\n",
              "      <th>Distorted part</th>\n",
              "      <th>Dominant Distortion</th>\n",
              "    </tr>\n",
              "  </thead>\n",
              "  <tbody>\n",
              "    <tr>\n",
              "      <th>0</th>\n",
              "      <td>4500</td>\n",
              "      <td>hello i have a beautifulsmartoutgoing and amaz...</td>\n",
              "      <td>the voice are always fimilar someone she knows...</td>\n",
              "      <td>9</td>\n",
              "    </tr>\n",
              "    <tr>\n",
              "      <th>1</th>\n",
              "      <td>4501</td>\n",
              "      <td>since i was about 16 years old i’ve had these ...</td>\n",
              "      <td>i feel trapped inside my disgusting self and l...</td>\n",
              "      <td>3</td>\n",
              "    </tr>\n",
              "    <tr>\n",
              "      <th>2</th>\n",
              "      <td>4502</td>\n",
              "      <td>so i’ve been dating on and off this guy for a...</td>\n",
              "      <td>0</td>\n",
              "      <td>7</td>\n",
              "    </tr>\n",
              "    <tr>\n",
              "      <th>3</th>\n",
              "      <td>4503</td>\n",
              "      <td>my parents got divorced in 2004 my mother has ...</td>\n",
              "      <td>0</td>\n",
              "      <td>7</td>\n",
              "    </tr>\n",
              "    <tr>\n",
              "      <th>4</th>\n",
              "      <td>4504</td>\n",
              "      <td>i don’t really know how to explain the situati...</td>\n",
              "      <td>i refused to go because i didn’t know if it wa...</td>\n",
              "      <td>2</td>\n",
              "    </tr>\n",
              "  </tbody>\n",
              "</table>\n",
              "</div>\n",
              "    <div class=\"colab-df-buttons\">\n",
              "\n",
              "  <div class=\"colab-df-container\">\n",
              "    <button class=\"colab-df-convert\" onclick=\"convertToInteractive('df-43c7d3e6-44a4-4000-8ead-0f8bae1fa3c8')\"\n",
              "            title=\"Convert this dataframe to an interactive table.\"\n",
              "            style=\"display:none;\">\n",
              "\n",
              "  <svg xmlns=\"http://www.w3.org/2000/svg\" height=\"24px\" viewBox=\"0 -960 960 960\">\n",
              "    <path d=\"M120-120v-720h720v720H120Zm60-500h600v-160H180v160Zm220 220h160v-160H400v160Zm0 220h160v-160H400v160ZM180-400h160v-160H180v160Zm440 0h160v-160H620v160ZM180-180h160v-160H180v160Zm440 0h160v-160H620v160Z\"/>\n",
              "  </svg>\n",
              "    </button>\n",
              "\n",
              "  <style>\n",
              "    .colab-df-container {\n",
              "      display:flex;\n",
              "      gap: 12px;\n",
              "    }\n",
              "\n",
              "    .colab-df-convert {\n",
              "      background-color: #E8F0FE;\n",
              "      border: none;\n",
              "      border-radius: 50%;\n",
              "      cursor: pointer;\n",
              "      display: none;\n",
              "      fill: #1967D2;\n",
              "      height: 32px;\n",
              "      padding: 0 0 0 0;\n",
              "      width: 32px;\n",
              "    }\n",
              "\n",
              "    .colab-df-convert:hover {\n",
              "      background-color: #E2EBFA;\n",
              "      box-shadow: 0px 1px 2px rgba(60, 64, 67, 0.3), 0px 1px 3px 1px rgba(60, 64, 67, 0.15);\n",
              "      fill: #174EA6;\n",
              "    }\n",
              "\n",
              "    .colab-df-buttons div {\n",
              "      margin-bottom: 4px;\n",
              "    }\n",
              "\n",
              "    [theme=dark] .colab-df-convert {\n",
              "      background-color: #3B4455;\n",
              "      fill: #D2E3FC;\n",
              "    }\n",
              "\n",
              "    [theme=dark] .colab-df-convert:hover {\n",
              "      background-color: #434B5C;\n",
              "      box-shadow: 0px 1px 3px 1px rgba(0, 0, 0, 0.15);\n",
              "      filter: drop-shadow(0px 1px 2px rgba(0, 0, 0, 0.3));\n",
              "      fill: #FFFFFF;\n",
              "    }\n",
              "  </style>\n",
              "\n",
              "    <script>\n",
              "      const buttonEl =\n",
              "        document.querySelector('#df-43c7d3e6-44a4-4000-8ead-0f8bae1fa3c8 button.colab-df-convert');\n",
              "      buttonEl.style.display =\n",
              "        google.colab.kernel.accessAllowed ? 'block' : 'none';\n",
              "\n",
              "      async function convertToInteractive(key) {\n",
              "        const element = document.querySelector('#df-43c7d3e6-44a4-4000-8ead-0f8bae1fa3c8');\n",
              "        const dataTable =\n",
              "          await google.colab.kernel.invokeFunction('convertToInteractive',\n",
              "                                                    [key], {});\n",
              "        if (!dataTable) return;\n",
              "\n",
              "        const docLinkHtml = 'Like what you see? Visit the ' +\n",
              "          '<a target=\"_blank\" href=https://colab.research.google.com/notebooks/data_table.ipynb>data table notebook</a>'\n",
              "          + ' to learn more about interactive tables.';\n",
              "        element.innerHTML = '';\n",
              "        dataTable['output_type'] = 'display_data';\n",
              "        await google.colab.output.renderOutput(dataTable, element);\n",
              "        const docLink = document.createElement('div');\n",
              "        docLink.innerHTML = docLinkHtml;\n",
              "        element.appendChild(docLink);\n",
              "      }\n",
              "    </script>\n",
              "  </div>\n",
              "\n",
              "\n",
              "<div id=\"df-d00bf475-2f27-45c0-86b2-4ef617f39e7a\">\n",
              "  <button class=\"colab-df-quickchart\" onclick=\"quickchart('df-d00bf475-2f27-45c0-86b2-4ef617f39e7a')\"\n",
              "            title=\"Suggest charts.\"\n",
              "            style=\"display:none;\">\n",
              "\n",
              "<svg xmlns=\"http://www.w3.org/2000/svg\" height=\"24px\"viewBox=\"0 0 24 24\"\n",
              "     width=\"24px\">\n",
              "    <g>\n",
              "        <path d=\"M19 3H5c-1.1 0-2 .9-2 2v14c0 1.1.9 2 2 2h14c1.1 0 2-.9 2-2V5c0-1.1-.9-2-2-2zM9 17H7v-7h2v7zm4 0h-2V7h2v10zm4 0h-2v-4h2v4z\"/>\n",
              "    </g>\n",
              "</svg>\n",
              "  </button>\n",
              "\n",
              "<style>\n",
              "  .colab-df-quickchart {\n",
              "      --bg-color: #E8F0FE;\n",
              "      --fill-color: #1967D2;\n",
              "      --hover-bg-color: #E2EBFA;\n",
              "      --hover-fill-color: #174EA6;\n",
              "      --disabled-fill-color: #AAA;\n",
              "      --disabled-bg-color: #DDD;\n",
              "  }\n",
              "\n",
              "  [theme=dark] .colab-df-quickchart {\n",
              "      --bg-color: #3B4455;\n",
              "      --fill-color: #D2E3FC;\n",
              "      --hover-bg-color: #434B5C;\n",
              "      --hover-fill-color: #FFFFFF;\n",
              "      --disabled-bg-color: #3B4455;\n",
              "      --disabled-fill-color: #666;\n",
              "  }\n",
              "\n",
              "  .colab-df-quickchart {\n",
              "    background-color: var(--bg-color);\n",
              "    border: none;\n",
              "    border-radius: 50%;\n",
              "    cursor: pointer;\n",
              "    display: none;\n",
              "    fill: var(--fill-color);\n",
              "    height: 32px;\n",
              "    padding: 0;\n",
              "    width: 32px;\n",
              "  }\n",
              "\n",
              "  .colab-df-quickchart:hover {\n",
              "    background-color: var(--hover-bg-color);\n",
              "    box-shadow: 0 1px 2px rgba(60, 64, 67, 0.3), 0 1px 3px 1px rgba(60, 64, 67, 0.15);\n",
              "    fill: var(--button-hover-fill-color);\n",
              "  }\n",
              "\n",
              "  .colab-df-quickchart-complete:disabled,\n",
              "  .colab-df-quickchart-complete:disabled:hover {\n",
              "    background-color: var(--disabled-bg-color);\n",
              "    fill: var(--disabled-fill-color);\n",
              "    box-shadow: none;\n",
              "  }\n",
              "\n",
              "  .colab-df-spinner {\n",
              "    border: 2px solid var(--fill-color);\n",
              "    border-color: transparent;\n",
              "    border-bottom-color: var(--fill-color);\n",
              "    animation:\n",
              "      spin 1s steps(1) infinite;\n",
              "  }\n",
              "\n",
              "  @keyframes spin {\n",
              "    0% {\n",
              "      border-color: transparent;\n",
              "      border-bottom-color: var(--fill-color);\n",
              "      border-left-color: var(--fill-color);\n",
              "    }\n",
              "    20% {\n",
              "      border-color: transparent;\n",
              "      border-left-color: var(--fill-color);\n",
              "      border-top-color: var(--fill-color);\n",
              "    }\n",
              "    30% {\n",
              "      border-color: transparent;\n",
              "      border-left-color: var(--fill-color);\n",
              "      border-top-color: var(--fill-color);\n",
              "      border-right-color: var(--fill-color);\n",
              "    }\n",
              "    40% {\n",
              "      border-color: transparent;\n",
              "      border-right-color: var(--fill-color);\n",
              "      border-top-color: var(--fill-color);\n",
              "    }\n",
              "    60% {\n",
              "      border-color: transparent;\n",
              "      border-right-color: var(--fill-color);\n",
              "    }\n",
              "    80% {\n",
              "      border-color: transparent;\n",
              "      border-right-color: var(--fill-color);\n",
              "      border-bottom-color: var(--fill-color);\n",
              "    }\n",
              "    90% {\n",
              "      border-color: transparent;\n",
              "      border-bottom-color: var(--fill-color);\n",
              "    }\n",
              "  }\n",
              "</style>\n",
              "\n",
              "  <script>\n",
              "    async function quickchart(key) {\n",
              "      const quickchartButtonEl =\n",
              "        document.querySelector('#' + key + ' button');\n",
              "      quickchartButtonEl.disabled = true;  // To prevent multiple clicks.\n",
              "      quickchartButtonEl.classList.add('colab-df-spinner');\n",
              "      try {\n",
              "        const charts = await google.colab.kernel.invokeFunction(\n",
              "            'suggestCharts', [key], {});\n",
              "      } catch (error) {\n",
              "        console.error('Error during call to suggestCharts:', error);\n",
              "      }\n",
              "      quickchartButtonEl.classList.remove('colab-df-spinner');\n",
              "      quickchartButtonEl.classList.add('colab-df-quickchart-complete');\n",
              "    }\n",
              "    (() => {\n",
              "      let quickchartButtonEl =\n",
              "        document.querySelector('#df-d00bf475-2f27-45c0-86b2-4ef617f39e7a button');\n",
              "      quickchartButtonEl.style.display =\n",
              "        google.colab.kernel.accessAllowed ? 'block' : 'none';\n",
              "    })();\n",
              "  </script>\n",
              "</div>\n",
              "    </div>\n",
              "  </div>\n"
            ]
          },
          "metadata": {},
          "execution_count": 30
        }
      ],
      "source": [
        "df['Distorted part']= df['Distorted part'].apply(lambda x: remove_punctuations(x))\n",
        "df.head()"
      ]
    },
    {
      "cell_type": "code",
      "execution_count": null,
      "metadata": {
        "id": "k2JPPNMv-VMn"
      },
      "outputs": [],
      "source": [
        "from nltk.stem import WordNetLemmatizer\n",
        "from wordcloud import WordCloud"
      ]
    },
    {
      "cell_type": "code",
      "execution_count": null,
      "metadata": {
        "colab": {
          "base_uri": "https://localhost:8080/"
        },
        "id": "0LaUaSOd_fOO",
        "outputId": "b58c4260-93ea-4d98-b25d-c73c1471e488"
      },
      "outputs": [
        {
          "output_type": "stream",
          "name": "stderr",
          "text": [
            "[nltk_data] Downloading package wordnet to /root/nltk_data...\n"
          ]
        },
        {
          "output_type": "execute_result",
          "data": {
            "text/plain": [
              "True"
            ]
          },
          "metadata": {},
          "execution_count": 32
        }
      ],
      "source": [
        "nltk.download('wordnet')"
      ]
    },
    {
      "cell_type": "code",
      "execution_count": null,
      "metadata": {
        "id": "pcZtVFJC96pS"
      },
      "outputs": [],
      "source": [
        "def remove_stopwords(text):\n",
        "    stop_words = stopwords.words('english')\n",
        "\n",
        "    important_words = []\n",
        "\n",
        "    for word in str(text).split():\n",
        "\n",
        "        if word not in stop_words:\n",
        "\n",
        "            lemmatizer = WordNetLemmatizer()\n",
        "            lemmatizer.lemmatize(word)\n",
        "\n",
        "            important_words.append(word)\n",
        "\n",
        "    output = \" \".join(important_words)\n",
        "\n",
        "    return output\n"
      ]
    },
    {
      "cell_type": "code",
      "execution_count": null,
      "metadata": {
        "colab": {
          "base_uri": "https://localhost:8080/",
          "height": 206
        },
        "id": "tg5NfPJU-Y7_",
        "outputId": "64a18589-0529-4a1e-d030-fdfec9d384e7"
      },
      "outputs": [
        {
          "output_type": "execute_result",
          "data": {
            "text/plain": [
              "   Id_Number                                   Patient Question  \\\n",
              "0       4500  hello beautifulsmartoutgoing amazing five year...   \n",
              "1       4501  since 16 years old i’ve “spells” it’s impossib...   \n",
              "2       4502  i’ve dating guy almost 3 years 3 years younger...   \n",
              "3       4503  parents got divorced 2004 mother never recover...   \n",
              "4       4504  don’t really know explain situation deal lot f...   \n",
              "\n",
              "                                      Distorted part  Dominant Distortion  \n",
              "0  the voice are always fimilar someone she knows...                    9  \n",
              "1  i feel trapped inside my disgusting self and l...                    3  \n",
              "2                                                  0                    7  \n",
              "3                                                  0                    7  \n",
              "4  i refused to go because i didn’t know if it wa...                    2  "
            ],
            "text/html": [
              "\n",
              "  <div id=\"df-c741cba9-7c7a-4197-9494-4174ff58c8d5\" class=\"colab-df-container\">\n",
              "    <div>\n",
              "<style scoped>\n",
              "    .dataframe tbody tr th:only-of-type {\n",
              "        vertical-align: middle;\n",
              "    }\n",
              "\n",
              "    .dataframe tbody tr th {\n",
              "        vertical-align: top;\n",
              "    }\n",
              "\n",
              "    .dataframe thead th {\n",
              "        text-align: right;\n",
              "    }\n",
              "</style>\n",
              "<table border=\"1\" class=\"dataframe\">\n",
              "  <thead>\n",
              "    <tr style=\"text-align: right;\">\n",
              "      <th></th>\n",
              "      <th>Id_Number</th>\n",
              "      <th>Patient Question</th>\n",
              "      <th>Distorted part</th>\n",
              "      <th>Dominant Distortion</th>\n",
              "    </tr>\n",
              "  </thead>\n",
              "  <tbody>\n",
              "    <tr>\n",
              "      <th>0</th>\n",
              "      <td>4500</td>\n",
              "      <td>hello beautifulsmartoutgoing amazing five year...</td>\n",
              "      <td>the voice are always fimilar someone she knows...</td>\n",
              "      <td>9</td>\n",
              "    </tr>\n",
              "    <tr>\n",
              "      <th>1</th>\n",
              "      <td>4501</td>\n",
              "      <td>since 16 years old i’ve “spells” it’s impossib...</td>\n",
              "      <td>i feel trapped inside my disgusting self and l...</td>\n",
              "      <td>3</td>\n",
              "    </tr>\n",
              "    <tr>\n",
              "      <th>2</th>\n",
              "      <td>4502</td>\n",
              "      <td>i’ve dating guy almost 3 years 3 years younger...</td>\n",
              "      <td>0</td>\n",
              "      <td>7</td>\n",
              "    </tr>\n",
              "    <tr>\n",
              "      <th>3</th>\n",
              "      <td>4503</td>\n",
              "      <td>parents got divorced 2004 mother never recover...</td>\n",
              "      <td>0</td>\n",
              "      <td>7</td>\n",
              "    </tr>\n",
              "    <tr>\n",
              "      <th>4</th>\n",
              "      <td>4504</td>\n",
              "      <td>don’t really know explain situation deal lot f...</td>\n",
              "      <td>i refused to go because i didn’t know if it wa...</td>\n",
              "      <td>2</td>\n",
              "    </tr>\n",
              "  </tbody>\n",
              "</table>\n",
              "</div>\n",
              "    <div class=\"colab-df-buttons\">\n",
              "\n",
              "  <div class=\"colab-df-container\">\n",
              "    <button class=\"colab-df-convert\" onclick=\"convertToInteractive('df-c741cba9-7c7a-4197-9494-4174ff58c8d5')\"\n",
              "            title=\"Convert this dataframe to an interactive table.\"\n",
              "            style=\"display:none;\">\n",
              "\n",
              "  <svg xmlns=\"http://www.w3.org/2000/svg\" height=\"24px\" viewBox=\"0 -960 960 960\">\n",
              "    <path d=\"M120-120v-720h720v720H120Zm60-500h600v-160H180v160Zm220 220h160v-160H400v160Zm0 220h160v-160H400v160ZM180-400h160v-160H180v160Zm440 0h160v-160H620v160ZM180-180h160v-160H180v160Zm440 0h160v-160H620v160Z\"/>\n",
              "  </svg>\n",
              "    </button>\n",
              "\n",
              "  <style>\n",
              "    .colab-df-container {\n",
              "      display:flex;\n",
              "      gap: 12px;\n",
              "    }\n",
              "\n",
              "    .colab-df-convert {\n",
              "      background-color: #E8F0FE;\n",
              "      border: none;\n",
              "      border-radius: 50%;\n",
              "      cursor: pointer;\n",
              "      display: none;\n",
              "      fill: #1967D2;\n",
              "      height: 32px;\n",
              "      padding: 0 0 0 0;\n",
              "      width: 32px;\n",
              "    }\n",
              "\n",
              "    .colab-df-convert:hover {\n",
              "      background-color: #E2EBFA;\n",
              "      box-shadow: 0px 1px 2px rgba(60, 64, 67, 0.3), 0px 1px 3px 1px rgba(60, 64, 67, 0.15);\n",
              "      fill: #174EA6;\n",
              "    }\n",
              "\n",
              "    .colab-df-buttons div {\n",
              "      margin-bottom: 4px;\n",
              "    }\n",
              "\n",
              "    [theme=dark] .colab-df-convert {\n",
              "      background-color: #3B4455;\n",
              "      fill: #D2E3FC;\n",
              "    }\n",
              "\n",
              "    [theme=dark] .colab-df-convert:hover {\n",
              "      background-color: #434B5C;\n",
              "      box-shadow: 0px 1px 3px 1px rgba(0, 0, 0, 0.15);\n",
              "      filter: drop-shadow(0px 1px 2px rgba(0, 0, 0, 0.3));\n",
              "      fill: #FFFFFF;\n",
              "    }\n",
              "  </style>\n",
              "\n",
              "    <script>\n",
              "      const buttonEl =\n",
              "        document.querySelector('#df-c741cba9-7c7a-4197-9494-4174ff58c8d5 button.colab-df-convert');\n",
              "      buttonEl.style.display =\n",
              "        google.colab.kernel.accessAllowed ? 'block' : 'none';\n",
              "\n",
              "      async function convertToInteractive(key) {\n",
              "        const element = document.querySelector('#df-c741cba9-7c7a-4197-9494-4174ff58c8d5');\n",
              "        const dataTable =\n",
              "          await google.colab.kernel.invokeFunction('convertToInteractive',\n",
              "                                                    [key], {});\n",
              "        if (!dataTable) return;\n",
              "\n",
              "        const docLinkHtml = 'Like what you see? Visit the ' +\n",
              "          '<a target=\"_blank\" href=https://colab.research.google.com/notebooks/data_table.ipynb>data table notebook</a>'\n",
              "          + ' to learn more about interactive tables.';\n",
              "        element.innerHTML = '';\n",
              "        dataTable['output_type'] = 'display_data';\n",
              "        await google.colab.output.renderOutput(dataTable, element);\n",
              "        const docLink = document.createElement('div');\n",
              "        docLink.innerHTML = docLinkHtml;\n",
              "        element.appendChild(docLink);\n",
              "      }\n",
              "    </script>\n",
              "  </div>\n",
              "\n",
              "\n",
              "<div id=\"df-c369a725-8871-4e7b-a8bd-cbf44fe0ffd2\">\n",
              "  <button class=\"colab-df-quickchart\" onclick=\"quickchart('df-c369a725-8871-4e7b-a8bd-cbf44fe0ffd2')\"\n",
              "            title=\"Suggest charts.\"\n",
              "            style=\"display:none;\">\n",
              "\n",
              "<svg xmlns=\"http://www.w3.org/2000/svg\" height=\"24px\"viewBox=\"0 0 24 24\"\n",
              "     width=\"24px\">\n",
              "    <g>\n",
              "        <path d=\"M19 3H5c-1.1 0-2 .9-2 2v14c0 1.1.9 2 2 2h14c1.1 0 2-.9 2-2V5c0-1.1-.9-2-2-2zM9 17H7v-7h2v7zm4 0h-2V7h2v10zm4 0h-2v-4h2v4z\"/>\n",
              "    </g>\n",
              "</svg>\n",
              "  </button>\n",
              "\n",
              "<style>\n",
              "  .colab-df-quickchart {\n",
              "      --bg-color: #E8F0FE;\n",
              "      --fill-color: #1967D2;\n",
              "      --hover-bg-color: #E2EBFA;\n",
              "      --hover-fill-color: #174EA6;\n",
              "      --disabled-fill-color: #AAA;\n",
              "      --disabled-bg-color: #DDD;\n",
              "  }\n",
              "\n",
              "  [theme=dark] .colab-df-quickchart {\n",
              "      --bg-color: #3B4455;\n",
              "      --fill-color: #D2E3FC;\n",
              "      --hover-bg-color: #434B5C;\n",
              "      --hover-fill-color: #FFFFFF;\n",
              "      --disabled-bg-color: #3B4455;\n",
              "      --disabled-fill-color: #666;\n",
              "  }\n",
              "\n",
              "  .colab-df-quickchart {\n",
              "    background-color: var(--bg-color);\n",
              "    border: none;\n",
              "    border-radius: 50%;\n",
              "    cursor: pointer;\n",
              "    display: none;\n",
              "    fill: var(--fill-color);\n",
              "    height: 32px;\n",
              "    padding: 0;\n",
              "    width: 32px;\n",
              "  }\n",
              "\n",
              "  .colab-df-quickchart:hover {\n",
              "    background-color: var(--hover-bg-color);\n",
              "    box-shadow: 0 1px 2px rgba(60, 64, 67, 0.3), 0 1px 3px 1px rgba(60, 64, 67, 0.15);\n",
              "    fill: var(--button-hover-fill-color);\n",
              "  }\n",
              "\n",
              "  .colab-df-quickchart-complete:disabled,\n",
              "  .colab-df-quickchart-complete:disabled:hover {\n",
              "    background-color: var(--disabled-bg-color);\n",
              "    fill: var(--disabled-fill-color);\n",
              "    box-shadow: none;\n",
              "  }\n",
              "\n",
              "  .colab-df-spinner {\n",
              "    border: 2px solid var(--fill-color);\n",
              "    border-color: transparent;\n",
              "    border-bottom-color: var(--fill-color);\n",
              "    animation:\n",
              "      spin 1s steps(1) infinite;\n",
              "  }\n",
              "\n",
              "  @keyframes spin {\n",
              "    0% {\n",
              "      border-color: transparent;\n",
              "      border-bottom-color: var(--fill-color);\n",
              "      border-left-color: var(--fill-color);\n",
              "    }\n",
              "    20% {\n",
              "      border-color: transparent;\n",
              "      border-left-color: var(--fill-color);\n",
              "      border-top-color: var(--fill-color);\n",
              "    }\n",
              "    30% {\n",
              "      border-color: transparent;\n",
              "      border-left-color: var(--fill-color);\n",
              "      border-top-color: var(--fill-color);\n",
              "      border-right-color: var(--fill-color);\n",
              "    }\n",
              "    40% {\n",
              "      border-color: transparent;\n",
              "      border-right-color: var(--fill-color);\n",
              "      border-top-color: var(--fill-color);\n",
              "    }\n",
              "    60% {\n",
              "      border-color: transparent;\n",
              "      border-right-color: var(--fill-color);\n",
              "    }\n",
              "    80% {\n",
              "      border-color: transparent;\n",
              "      border-right-color: var(--fill-color);\n",
              "      border-bottom-color: var(--fill-color);\n",
              "    }\n",
              "    90% {\n",
              "      border-color: transparent;\n",
              "      border-bottom-color: var(--fill-color);\n",
              "    }\n",
              "  }\n",
              "</style>\n",
              "\n",
              "  <script>\n",
              "    async function quickchart(key) {\n",
              "      const quickchartButtonEl =\n",
              "        document.querySelector('#' + key + ' button');\n",
              "      quickchartButtonEl.disabled = true;  // To prevent multiple clicks.\n",
              "      quickchartButtonEl.classList.add('colab-df-spinner');\n",
              "      try {\n",
              "        const charts = await google.colab.kernel.invokeFunction(\n",
              "            'suggestCharts', [key], {});\n",
              "      } catch (error) {\n",
              "        console.error('Error during call to suggestCharts:', error);\n",
              "      }\n",
              "      quickchartButtonEl.classList.remove('colab-df-spinner');\n",
              "      quickchartButtonEl.classList.add('colab-df-quickchart-complete');\n",
              "    }\n",
              "    (() => {\n",
              "      let quickchartButtonEl =\n",
              "        document.querySelector('#df-c369a725-8871-4e7b-a8bd-cbf44fe0ffd2 button');\n",
              "      quickchartButtonEl.style.display =\n",
              "        google.colab.kernel.accessAllowed ? 'block' : 'none';\n",
              "    })();\n",
              "  </script>\n",
              "</div>\n",
              "    </div>\n",
              "  </div>\n"
            ]
          },
          "metadata": {},
          "execution_count": 34
        }
      ],
      "source": [
        "df['Patient Question'] = df['Patient Question'].apply(lambda text: remove_stopwords(text))\n",
        "df.head()"
      ]
    },
    {
      "cell_type": "code",
      "execution_count": null,
      "metadata": {
        "colab": {
          "base_uri": "https://localhost:8080/",
          "height": 206
        },
        "id": "yNcX3hDM_6h1",
        "outputId": "cfa49c15-96a7-4af9-f4ee-c626c0fffdf9"
      },
      "outputs": [
        {
          "output_type": "execute_result",
          "data": {
            "text/plain": [
              "   Id_Number                                   Patient Question  \\\n",
              "0       4500  hello beautifulsmartoutgoing amazing five year...   \n",
              "1       4501  since 16 years old i’ve “spells” it’s impossib...   \n",
              "2       4502  i’ve dating guy almost 3 years 3 years younger...   \n",
              "3       4503  parents got divorced 2004 mother never recover...   \n",
              "4       4504  don’t really know explain situation deal lot f...   \n",
              "\n",
              "                                      Distorted part  Dominant Distortion  \n",
              "0  voice always fimilar someone knows im concerne...                    9  \n",
              "1  feel trapped inside disgusting self like i’m w...                    3  \n",
              "2                                                  0                    7  \n",
              "3                                                  0                    7  \n",
              "4  refused go didn’t know going go record could p...                    2  "
            ],
            "text/html": [
              "\n",
              "  <div id=\"df-aa2a9be8-646d-428d-9521-2e34ceadf108\" class=\"colab-df-container\">\n",
              "    <div>\n",
              "<style scoped>\n",
              "    .dataframe tbody tr th:only-of-type {\n",
              "        vertical-align: middle;\n",
              "    }\n",
              "\n",
              "    .dataframe tbody tr th {\n",
              "        vertical-align: top;\n",
              "    }\n",
              "\n",
              "    .dataframe thead th {\n",
              "        text-align: right;\n",
              "    }\n",
              "</style>\n",
              "<table border=\"1\" class=\"dataframe\">\n",
              "  <thead>\n",
              "    <tr style=\"text-align: right;\">\n",
              "      <th></th>\n",
              "      <th>Id_Number</th>\n",
              "      <th>Patient Question</th>\n",
              "      <th>Distorted part</th>\n",
              "      <th>Dominant Distortion</th>\n",
              "    </tr>\n",
              "  </thead>\n",
              "  <tbody>\n",
              "    <tr>\n",
              "      <th>0</th>\n",
              "      <td>4500</td>\n",
              "      <td>hello beautifulsmartoutgoing amazing five year...</td>\n",
              "      <td>voice always fimilar someone knows im concerne...</td>\n",
              "      <td>9</td>\n",
              "    </tr>\n",
              "    <tr>\n",
              "      <th>1</th>\n",
              "      <td>4501</td>\n",
              "      <td>since 16 years old i’ve “spells” it’s impossib...</td>\n",
              "      <td>feel trapped inside disgusting self like i’m w...</td>\n",
              "      <td>3</td>\n",
              "    </tr>\n",
              "    <tr>\n",
              "      <th>2</th>\n",
              "      <td>4502</td>\n",
              "      <td>i’ve dating guy almost 3 years 3 years younger...</td>\n",
              "      <td>0</td>\n",
              "      <td>7</td>\n",
              "    </tr>\n",
              "    <tr>\n",
              "      <th>3</th>\n",
              "      <td>4503</td>\n",
              "      <td>parents got divorced 2004 mother never recover...</td>\n",
              "      <td>0</td>\n",
              "      <td>7</td>\n",
              "    </tr>\n",
              "    <tr>\n",
              "      <th>4</th>\n",
              "      <td>4504</td>\n",
              "      <td>don’t really know explain situation deal lot f...</td>\n",
              "      <td>refused go didn’t know going go record could p...</td>\n",
              "      <td>2</td>\n",
              "    </tr>\n",
              "  </tbody>\n",
              "</table>\n",
              "</div>\n",
              "    <div class=\"colab-df-buttons\">\n",
              "\n",
              "  <div class=\"colab-df-container\">\n",
              "    <button class=\"colab-df-convert\" onclick=\"convertToInteractive('df-aa2a9be8-646d-428d-9521-2e34ceadf108')\"\n",
              "            title=\"Convert this dataframe to an interactive table.\"\n",
              "            style=\"display:none;\">\n",
              "\n",
              "  <svg xmlns=\"http://www.w3.org/2000/svg\" height=\"24px\" viewBox=\"0 -960 960 960\">\n",
              "    <path d=\"M120-120v-720h720v720H120Zm60-500h600v-160H180v160Zm220 220h160v-160H400v160Zm0 220h160v-160H400v160ZM180-400h160v-160H180v160Zm440 0h160v-160H620v160ZM180-180h160v-160H180v160Zm440 0h160v-160H620v160Z\"/>\n",
              "  </svg>\n",
              "    </button>\n",
              "\n",
              "  <style>\n",
              "    .colab-df-container {\n",
              "      display:flex;\n",
              "      gap: 12px;\n",
              "    }\n",
              "\n",
              "    .colab-df-convert {\n",
              "      background-color: #E8F0FE;\n",
              "      border: none;\n",
              "      border-radius: 50%;\n",
              "      cursor: pointer;\n",
              "      display: none;\n",
              "      fill: #1967D2;\n",
              "      height: 32px;\n",
              "      padding: 0 0 0 0;\n",
              "      width: 32px;\n",
              "    }\n",
              "\n",
              "    .colab-df-convert:hover {\n",
              "      background-color: #E2EBFA;\n",
              "      box-shadow: 0px 1px 2px rgba(60, 64, 67, 0.3), 0px 1px 3px 1px rgba(60, 64, 67, 0.15);\n",
              "      fill: #174EA6;\n",
              "    }\n",
              "\n",
              "    .colab-df-buttons div {\n",
              "      margin-bottom: 4px;\n",
              "    }\n",
              "\n",
              "    [theme=dark] .colab-df-convert {\n",
              "      background-color: #3B4455;\n",
              "      fill: #D2E3FC;\n",
              "    }\n",
              "\n",
              "    [theme=dark] .colab-df-convert:hover {\n",
              "      background-color: #434B5C;\n",
              "      box-shadow: 0px 1px 3px 1px rgba(0, 0, 0, 0.15);\n",
              "      filter: drop-shadow(0px 1px 2px rgba(0, 0, 0, 0.3));\n",
              "      fill: #FFFFFF;\n",
              "    }\n",
              "  </style>\n",
              "\n",
              "    <script>\n",
              "      const buttonEl =\n",
              "        document.querySelector('#df-aa2a9be8-646d-428d-9521-2e34ceadf108 button.colab-df-convert');\n",
              "      buttonEl.style.display =\n",
              "        google.colab.kernel.accessAllowed ? 'block' : 'none';\n",
              "\n",
              "      async function convertToInteractive(key) {\n",
              "        const element = document.querySelector('#df-aa2a9be8-646d-428d-9521-2e34ceadf108');\n",
              "        const dataTable =\n",
              "          await google.colab.kernel.invokeFunction('convertToInteractive',\n",
              "                                                    [key], {});\n",
              "        if (!dataTable) return;\n",
              "\n",
              "        const docLinkHtml = 'Like what you see? Visit the ' +\n",
              "          '<a target=\"_blank\" href=https://colab.research.google.com/notebooks/data_table.ipynb>data table notebook</a>'\n",
              "          + ' to learn more about interactive tables.';\n",
              "        element.innerHTML = '';\n",
              "        dataTable['output_type'] = 'display_data';\n",
              "        await google.colab.output.renderOutput(dataTable, element);\n",
              "        const docLink = document.createElement('div');\n",
              "        docLink.innerHTML = docLinkHtml;\n",
              "        element.appendChild(docLink);\n",
              "      }\n",
              "    </script>\n",
              "  </div>\n",
              "\n",
              "\n",
              "<div id=\"df-5240938a-7d85-4f3b-ba1a-162b5c43242b\">\n",
              "  <button class=\"colab-df-quickchart\" onclick=\"quickchart('df-5240938a-7d85-4f3b-ba1a-162b5c43242b')\"\n",
              "            title=\"Suggest charts.\"\n",
              "            style=\"display:none;\">\n",
              "\n",
              "<svg xmlns=\"http://www.w3.org/2000/svg\" height=\"24px\"viewBox=\"0 0 24 24\"\n",
              "     width=\"24px\">\n",
              "    <g>\n",
              "        <path d=\"M19 3H5c-1.1 0-2 .9-2 2v14c0 1.1.9 2 2 2h14c1.1 0 2-.9 2-2V5c0-1.1-.9-2-2-2zM9 17H7v-7h2v7zm4 0h-2V7h2v10zm4 0h-2v-4h2v4z\"/>\n",
              "    </g>\n",
              "</svg>\n",
              "  </button>\n",
              "\n",
              "<style>\n",
              "  .colab-df-quickchart {\n",
              "      --bg-color: #E8F0FE;\n",
              "      --fill-color: #1967D2;\n",
              "      --hover-bg-color: #E2EBFA;\n",
              "      --hover-fill-color: #174EA6;\n",
              "      --disabled-fill-color: #AAA;\n",
              "      --disabled-bg-color: #DDD;\n",
              "  }\n",
              "\n",
              "  [theme=dark] .colab-df-quickchart {\n",
              "      --bg-color: #3B4455;\n",
              "      --fill-color: #D2E3FC;\n",
              "      --hover-bg-color: #434B5C;\n",
              "      --hover-fill-color: #FFFFFF;\n",
              "      --disabled-bg-color: #3B4455;\n",
              "      --disabled-fill-color: #666;\n",
              "  }\n",
              "\n",
              "  .colab-df-quickchart {\n",
              "    background-color: var(--bg-color);\n",
              "    border: none;\n",
              "    border-radius: 50%;\n",
              "    cursor: pointer;\n",
              "    display: none;\n",
              "    fill: var(--fill-color);\n",
              "    height: 32px;\n",
              "    padding: 0;\n",
              "    width: 32px;\n",
              "  }\n",
              "\n",
              "  .colab-df-quickchart:hover {\n",
              "    background-color: var(--hover-bg-color);\n",
              "    box-shadow: 0 1px 2px rgba(60, 64, 67, 0.3), 0 1px 3px 1px rgba(60, 64, 67, 0.15);\n",
              "    fill: var(--button-hover-fill-color);\n",
              "  }\n",
              "\n",
              "  .colab-df-quickchart-complete:disabled,\n",
              "  .colab-df-quickchart-complete:disabled:hover {\n",
              "    background-color: var(--disabled-bg-color);\n",
              "    fill: var(--disabled-fill-color);\n",
              "    box-shadow: none;\n",
              "  }\n",
              "\n",
              "  .colab-df-spinner {\n",
              "    border: 2px solid var(--fill-color);\n",
              "    border-color: transparent;\n",
              "    border-bottom-color: var(--fill-color);\n",
              "    animation:\n",
              "      spin 1s steps(1) infinite;\n",
              "  }\n",
              "\n",
              "  @keyframes spin {\n",
              "    0% {\n",
              "      border-color: transparent;\n",
              "      border-bottom-color: var(--fill-color);\n",
              "      border-left-color: var(--fill-color);\n",
              "    }\n",
              "    20% {\n",
              "      border-color: transparent;\n",
              "      border-left-color: var(--fill-color);\n",
              "      border-top-color: var(--fill-color);\n",
              "    }\n",
              "    30% {\n",
              "      border-color: transparent;\n",
              "      border-left-color: var(--fill-color);\n",
              "      border-top-color: var(--fill-color);\n",
              "      border-right-color: var(--fill-color);\n",
              "    }\n",
              "    40% {\n",
              "      border-color: transparent;\n",
              "      border-right-color: var(--fill-color);\n",
              "      border-top-color: var(--fill-color);\n",
              "    }\n",
              "    60% {\n",
              "      border-color: transparent;\n",
              "      border-right-color: var(--fill-color);\n",
              "    }\n",
              "    80% {\n",
              "      border-color: transparent;\n",
              "      border-right-color: var(--fill-color);\n",
              "      border-bottom-color: var(--fill-color);\n",
              "    }\n",
              "    90% {\n",
              "      border-color: transparent;\n",
              "      border-bottom-color: var(--fill-color);\n",
              "    }\n",
              "  }\n",
              "</style>\n",
              "\n",
              "  <script>\n",
              "    async function quickchart(key) {\n",
              "      const quickchartButtonEl =\n",
              "        document.querySelector('#' + key + ' button');\n",
              "      quickchartButtonEl.disabled = true;  // To prevent multiple clicks.\n",
              "      quickchartButtonEl.classList.add('colab-df-spinner');\n",
              "      try {\n",
              "        const charts = await google.colab.kernel.invokeFunction(\n",
              "            'suggestCharts', [key], {});\n",
              "      } catch (error) {\n",
              "        console.error('Error during call to suggestCharts:', error);\n",
              "      }\n",
              "      quickchartButtonEl.classList.remove('colab-df-spinner');\n",
              "      quickchartButtonEl.classList.add('colab-df-quickchart-complete');\n",
              "    }\n",
              "    (() => {\n",
              "      let quickchartButtonEl =\n",
              "        document.querySelector('#df-5240938a-7d85-4f3b-ba1a-162b5c43242b button');\n",
              "      quickchartButtonEl.style.display =\n",
              "        google.colab.kernel.accessAllowed ? 'block' : 'none';\n",
              "    })();\n",
              "  </script>\n",
              "</div>\n",
              "    </div>\n",
              "  </div>\n"
            ]
          },
          "metadata": {},
          "execution_count": 35
        }
      ],
      "source": [
        "df['Distorted part'] = df['Distorted part'].apply(lambda text: remove_stopwords(text))\n",
        "df.head()"
      ]
    },
    {
      "cell_type": "code",
      "execution_count": null,
      "metadata": {
        "colab": {
          "base_uri": "https://localhost:8080/",
          "height": 465
        },
        "id": "EhS_U6eWAGt5",
        "outputId": "888c08b6-99ba-444f-de52-a5c876432837"
      },
      "outputs": [
        {
          "output_type": "display_data",
          "data": {
            "text/plain": [
              "<Figure size 1000x1000 with 1 Axes>"
            ],
            "image/png": "[encoded data removed]"
          },
          "metadata": {}
        },
        {
          "output_type": "stream",
          "name": "stdout",
          "text": [
            "\n"
          ]
        }
      ],
      "source": [
        "\n",
        "def plot_word_cloud(data, typ):\n",
        "  words_corpus = \" \".join(data['Distorted part'])\n",
        "\n",
        "  plt.figure(figsize = (10,10))\n",
        "\n",
        "  wc = WordCloud(max_words = 100,\n",
        "                width = 200,\n",
        "                height = 100,\n",
        "                collocations = False).generate(words_corpus)\n",
        "\n",
        "  plt.title(f'WordCloud for {typ} distorted words.', fontsize = 15)\n",
        "  plt.axis('off')\n",
        "  plt.imshow(wc)\n",
        "  plt.show()\n",
        "  print()\n",
        "\n",
        "plot_word_cloud(df[df['Dominant Distortion']==9], typ='Personalised')"
      ]
    },
    {
      "cell_type": "code",
      "execution_count": null,
      "metadata": {
        "id": "HH-oULX1BBzp"
      },
      "outputs": [],
      "source": [
        "import spacy"
      ]
    },
    {
      "cell_type": "code",
      "execution_count": null,
      "metadata": {
        "colab": {
          "base_uri": "https://localhost:8080/"
        },
        "id": "xG7f3Cr9KsrO",
        "outputId": "cbbaf145-8b07-4eb3-e328-3cdc6cf604a3"
      },
      "outputs": [
        {
          "output_type": "stream",
          "name": "stdout",
          "text": [
            "2023-10-07 06:27:56.836080: W tensorflow/compiler/tf2tensorrt/utils/py_utils.cc:38] TF-TRT Warning: Could not find TensorRT\n",
            "Collecting en-core-web-lg==3.6.0\n",
            "  Downloading https://github.com/explosion/spacy-models/releases/download/en_core_web_lg-3.6.0/en_core_web_lg-3.6.0-py3-none-any.whl (587.7 MB)\n",
            "\u001b[2K     \u001b[90m━━━━━━━━━━━━━━━━━━━━━━━━━━━━━━━━━━━━━━━\u001b[0m \u001b[32m587.7/587.7 MB\u001b[0m \u001b[31m1.8 MB/s\u001b[0m eta \u001b[36m0:00:00\u001b[0m\n",
            "\u001b[?25hRequirement already satisfied: spacy<3.7.0,>=3.6.0 in /usr/local/lib/python3.10/dist-packages (from en-core-web-lg==3.6.0) (3.6.1)\n",
            "Requirement already satisfied: spacy-legacy<3.1.0,>=3.0.11 in /usr/local/lib/python3.10/dist-packages (from spacy<3.7.0,>=3.6.0->en-core-web-lg==3.6.0) (3.0.12)\n",
            "Requirement already satisfied: spacy-loggers<2.0.0,>=1.0.0 in /usr/local/lib/python3.10/dist-packages (from spacy<3.7.0,>=3.6.0->en-core-web-lg==3.6.0) (1.0.5)\n",
            "Requirement already satisfied: murmurhash<1.1.0,>=0.28.0 in /usr/local/lib/python3.10/dist-packages (from spacy<3.7.0,>=3.6.0->en-core-web-lg==3.6.0) (1.0.10)\n",
            "Requirement already satisfied: cymem<2.1.0,>=2.0.2 in /usr/local/lib/python3.10/dist-packages (from spacy<3.7.0,>=3.6.0->en-core-web-lg==3.6.0) (2.0.8)\n",
            "Requirement already satisfied: preshed<3.1.0,>=3.0.2 in /usr/local/lib/python3.10/dist-packages (from spacy<3.7.0,>=3.6.0->en-core-web-lg==3.6.0) (3.0.9)\n",
            "Requirement already satisfied: thinc<8.2.0,>=8.1.8 in /usr/local/lib/python3.10/dist-packages (from spacy<3.7.0,>=3.6.0->en-core-web-lg==3.6.0) (8.1.12)\n",
            "Requirement already satisfied: wasabi<1.2.0,>=0.9.1 in /usr/local/lib/python3.10/dist-packages (from spacy<3.7.0,>=3.6.0->en-core-web-lg==3.6.0) (1.1.2)\n",
            "Requirement already satisfied: srsly<3.0.0,>=2.4.3 in /usr/local/lib/python3.10/dist-packages (from spacy<3.7.0,>=3.6.0->en-core-web-lg==3.6.0) (2.4.8)\n",
            "Requirement already satisfied: catalogue<2.1.0,>=2.0.6 in /usr/local/lib/python3.10/dist-packages (from spacy<3.7.0,>=3.6.0->en-core-web-lg==3.6.0) (2.0.10)\n",
            "Requirement already satisfied: typer<0.10.0,>=0.3.0 in /usr/local/lib/python3.10/dist-packages (from spacy<3.7.0,>=3.6.0->en-core-web-lg==3.6.0) (0.9.0)\n",
            "Requirement already satisfied: pathy>=0.10.0 in /usr/local/lib/python3.10/dist-packages (from spacy<3.7.0,>=3.6.0->en-core-web-lg==3.6.0) (0.10.2)\n",
            "Requirement already satisfied: smart-open<7.0.0,>=5.2.1 in /usr/local/lib/python3.10/dist-packages (from spacy<3.7.0,>=3.6.0->en-core-web-lg==3.6.0) (6.4.0)\n",
            "Requirement already satisfied: tqdm<5.0.0,>=4.38.0 in /usr/local/lib/python3.10/dist-packages (from spacy<3.7.0,>=3.6.0->en-core-web-lg==3.6.0) (4.66.1)\n",
            "Requirement already satisfied: numpy>=1.15.0 in /usr/local/lib/python3.10/dist-packages (from spacy<3.7.0,>=3.6.0->en-core-web-lg==3.6.0) (1.23.5)\n",
            "Requirement already satisfied: requests<3.0.0,>=2.13.0 in /usr/local/lib/python3.10/dist-packages (from spacy<3.7.0,>=3.6.0->en-core-web-lg==3.6.0) (2.31.0)\n",
            "Requirement already satisfied: pydantic!=1.8,!=1.8.1,<3.0.0,>=1.7.4 in /usr/local/lib/python3.10/dist-packages (from spacy<3.7.0,>=3.6.0->en-core-web-lg==3.6.0) (1.10.13)\n",
            "Requirement already satisfied: jinja2 in /usr/local/lib/python3.10/dist-packages (from spacy<3.7.0,>=3.6.0->en-core-web-lg==3.6.0) (3.1.2)\n",
            "Requirement already satisfied: setuptools in /usr/local/lib/python3.10/dist-packages (from spacy<3.7.0,>=3.6.0->en-core-web-lg==3.6.0) (67.7.2)\n",
            "Requirement already satisfied: packaging>=20.0 in /usr/local/lib/python3.10/dist-packages (from spacy<3.7.0,>=3.6.0->en-core-web-lg==3.6.0) (23.2)\n",
            "Requirement already satisfied: langcodes<4.0.0,>=3.2.0 in /usr/local/lib/python3.10/dist-packages (from spacy<3.7.0,>=3.6.0->en-core-web-lg==3.6.0) (3.3.0)\n",
            "Requirement already satisfied: typing-extensions>=4.2.0 in /usr/local/lib/python3.10/dist-packages (from pydantic!=1.8,!=1.8.1,<3.0.0,>=1.7.4->spacy<3.7.0,>=3.6.0->en-core-web-lg==3.6.0) (4.5.0)\n",
            "Requirement already satisfied: charset-normalizer<4,>=2 in /usr/local/lib/python3.10/dist-packages (from requests<3.0.0,>=2.13.0->spacy<3.7.0,>=3.6.0->en-core-web-lg==3.6.0) (3.3.0)\n",
            "Requirement already satisfied: idna<4,>=2.5 in /usr/local/lib/python3.10/dist-packages (from requests<3.0.0,>=2.13.0->spacy<3.7.0,>=3.6.0->en-core-web-lg==3.6.0) (3.4)\n",
            "Requirement already satisfied: urllib3<3,>=1.21.1 in /usr/local/lib/python3.10/dist-packages (from requests<3.0.0,>=2.13.0->spacy<3.7.0,>=3.6.0->en-core-web-lg==3.6.0) (2.0.6)\n",
            "Requirement already satisfied: certifi>=2017.4.17 in /usr/local/lib/python3.10/dist-packages (from requests<3.0.0,>=2.13.0->spacy<3.7.0,>=3.6.0->en-core-web-lg==3.6.0) (2023.7.22)\n",
            "Requirement already satisfied: blis<0.8.0,>=0.7.8 in /usr/local/lib/python3.10/dist-packages (from thinc<8.2.0,>=8.1.8->spacy<3.7.0,>=3.6.0->en-core-web-lg==3.6.0) (0.7.11)\n",
            "Requirement already satisfied: confection<1.0.0,>=0.0.1 in /usr/local/lib/python3.10/dist-packages (from thinc<8.2.0,>=8.1.8->spacy<3.7.0,>=3.6.0->en-core-web-lg==3.6.0) (0.1.3)\n",
            "Requirement already satisfied: click<9.0.0,>=7.1.1 in /usr/local/lib/python3.10/dist-packages (from typer<0.10.0,>=0.3.0->spacy<3.7.0,>=3.6.0->en-core-web-lg==3.6.0) (8.1.7)\n",
            "Requirement already satisfied: MarkupSafe>=2.0 in /usr/local/lib/python3.10/dist-packages (from jinja2->spacy<3.7.0,>=3.6.0->en-core-web-lg==3.6.0) (2.1.3)\n",
            "Installing collected packages: en-core-web-lg\n",
            "Successfully installed en-core-web-lg-3.6.0\n",
            "\u001b[38;5;2m✔ Download and installation successful\u001b[0m\n",
            "You can now load the package via spacy.load('en_core_web_lg')\n"
          ]
        }
      ],
      "source": [
        "!python -m spacy download en_core_web_lg"
      ]
    },
    {
      "cell_type": "code",
      "execution_count": null,
      "metadata": {
        "id": "iOLG6u31Ly73"
      },
      "outputs": [],
      "source": [
        "nlp = spacy.load('en_core_web_lg')"
      ]
    },
    {
      "cell_type": "code",
      "execution_count": null,
      "metadata": {
        "id": "1p1eRYFGMIog"
      },
      "outputs": [],
      "source": [
        "df['Patient Question'] = df['Patient Question'].apply(lambda x: nlp(x).vector)"
      ]
    },
    {
      "cell_type": "code",
      "execution_count": null,
      "metadata": {
        "colab": {
          "base_uri": "https://localhost:8080/",
          "height": 206
        },
        "id": "LPK9FforNbfm",
        "outputId": "c004f36b-7e4c-4385-8193-a59b215202d9"
      },
      "outputs": [
        {
          "output_type": "execute_result",
          "data": {
            "text/plain": [
              "   Id_Number                                   Patient Question  \\\n",
              "0       4500  [0.69155645, 1.5892829, -1.4467152, -1.69463, ...   \n",
              "1       4501  [0.9942769, 1.2272906, -2.403417, -2.3949904, ...   \n",
              "2       4502  [0.61592704, 1.8866438, -3.0695815, -1.7963152...   \n",
              "3       4503  [-0.582181, 0.8943917, -2.340637, -0.9494876, ...   \n",
              "4       4504  [0.7071242, 1.659521, -2.4519486, -0.96102786,...   \n",
              "\n",
              "                                      Distorted part  Dominant Distortion  \n",
              "0  voice always fimilar someone knows im concerne...                    9  \n",
              "1  feel trapped inside disgusting self like i’m w...                    3  \n",
              "2                                                  0                    7  \n",
              "3                                                  0                    7  \n",
              "4  refused go didn’t know going go record could p...                    2  "
            ],
            "text/html": [
              "\n",
              "  <div id=\"df-cd3f5f82-29e4-4883-bc82-9522c4a55fa9\" class=\"colab-df-container\">\n",
              "    <div>\n",
              "<style scoped>\n",
              "    .dataframe tbody tr th:only-of-type {\n",
              "        vertical-align: middle;\n",
              "    }\n",
              "\n",
              "    .dataframe tbody tr th {\n",
              "        vertical-align: top;\n",
              "    }\n",
              "\n",
              "    .dataframe thead th {\n",
              "        text-align: right;\n",
              "    }\n",
              "</style>\n",
              "<table border=\"1\" class=\"dataframe\">\n",
              "  <thead>\n",
              "    <tr style=\"text-align: right;\">\n",
              "      <th></th>\n",
              "      <th>Id_Number</th>\n",
              "      <th>Patient Question</th>\n",
              "      <th>Distorted part</th>\n",
              "      <th>Dominant Distortion</th>\n",
              "    </tr>\n",
              "  </thead>\n",
              "  <tbody>\n",
              "    <tr>\n",
              "      <th>0</th>\n",
              "      <td>4500</td>\n",
              "      <td>[0.69155645, 1.5892829, -1.4467152, -1.69463, ...</td>\n",
              "      <td>voice always fimilar someone knows im concerne...</td>\n",
              "      <td>9</td>\n",
              "    </tr>\n",
              "    <tr>\n",
              "      <th>1</th>\n",
              "      <td>4501</td>\n",
              "      <td>[0.9942769, 1.2272906, -2.403417, -2.3949904, ...</td>\n",
              "      <td>feel trapped inside disgusting self like i’m w...</td>\n",
              "      <td>3</td>\n",
              "    </tr>\n",
              "    <tr>\n",
              "      <th>2</th>\n",
              "      <td>4502</td>\n",
              "      <td>[0.61592704, 1.8866438, -3.0695815, -1.7963152...</td>\n",
              "      <td>0</td>\n",
              "      <td>7</td>\n",
              "    </tr>\n",
              "    <tr>\n",
              "      <th>3</th>\n",
              "      <td>4503</td>\n",
              "      <td>[-0.582181, 0.8943917, -2.340637, -0.9494876, ...</td>\n",
              "      <td>0</td>\n",
              "      <td>7</td>\n",
              "    </tr>\n",
              "    <tr>\n",
              "      <th>4</th>\n",
              "      <td>4504</td>\n",
              "      <td>[0.7071242, 1.659521, -2.4519486, -0.96102786,...</td>\n",
              "      <td>refused go didn’t know going go record could p...</td>\n",
              "      <td>2</td>\n",
              "    </tr>\n",
              "  </tbody>\n",
              "</table>\n",
              "</div>\n",
              "    <div class=\"colab-df-buttons\">\n",
              "\n",
              "  <div class=\"colab-df-container\">\n",
              "    <button class=\"colab-df-convert\" onclick=\"convertToInteractive('df-cd3f5f82-29e4-4883-bc82-9522c4a55fa9')\"\n",
              "            title=\"Convert this dataframe to an interactive table.\"\n",
              "            style=\"display:none;\">\n",
              "\n",
              "  <svg xmlns=\"http://www.w3.org/2000/svg\" height=\"24px\" viewBox=\"0 -960 960 960\">\n",
              "    <path d=\"M120-120v-720h720v720H120Zm60-500h600v-160H180v160Zm220 220h160v-160H400v160Zm0 220h160v-160H400v160ZM180-400h160v-160H180v160Zm440 0h160v-160H620v160ZM180-180h160v-160H180v160Zm440 0h160v-160H620v160Z\"/>\n",
              "  </svg>\n",
              "    </button>\n",
              "\n",
              "  <style>\n",
              "    .colab-df-container {\n",
              "      display:flex;\n",
              "      gap: 12px;\n",
              "    }\n",
              "\n",
              "    .colab-df-convert {\n",
              "      background-color: #E8F0FE;\n",
              "      border: none;\n",
              "      border-radius: 50%;\n",
              "      cursor: pointer;\n",
              "      display: none;\n",
              "      fill: #1967D2;\n",
              "      height: 32px;\n",
              "      padding: 0 0 0 0;\n",
              "      width: 32px;\n",
              "    }\n",
              "\n",
              "    .colab-df-convert:hover {\n",
              "      background-color: #E2EBFA;\n",
              "      box-shadow: 0px 1px 2px rgba(60, 64, 67, 0.3), 0px 1px 3px 1px rgba(60, 64, 67, 0.15);\n",
              "      fill: #174EA6;\n",
              "    }\n",
              "\n",
              "    .colab-df-buttons div {\n",
              "      margin-bottom: 4px;\n",
              "    }\n",
              "\n",
              "    [theme=dark] .colab-df-convert {\n",
              "      background-color: #3B4455;\n",
              "      fill: #D2E3FC;\n",
              "    }\n",
              "\n",
              "    [theme=dark] .colab-df-convert:hover {\n",
              "      background-color: #434B5C;\n",
              "      box-shadow: 0px 1px 3px 1px rgba(0, 0, 0, 0.15);\n",
              "      filter: drop-shadow(0px 1px 2px rgba(0, 0, 0, 0.3));\n",
              "      fill: #FFFFFF;\n",
              "    }\n",
              "  </style>\n",
              "\n",
              "    <script>\n",
              "      const buttonEl =\n",
              "        document.querySelector('#df-cd3f5f82-29e4-4883-bc82-9522c4a55fa9 button.colab-df-convert');\n",
              "      buttonEl.style.display =\n",
              "        google.colab.kernel.accessAllowed ? 'block' : 'none';\n",
              "\n",
              "      async function convertToInteractive(key) {\n",
              "        const element = document.querySelector('#df-cd3f5f82-29e4-4883-bc82-9522c4a55fa9');\n",
              "        const dataTable =\n",
              "          await google.colab.kernel.invokeFunction('convertToInteractive',\n",
              "                                                    [key], {});\n",
              "        if (!dataTable) return;\n",
              "\n",
              "        const docLinkHtml = 'Like what you see? Visit the ' +\n",
              "          '<a target=\"_blank\" href=https://colab.research.google.com/notebooks/data_table.ipynb>data table notebook</a>'\n",
              "          + ' to learn more about interactive tables.';\n",
              "        element.innerHTML = '';\n",
              "        dataTable['output_type'] = 'display_data';\n",
              "        await google.colab.output.renderOutput(dataTable, element);\n",
              "        const docLink = document.createElement('div');\n",
              "        docLink.innerHTML = docLinkHtml;\n",
              "        element.appendChild(docLink);\n",
              "      }\n",
              "    </script>\n",
              "  </div>\n",
              "\n",
              "\n",
              "<div id=\"df-70c5054f-b171-4e00-9a8e-7af9244fb39f\">\n",
              "  <button class=\"colab-df-quickchart\" onclick=\"quickchart('df-70c5054f-b171-4e00-9a8e-7af9244fb39f')\"\n",
              "            title=\"Suggest charts.\"\n",
              "            style=\"display:none;\">\n",
              "\n",
              "<svg xmlns=\"http://www.w3.org/2000/svg\" height=\"24px\"viewBox=\"0 0 24 24\"\n",
              "     width=\"24px\">\n",
              "    <g>\n",
              "        <path d=\"M19 3H5c-1.1 0-2 .9-2 2v14c0 1.1.9 2 2 2h14c1.1 0 2-.9 2-2V5c0-1.1-.9-2-2-2zM9 17H7v-7h2v7zm4 0h-2V7h2v10zm4 0h-2v-4h2v4z\"/>\n",
              "    </g>\n",
              "</svg>\n",
              "  </button>\n",
              "\n",
              "<style>\n",
              "  .colab-df-quickchart {\n",
              "      --bg-color: #E8F0FE;\n",
              "      --fill-color: #1967D2;\n",
              "      --hover-bg-color: #E2EBFA;\n",
              "      --hover-fill-color: #174EA6;\n",
              "      --disabled-fill-color: #AAA;\n",
              "      --disabled-bg-color: #DDD;\n",
              "  }\n",
              "\n",
              "  [theme=dark] .colab-df-quickchart {\n",
              "      --bg-color: #3B4455;\n",
              "      --fill-color: #D2E3FC;\n",
              "      --hover-bg-color: #434B5C;\n",
              "      --hover-fill-color: #FFFFFF;\n",
              "      --disabled-bg-color: #3B4455;\n",
              "      --disabled-fill-color: #666;\n",
              "  }\n",
              "\n",
              "  .colab-df-quickchart {\n",
              "    background-color: var(--bg-color);\n",
              "    border: none;\n",
              "    border-radius: 50%;\n",
              "    cursor: pointer;\n",
              "    display: none;\n",
              "    fill: var(--fill-color);\n",
              "    height: 32px;\n",
              "    padding: 0;\n",
              "    width: 32px;\n",
              "  }\n",
              "\n",
              "  .colab-df-quickchart:hover {\n",
              "    background-color: var(--hover-bg-color);\n",
              "    box-shadow: 0 1px 2px rgba(60, 64, 67, 0.3), 0 1px 3px 1px rgba(60, 64, 67, 0.15);\n",
              "    fill: var(--button-hover-fill-color);\n",
              "  }\n",
              "\n",
              "  .colab-df-quickchart-complete:disabled,\n",
              "  .colab-df-quickchart-complete:disabled:hover {\n",
              "    background-color: var(--disabled-bg-color);\n",
              "    fill: var(--disabled-fill-color);\n",
              "    box-shadow: none;\n",
              "  }\n",
              "\n",
              "  .colab-df-spinner {\n",
              "    border: 2px solid var(--fill-color);\n",
              "    border-color: transparent;\n",
              "    border-bottom-color: var(--fill-color);\n",
              "    animation:\n",
              "      spin 1s steps(1) infinite;\n",
              "  }\n",
              "\n",
              "  @keyframes spin {\n",
              "    0% {\n",
              "      border-color: transparent;\n",
              "      border-bottom-color: var(--fill-color);\n",
              "      border-left-color: var(--fill-color);\n",
              "    }\n",
              "    20% {\n",
              "      border-color: transparent;\n",
              "      border-left-color: var(--fill-color);\n",
              "      border-top-color: var(--fill-color);\n",
              "    }\n",
              "    30% {\n",
              "      border-color: transparent;\n",
              "      border-left-color: var(--fill-color);\n",
              "      border-top-color: var(--fill-color);\n",
              "      border-right-color: var(--fill-color);\n",
              "    }\n",
              "    40% {\n",
              "      border-color: transparent;\n",
              "      border-right-color: var(--fill-color);\n",
              "      border-top-color: var(--fill-color);\n",
              "    }\n",
              "    60% {\n",
              "      border-color: transparent;\n",
              "      border-right-color: var(--fill-color);\n",
              "    }\n",
              "    80% {\n",
              "      border-color: transparent;\n",
              "      border-right-color: var(--fill-color);\n",
              "      border-bottom-color: var(--fill-color);\n",
              "    }\n",
              "    90% {\n",
              "      border-color: transparent;\n",
              "      border-bottom-color: var(--fill-color);\n",
              "    }\n",
              "  }\n",
              "</style>\n",
              "\n",
              "  <script>\n",
              "    async function quickchart(key) {\n",
              "      const quickchartButtonEl =\n",
              "        document.querySelector('#' + key + ' button');\n",
              "      quickchartButtonEl.disabled = true;  // To prevent multiple clicks.\n",
              "      quickchartButtonEl.classList.add('colab-df-spinner');\n",
              "      try {\n",
              "        const charts = await google.colab.kernel.invokeFunction(\n",
              "            'suggestCharts', [key], {});\n",
              "      } catch (error) {\n",
              "        console.error('Error during call to suggestCharts:', error);\n",
              "      }\n",
              "      quickchartButtonEl.classList.remove('colab-df-spinner');\n",
              "      quickchartButtonEl.classList.add('colab-df-quickchart-complete');\n",
              "    }\n",
              "    (() => {\n",
              "      let quickchartButtonEl =\n",
              "        document.querySelector('#df-70c5054f-b171-4e00-9a8e-7af9244fb39f button');\n",
              "      quickchartButtonEl.style.display =\n",
              "        google.colab.kernel.accessAllowed ? 'block' : 'none';\n",
              "    })();\n",
              "  </script>\n",
              "</div>\n",
              "    </div>\n",
              "  </div>\n"
            ]
          },
          "metadata": {},
          "execution_count": 41
        }
      ],
      "source": [
        "df.head()"
      ]
    },
    {
      "cell_type": "code",
      "execution_count": null,
      "metadata": {
        "id": "30cNUrukNr4H"
      },
      "outputs": [],
      "source": [
        "df['Distorted part'] = df['Distorted part'].apply(lambda x: nlp(x).vector)\n"
      ]
    },
    {
      "cell_type": "code",
      "execution_count": null,
      "metadata": {
        "colab": {
          "base_uri": "https://localhost:8080/",
          "height": 174
        },
        "id": "WB7MJDt1P9OR",
        "outputId": "17920078-96ef-4091-dbec-56d148b4bce3"
      },
      "outputs": [
        {
          "output_type": "execute_result",
          "data": {
            "text/plain": [
              "   Id_Number                                   Patient Question  \\\n",
              "0       4500  [0.69155645, 1.5892829, -1.4467152, -1.69463, ...   \n",
              "1       4501  [0.9942769, 1.2272906, -2.403417, -2.3949904, ...   \n",
              "2       4502  [0.61592704, 1.8866438, -3.0695815, -1.7963152...   \n",
              "3       4503  [-0.582181, 0.8943917, -2.340637, -0.9494876, ...   \n",
              "\n",
              "                                      Distorted part  Dominant Distortion  \n",
              "0  [1.0331569, 1.0382924, -1.9355139, -1.457604, ...                    9  \n",
              "1  [0.697199, 0.7048954, -3.0286956, -2.9154978, ...                    3  \n",
              "2  [2.1675, -5.4416, 7.1424, 8.7928, 6.9778, 8.85...                    7  \n",
              "3  [2.1675, -5.4416, 7.1424, 8.7928, 6.9778, 8.85...                    7  "
            ],
            "text/html": [
              "\n",
              "  <div id=\"df-cd502b0b-6c04-4f3a-a54f-61a740b74941\" class=\"colab-df-container\">\n",
              "    <div>\n",
              "<style scoped>\n",
              "    .dataframe tbody tr th:only-of-type {\n",
              "        vertical-align: middle;\n",
              "    }\n",
              "\n",
              "    .dataframe tbody tr th {\n",
              "        vertical-align: top;\n",
              "    }\n",
              "\n",
              "    .dataframe thead th {\n",
              "        text-align: right;\n",
              "    }\n",
              "</style>\n",
              "<table border=\"1\" class=\"dataframe\">\n",
              "  <thead>\n",
              "    <tr style=\"text-align: right;\">\n",
              "      <th></th>\n",
              "      <th>Id_Number</th>\n",
              "      <th>Patient Question</th>\n",
              "      <th>Distorted part</th>\n",
              "      <th>Dominant Distortion</th>\n",
              "    </tr>\n",
              "  </thead>\n",
              "  <tbody>\n",
              "    <tr>\n",
              "      <th>0</th>\n",
              "      <td>4500</td>\n",
              "      <td>[0.69155645, 1.5892829, -1.4467152, -1.69463, ...</td>\n",
              "      <td>[1.0331569, 1.0382924, -1.9355139, -1.457604, ...</td>\n",
              "      <td>9</td>\n",
              "    </tr>\n",
              "    <tr>\n",
              "      <th>1</th>\n",
              "      <td>4501</td>\n",
              "      <td>[0.9942769, 1.2272906, -2.403417, -2.3949904, ...</td>\n",
              "      <td>[0.697199, 0.7048954, -3.0286956, -2.9154978, ...</td>\n",
              "      <td>3</td>\n",
              "    </tr>\n",
              "    <tr>\n",
              "      <th>2</th>\n",
              "      <td>4502</td>\n",
              "      <td>[0.61592704, 1.8866438, -3.0695815, -1.7963152...</td>\n",
              "      <td>[2.1675, -5.4416, 7.1424, 8.7928, 6.9778, 8.85...</td>\n",
              "      <td>7</td>\n",
              "    </tr>\n",
              "    <tr>\n",
              "      <th>3</th>\n",
              "      <td>4503</td>\n",
              "      <td>[-0.582181, 0.8943917, -2.340637, -0.9494876, ...</td>\n",
              "      <td>[2.1675, -5.4416, 7.1424, 8.7928, 6.9778, 8.85...</td>\n",
              "      <td>7</td>\n",
              "    </tr>\n",
              "  </tbody>\n",
              "</table>\n",
              "</div>\n",
              "    <div class=\"colab-df-buttons\">\n",
              "\n",
              "  <div class=\"colab-df-container\">\n",
              "    <button class=\"colab-df-convert\" onclick=\"convertToInteractive('df-cd502b0b-6c04-4f3a-a54f-61a740b74941')\"\n",
              "            title=\"Convert this dataframe to an interactive table.\"\n",
              "            style=\"display:none;\">\n",
              "\n",
              "  <svg xmlns=\"http://www.w3.org/2000/svg\" height=\"24px\" viewBox=\"0 -960 960 960\">\n",
              "    <path d=\"M120-120v-720h720v720H120Zm60-500h600v-160H180v160Zm220 220h160v-160H400v160Zm0 220h160v-160H400v160ZM180-400h160v-160H180v160Zm440 0h160v-160H620v160ZM180-180h160v-160H180v160Zm440 0h160v-160H620v160Z\"/>\n",
              "  </svg>\n",
              "    </button>\n",
              "\n",
              "  <style>\n",
              "    .colab-df-container {\n",
              "      display:flex;\n",
              "      gap: 12px;\n",
              "    }\n",
              "\n",
              "    .colab-df-convert {\n",
              "      background-color: #E8F0FE;\n",
              "      border: none;\n",
              "      border-radius: 50%;\n",
              "      cursor: pointer;\n",
              "      display: none;\n",
              "      fill: #1967D2;\n",
              "      height: 32px;\n",
              "      padding: 0 0 0 0;\n",
              "      width: 32px;\n",
              "    }\n",
              "\n",
              "    .colab-df-convert:hover {\n",
              "      background-color: #E2EBFA;\n",
              "      box-shadow: 0px 1px 2px rgba(60, 64, 67, 0.3), 0px 1px 3px 1px rgba(60, 64, 67, 0.15);\n",
              "      fill: #174EA6;\n",
              "    }\n",
              "\n",
              "    .colab-df-buttons div {\n",
              "      margin-bottom: 4px;\n",
              "    }\n",
              "\n",
              "    [theme=dark] .colab-df-convert {\n",
              "      background-color: #3B4455;\n",
              "      fill: #D2E3FC;\n",
              "    }\n",
              "\n",
              "    [theme=dark] .colab-df-convert:hover {\n",
              "      background-color: #434B5C;\n",
              "      box-shadow: 0px 1px 3px 1px rgba(0, 0, 0, 0.15);\n",
              "      filter: drop-shadow(0px 1px 2px rgba(0, 0, 0, 0.3));\n",
              "      fill: #FFFFFF;\n",
              "    }\n",
              "  </style>\n",
              "\n",
              "    <script>\n",
              "      const buttonEl =\n",
              "        document.querySelector('#df-cd502b0b-6c04-4f3a-a54f-61a740b74941 button.colab-df-convert');\n",
              "      buttonEl.style.display =\n",
              "        google.colab.kernel.accessAllowed ? 'block' : 'none';\n",
              "\n",
              "      async function convertToInteractive(key) {\n",
              "        const element = document.querySelector('#df-cd502b0b-6c04-4f3a-a54f-61a740b74941');\n",
              "        const dataTable =\n",
              "          await google.colab.kernel.invokeFunction('convertToInteractive',\n",
              "                                                    [key], {});\n",
              "        if (!dataTable) return;\n",
              "\n",
              "        const docLinkHtml = 'Like what you see? Visit the ' +\n",
              "          '<a target=\"_blank\" href=https://colab.research.google.com/notebooks/data_table.ipynb>data table notebook</a>'\n",
              "          + ' to learn more about interactive tables.';\n",
              "        element.innerHTML = '';\n",
              "        dataTable['output_type'] = 'display_data';\n",
              "        await google.colab.output.renderOutput(dataTable, element);\n",
              "        const docLink = document.createElement('div');\n",
              "        docLink.innerHTML = docLinkHtml;\n",
              "        element.appendChild(docLink);\n",
              "      }\n",
              "    </script>\n",
              "  </div>\n",
              "\n",
              "\n",
              "<div id=\"df-e3578cc7-5712-482d-8604-8bc9f1e825cc\">\n",
              "  <button class=\"colab-df-quickchart\" onclick=\"quickchart('df-e3578cc7-5712-482d-8604-8bc9f1e825cc')\"\n",
              "            title=\"Suggest charts.\"\n",
              "            style=\"display:none;\">\n",
              "\n",
              "<svg xmlns=\"http://www.w3.org/2000/svg\" height=\"24px\"viewBox=\"0 0 24 24\"\n",
              "     width=\"24px\">\n",
              "    <g>\n",
              "        <path d=\"M19 3H5c-1.1 0-2 .9-2 2v14c0 1.1.9 2 2 2h14c1.1 0 2-.9 2-2V5c0-1.1-.9-2-2-2zM9 17H7v-7h2v7zm4 0h-2V7h2v10zm4 0h-2v-4h2v4z\"/>\n",
              "    </g>\n",
              "</svg>\n",
              "  </button>\n",
              "\n",
              "<style>\n",
              "  .colab-df-quickchart {\n",
              "      --bg-color: #E8F0FE;\n",
              "      --fill-color: #1967D2;\n",
              "      --hover-bg-color: #E2EBFA;\n",
              "      --hover-fill-color: #174EA6;\n",
              "      --disabled-fill-color: #AAA;\n",
              "      --disabled-bg-color: #DDD;\n",
              "  }\n",
              "\n",
              "  [theme=dark] .colab-df-quickchart {\n",
              "      --bg-color: #3B4455;\n",
              "      --fill-color: #D2E3FC;\n",
              "      --hover-bg-color: #434B5C;\n",
              "      --hover-fill-color: #FFFFFF;\n",
              "      --disabled-bg-color: #3B4455;\n",
              "      --disabled-fill-color: #666;\n",
              "  }\n",
              "\n",
              "  .colab-df-quickchart {\n",
              "    background-color: var(--bg-color);\n",
              "    border: none;\n",
              "    border-radius: 50%;\n",
              "    cursor: pointer;\n",
              "    display: none;\n",
              "    fill: var(--fill-color);\n",
              "    height: 32px;\n",
              "    padding: 0;\n",
              "    width: 32px;\n",
              "  }\n",
              "\n",
              "  .colab-df-quickchart:hover {\n",
              "    background-color: var(--hover-bg-color);\n",
              "    box-shadow: 0 1px 2px rgba(60, 64, 67, 0.3), 0 1px 3px 1px rgba(60, 64, 67, 0.15);\n",
              "    fill: var(--button-hover-fill-color);\n",
              "  }\n",
              "\n",
              "  .colab-df-quickchart-complete:disabled,\n",
              "  .colab-df-quickchart-complete:disabled:hover {\n",
              "    background-color: var(--disabled-bg-color);\n",
              "    fill: var(--disabled-fill-color);\n",
              "    box-shadow: none;\n",
              "  }\n",
              "\n",
              "  .colab-df-spinner {\n",
              "    border: 2px solid var(--fill-color);\n",
              "    border-color: transparent;\n",
              "    border-bottom-color: var(--fill-color);\n",
              "    animation:\n",
              "      spin 1s steps(1) infinite;\n",
              "  }\n",
              "\n",
              "  @keyframes spin {\n",
              "    0% {\n",
              "      border-color: transparent;\n",
              "      border-bottom-color: var(--fill-color);\n",
              "      border-left-color: var(--fill-color);\n",
              "    }\n",
              "    20% {\n",
              "      border-color: transparent;\n",
              "      border-left-color: var(--fill-color);\n",
              "      border-top-color: var(--fill-color);\n",
              "    }\n",
              "    30% {\n",
              "      border-color: transparent;\n",
              "      border-left-color: var(--fill-color);\n",
              "      border-top-color: var(--fill-color);\n",
              "      border-right-color: var(--fill-color);\n",
              "    }\n",
              "    40% {\n",
              "      border-color: transparent;\n",
              "      border-right-color: var(--fill-color);\n",
              "      border-top-color: var(--fill-color);\n",
              "    }\n",
              "    60% {\n",
              "      border-color: transparent;\n",
              "      border-right-color: var(--fill-color);\n",
              "    }\n",
              "    80% {\n",
              "      border-color: transparent;\n",
              "      border-right-color: var(--fill-color);\n",
              "      border-bottom-color: var(--fill-color);\n",
              "    }\n",
              "    90% {\n",
              "      border-color: transparent;\n",
              "      border-bottom-color: var(--fill-color);\n",
              "    }\n",
              "  }\n",
              "</style>\n",
              "\n",
              "  <script>\n",
              "    async function quickchart(key) {\n",
              "      const quickchartButtonEl =\n",
              "        document.querySelector('#' + key + ' button');\n",
              "      quickchartButtonEl.disabled = true;  // To prevent multiple clicks.\n",
              "      quickchartButtonEl.classList.add('colab-df-spinner');\n",
              "      try {\n",
              "        const charts = await google.colab.kernel.invokeFunction(\n",
              "            'suggestCharts', [key], {});\n",
              "      } catch (error) {\n",
              "        console.error('Error during call to suggestCharts:', error);\n",
              "      }\n",
              "      quickchartButtonEl.classList.remove('colab-df-spinner');\n",
              "      quickchartButtonEl.classList.add('colab-df-quickchart-complete');\n",
              "    }\n",
              "    (() => {\n",
              "      let quickchartButtonEl =\n",
              "        document.querySelector('#df-e3578cc7-5712-482d-8604-8bc9f1e825cc button');\n",
              "      quickchartButtonEl.style.display =\n",
              "        google.colab.kernel.accessAllowed ? 'block' : 'none';\n",
              "    })();\n",
              "  </script>\n",
              "</div>\n",
              "    </div>\n",
              "  </div>\n"
            ]
          },
          "metadata": {},
          "execution_count": 43
        }
      ],
      "source": [
        "df.head(4)"
      ]
    },
    {
      "cell_type": "code",
      "execution_count": null,
      "metadata": {
        "colab": {
          "base_uri": "https://localhost:8080/",
          "height": 206
        },
        "id": "viTG1Z-xRLU9",
        "outputId": "36e74760-2711-41a2-9db8-8c7a98cc9831"
      },
      "outputs": [
        {
          "output_type": "execute_result",
          "data": {
            "text/plain": [
              "   Id_Number                                   Patient Question  \\\n",
              "0       4500  [0.69155645, 1.5892829, -1.4467152, -1.69463, ...   \n",
              "1       4501  [0.9942769, 1.2272906, -2.403417, -2.3949904, ...   \n",
              "2       4502  [0.61592704, 1.8866438, -3.0695815, -1.7963152...   \n",
              "3       4503  [-0.582181, 0.8943917, -2.340637, -0.9494876, ...   \n",
              "4       4504  [0.7071242, 1.659521, -2.4519486, -0.96102786,...   \n",
              "\n",
              "                                      Distorted part  Dominant Distortion  \n",
              "0  [1.0331569, 1.0382924, -1.9355139, -1.457604, ...                    9  \n",
              "1  [0.697199, 0.7048954, -3.0286956, -2.9154978, ...                    3  \n",
              "2  [2.1675, -5.4416, 7.1424, 8.7928, 6.9778, 8.85...                    7  \n",
              "3  [2.1675, -5.4416, 7.1424, 8.7928, 6.9778, 8.85...                    7  \n",
              "4  [0.66406184, 2.498192, -2.3956437, -0.30248338...                    2  "
            ],
            "text/html": [
              "\n",
              "  <div id=\"df-6112afbf-d989-4ace-a53b-071d73adc17f\" class=\"colab-df-container\">\n",
              "    <div>\n",
              "<style scoped>\n",
              "    .dataframe tbody tr th:only-of-type {\n",
              "        vertical-align: middle;\n",
              "    }\n",
              "\n",
              "    .dataframe tbody tr th {\n",
              "        vertical-align: top;\n",
              "    }\n",
              "\n",
              "    .dataframe thead th {\n",
              "        text-align: right;\n",
              "    }\n",
              "</style>\n",
              "<table border=\"1\" class=\"dataframe\">\n",
              "  <thead>\n",
              "    <tr style=\"text-align: right;\">\n",
              "      <th></th>\n",
              "      <th>Id_Number</th>\n",
              "      <th>Patient Question</th>\n",
              "      <th>Distorted part</th>\n",
              "      <th>Dominant Distortion</th>\n",
              "    </tr>\n",
              "  </thead>\n",
              "  <tbody>\n",
              "    <tr>\n",
              "      <th>0</th>\n",
              "      <td>4500</td>\n",
              "      <td>[0.69155645, 1.5892829, -1.4467152, -1.69463, ...</td>\n",
              "      <td>[1.0331569, 1.0382924, -1.9355139, -1.457604, ...</td>\n",
              "      <td>9</td>\n",
              "    </tr>\n",
              "    <tr>\n",
              "      <th>1</th>\n",
              "      <td>4501</td>\n",
              "      <td>[0.9942769, 1.2272906, -2.403417, -2.3949904, ...</td>\n",
              "      <td>[0.697199, 0.7048954, -3.0286956, -2.9154978, ...</td>\n",
              "      <td>3</td>\n",
              "    </tr>\n",
              "    <tr>\n",
              "      <th>2</th>\n",
              "      <td>4502</td>\n",
              "      <td>[0.61592704, 1.8866438, -3.0695815, -1.7963152...</td>\n",
              "      <td>[2.1675, -5.4416, 7.1424, 8.7928, 6.9778, 8.85...</td>\n",
              "      <td>7</td>\n",
              "    </tr>\n",
              "    <tr>\n",
              "      <th>3</th>\n",
              "      <td>4503</td>\n",
              "      <td>[-0.582181, 0.8943917, -2.340637, -0.9494876, ...</td>\n",
              "      <td>[2.1675, -5.4416, 7.1424, 8.7928, 6.9778, 8.85...</td>\n",
              "      <td>7</td>\n",
              "    </tr>\n",
              "    <tr>\n",
              "      <th>4</th>\n",
              "      <td>4504</td>\n",
              "      <td>[0.7071242, 1.659521, -2.4519486, -0.96102786,...</td>\n",
              "      <td>[0.66406184, 2.498192, -2.3956437, -0.30248338...</td>\n",
              "      <td>2</td>\n",
              "    </tr>\n",
              "  </tbody>\n",
              "</table>\n",
              "</div>\n",
              "    <div class=\"colab-df-buttons\">\n",
              "\n",
              "  <div class=\"colab-df-container\">\n",
              "    <button class=\"colab-df-convert\" onclick=\"convertToInteractive('df-6112afbf-d989-4ace-a53b-071d73adc17f')\"\n",
              "            title=\"Convert this dataframe to an interactive table.\"\n",
              "            style=\"display:none;\">\n",
              "\n",
              "  <svg xmlns=\"http://www.w3.org/2000/svg\" height=\"24px\" viewBox=\"0 -960 960 960\">\n",
              "    <path d=\"M120-120v-720h720v720H120Zm60-500h600v-160H180v160Zm220 220h160v-160H400v160Zm0 220h160v-160H400v160ZM180-400h160v-160H180v160Zm440 0h160v-160H620v160ZM180-180h160v-160H180v160Zm440 0h160v-160H620v160Z\"/>\n",
              "  </svg>\n",
              "    </button>\n",
              "\n",
              "  <style>\n",
              "    .colab-df-container {\n",
              "      display:flex;\n",
              "      gap: 12px;\n",
              "    }\n",
              "\n",
              "    .colab-df-convert {\n",
              "      background-color: #E8F0FE;\n",
              "      border: none;\n",
              "      border-radius: 50%;\n",
              "      cursor: pointer;\n",
              "      display: none;\n",
              "      fill: #1967D2;\n",
              "      height: 32px;\n",
              "      padding: 0 0 0 0;\n",
              "      width: 32px;\n",
              "    }\n",
              "\n",
              "    .colab-df-convert:hover {\n",
              "      background-color: #E2EBFA;\n",
              "      box-shadow: 0px 1px 2px rgba(60, 64, 67, 0.3), 0px 1px 3px 1px rgba(60, 64, 67, 0.15);\n",
              "      fill: #174EA6;\n",
              "    }\n",
              "\n",
              "    .colab-df-buttons div {\n",
              "      margin-bottom: 4px;\n",
              "    }\n",
              "\n",
              "    [theme=dark] .colab-df-convert {\n",
              "      background-color: #3B4455;\n",
              "      fill: #D2E3FC;\n",
              "    }\n",
              "\n",
              "    [theme=dark] .colab-df-convert:hover {\n",
              "      background-color: #434B5C;\n",
              "      box-shadow: 0px 1px 3px 1px rgba(0, 0, 0, 0.15);\n",
              "      filter: drop-shadow(0px 1px 2px rgba(0, 0, 0, 0.3));\n",
              "      fill: #FFFFFF;\n",
              "    }\n",
              "  </style>\n",
              "\n",
              "    <script>\n",
              "      const buttonEl =\n",
              "        document.querySelector('#df-6112afbf-d989-4ace-a53b-071d73adc17f button.colab-df-convert');\n",
              "      buttonEl.style.display =\n",
              "        google.colab.kernel.accessAllowed ? 'block' : 'none';\n",
              "\n",
              "      async function convertToInteractive(key) {\n",
              "        const element = document.querySelector('#df-6112afbf-d989-4ace-a53b-071d73adc17f');\n",
              "        const dataTable =\n",
              "          await google.colab.kernel.invokeFunction('convertToInteractive',\n",
              "                                                    [key], {});\n",
              "        if (!dataTable) return;\n",
              "\n",
              "        const docLinkHtml = 'Like what you see? Visit the ' +\n",
              "          '<a target=\"_blank\" href=https://colab.research.google.com/notebooks/data_table.ipynb>data table notebook</a>'\n",
              "          + ' to learn more about interactive tables.';\n",
              "        element.innerHTML = '';\n",
              "        dataTable['output_type'] = 'display_data';\n",
              "        await google.colab.output.renderOutput(dataTable, element);\n",
              "        const docLink = document.createElement('div');\n",
              "        docLink.innerHTML = docLinkHtml;\n",
              "        element.appendChild(docLink);\n",
              "      }\n",
              "    </script>\n",
              "  </div>\n",
              "\n",
              "\n",
              "<div id=\"df-3d0402b1-1245-4b40-963d-1e5c5635c867\">\n",
              "  <button class=\"colab-df-quickchart\" onclick=\"quickchart('df-3d0402b1-1245-4b40-963d-1e5c5635c867')\"\n",
              "            title=\"Suggest charts.\"\n",
              "            style=\"display:none;\">\n",
              "\n",
              "<svg xmlns=\"http://www.w3.org/2000/svg\" height=\"24px\"viewBox=\"0 0 24 24\"\n",
              "     width=\"24px\">\n",
              "    <g>\n",
              "        <path d=\"M19 3H5c-1.1 0-2 .9-2 2v14c0 1.1.9 2 2 2h14c1.1 0 2-.9 2-2V5c0-1.1-.9-2-2-2zM9 17H7v-7h2v7zm4 0h-2V7h2v10zm4 0h-2v-4h2v4z\"/>\n",
              "    </g>\n",
              "</svg>\n",
              "  </button>\n",
              "\n",
              "<style>\n",
              "  .colab-df-quickchart {\n",
              "      --bg-color: #E8F0FE;\n",
              "      --fill-color: #1967D2;\n",
              "      --hover-bg-color: #E2EBFA;\n",
              "      --hover-fill-color: #174EA6;\n",
              "      --disabled-fill-color: #AAA;\n",
              "      --disabled-bg-color: #DDD;\n",
              "  }\n",
              "\n",
              "  [theme=dark] .colab-df-quickchart {\n",
              "      --bg-color: #3B4455;\n",
              "      --fill-color: #D2E3FC;\n",
              "      --hover-bg-color: #434B5C;\n",
              "      --hover-fill-color: #FFFFFF;\n",
              "      --disabled-bg-color: #3B4455;\n",
              "      --disabled-fill-color: #666;\n",
              "  }\n",
              "\n",
              "  .colab-df-quickchart {\n",
              "    background-color: var(--bg-color);\n",
              "    border: none;\n",
              "    border-radius: 50%;\n",
              "    cursor: pointer;\n",
              "    display: none;\n",
              "    fill: var(--fill-color);\n",
              "    height: 32px;\n",
              "    padding: 0;\n",
              "    width: 32px;\n",
              "  }\n",
              "\n",
              "  .colab-df-quickchart:hover {\n",
              "    background-color: var(--hover-bg-color);\n",
              "    box-shadow: 0 1px 2px rgba(60, 64, 67, 0.3), 0 1px 3px 1px rgba(60, 64, 67, 0.15);\n",
              "    fill: var(--button-hover-fill-color);\n",
              "  }\n",
              "\n",
              "  .colab-df-quickchart-complete:disabled,\n",
              "  .colab-df-quickchart-complete:disabled:hover {\n",
              "    background-color: var(--disabled-bg-color);\n",
              "    fill: var(--disabled-fill-color);\n",
              "    box-shadow: none;\n",
              "  }\n",
              "\n",
              "  .colab-df-spinner {\n",
              "    border: 2px solid var(--fill-color);\n",
              "    border-color: transparent;\n",
              "    border-bottom-color: var(--fill-color);\n",
              "    animation:\n",
              "      spin 1s steps(1) infinite;\n",
              "  }\n",
              "\n",
              "  @keyframes spin {\n",
              "    0% {\n",
              "      border-color: transparent;\n",
              "      border-bottom-color: var(--fill-color);\n",
              "      border-left-color: var(--fill-color);\n",
              "    }\n",
              "    20% {\n",
              "      border-color: transparent;\n",
              "      border-left-color: var(--fill-color);\n",
              "      border-top-color: var(--fill-color);\n",
              "    }\n",
              "    30% {\n",
              "      border-color: transparent;\n",
              "      border-left-color: var(--fill-color);\n",
              "      border-top-color: var(--fill-color);\n",
              "      border-right-color: var(--fill-color);\n",
              "    }\n",
              "    40% {\n",
              "      border-color: transparent;\n",
              "      border-right-color: var(--fill-color);\n",
              "      border-top-color: var(--fill-color);\n",
              "    }\n",
              "    60% {\n",
              "      border-color: transparent;\n",
              "      border-right-color: var(--fill-color);\n",
              "    }\n",
              "    80% {\n",
              "      border-color: transparent;\n",
              "      border-right-color: var(--fill-color);\n",
              "      border-bottom-color: var(--fill-color);\n",
              "    }\n",
              "    90% {\n",
              "      border-color: transparent;\n",
              "      border-bottom-color: var(--fill-color);\n",
              "    }\n",
              "  }\n",
              "</style>\n",
              "\n",
              "  <script>\n",
              "    async function quickchart(key) {\n",
              "      const quickchartButtonEl =\n",
              "        document.querySelector('#' + key + ' button');\n",
              "      quickchartButtonEl.disabled = true;  // To prevent multiple clicks.\n",
              "      quickchartButtonEl.classList.add('colab-df-spinner');\n",
              "      try {\n",
              "        const charts = await google.colab.kernel.invokeFunction(\n",
              "            'suggestCharts', [key], {});\n",
              "      } catch (error) {\n",
              "        console.error('Error during call to suggestCharts:', error);\n",
              "      }\n",
              "      quickchartButtonEl.classList.remove('colab-df-spinner');\n",
              "      quickchartButtonEl.classList.add('colab-df-quickchart-complete');\n",
              "    }\n",
              "    (() => {\n",
              "      let quickchartButtonEl =\n",
              "        document.querySelector('#df-3d0402b1-1245-4b40-963d-1e5c5635c867 button');\n",
              "      quickchartButtonEl.style.display =\n",
              "        google.colab.kernel.accessAllowed ? 'block' : 'none';\n",
              "    })();\n",
              "  </script>\n",
              "</div>\n",
              "    </div>\n",
              "  </div>\n"
            ]
          },
          "metadata": {},
          "execution_count": 44
        }
      ],
      "source": [
        "df.head()"
      ]
    },
    {
      "cell_type": "code",
      "execution_count": null,
      "metadata": {
        "colab": {
          "base_uri": "https://localhost:8080/"
        },
        "id": "znjrlOyMRV1H",
        "outputId": "bc9e8f74-9a6c-4a5e-9ce6-757f971d44b7"
      },
      "outputs": [
        {
          "output_type": "execute_result",
          "data": {
            "text/plain": [
              "pandas.core.series.Series"
            ]
          },
          "metadata": {},
          "execution_count": 45
        }
      ],
      "source": [
        "type(df['Patient Question'])"
      ]
    },
    {
      "cell_type": "code",
      "execution_count": null,
      "metadata": {
        "colab": {
          "base_uri": "https://localhost:8080/"
        },
        "id": "ioWGWY0vhOQY",
        "outputId": "6510731a-253e-439d-d10a-a7a70499f0dd"
      },
      "outputs": [
        {
          "output_type": "execute_result",
          "data": {
            "text/plain": [
              "array([array([ 1.03315687e+00,  1.03829241e+00, -1.93551385e+00, -1.45760405e+00,\n",
              "              -7.04070628e-01, -3.69264662e-01,  1.53253424e+00,  3.46135330e+00,\n",
              "              -3.26039076e+00,  8.89637992e-02,  3.32793832e+00,  5.65801620e-01,\n",
              "              -3.56585360e+00,  2.21372056e+00,  2.69192219e-01, -2.24424660e-01,\n",
              "               8.27991486e-01, -4.21419114e-01, -5.17834604e-01, -6.78042293e-01,\n",
              "               7.03842402e-01,  1.70904517e+00, -2.46705627e+00, -1.71454871e+00,\n",
              "              -8.57503057e-01, -2.28129768e+00, -1.74718082e+00, -3.60433459e-01,\n",
              "              -6.42756224e-01,  4.78646159e-01,  6.56646132e-01, -6.90834939e-01,\n",
              "              -1.65512633e+00,  5.40347755e-01,  8.11987996e-01, -6.12899244e-01,\n",
              "              -1.03464913e+00,  7.41553724e-01,  2.74427819e+00,  2.57211471e+00,\n",
              "              -1.81060672e+00,  7.66153485e-02,  1.40287066e+00,  2.61373878e-01,\n",
              "              -1.52899730e+00,  8.04199874e-01,  7.02494562e-01, -2.26230526e+00,\n",
              "              -7.09092468e-02,  1.60510993e+00,  1.97171772e+00, -1.28210902e+00,\n",
              "               8.14063966e-01, -2.63986802e+00, -1.46146691e+00,  1.21513438e+00,\n",
              "               1.51533639e+00,  2.15187716e+00,  1.04942393e+00,  9.15443122e-01,\n",
              "               2.70657086e+00, -5.97678423e-01, -3.39599323e+00, -1.70384586e+00,\n",
              "              -1.58137369e+00,  1.29259217e+00, -1.46498215e+00,  1.32842511e-01,\n",
              "               2.30334997e+00,  1.90367591e+00, -5.91253221e-01,  1.93697035e+00,\n",
              "              -1.44169688e+00, -6.25311494e-01, -1.20962216e-02, -5.69668412e-01,\n",
              "              -2.05837870e+00,  9.68674600e-01, -2.47726142e-01, -8.06395471e-01,\n",
              "              -1.24721146e+00, -7.53681421e-01,  2.43772006e+00,  5.23894668e-01,\n",
              "              -1.80240870e+00,  9.31059897e-01, -4.05352801e-01, -1.23172390e+00,\n",
              "               6.76362336e-01, -1.17121124e+00, -2.89019227e-01,  2.57161117e+00,\n",
              "               1.27384377e+00, -3.32562733e+00,  1.01828921e+00, -1.06123276e-01,\n",
              "              -1.49036920e+00, -9.91232634e-01,  1.64208543e+00, -1.59578276e+00,\n",
              "               2.69737911e+00,  2.39638853e+00,  1.46955371e+00, -1.07989162e-01,\n",
              "              -1.74278462e+00,  2.75732422e+00, -1.65669775e+00,  4.73270148e-01,\n",
              "              -1.20377684e+00, -3.49240005e-01, -5.47008574e-01, -1.69989347e+00,\n",
              "              -1.66618347e-01,  4.86869186e-01, -1.73948511e-01,  3.51797915e+00,\n",
              "              -9.91439223e-01, -4.23463851e-01,  6.64296806e-01, -1.97031403e+00,\n",
              "              -2.21868753e+00, -2.23274612e+00, -1.73761964e+00,  9.01464760e-01,\n",
              "               7.97005415e-01, -9.00757432e-01,  2.00343084e+00, -6.55606210e-01,\n",
              "               1.58272231e+00,  1.46130514e+00, -9.72353101e-01, -7.68549323e-01,\n",
              "               5.69419980e-01, -8.99664640e-01,  2.17346087e-01,  1.87021053e+00,\n",
              "              -1.69627678e+00,  3.53327692e-01,  1.74094450e+00,  7.04138130e-02,\n",
              "              -1.05137396e+00, -1.22531533e+00,  2.18512154e+00,  1.08975077e+00,\n",
              "              -2.87477398e+00, -1.19087136e+00, -1.76138389e+00, -1.77203834e-01,\n",
              "               6.23474658e-01,  2.29641467e-01, -1.04234087e+00,  1.82120740e-01,\n",
              "              -3.20609033e-01,  6.30925417e-01,  4.93280828e-01,  1.49659228e+00,\n",
              "               1.81719983e+00,  1.15566146e+00, -8.69776130e-01, -1.88391960e+00,\n",
              "              -2.03188300e+00, -2.40038061e+00, -8.25160325e-01,  1.26232311e-01,\n",
              "               1.13405824e+00,  5.12519002e-01, -1.19128227e+00, -1.11810005e+00,\n",
              "              -2.45187616e+00, -1.26665092e+00,  4.00928438e-01,  8.69547844e-01,\n",
              "              -1.14243686e+00, -4.60203826e-01,  2.85820770e+00, -1.97464061e+00,\n",
              "              -1.57076105e-01,  1.40899384e+00, -1.27885318e+00, -6.91669226e-01,\n",
              "              -8.74132037e-01,  1.10383463e+00,  2.93032861e+00, -2.35298371e+00,\n",
              "              -1.79014608e-01,  2.89133739e+00, -8.75975966e-01, -1.17632782e+00,\n",
              "               1.55129284e-01,  2.85609460e+00, -1.52232349e-01,  1.23051381e+00,\n",
              "              -2.09695840e+00,  2.52207704e-02, -5.58387697e-01, -2.31337380e+00,\n",
              "              -2.21728492e+00, -2.53548086e-01, -1.64141071e+00,  1.85988057e+00,\n",
              "              -8.10543954e-01, -2.25592399e+00, -2.70235562e+00, -7.93001592e-01,\n",
              "              -1.44817472e+00,  1.32684016e+00,  1.77044496e-01, -1.21470070e+00,\n",
              "              -2.03713819e-01, -9.13618386e-01, -2.25420803e-01, -4.43663806e-01,\n",
              "               9.97557580e-01, -4.39253867e-01, -1.05010605e+00,  1.35520148e+00,\n",
              "               1.34599566e+00, -6.87073052e-01,  7.30226934e-01,  2.79784575e-02,\n",
              "              -2.43128443e+00,  4.80348468e-01,  3.56448442e-01,  5.58181584e-01,\n",
              "              -1.46294624e-01, -6.19983017e-01, -9.45020020e-01, -4.79923874e-01,\n",
              "               2.41590595e+00,  3.15423632e+00, -1.92612767e+00, -2.41388798e+00,\n",
              "              -1.28578138e+00,  4.76558328e-01, -5.28095126e-01,  8.28802466e-01,\n",
              "               2.73204744e-01,  3.04301691e+00,  5.45355380e-01, -7.61893809e-01,\n",
              "              -9.12645638e-01, -8.86453748e-01,  1.79483163e+00, -1.11472619e+00,\n",
              "               2.94986993e-01, -1.29486477e+00, -2.20426202e+00,  1.52225661e+00,\n",
              "               3.42622995e+00,  1.45220268e+00, -4.13613051e-01,  2.69314557e-01,\n",
              "              -2.62393546e+00,  1.06792176e+00,  4.29533899e-01, -2.33599997e+00,\n",
              "              -6.75943077e-01,  1.40820694e+00,  2.89120018e-01,  2.05342603e+00,\n",
              "               7.03856111e-01,  2.94063163e+00,  2.21645594e+00,  1.18306851e+00,\n",
              "               1.87449312e+00, -8.52025628e-01,  2.31709003e+00,  3.13061930e-04,\n",
              "              -3.42482924e+00,  1.14272988e+00,  6.50256097e-01,  4.26515371e-01,\n",
              "              -1.24967360e+00, -1.96148539e+00, -1.52337706e+00, -1.53170776e+00,\n",
              "               1.99613249e+00, -3.11968613e+00, -9.07927286e-03,  1.15834999e+00,\n",
              "               1.25892591e+00,  2.16107741e-02,  1.18415773e+00,  5.62059939e-01,\n",
              "               3.74081159e+00,  1.61150742e+00,  1.17516148e+00,  1.63629079e+00,\n",
              "              -3.27946329e+00, -3.60123098e-01,  2.51464176e+00,  8.01318467e-01,\n",
              "               1.18443310e+00, -2.46104074e+00, -1.05907977e+00,  6.41507804e-01,\n",
              "               1.72044837e+00, -4.77123052e-01, -4.71034622e+00,  3.35555863e+00],\n",
              "             dtype=float32)                                                       ,\n",
              "       array([ 0.697199  ,  0.7048954 , -3.0286956 , -2.9154978 , -1.6690539 ,\n",
              "               1.1458918 ,  1.3630813 ,  4.2960157 , -3.1022167 ,  1.8704821 ,\n",
              "               4.711923  ,  2.0925632 , -2.3886054 ,  1.792983  ,  3.1240609 ,\n",
              "              -0.8870818 ,  2.046522  , -3.2181225 , -1.0038126 , -1.3412396 ,\n",
              "               1.9827781 ,  2.4631598 , -2.3383899 , -2.1410189 , -0.82636064,\n",
              "              -1.3046393 , -1.2378452 , -0.42016563,  0.21582489,  1.8397235 ,\n",
              "               0.88856995, -1.168296  , -0.72809917, -0.9026855 , -0.32885557,\n",
              "               1.2153165 ,  0.17599021,  0.64243484,  4.735643  ,  2.1126182 ,\n",
              "              -0.9751576 , -0.02761226,  1.2189636 , -1.4275144 , -0.35805106,\n",
              "               2.1192589 ,  0.90840834, -4.306166  , -1.153743  ,  0.7189726 ,\n",
              "               2.398296  , -0.18874002,  1.9890219 , -4.694872  , -3.4798286 ,\n",
              "               0.24750529,  1.4178518 ,  3.0072927 ,  2.1193035 ,  2.332143  ,\n",
              "               4.298477  , -0.0596569 , -1.3699723 , -1.5727274 , -2.585976  ,\n",
              "               0.5387073 , -2.5218182 , -0.974247  ,  0.44389436,  2.2454305 ,\n",
              "               0.4279068 ,  0.85863954,  1.1004175 , -1.0155767 ,  1.9099698 ,\n",
              "               0.69657314, -1.2696445 ,  0.5089022 , -1.1010016 , -1.4314466 ,\n",
              "              -2.5835063 , -0.19013835,  4.560483  ,  0.17951575, -0.10361997,\n",
              "               0.47586924,  0.35016626, -2.249958  ,  1.7128876 , -1.0908167 ,\n",
              "               0.08538897,  0.06524362,  1.9019156 , -4.4951553 , -0.7636142 ,\n",
              "              -0.75659144, -0.2501746 , -3.0015528 , -0.07004035, -2.3455012 ,\n",
              "               0.8855093 ,  2.6947997 , -0.25336888,  0.37474227, -1.9476779 ,\n",
              "               3.281606  , -1.8005384 ,  0.32838744, -2.0235035 , -0.41339692,\n",
              "              -0.07203366, -3.4344513 ,  0.843219  , -1.5094742 , -0.7273274 ,\n",
              "               2.9469078 , -2.5219252 , -1.058663  ,  0.06997953, -0.9508122 ,\n",
              "              -1.7021005 , -1.283235  , -3.1236932 ,  1.6398531 , -0.54453844,\n",
              "              -0.59641826,  1.1461271 , -0.9479613 , -1.2794901 ,  0.69033694,\n",
              "              -0.68460506,  0.65747935, -0.35778922,  0.03179228, -0.7920765 ,\n",
              "               1.2382842 , -2.793269  , -0.92776823,  4.87416   , -1.1759472 ,\n",
              "               0.49487397, -1.0341331 ,  0.80697685,  0.35843   , -3.915248  ,\n",
              "              -0.98674834, -1.9118234 , -1.5576774 , -1.7668585 , -0.10077117,\n",
              "              -2.279535  ,  0.57319325, -0.00577087,  0.4579232 , -0.45981255,\n",
              "               1.1167933 ,  3.131718  ,  0.41270998, -0.03422381, -0.83258253,\n",
              "              -0.86189914, -1.9134461 , -1.3497655 , -0.5405662 , -1.0348432 ,\n",
              "              -0.02572313, -1.6327329 ,  0.16698653, -2.241399  , -0.94612867,\n",
              "               1.7186908 ,  0.49869773, -0.20030636,  1.6498907 ,  1.2804347 ,\n",
              "              -2.9880815 , -0.33113563,  1.6072953 , -0.23996563, -0.8962828 ,\n",
              "               0.15257506, -1.0027037 ,  3.9865327 , -1.3219143 , -0.50741726,\n",
              "               3.1450431 , -0.9077463 , -3.3066943 ,  1.9431292 ,  2.9374928 ,\n",
              "              -2.5332625 ,  1.6316128 , -1.5779552 ,  0.30812818, -1.5758756 ,\n",
              "              -1.455234  , -4.3127904 ,  1.1014549 , -1.0551548 ,  3.383556  ,\n",
              "              -2.164665  ,  0.5692271 , -2.2015464 , -1.860004  , -1.1421028 ,\n",
              "               1.0288144 , -0.7779072 , -0.69102407, -0.15298657, -0.44827402,\n",
              "               1.873602  ,  0.4055791 ,  1.7912261 ,  0.43695343, -2.4614186 ,\n",
              "               0.36646992,  0.43548805, -1.5671984 ,  0.33806846,  0.8728496 ,\n",
              "              -3.098009  , -0.6966374 ,  1.4727442 ,  1.3801022 ,  1.5565996 ,\n",
              "               0.1881028 , -1.3317633 ,  0.01247924,  2.1312637 ,  1.3401924 ,\n",
              "              -1.8136497 , -1.9772141 ,  1.2869991 ,  0.13557926, -1.9549774 ,\n",
              "               0.78143334,  0.29219463,  2.2076585 ,  2.3501937 , -0.78098226,\n",
              "              -2.4688928 , -0.7940536 ,  1.3762301 , -0.25777707, -0.4687178 ,\n",
              "              -1.5816522 , -1.6966171 , -0.1271712 ,  3.5981414 ,  1.545516  ,\n",
              "              -1.8626788 ,  2.4552085 , -3.5817792 ,  1.8505597 ,  0.6586335 ,\n",
              "              -2.250576  , -1.2291745 ,  2.7875676 , -1.2118909 ,  3.0711222 ,\n",
              "               0.82680374,  3.3875885 ,  1.7743255 ,  2.0296495 ,  1.5743067 ,\n",
              "               1.0601038 ,  2.0871804 ,  1.97782   , -3.920258  ,  0.6193049 ,\n",
              "               1.2404113 , -1.8063859 , -0.6444174 , -0.0805227 , -1.0392945 ,\n",
              "              -1.5118624 ,  1.7449789 , -3.5999348 , -0.7598027 ,  0.88094467,\n",
              "              -1.3799506 , -0.7752622 ,  0.09993528,  0.3648111 ,  2.9791346 ,\n",
              "               0.50958896,  1.6664917 ,  0.21179307, -3.32685   ,  0.81789905,\n",
              "               3.4452758 , -0.9134318 ,  0.6105679 , -2.7578876 , -1.314293  ,\n",
              "              -0.5650118 ,  1.120637  ,  1.7481321 , -4.4995866 ,  2.4953868 ],\n",
              "             dtype=float32)                                                    ,\n",
              "       array([  2.1675 ,  -5.4416 ,   7.1424 ,   8.7928 ,   6.9778 ,   8.8561 ,\n",
              "                5.2856 ,   1.8576 ,  -8.8531 ,  -7.1982 ,   2.423  ,  -6.0944 ,\n",
              "               -0.21337,  -5.4131 ,  -7.7859 ,   0.88671,  -1.3979 ,  10.875  ,\n",
              "               -6.6189 ,   1.7764 ,  -1.342  ,  -0.23661,  10.864  ,  -3.4385 ,\n",
              "               -9.9673 ,  -3.2012 ,   0.66556,  -6.0658 ,  -0.64222,  -3.3453 ,\n",
              "               -5.4294 ,   2.7732 ,   5.6566 ,  -5.53   ,   0.84036, -19.443  ,\n",
              "               -2.4507 ,   4.4422 ,   1.3923 ,   8.3569 ,   9.3101 ,   5.8297 ,\n",
              "                1.1151 ,   5.6253 , -10.105  ,   3.1686 ,   4.0153 ,   8.6093 ,\n",
              "               10.286  ,  -1.3368 ,   3.1817 ,   8.4227 ,  -9.259  ,   5.1571 ,\n",
              "               -6.7822 ,   4.1503 ,  -0.89706,   6.182  ,   8.8627 ,  -8.5086 ,\n",
              "               -4.4791 ,   8.0136 , -12.166  ,  -7.0531 ,  -1.2656 ,   4.147  ,\n",
              "                7.3895 ,   7.7852 ,  -4.1795 ,   7.2947 ,   3.4331 ,   1.6321 ,\n",
              "               10.591  ,   6.2438 ,  -9.8644 ,  -5.1669 ,   4.5369 ,   0.25532,\n",
              "               14.088  ,  17.849  ,   0.76094,  -6.691  ,  -5.6264 ,   1.6981 ,\n",
              "               -1.6916 ,  -6.5718 ,  -1.1729 ,  -0.75277,  10.882  ,   8.3876 ,\n",
              "               -7.5672 ,   5.1736 ,  -1.3839 ,   9.3101 ,  -0.52863,  14.661  ,\n",
              "              -11.363  ,  -0.45509,   2.3826 ,   5.2412 ,  11.021  ,  -4.9485 ,\n",
              "                5.2035 ,   1.9567 ,  -1.3932 ,   1.9121 , -12.905  ,   2.9925 ,\n",
              "               -4.5604 ,   8.0827 ,  -6.0757 , -14.161  ,  -2.0887 ,   3.2842 ,\n",
              "               -7.3499 ,   0.81243,  -5.9115 ,   5.7014 ,   2.1142 ,  -7.8742 ,\n",
              "                8.7693 ,  -5.3984 ,   3.2229 , -15.915  ,  -2.5709 , -11.719  ,\n",
              "               -4.1107 ,  -1.7019 ,   0.94588,   0.60944,   5.4571 ,   2.6904 ,\n",
              "               -1.3684 ,   9.5071 ,  -2.6697 ,  -6.4535 ,   3.5647 ,  17.057  ,\n",
              "               -1.9537 ,   3.1426 ,   6.9016 ,   8.2437 ,   4.3608 ,   0.5035 ,\n",
              "                8.0603 ,  -5.8166 ,  -0.57967,  -5.7441 ,  10.857  ,  10.875  ,\n",
              "               -2.6658 ,   3.1001 ,  -7.1748 ,  -7.4996 ,   7.7818 ,   3.7927 ,\n",
              "                8.0171 ,  -5.9574 ,   3.2896 ,  -2.9119 ,  -3.5894 ,   6.7044 ,\n",
              "               18.257  ,   3.7658 ,  -5.8285 ,   6.9847 ,   9.6442 ,  -4.5482 ,\n",
              "               -5.9637 ,   9.0112 , -12.918  ,   8.5912 , -14.307  ,  -6.3931 ,\n",
              "               -5.8183 ,  13.42   ,   0.96067,  -2.0377 ,  -5.3587 ,   3.2055 ,\n",
              "                4.2714 ,  -9.8336 , -10.108  ,  -6.0853 ,   0.40156,   6.7658 ,\n",
              "              -12.963  ,   7.7114 ,  -3.3331 ,   4.2065 ,   8.8759 ,   8.0321 ,\n",
              "               -4.6963 ,  -4.3725 ,  13.014  ,  -9.9182 ,   1.6307 ,  -3.0914 ,\n",
              "                2.0022 ,   0.39098,  -9.8739 ,  -1.757  ,   1.481  ,   3.1257 ,\n",
              "               -4.1217 ,  -5.8671 ,   3.8537 ,  -2.488  ,  14.358  ,   1.4831 ,\n",
              "               -0.55463,   3.5744 ,   8.8046 ,   6.4114 ,   4.1444 ,   0.54726,\n",
              "                1.5118 ,  -8.5003 ,  -8.0978 ,   5.5809 ,  -3.3734 ,  14.925  ,\n",
              "               -1.1437 , -16.299  ,   1.2431 ,  -0.8185 ,  -1.8208 ,  -7.6586 ,\n",
              "                0.1552 ,  -3.677  ,   1.758  ,  -1.7795 ,   2.5254 ,   4.3451 ,\n",
              "               -2.7476 ,   9.1965 ,   6.1044 ,  -6.0396 ,  -8.1599 ,  -4.4765 ,\n",
              "               -8.6978 , -11.879  ,  -6.6214 ,  -0.75246,  11.09   ,  -6.5598 ,\n",
              "                8.4221 ,   5.1634 ,  -7.807  ,  -5.9326 ,   2.2832 ,   5.9745 ,\n",
              "               -2.5694 ,   3.5528 ,   4.3286 ,  -8.5401 ,  -3.7053 ,   8.1504 ,\n",
              "                5.428  ,  -3.1726 ,   4.1728 ,  -6.7417 ,  -1.1444 ,   0.32133,\n",
              "                2.5149 ,  -3.7853 ,   0.73655,  -1.253  ,  -2.5546 ,   8.5718 ,\n",
              "               -2.626  ,   7.653  ,  -0.40686,   2.9297 ,   5.0907 ,   3.0606 ,\n",
              "                1.4376 ,   6.5    ,  -9.6622 ,  -0.92513,   8.6633 ,   2.0631 ,\n",
              "               -6.054  ,   6.4903 ,  -4.4616 ,   3.375  ,  -7.7742 ,  -1.8702 ,\n",
              "               -7.7412 ,   6.3887 ,  -2.5812 ,  -0.5475 ,  -3.5582 ,   4.1628 ,\n",
              "               -0.11807,  -2.4216 ,   0.31713,  -3.55   ,   6.7516 ,   1.141  ],\n",
              "             dtype=float32)                                                     ,\n",
              "       ...,\n",
              "       array([-3.80876660e-02,  8.45462203e-01, -1.87249112e+00, -2.27956846e-01,\n",
              "               2.74736381e+00,  7.01372683e-01,  2.09707189e+00,  4.33260393e+00,\n",
              "              -1.18812457e-01, -1.98959565e+00,  4.26981831e+00, -2.76611955e-03,\n",
              "              -1.65080810e+00, -3.26831967e-01,  1.14663005e+00,  7.22920299e-01,\n",
              "               1.35501742e+00, -1.36392343e+00, -1.24023700e+00, -1.94483504e-01,\n",
              "               7.30698168e-01,  2.20352858e-01, -1.19565165e+00, -2.01866403e-01,\n",
              "              -1.08736742e+00, -2.60630107e+00, -1.83708155e+00, -1.44426435e-01,\n",
              "               3.95959288e-01,  6.21583045e-01,  2.25561905e+00,  1.38707817e+00,\n",
              "              -4.36367542e-01, -1.03726220e+00, -1.81401038e+00, -9.08191741e-01,\n",
              "              -1.85338035e-01,  1.72868228e+00,  1.97376060e+00,  1.23005676e+00,\n",
              "              -1.07851815e+00,  1.15992978e-01,  4.29181844e-01,  1.23887181e+00,\n",
              "              -1.71972871e+00,  3.97092074e-01, -8.02978948e-02, -3.07933998e+00,\n",
              "              -3.22689295e-01,  3.68924212e+00, -9.95487794e-02,  1.02781940e+00,\n",
              "               8.79806340e-01, -2.82794619e+00, -1.71156418e+00,  1.06872404e+00,\n",
              "               1.98456895e+00,  8.88646170e-02,  1.87343776e+00,  9.69061673e-01,\n",
              "              -4.63574439e-01,  1.79124796e+00, -2.39013791e+00, -2.04163933e+00,\n",
              "               1.62622821e+00,  8.14900100e-01, -2.58383441e+00, -2.53411484e+00,\n",
              "               9.68902230e-01,  7.94233799e-01,  1.97005022e+00,  3.12256783e-01,\n",
              "              -1.30707300e+00,  1.76650429e+00, -1.03549564e+00,  1.93042743e+00,\n",
              "              -2.87269330e+00,  7.57361829e-01, -1.72044551e+00,  6.32795930e-01,\n",
              "              -3.48562050e+00,  6.04817986e-01,  1.41395295e+00,  1.12200797e+00,\n",
              "               9.11851406e-01,  5.65260530e-01, -3.04063678e+00, -2.91747403e+00,\n",
              "               1.39843905e+00, -3.49281847e-01,  1.14445329e-01, -8.32140446e-01,\n",
              "               1.57976031e+00, -2.57002187e+00,  8.64876091e-01, -1.45823285e-01,\n",
              "               9.16972518e-01, -1.09873021e+00,  1.80773818e+00, -9.63802874e-01,\n",
              "               1.13774574e+00,  1.10917175e+00,  1.57906234e+00,  1.70547283e+00,\n",
              "              -1.43217671e+00,  3.64560819e+00, -1.19570270e-01, -1.64071119e+00,\n",
              "               1.81939438e-01, -2.97102380e+00, -7.38284588e-01, -3.55809927e-01,\n",
              "              -1.95224300e-01, -2.09506124e-01,  1.49611700e+00,  1.20642936e+00,\n",
              "              -2.28346324e+00, -1.05420005e+00,  2.44841740e-01,  1.55283010e+00,\n",
              "              -9.57737640e-02, -3.53454852e+00, -8.34340096e-01, -3.39652777e-01,\n",
              "              -1.54287279e+00, -1.85305333e+00,  1.78072262e+00,  4.40375149e-01,\n",
              "               9.11826193e-01, -2.26971045e-01, -1.10477948e+00, -1.51781583e+00,\n",
              "               3.44337034e+00,  3.93554360e-01, -5.06767631e-01,  5.87346852e-01,\n",
              "              -1.70295727e+00, -2.84356654e-01,  3.42099595e+00, -2.23722839e+00,\n",
              "              -8.62860620e-01, -1.79535413e+00,  7.98175871e-01,  1.23013747e+00,\n",
              "              -5.39485753e-01, -1.09713054e+00, -3.95622516e+00, -6.17985785e-01,\n",
              "               1.41373897e+00,  9.45722580e-01, -2.01385334e-01,  4.49908227e-01,\n",
              "               8.47534359e-01,  1.82407665e+00, -1.11729574e+00, -2.63854206e-01,\n",
              "               1.82806587e+00, -3.14516813e-01, -1.02415681e+00, -1.51834178e+00,\n",
              "               1.23699985e-01, -2.48991060e+00, -9.05899644e-01, -7.07485452e-02,\n",
              "              -2.85122514e+00, -1.88743222e+00, -2.37741995e+00,  1.13658130e+00,\n",
              "              -7.99433708e-01,  2.47501826e+00,  6.80900037e-01,  4.45047855e-01,\n",
              "               1.31662476e+00, -1.28135943e+00,  1.72830224e+00, -2.39588588e-01,\n",
              "              -4.19939309e-01,  6.39771819e-01, -4.72570002e-01, -2.11104679e+00,\n",
              "               6.76851094e-01, -2.83467382e-01,  1.74862993e+00,  7.89411187e-01,\n",
              "              -6.88588679e-01,  1.87854230e+00, -2.89653391e-01, -1.57726079e-01,\n",
              "               1.18532479e+00,  1.30479419e+00, -8.33384871e-01, -6.16092384e-02,\n",
              "              -1.04598010e+00, -3.27423871e-01,  1.59123912e-01, -1.89610755e+00,\n",
              "              -1.91517746e+00, -3.09679419e-01, -9.47799087e-01,  1.35464418e+00,\n",
              "              -8.29013526e-01, -1.42417991e+00, -1.34697354e+00, -1.92142844e+00,\n",
              "               1.87281895e+00,  1.61672807e+00, -9.48646009e-01, -3.16588767e-02,\n",
              "              -1.58260882e+00, -1.44559965e-01,  7.96188653e-01,  3.57976973e-01,\n",
              "              -5.36828935e-01, -2.13051632e-01,  9.06029344e-01,  1.58766019e+00,\n",
              "               1.05437720e+00, -1.68911874e+00, -6.58778965e-01, -5.86451590e-02,\n",
              "              -1.56878376e+00, -1.62610561e-01,  5.56242526e-01,  2.23395348e-01,\n",
              "              -1.36702478e+00, -5.26768565e-02, -7.66207874e-01,  5.47368586e-01,\n",
              "               1.39084542e+00,  2.85469145e-01,  1.35770285e+00, -5.59137523e-01,\n",
              "              -7.26927876e-01,  1.40651667e+00,  1.03663519e-01,  2.12616491e+00,\n",
              "              -1.05972350e+00,  1.93332553e+00, -2.17471316e-01, -1.23962149e-01,\n",
              "              -1.52120185e+00,  3.84658605e-01,  1.74602687e+00, -1.51130676e-01,\n",
              "              -6.97487354e-01,  2.13499475e+00, -1.72294021e+00,  4.32897329e-01,\n",
              "               1.01806355e+00,  1.56992126e+00,  2.54733235e-01, -1.37568319e+00,\n",
              "              -4.14999294e+00,  3.19510698e-01,  3.32049280e-01, -8.63606036e-01,\n",
              "              -9.16906774e-01,  4.06073295e-02, -7.34364334e-03,  2.24644732e+00,\n",
              "              -1.59389257e-01,  3.05951500e+00,  2.34850454e+00,  1.02801025e+00,\n",
              "               1.72939849e+00, -3.15938145e-01,  9.50138927e-01,  2.35398269e+00,\n",
              "              -2.56156158e+00,  1.08568418e+00,  7.20619261e-01,  3.82800311e-01,\n",
              "              -2.27422506e-01, -1.36170352e+00, -6.11431777e-01,  4.11931515e-01,\n",
              "              -3.11870724e-01, -2.29633451e+00, -1.02628922e+00,  1.94412932e-01,\n",
              "               2.00463161e-01, -1.25726020e+00,  4.91412669e-01, -4.11754027e-02,\n",
              "               2.17634225e+00,  2.85756849e-02, -1.00485265e+00,  8.44463781e-02,\n",
              "              -1.46596563e+00, -3.28099698e-01,  1.73133767e+00, -1.17789447e+00,\n",
              "              -2.42597103e-01, -1.49672341e+00, -1.61568367e+00,  6.74674869e-01,\n",
              "               1.00016367e+00, -6.00927949e-01, -2.65366817e+00,  1.15941584e+00],\n",
              "             dtype=float32)                                                       ,\n",
              "       array([  2.1675 ,  -5.4416 ,   7.1424 ,   8.7928 ,   6.9778 ,   8.8561 ,\n",
              "                5.2856 ,   1.8576 ,  -8.8531 ,  -7.1982 ,   2.423  ,  -6.0944 ,\n",
              "               -0.21337,  -5.4131 ,  -7.7859 ,   0.88671,  -1.3979 ,  10.875  ,\n",
              "               -6.6189 ,   1.7764 ,  -1.342  ,  -0.23661,  10.864  ,  -3.4385 ,\n",
              "               -9.9673 ,  -3.2012 ,   0.66556,  -6.0658 ,  -0.64222,  -3.3453 ,\n",
              "               -5.4294 ,   2.7732 ,   5.6566 ,  -5.53   ,   0.84036, -19.443  ,\n",
              "               -2.4507 ,   4.4422 ,   1.3923 ,   8.3569 ,   9.3101 ,   5.8297 ,\n",
              "                1.1151 ,   5.6253 , -10.105  ,   3.1686 ,   4.0153 ,   8.6093 ,\n",
              "               10.286  ,  -1.3368 ,   3.1817 ,   8.4227 ,  -9.259  ,   5.1571 ,\n",
              "               -6.7822 ,   4.1503 ,  -0.89706,   6.182  ,   8.8627 ,  -8.5086 ,\n",
              "               -4.4791 ,   8.0136 , -12.166  ,  -7.0531 ,  -1.2656 ,   4.147  ,\n",
              "                7.3895 ,   7.7852 ,  -4.1795 ,   7.2947 ,   3.4331 ,   1.6321 ,\n",
              "               10.591  ,   6.2438 ,  -9.8644 ,  -5.1669 ,   4.5369 ,   0.25532,\n",
              "               14.088  ,  17.849  ,   0.76094,  -6.691  ,  -5.6264 ,   1.6981 ,\n",
              "               -1.6916 ,  -6.5718 ,  -1.1729 ,  -0.75277,  10.882  ,   8.3876 ,\n",
              "               -7.5672 ,   5.1736 ,  -1.3839 ,   9.3101 ,  -0.52863,  14.661  ,\n",
              "              -11.363  ,  -0.45509,   2.3826 ,   5.2412 ,  11.021  ,  -4.9485 ,\n",
              "                5.2035 ,   1.9567 ,  -1.3932 ,   1.9121 , -12.905  ,   2.9925 ,\n",
              "               -4.5604 ,   8.0827 ,  -6.0757 , -14.161  ,  -2.0887 ,   3.2842 ,\n",
              "               -7.3499 ,   0.81243,  -5.9115 ,   5.7014 ,   2.1142 ,  -7.8742 ,\n",
              "                8.7693 ,  -5.3984 ,   3.2229 , -15.915  ,  -2.5709 , -11.719  ,\n",
              "               -4.1107 ,  -1.7019 ,   0.94588,   0.60944,   5.4571 ,   2.6904 ,\n",
              "               -1.3684 ,   9.5071 ,  -2.6697 ,  -6.4535 ,   3.5647 ,  17.057  ,\n",
              "               -1.9537 ,   3.1426 ,   6.9016 ,   8.2437 ,   4.3608 ,   0.5035 ,\n",
              "                8.0603 ,  -5.8166 ,  -0.57967,  -5.7441 ,  10.857  ,  10.875  ,\n",
              "               -2.6658 ,   3.1001 ,  -7.1748 ,  -7.4996 ,   7.7818 ,   3.7927 ,\n",
              "                8.0171 ,  -5.9574 ,   3.2896 ,  -2.9119 ,  -3.5894 ,   6.7044 ,\n",
              "               18.257  ,   3.7658 ,  -5.8285 ,   6.9847 ,   9.6442 ,  -4.5482 ,\n",
              "               -5.9637 ,   9.0112 , -12.918  ,   8.5912 , -14.307  ,  -6.3931 ,\n",
              "               -5.8183 ,  13.42   ,   0.96067,  -2.0377 ,  -5.3587 ,   3.2055 ,\n",
              "                4.2714 ,  -9.8336 , -10.108  ,  -6.0853 ,   0.40156,   6.7658 ,\n",
              "              -12.963  ,   7.7114 ,  -3.3331 ,   4.2065 ,   8.8759 ,   8.0321 ,\n",
              "               -4.6963 ,  -4.3725 ,  13.014  ,  -9.9182 ,   1.6307 ,  -3.0914 ,\n",
              "                2.0022 ,   0.39098,  -9.8739 ,  -1.757  ,   1.481  ,   3.1257 ,\n",
              "               -4.1217 ,  -5.8671 ,   3.8537 ,  -2.488  ,  14.358  ,   1.4831 ,\n",
              "               -0.55463,   3.5744 ,   8.8046 ,   6.4114 ,   4.1444 ,   0.54726,\n",
              "                1.5118 ,  -8.5003 ,  -8.0978 ,   5.5809 ,  -3.3734 ,  14.925  ,\n",
              "               -1.1437 , -16.299  ,   1.2431 ,  -0.8185 ,  -1.8208 ,  -7.6586 ,\n",
              "                0.1552 ,  -3.677  ,   1.758  ,  -1.7795 ,   2.5254 ,   4.3451 ,\n",
              "               -2.7476 ,   9.1965 ,   6.1044 ,  -6.0396 ,  -8.1599 ,  -4.4765 ,\n",
              "               -8.6978 , -11.879  ,  -6.6214 ,  -0.75246,  11.09   ,  -6.5598 ,\n",
              "                8.4221 ,   5.1634 ,  -7.807  ,  -5.9326 ,   2.2832 ,   5.9745 ,\n",
              "               -2.5694 ,   3.5528 ,   4.3286 ,  -8.5401 ,  -3.7053 ,   8.1504 ,\n",
              "                5.428  ,  -3.1726 ,   4.1728 ,  -6.7417 ,  -1.1444 ,   0.32133,\n",
              "                2.5149 ,  -3.7853 ,   0.73655,  -1.253  ,  -2.5546 ,   8.5718 ,\n",
              "               -2.626  ,   7.653  ,  -0.40686,   2.9297 ,   5.0907 ,   3.0606 ,\n",
              "                1.4376 ,   6.5    ,  -9.6622 ,  -0.92513,   8.6633 ,   2.0631 ,\n",
              "               -6.054  ,   6.4903 ,  -4.4616 ,   3.375  ,  -7.7742 ,  -1.8702 ,\n",
              "               -7.7412 ,   6.3887 ,  -2.5812 ,  -0.5475 ,  -3.5582 ,   4.1628 ,\n",
              "               -0.11807,  -2.4216 ,   0.31713,  -3.55   ,   6.7516 ,   1.141  ],\n",
              "             dtype=float32)                                                     ,\n",
              "       array([  2.1675 ,  -5.4416 ,   7.1424 ,   8.7928 ,   6.9778 ,   8.8561 ,\n",
              "                5.2856 ,   1.8576 ,  -8.8531 ,  -7.1982 ,   2.423  ,  -6.0944 ,\n",
              "               -0.21337,  -5.4131 ,  -7.7859 ,   0.88671,  -1.3979 ,  10.875  ,\n",
              "               -6.6189 ,   1.7764 ,  -1.342  ,  -0.23661,  10.864  ,  -3.4385 ,\n",
              "               -9.9673 ,  -3.2012 ,   0.66556,  -6.0658 ,  -0.64222,  -3.3453 ,\n",
              "               -5.4294 ,   2.7732 ,   5.6566 ,  -5.53   ,   0.84036, -19.443  ,\n",
              "               -2.4507 ,   4.4422 ,   1.3923 ,   8.3569 ,   9.3101 ,   5.8297 ,\n",
              "                1.1151 ,   5.6253 , -10.105  ,   3.1686 ,   4.0153 ,   8.6093 ,\n",
              "               10.286  ,  -1.3368 ,   3.1817 ,   8.4227 ,  -9.259  ,   5.1571 ,\n",
              "               -6.7822 ,   4.1503 ,  -0.89706,   6.182  ,   8.8627 ,  -8.5086 ,\n",
              "               -4.4791 ,   8.0136 , -12.166  ,  -7.0531 ,  -1.2656 ,   4.147  ,\n",
              "                7.3895 ,   7.7852 ,  -4.1795 ,   7.2947 ,   3.4331 ,   1.6321 ,\n",
              "               10.591  ,   6.2438 ,  -9.8644 ,  -5.1669 ,   4.5369 ,   0.25532,\n",
              "               14.088  ,  17.849  ,   0.76094,  -6.691  ,  -5.6264 ,   1.6981 ,\n",
              "               -1.6916 ,  -6.5718 ,  -1.1729 ,  -0.75277,  10.882  ,   8.3876 ,\n",
              "               -7.5672 ,   5.1736 ,  -1.3839 ,   9.3101 ,  -0.52863,  14.661  ,\n",
              "              -11.363  ,  -0.45509,   2.3826 ,   5.2412 ,  11.021  ,  -4.9485 ,\n",
              "                5.2035 ,   1.9567 ,  -1.3932 ,   1.9121 , -12.905  ,   2.9925 ,\n",
              "               -4.5604 ,   8.0827 ,  -6.0757 , -14.161  ,  -2.0887 ,   3.2842 ,\n",
              "               -7.3499 ,   0.81243,  -5.9115 ,   5.7014 ,   2.1142 ,  -7.8742 ,\n",
              "                8.7693 ,  -5.3984 ,   3.2229 , -15.915  ,  -2.5709 , -11.719  ,\n",
              "               -4.1107 ,  -1.7019 ,   0.94588,   0.60944,   5.4571 ,   2.6904 ,\n",
              "               -1.3684 ,   9.5071 ,  -2.6697 ,  -6.4535 ,   3.5647 ,  17.057  ,\n",
              "               -1.9537 ,   3.1426 ,   6.9016 ,   8.2437 ,   4.3608 ,   0.5035 ,\n",
              "                8.0603 ,  -5.8166 ,  -0.57967,  -5.7441 ,  10.857  ,  10.875  ,\n",
              "               -2.6658 ,   3.1001 ,  -7.1748 ,  -7.4996 ,   7.7818 ,   3.7927 ,\n",
              "                8.0171 ,  -5.9574 ,   3.2896 ,  -2.9119 ,  -3.5894 ,   6.7044 ,\n",
              "               18.257  ,   3.7658 ,  -5.8285 ,   6.9847 ,   9.6442 ,  -4.5482 ,\n",
              "               -5.9637 ,   9.0112 , -12.918  ,   8.5912 , -14.307  ,  -6.3931 ,\n",
              "               -5.8183 ,  13.42   ,   0.96067,  -2.0377 ,  -5.3587 ,   3.2055 ,\n",
              "                4.2714 ,  -9.8336 , -10.108  ,  -6.0853 ,   0.40156,   6.7658 ,\n",
              "              -12.963  ,   7.7114 ,  -3.3331 ,   4.2065 ,   8.8759 ,   8.0321 ,\n",
              "               -4.6963 ,  -4.3725 ,  13.014  ,  -9.9182 ,   1.6307 ,  -3.0914 ,\n",
              "                2.0022 ,   0.39098,  -9.8739 ,  -1.757  ,   1.481  ,   3.1257 ,\n",
              "               -4.1217 ,  -5.8671 ,   3.8537 ,  -2.488  ,  14.358  ,   1.4831 ,\n",
              "               -0.55463,   3.5744 ,   8.8046 ,   6.4114 ,   4.1444 ,   0.54726,\n",
              "                1.5118 ,  -8.5003 ,  -8.0978 ,   5.5809 ,  -3.3734 ,  14.925  ,\n",
              "               -1.1437 , -16.299  ,   1.2431 ,  -0.8185 ,  -1.8208 ,  -7.6586 ,\n",
              "                0.1552 ,  -3.677  ,   1.758  ,  -1.7795 ,   2.5254 ,   4.3451 ,\n",
              "               -2.7476 ,   9.1965 ,   6.1044 ,  -6.0396 ,  -8.1599 ,  -4.4765 ,\n",
              "               -8.6978 , -11.879  ,  -6.6214 ,  -0.75246,  11.09   ,  -6.5598 ,\n",
              "                8.4221 ,   5.1634 ,  -7.807  ,  -5.9326 ,   2.2832 ,   5.9745 ,\n",
              "               -2.5694 ,   3.5528 ,   4.3286 ,  -8.5401 ,  -3.7053 ,   8.1504 ,\n",
              "                5.428  ,  -3.1726 ,   4.1728 ,  -6.7417 ,  -1.1444 ,   0.32133,\n",
              "                2.5149 ,  -3.7853 ,   0.73655,  -1.253  ,  -2.5546 ,   8.5718 ,\n",
              "               -2.626  ,   7.653  ,  -0.40686,   2.9297 ,   5.0907 ,   3.0606 ,\n",
              "                1.4376 ,   6.5    ,  -9.6622 ,  -0.92513,   8.6633 ,   2.0631 ,\n",
              "               -6.054  ,   6.4903 ,  -4.4616 ,   3.375  ,  -7.7742 ,  -1.8702 ,\n",
              "               -7.7412 ,   6.3887 ,  -2.5812 ,  -0.5475 ,  -3.5582 ,   4.1628 ,\n",
              "               -0.11807,  -2.4216 ,   0.31713,  -3.55   ,   6.7516 ,   1.141  ],\n",
              "             dtype=float32)                                                     ],\n",
              "      dtype=object)"
            ]
          },
          "metadata": {},
          "execution_count": 46
        }
      ],
      "source": [
        "df['Distorted part'].values"
      ]
    },
    {
      "cell_type": "code",
      "execution_count": null,
      "metadata": {
        "id": "Hz5d09qagbJj"
      },
      "outputs": [],
      "source": [
        "from sklearn.model_selection import train_test_split"
      ]
    },
    {
      "cell_type": "code",
      "execution_count": null,
      "metadata": {
        "id": "e1JCIEmc8-c3"
      },
      "outputs": [],
      "source": [
        "X = df['Distorted part'].values\n",
        "y = df['Dominant Distortion']"
      ]
    },
    {
      "cell_type": "code",
      "execution_count": null,
      "metadata": {
        "colab": {
          "base_uri": "https://localhost:8080/"
        },
        "id": "u8sq3nSVCkcs",
        "outputId": "2b8af27d-b26d-466f-ea4e-0672e3f5239d"
      },
      "outputs": [
        {
          "output_type": "execute_result",
          "data": {
            "text/plain": [
              "array([array([ 1.03315687e+00,  1.03829241e+00, -1.93551385e+00, -1.45760405e+00,\n",
              "              -7.04070628e-01, -3.69264662e-01,  1.53253424e+00,  3.46135330e+00,\n",
              "              -3.26039076e+00,  8.89637992e-02,  3.32793832e+00,  5.65801620e-01,\n",
              "              -3.56585360e+00,  2.21372056e+00,  2.69192219e-01, -2.24424660e-01,\n",
              "               8.27991486e-01, -4.21419114e-01, -5.17834604e-01, -6.78042293e-01,\n",
              "               7.03842402e-01,  1.70904517e+00, -2.46705627e+00, -1.71454871e+00,\n",
              "              -8.57503057e-01, -2.28129768e+00, -1.74718082e+00, -3.60433459e-01,\n",
              "              -6.42756224e-01,  4.78646159e-01,  6.56646132e-01, -6.90834939e-01,\n",
              "              -1.65512633e+00,  5.40347755e-01,  8.11987996e-01, -6.12899244e-01,\n",
              "              -1.03464913e+00,  7.41553724e-01,  2.74427819e+00,  2.57211471e+00,\n",
              "              -1.81060672e+00,  7.66153485e-02,  1.40287066e+00,  2.61373878e-01,\n",
              "              -1.52899730e+00,  8.04199874e-01,  7.02494562e-01, -2.26230526e+00,\n",
              "              -7.09092468e-02,  1.60510993e+00,  1.97171772e+00, -1.28210902e+00,\n",
              "               8.14063966e-01, -2.63986802e+00, -1.46146691e+00,  1.21513438e+00,\n",
              "               1.51533639e+00,  2.15187716e+00,  1.04942393e+00,  9.15443122e-01,\n",
              "               2.70657086e+00, -5.97678423e-01, -3.39599323e+00, -1.70384586e+00,\n",
              "              -1.58137369e+00,  1.29259217e+00, -1.46498215e+00,  1.32842511e-01,\n",
              "               2.30334997e+00,  1.90367591e+00, -5.91253221e-01,  1.93697035e+00,\n",
              "              -1.44169688e+00, -6.25311494e-01, -1.20962216e-02, -5.69668412e-01,\n",
              "              -2.05837870e+00,  9.68674600e-01, -2.47726142e-01, -8.06395471e-01,\n",
              "              -1.24721146e+00, -7.53681421e-01,  2.43772006e+00,  5.23894668e-01,\n",
              "              -1.80240870e+00,  9.31059897e-01, -4.05352801e-01, -1.23172390e+00,\n",
              "               6.76362336e-01, -1.17121124e+00, -2.89019227e-01,  2.57161117e+00,\n",
              "               1.27384377e+00, -3.32562733e+00,  1.01828921e+00, -1.06123276e-01,\n",
              "              -1.49036920e+00, -9.91232634e-01,  1.64208543e+00, -1.59578276e+00,\n",
              "               2.69737911e+00,  2.39638853e+00,  1.46955371e+00, -1.07989162e-01,\n",
              "              -1.74278462e+00,  2.75732422e+00, -1.65669775e+00,  4.73270148e-01,\n",
              "              -1.20377684e+00, -3.49240005e-01, -5.47008574e-01, -1.69989347e+00,\n",
              "              -1.66618347e-01,  4.86869186e-01, -1.73948511e-01,  3.51797915e+00,\n",
              "              -9.91439223e-01, -4.23463851e-01,  6.64296806e-01, -1.97031403e+00,\n",
              "              -2.21868753e+00, -2.23274612e+00, -1.73761964e+00,  9.01464760e-01,\n",
              "               7.97005415e-01, -9.00757432e-01,  2.00343084e+00, -6.55606210e-01,\n",
              "               1.58272231e+00,  1.46130514e+00, -9.72353101e-01, -7.68549323e-01,\n",
              "               5.69419980e-01, -8.99664640e-01,  2.17346087e-01,  1.87021053e+00,\n",
              "              -1.69627678e+00,  3.53327692e-01,  1.74094450e+00,  7.04138130e-02,\n",
              "              -1.05137396e+00, -1.22531533e+00,  2.18512154e+00,  1.08975077e+00,\n",
              "              -2.87477398e+00, -1.19087136e+00, -1.76138389e+00, -1.77203834e-01,\n",
              "               6.23474658e-01,  2.29641467e-01, -1.04234087e+00,  1.82120740e-01,\n",
              "              -3.20609033e-01,  6.30925417e-01,  4.93280828e-01,  1.49659228e+00,\n",
              "               1.81719983e+00,  1.15566146e+00, -8.69776130e-01, -1.88391960e+00,\n",
              "              -2.03188300e+00, -2.40038061e+00, -8.25160325e-01,  1.26232311e-01,\n",
              "               1.13405824e+00,  5.12519002e-01, -1.19128227e+00, -1.11810005e+00,\n",
              "              -2.45187616e+00, -1.26665092e+00,  4.00928438e-01,  8.69547844e-01,\n",
              "              -1.14243686e+00, -4.60203826e-01,  2.85820770e+00, -1.97464061e+00,\n",
              "              -1.57076105e-01,  1.40899384e+00, -1.27885318e+00, -6.91669226e-01,\n",
              "              -8.74132037e-01,  1.10383463e+00,  2.93032861e+00, -2.35298371e+00,\n",
              "              -1.79014608e-01,  2.89133739e+00, -8.75975966e-01, -1.17632782e+00,\n",
              "               1.55129284e-01,  2.85609460e+00, -1.52232349e-01,  1.23051381e+00,\n",
              "              -2.09695840e+00,  2.52207704e-02, -5.58387697e-01, -2.31337380e+00,\n",
              "              -2.21728492e+00, -2.53548086e-01, -1.64141071e+00,  1.85988057e+00,\n",
              "              -8.10543954e-01, -2.25592399e+00, -2.70235562e+00, -7.93001592e-01,\n",
              "              -1.44817472e+00,  1.32684016e+00,  1.77044496e-01, -1.21470070e+00,\n",
              "              -2.03713819e-01, -9.13618386e-01, -2.25420803e-01, -4.43663806e-01,\n",
              "               9.97557580e-01, -4.39253867e-01, -1.05010605e+00,  1.35520148e+00,\n",
              "               1.34599566e+00, -6.87073052e-01,  7.30226934e-01,  2.79784575e-02,\n",
              "              -2.43128443e+00,  4.80348468e-01,  3.56448442e-01,  5.58181584e-01,\n",
              "              -1.46294624e-01, -6.19983017e-01, -9.45020020e-01, -4.79923874e-01,\n",
              "               2.41590595e+00,  3.15423632e+00, -1.92612767e+00, -2.41388798e+00,\n",
              "              -1.28578138e+00,  4.76558328e-01, -5.28095126e-01,  8.28802466e-01,\n",
              "               2.73204744e-01,  3.04301691e+00,  5.45355380e-01, -7.61893809e-01,\n",
              "              -9.12645638e-01, -8.86453748e-01,  1.79483163e+00, -1.11472619e+00,\n",
              "               2.94986993e-01, -1.29486477e+00, -2.20426202e+00,  1.52225661e+00,\n",
              "               3.42622995e+00,  1.45220268e+00, -4.13613051e-01,  2.69314557e-01,\n",
              "              -2.62393546e+00,  1.06792176e+00,  4.29533899e-01, -2.33599997e+00,\n",
              "              -6.75943077e-01,  1.40820694e+00,  2.89120018e-01,  2.05342603e+00,\n",
              "               7.03856111e-01,  2.94063163e+00,  2.21645594e+00,  1.18306851e+00,\n",
              "               1.87449312e+00, -8.52025628e-01,  2.31709003e+00,  3.13061930e-04,\n",
              "              -3.42482924e+00,  1.14272988e+00,  6.50256097e-01,  4.26515371e-01,\n",
              "              -1.24967360e+00, -1.96148539e+00, -1.52337706e+00, -1.53170776e+00,\n",
              "               1.99613249e+00, -3.11968613e+00, -9.07927286e-03,  1.15834999e+00,\n",
              "               1.25892591e+00,  2.16107741e-02,  1.18415773e+00,  5.62059939e-01,\n",
              "               3.74081159e+00,  1.61150742e+00,  1.17516148e+00,  1.63629079e+00,\n",
              "              -3.27946329e+00, -3.60123098e-01,  2.51464176e+00,  8.01318467e-01,\n",
              "               1.18443310e+00, -2.46104074e+00, -1.05907977e+00,  6.41507804e-01,\n",
              "               1.72044837e+00, -4.77123052e-01, -4.71034622e+00,  3.35555863e+00],\n",
              "             dtype=float32)                                                       ,\n",
              "       array([ 0.697199  ,  0.7048954 , -3.0286956 , -2.9154978 , -1.6690539 ,\n",
              "               1.1458918 ,  1.3630813 ,  4.2960157 , -3.1022167 ,  1.8704821 ,\n",
              "               4.711923  ,  2.0925632 , -2.3886054 ,  1.792983  ,  3.1240609 ,\n",
              "              -0.8870818 ,  2.046522  , -3.2181225 , -1.0038126 , -1.3412396 ,\n",
              "               1.9827781 ,  2.4631598 , -2.3383899 , -2.1410189 , -0.82636064,\n",
              "              -1.3046393 , -1.2378452 , -0.42016563,  0.21582489,  1.8397235 ,\n",
              "               0.88856995, -1.168296  , -0.72809917, -0.9026855 , -0.32885557,\n",
              "               1.2153165 ,  0.17599021,  0.64243484,  4.735643  ,  2.1126182 ,\n",
              "              -0.9751576 , -0.02761226,  1.2189636 , -1.4275144 , -0.35805106,\n",
              "               2.1192589 ,  0.90840834, -4.306166  , -1.153743  ,  0.7189726 ,\n",
              "               2.398296  , -0.18874002,  1.9890219 , -4.694872  , -3.4798286 ,\n",
              "               0.24750529,  1.4178518 ,  3.0072927 ,  2.1193035 ,  2.332143  ,\n",
              "               4.298477  , -0.0596569 , -1.3699723 , -1.5727274 , -2.585976  ,\n",
              "               0.5387073 , -2.5218182 , -0.974247  ,  0.44389436,  2.2454305 ,\n",
              "               0.4279068 ,  0.85863954,  1.1004175 , -1.0155767 ,  1.9099698 ,\n",
              "               0.69657314, -1.2696445 ,  0.5089022 , -1.1010016 , -1.4314466 ,\n",
              "              -2.5835063 , -0.19013835,  4.560483  ,  0.17951575, -0.10361997,\n",
              "               0.47586924,  0.35016626, -2.249958  ,  1.7128876 , -1.0908167 ,\n",
              "               0.08538897,  0.06524362,  1.9019156 , -4.4951553 , -0.7636142 ,\n",
              "              -0.75659144, -0.2501746 , -3.0015528 , -0.07004035, -2.3455012 ,\n",
              "               0.8855093 ,  2.6947997 , -0.25336888,  0.37474227, -1.9476779 ,\n",
              "               3.281606  , -1.8005384 ,  0.32838744, -2.0235035 , -0.41339692,\n",
              "              -0.07203366, -3.4344513 ,  0.843219  , -1.5094742 , -0.7273274 ,\n",
              "               2.9469078 , -2.5219252 , -1.058663  ,  0.06997953, -0.9508122 ,\n",
              "              -1.7021005 , -1.283235  , -3.1236932 ,  1.6398531 , -0.54453844,\n",
              "              -0.59641826,  1.1461271 , -0.9479613 , -1.2794901 ,  0.69033694,\n",
              "              -0.68460506,  0.65747935, -0.35778922,  0.03179228, -0.7920765 ,\n",
              "               1.2382842 , -2.793269  , -0.92776823,  4.87416   , -1.1759472 ,\n",
              "               0.49487397, -1.0341331 ,  0.80697685,  0.35843   , -3.915248  ,\n",
              "              -0.98674834, -1.9118234 , -1.5576774 , -1.7668585 , -0.10077117,\n",
              "              -2.279535  ,  0.57319325, -0.00577087,  0.4579232 , -0.45981255,\n",
              "               1.1167933 ,  3.131718  ,  0.41270998, -0.03422381, -0.83258253,\n",
              "              -0.86189914, -1.9134461 , -1.3497655 , -0.5405662 , -1.0348432 ,\n",
              "              -0.02572313, -1.6327329 ,  0.16698653, -2.241399  , -0.94612867,\n",
              "               1.7186908 ,  0.49869773, -0.20030636,  1.6498907 ,  1.2804347 ,\n",
              "              -2.9880815 , -0.33113563,  1.6072953 , -0.23996563, -0.8962828 ,\n",
              "               0.15257506, -1.0027037 ,  3.9865327 , -1.3219143 , -0.50741726,\n",
              "               3.1450431 , -0.9077463 , -3.3066943 ,  1.9431292 ,  2.9374928 ,\n",
              "              -2.5332625 ,  1.6316128 , -1.5779552 ,  0.30812818, -1.5758756 ,\n",
              "              -1.455234  , -4.3127904 ,  1.1014549 , -1.0551548 ,  3.383556  ,\n",
              "              -2.164665  ,  0.5692271 , -2.2015464 , -1.860004  , -1.1421028 ,\n",
              "               1.0288144 , -0.7779072 , -0.69102407, -0.15298657, -0.44827402,\n",
              "               1.873602  ,  0.4055791 ,  1.7912261 ,  0.43695343, -2.4614186 ,\n",
              "               0.36646992,  0.43548805, -1.5671984 ,  0.33806846,  0.8728496 ,\n",
              "              -3.098009  , -0.6966374 ,  1.4727442 ,  1.3801022 ,  1.5565996 ,\n",
              "               0.1881028 , -1.3317633 ,  0.01247924,  2.1312637 ,  1.3401924 ,\n",
              "              -1.8136497 , -1.9772141 ,  1.2869991 ,  0.13557926, -1.9549774 ,\n",
              "               0.78143334,  0.29219463,  2.2076585 ,  2.3501937 , -0.78098226,\n",
              "              -2.4688928 , -0.7940536 ,  1.3762301 , -0.25777707, -0.4687178 ,\n",
              "              -1.5816522 , -1.6966171 , -0.1271712 ,  3.5981414 ,  1.545516  ,\n",
              "              -1.8626788 ,  2.4552085 , -3.5817792 ,  1.8505597 ,  0.6586335 ,\n",
              "              -2.250576  , -1.2291745 ,  2.7875676 , -1.2118909 ,  3.0711222 ,\n",
              "               0.82680374,  3.3875885 ,  1.7743255 ,  2.0296495 ,  1.5743067 ,\n",
              "               1.0601038 ,  2.0871804 ,  1.97782   , -3.920258  ,  0.6193049 ,\n",
              "               1.2404113 , -1.8063859 , -0.6444174 , -0.0805227 , -1.0392945 ,\n",
              "              -1.5118624 ,  1.7449789 , -3.5999348 , -0.7598027 ,  0.88094467,\n",
              "              -1.3799506 , -0.7752622 ,  0.09993528,  0.3648111 ,  2.9791346 ,\n",
              "               0.50958896,  1.6664917 ,  0.21179307, -3.32685   ,  0.81789905,\n",
              "               3.4452758 , -0.9134318 ,  0.6105679 , -2.7578876 , -1.314293  ,\n",
              "              -0.5650118 ,  1.120637  ,  1.7481321 , -4.4995866 ,  2.4953868 ],\n",
              "             dtype=float32)                                                    ,\n",
              "       array([  2.1675 ,  -5.4416 ,   7.1424 ,   8.7928 ,   6.9778 ,   8.8561 ,\n",
              "                5.2856 ,   1.8576 ,  -8.8531 ,  -7.1982 ,   2.423  ,  -6.0944 ,\n",
              "               -0.21337,  -5.4131 ,  -7.7859 ,   0.88671,  -1.3979 ,  10.875  ,\n",
              "               -6.6189 ,   1.7764 ,  -1.342  ,  -0.23661,  10.864  ,  -3.4385 ,\n",
              "               -9.9673 ,  -3.2012 ,   0.66556,  -6.0658 ,  -0.64222,  -3.3453 ,\n",
              "               -5.4294 ,   2.7732 ,   5.6566 ,  -5.53   ,   0.84036, -19.443  ,\n",
              "               -2.4507 ,   4.4422 ,   1.3923 ,   8.3569 ,   9.3101 ,   5.8297 ,\n",
              "                1.1151 ,   5.6253 , -10.105  ,   3.1686 ,   4.0153 ,   8.6093 ,\n",
              "               10.286  ,  -1.3368 ,   3.1817 ,   8.4227 ,  -9.259  ,   5.1571 ,\n",
              "               -6.7822 ,   4.1503 ,  -0.89706,   6.182  ,   8.8627 ,  -8.5086 ,\n",
              "               -4.4791 ,   8.0136 , -12.166  ,  -7.0531 ,  -1.2656 ,   4.147  ,\n",
              "                7.3895 ,   7.7852 ,  -4.1795 ,   7.2947 ,   3.4331 ,   1.6321 ,\n",
              "               10.591  ,   6.2438 ,  -9.8644 ,  -5.1669 ,   4.5369 ,   0.25532,\n",
              "               14.088  ,  17.849  ,   0.76094,  -6.691  ,  -5.6264 ,   1.6981 ,\n",
              "               -1.6916 ,  -6.5718 ,  -1.1729 ,  -0.75277,  10.882  ,   8.3876 ,\n",
              "               -7.5672 ,   5.1736 ,  -1.3839 ,   9.3101 ,  -0.52863,  14.661  ,\n",
              "              -11.363  ,  -0.45509,   2.3826 ,   5.2412 ,  11.021  ,  -4.9485 ,\n",
              "                5.2035 ,   1.9567 ,  -1.3932 ,   1.9121 , -12.905  ,   2.9925 ,\n",
              "               -4.5604 ,   8.0827 ,  -6.0757 , -14.161  ,  -2.0887 ,   3.2842 ,\n",
              "               -7.3499 ,   0.81243,  -5.9115 ,   5.7014 ,   2.1142 ,  -7.8742 ,\n",
              "                8.7693 ,  -5.3984 ,   3.2229 , -15.915  ,  -2.5709 , -11.719  ,\n",
              "               -4.1107 ,  -1.7019 ,   0.94588,   0.60944,   5.4571 ,   2.6904 ,\n",
              "               -1.3684 ,   9.5071 ,  -2.6697 ,  -6.4535 ,   3.5647 ,  17.057  ,\n",
              "               -1.9537 ,   3.1426 ,   6.9016 ,   8.2437 ,   4.3608 ,   0.5035 ,\n",
              "                8.0603 ,  -5.8166 ,  -0.57967,  -5.7441 ,  10.857  ,  10.875  ,\n",
              "               -2.6658 ,   3.1001 ,  -7.1748 ,  -7.4996 ,   7.7818 ,   3.7927 ,\n",
              "                8.0171 ,  -5.9574 ,   3.2896 ,  -2.9119 ,  -3.5894 ,   6.7044 ,\n",
              "               18.257  ,   3.7658 ,  -5.8285 ,   6.9847 ,   9.6442 ,  -4.5482 ,\n",
              "               -5.9637 ,   9.0112 , -12.918  ,   8.5912 , -14.307  ,  -6.3931 ,\n",
              "               -5.8183 ,  13.42   ,   0.96067,  -2.0377 ,  -5.3587 ,   3.2055 ,\n",
              "                4.2714 ,  -9.8336 , -10.108  ,  -6.0853 ,   0.40156,   6.7658 ,\n",
              "              -12.963  ,   7.7114 ,  -3.3331 ,   4.2065 ,   8.8759 ,   8.0321 ,\n",
              "               -4.6963 ,  -4.3725 ,  13.014  ,  -9.9182 ,   1.6307 ,  -3.0914 ,\n",
              "                2.0022 ,   0.39098,  -9.8739 ,  -1.757  ,   1.481  ,   3.1257 ,\n",
              "               -4.1217 ,  -5.8671 ,   3.8537 ,  -2.488  ,  14.358  ,   1.4831 ,\n",
              "               -0.55463,   3.5744 ,   8.8046 ,   6.4114 ,   4.1444 ,   0.54726,\n",
              "                1.5118 ,  -8.5003 ,  -8.0978 ,   5.5809 ,  -3.3734 ,  14.925  ,\n",
              "               -1.1437 , -16.299  ,   1.2431 ,  -0.8185 ,  -1.8208 ,  -7.6586 ,\n",
              "                0.1552 ,  -3.677  ,   1.758  ,  -1.7795 ,   2.5254 ,   4.3451 ,\n",
              "               -2.7476 ,   9.1965 ,   6.1044 ,  -6.0396 ,  -8.1599 ,  -4.4765 ,\n",
              "               -8.6978 , -11.879  ,  -6.6214 ,  -0.75246,  11.09   ,  -6.5598 ,\n",
              "                8.4221 ,   5.1634 ,  -7.807  ,  -5.9326 ,   2.2832 ,   5.9745 ,\n",
              "               -2.5694 ,   3.5528 ,   4.3286 ,  -8.5401 ,  -3.7053 ,   8.1504 ,\n",
              "                5.428  ,  -3.1726 ,   4.1728 ,  -6.7417 ,  -1.1444 ,   0.32133,\n",
              "                2.5149 ,  -3.7853 ,   0.73655,  -1.253  ,  -2.5546 ,   8.5718 ,\n",
              "               -2.626  ,   7.653  ,  -0.40686,   2.9297 ,   5.0907 ,   3.0606 ,\n",
              "                1.4376 ,   6.5    ,  -9.6622 ,  -0.92513,   8.6633 ,   2.0631 ,\n",
              "               -6.054  ,   6.4903 ,  -4.4616 ,   3.375  ,  -7.7742 ,  -1.8702 ,\n",
              "               -7.7412 ,   6.3887 ,  -2.5812 ,  -0.5475 ,  -3.5582 ,   4.1628 ,\n",
              "               -0.11807,  -2.4216 ,   0.31713,  -3.55   ,   6.7516 ,   1.141  ],\n",
              "             dtype=float32)                                                     ,\n",
              "       ...,\n",
              "       array([-3.80876660e-02,  8.45462203e-01, -1.87249112e+00, -2.27956846e-01,\n",
              "               2.74736381e+00,  7.01372683e-01,  2.09707189e+00,  4.33260393e+00,\n",
              "              -1.18812457e-01, -1.98959565e+00,  4.26981831e+00, -2.76611955e-03,\n",
              "              -1.65080810e+00, -3.26831967e-01,  1.14663005e+00,  7.22920299e-01,\n",
              "               1.35501742e+00, -1.36392343e+00, -1.24023700e+00, -1.94483504e-01,\n",
              "               7.30698168e-01,  2.20352858e-01, -1.19565165e+00, -2.01866403e-01,\n",
              "              -1.08736742e+00, -2.60630107e+00, -1.83708155e+00, -1.44426435e-01,\n",
              "               3.95959288e-01,  6.21583045e-01,  2.25561905e+00,  1.38707817e+00,\n",
              "              -4.36367542e-01, -1.03726220e+00, -1.81401038e+00, -9.08191741e-01,\n",
              "              -1.85338035e-01,  1.72868228e+00,  1.97376060e+00,  1.23005676e+00,\n",
              "              -1.07851815e+00,  1.15992978e-01,  4.29181844e-01,  1.23887181e+00,\n",
              "              -1.71972871e+00,  3.97092074e-01, -8.02978948e-02, -3.07933998e+00,\n",
              "              -3.22689295e-01,  3.68924212e+00, -9.95487794e-02,  1.02781940e+00,\n",
              "               8.79806340e-01, -2.82794619e+00, -1.71156418e+00,  1.06872404e+00,\n",
              "               1.98456895e+00,  8.88646170e-02,  1.87343776e+00,  9.69061673e-01,\n",
              "              -4.63574439e-01,  1.79124796e+00, -2.39013791e+00, -2.04163933e+00,\n",
              "               1.62622821e+00,  8.14900100e-01, -2.58383441e+00, -2.53411484e+00,\n",
              "               9.68902230e-01,  7.94233799e-01,  1.97005022e+00,  3.12256783e-01,\n",
              "              -1.30707300e+00,  1.76650429e+00, -1.03549564e+00,  1.93042743e+00,\n",
              "              -2.87269330e+00,  7.57361829e-01, -1.72044551e+00,  6.32795930e-01,\n",
              "              -3.48562050e+00,  6.04817986e-01,  1.41395295e+00,  1.12200797e+00,\n",
              "               9.11851406e-01,  5.65260530e-01, -3.04063678e+00, -2.91747403e+00,\n",
              "               1.39843905e+00, -3.49281847e-01,  1.14445329e-01, -8.32140446e-01,\n",
              "               1.57976031e+00, -2.57002187e+00,  8.64876091e-01, -1.45823285e-01,\n",
              "               9.16972518e-01, -1.09873021e+00,  1.80773818e+00, -9.63802874e-01,\n",
              "               1.13774574e+00,  1.10917175e+00,  1.57906234e+00,  1.70547283e+00,\n",
              "              -1.43217671e+00,  3.64560819e+00, -1.19570270e-01, -1.64071119e+00,\n",
              "               1.81939438e-01, -2.97102380e+00, -7.38284588e-01, -3.55809927e-01,\n",
              "              -1.95224300e-01, -2.09506124e-01,  1.49611700e+00,  1.20642936e+00,\n",
              "              -2.28346324e+00, -1.05420005e+00,  2.44841740e-01,  1.55283010e+00,\n",
              "              -9.57737640e-02, -3.53454852e+00, -8.34340096e-01, -3.39652777e-01,\n",
              "              -1.54287279e+00, -1.85305333e+00,  1.78072262e+00,  4.40375149e-01,\n",
              "               9.11826193e-01, -2.26971045e-01, -1.10477948e+00, -1.51781583e+00,\n",
              "               3.44337034e+00,  3.93554360e-01, -5.06767631e-01,  5.87346852e-01,\n",
              "              -1.70295727e+00, -2.84356654e-01,  3.42099595e+00, -2.23722839e+00,\n",
              "              -8.62860620e-01, -1.79535413e+00,  7.98175871e-01,  1.23013747e+00,\n",
              "              -5.39485753e-01, -1.09713054e+00, -3.95622516e+00, -6.17985785e-01,\n",
              "               1.41373897e+00,  9.45722580e-01, -2.01385334e-01,  4.49908227e-01,\n",
              "               8.47534359e-01,  1.82407665e+00, -1.11729574e+00, -2.63854206e-01,\n",
              "               1.82806587e+00, -3.14516813e-01, -1.02415681e+00, -1.51834178e+00,\n",
              "               1.23699985e-01, -2.48991060e+00, -9.05899644e-01, -7.07485452e-02,\n",
              "              -2.85122514e+00, -1.88743222e+00, -2.37741995e+00,  1.13658130e+00,\n",
              "              -7.99433708e-01,  2.47501826e+00,  6.80900037e-01,  4.45047855e-01,\n",
              "               1.31662476e+00, -1.28135943e+00,  1.72830224e+00, -2.39588588e-01,\n",
              "              -4.19939309e-01,  6.39771819e-01, -4.72570002e-01, -2.11104679e+00,\n",
              "               6.76851094e-01, -2.83467382e-01,  1.74862993e+00,  7.89411187e-01,\n",
              "              -6.88588679e-01,  1.87854230e+00, -2.89653391e-01, -1.57726079e-01,\n",
              "               1.18532479e+00,  1.30479419e+00, -8.33384871e-01, -6.16092384e-02,\n",
              "              -1.04598010e+00, -3.27423871e-01,  1.59123912e-01, -1.89610755e+00,\n",
              "              -1.91517746e+00, -3.09679419e-01, -9.47799087e-01,  1.35464418e+00,\n",
              "              -8.29013526e-01, -1.42417991e+00, -1.34697354e+00, -1.92142844e+00,\n",
              "               1.87281895e+00,  1.61672807e+00, -9.48646009e-01, -3.16588767e-02,\n",
              "              -1.58260882e+00, -1.44559965e-01,  7.96188653e-01,  3.57976973e-01,\n",
              "              -5.36828935e-01, -2.13051632e-01,  9.06029344e-01,  1.58766019e+00,\n",
              "               1.05437720e+00, -1.68911874e+00, -6.58778965e-01, -5.86451590e-02,\n",
              "              -1.56878376e+00, -1.62610561e-01,  5.56242526e-01,  2.23395348e-01,\n",
              "              -1.36702478e+00, -5.26768565e-02, -7.66207874e-01,  5.47368586e-01,\n",
              "               1.39084542e+00,  2.85469145e-01,  1.35770285e+00, -5.59137523e-01,\n",
              "              -7.26927876e-01,  1.40651667e+00,  1.03663519e-01,  2.12616491e+00,\n",
              "              -1.05972350e+00,  1.93332553e+00, -2.17471316e-01, -1.23962149e-01,\n",
              "              -1.52120185e+00,  3.84658605e-01,  1.74602687e+00, -1.51130676e-01,\n",
              "              -6.97487354e-01,  2.13499475e+00, -1.72294021e+00,  4.32897329e-01,\n",
              "               1.01806355e+00,  1.56992126e+00,  2.54733235e-01, -1.37568319e+00,\n",
              "              -4.14999294e+00,  3.19510698e-01,  3.32049280e-01, -8.63606036e-01,\n",
              "              -9.16906774e-01,  4.06073295e-02, -7.34364334e-03,  2.24644732e+00,\n",
              "              -1.59389257e-01,  3.05951500e+00,  2.34850454e+00,  1.02801025e+00,\n",
              "               1.72939849e+00, -3.15938145e-01,  9.50138927e-01,  2.35398269e+00,\n",
              "              -2.56156158e+00,  1.08568418e+00,  7.20619261e-01,  3.82800311e-01,\n",
              "              -2.27422506e-01, -1.36170352e+00, -6.11431777e-01,  4.11931515e-01,\n",
              "              -3.11870724e-01, -2.29633451e+00, -1.02628922e+00,  1.94412932e-01,\n",
              "               2.00463161e-01, -1.25726020e+00,  4.91412669e-01, -4.11754027e-02,\n",
              "               2.17634225e+00,  2.85756849e-02, -1.00485265e+00,  8.44463781e-02,\n",
              "              -1.46596563e+00, -3.28099698e-01,  1.73133767e+00, -1.17789447e+00,\n",
              "              -2.42597103e-01, -1.49672341e+00, -1.61568367e+00,  6.74674869e-01,\n",
              "               1.00016367e+00, -6.00927949e-01, -2.65366817e+00,  1.15941584e+00],\n",
              "             dtype=float32)                                                       ,\n",
              "       array([  2.1675 ,  -5.4416 ,   7.1424 ,   8.7928 ,   6.9778 ,   8.8561 ,\n",
              "                5.2856 ,   1.8576 ,  -8.8531 ,  -7.1982 ,   2.423  ,  -6.0944 ,\n",
              "               -0.21337,  -5.4131 ,  -7.7859 ,   0.88671,  -1.3979 ,  10.875  ,\n",
              "               -6.6189 ,   1.7764 ,  -1.342  ,  -0.23661,  10.864  ,  -3.4385 ,\n",
              "               -9.9673 ,  -3.2012 ,   0.66556,  -6.0658 ,  -0.64222,  -3.3453 ,\n",
              "               -5.4294 ,   2.7732 ,   5.6566 ,  -5.53   ,   0.84036, -19.443  ,\n",
              "               -2.4507 ,   4.4422 ,   1.3923 ,   8.3569 ,   9.3101 ,   5.8297 ,\n",
              "                1.1151 ,   5.6253 , -10.105  ,   3.1686 ,   4.0153 ,   8.6093 ,\n",
              "               10.286  ,  -1.3368 ,   3.1817 ,   8.4227 ,  -9.259  ,   5.1571 ,\n",
              "               -6.7822 ,   4.1503 ,  -0.89706,   6.182  ,   8.8627 ,  -8.5086 ,\n",
              "               -4.4791 ,   8.0136 , -12.166  ,  -7.0531 ,  -1.2656 ,   4.147  ,\n",
              "                7.3895 ,   7.7852 ,  -4.1795 ,   7.2947 ,   3.4331 ,   1.6321 ,\n",
              "               10.591  ,   6.2438 ,  -9.8644 ,  -5.1669 ,   4.5369 ,   0.25532,\n",
              "               14.088  ,  17.849  ,   0.76094,  -6.691  ,  -5.6264 ,   1.6981 ,\n",
              "               -1.6916 ,  -6.5718 ,  -1.1729 ,  -0.75277,  10.882  ,   8.3876 ,\n",
              "               -7.5672 ,   5.1736 ,  -1.3839 ,   9.3101 ,  -0.52863,  14.661  ,\n",
              "              -11.363  ,  -0.45509,   2.3826 ,   5.2412 ,  11.021  ,  -4.9485 ,\n",
              "                5.2035 ,   1.9567 ,  -1.3932 ,   1.9121 , -12.905  ,   2.9925 ,\n",
              "               -4.5604 ,   8.0827 ,  -6.0757 , -14.161  ,  -2.0887 ,   3.2842 ,\n",
              "               -7.3499 ,   0.81243,  -5.9115 ,   5.7014 ,   2.1142 ,  -7.8742 ,\n",
              "                8.7693 ,  -5.3984 ,   3.2229 , -15.915  ,  -2.5709 , -11.719  ,\n",
              "               -4.1107 ,  -1.7019 ,   0.94588,   0.60944,   5.4571 ,   2.6904 ,\n",
              "               -1.3684 ,   9.5071 ,  -2.6697 ,  -6.4535 ,   3.5647 ,  17.057  ,\n",
              "               -1.9537 ,   3.1426 ,   6.9016 ,   8.2437 ,   4.3608 ,   0.5035 ,\n",
              "                8.0603 ,  -5.8166 ,  -0.57967,  -5.7441 ,  10.857  ,  10.875  ,\n",
              "               -2.6658 ,   3.1001 ,  -7.1748 ,  -7.4996 ,   7.7818 ,   3.7927 ,\n",
              "                8.0171 ,  -5.9574 ,   3.2896 ,  -2.9119 ,  -3.5894 ,   6.7044 ,\n",
              "               18.257  ,   3.7658 ,  -5.8285 ,   6.9847 ,   9.6442 ,  -4.5482 ,\n",
              "               -5.9637 ,   9.0112 , -12.918  ,   8.5912 , -14.307  ,  -6.3931 ,\n",
              "               -5.8183 ,  13.42   ,   0.96067,  -2.0377 ,  -5.3587 ,   3.2055 ,\n",
              "                4.2714 ,  -9.8336 , -10.108  ,  -6.0853 ,   0.40156,   6.7658 ,\n",
              "              -12.963  ,   7.7114 ,  -3.3331 ,   4.2065 ,   8.8759 ,   8.0321 ,\n",
              "               -4.6963 ,  -4.3725 ,  13.014  ,  -9.9182 ,   1.6307 ,  -3.0914 ,\n",
              "                2.0022 ,   0.39098,  -9.8739 ,  -1.757  ,   1.481  ,   3.1257 ,\n",
              "               -4.1217 ,  -5.8671 ,   3.8537 ,  -2.488  ,  14.358  ,   1.4831 ,\n",
              "               -0.55463,   3.5744 ,   8.8046 ,   6.4114 ,   4.1444 ,   0.54726,\n",
              "                1.5118 ,  -8.5003 ,  -8.0978 ,   5.5809 ,  -3.3734 ,  14.925  ,\n",
              "               -1.1437 , -16.299  ,   1.2431 ,  -0.8185 ,  -1.8208 ,  -7.6586 ,\n",
              "                0.1552 ,  -3.677  ,   1.758  ,  -1.7795 ,   2.5254 ,   4.3451 ,\n",
              "               -2.7476 ,   9.1965 ,   6.1044 ,  -6.0396 ,  -8.1599 ,  -4.4765 ,\n",
              "               -8.6978 , -11.879  ,  -6.6214 ,  -0.75246,  11.09   ,  -6.5598 ,\n",
              "                8.4221 ,   5.1634 ,  -7.807  ,  -5.9326 ,   2.2832 ,   5.9745 ,\n",
              "               -2.5694 ,   3.5528 ,   4.3286 ,  -8.5401 ,  -3.7053 ,   8.1504 ,\n",
              "                5.428  ,  -3.1726 ,   4.1728 ,  -6.7417 ,  -1.1444 ,   0.32133,\n",
              "                2.5149 ,  -3.7853 ,   0.73655,  -1.253  ,  -2.5546 ,   8.5718 ,\n",
              "               -2.626  ,   7.653  ,  -0.40686,   2.9297 ,   5.0907 ,   3.0606 ,\n",
              "                1.4376 ,   6.5    ,  -9.6622 ,  -0.92513,   8.6633 ,   2.0631 ,\n",
              "               -6.054  ,   6.4903 ,  -4.4616 ,   3.375  ,  -7.7742 ,  -1.8702 ,\n",
              "               -7.7412 ,   6.3887 ,  -2.5812 ,  -0.5475 ,  -3.5582 ,   4.1628 ,\n",
              "               -0.11807,  -2.4216 ,   0.31713,  -3.55   ,   6.7516 ,   1.141  ],\n",
              "             dtype=float32)                                                     ,\n",
              "       array([  2.1675 ,  -5.4416 ,   7.1424 ,   8.7928 ,   6.9778 ,   8.8561 ,\n",
              "                5.2856 ,   1.8576 ,  -8.8531 ,  -7.1982 ,   2.423  ,  -6.0944 ,\n",
              "               -0.21337,  -5.4131 ,  -7.7859 ,   0.88671,  -1.3979 ,  10.875  ,\n",
              "               -6.6189 ,   1.7764 ,  -1.342  ,  -0.23661,  10.864  ,  -3.4385 ,\n",
              "               -9.9673 ,  -3.2012 ,   0.66556,  -6.0658 ,  -0.64222,  -3.3453 ,\n",
              "               -5.4294 ,   2.7732 ,   5.6566 ,  -5.53   ,   0.84036, -19.443  ,\n",
              "               -2.4507 ,   4.4422 ,   1.3923 ,   8.3569 ,   9.3101 ,   5.8297 ,\n",
              "                1.1151 ,   5.6253 , -10.105  ,   3.1686 ,   4.0153 ,   8.6093 ,\n",
              "               10.286  ,  -1.3368 ,   3.1817 ,   8.4227 ,  -9.259  ,   5.1571 ,\n",
              "               -6.7822 ,   4.1503 ,  -0.89706,   6.182  ,   8.8627 ,  -8.5086 ,\n",
              "               -4.4791 ,   8.0136 , -12.166  ,  -7.0531 ,  -1.2656 ,   4.147  ,\n",
              "                7.3895 ,   7.7852 ,  -4.1795 ,   7.2947 ,   3.4331 ,   1.6321 ,\n",
              "               10.591  ,   6.2438 ,  -9.8644 ,  -5.1669 ,   4.5369 ,   0.25532,\n",
              "               14.088  ,  17.849  ,   0.76094,  -6.691  ,  -5.6264 ,   1.6981 ,\n",
              "               -1.6916 ,  -6.5718 ,  -1.1729 ,  -0.75277,  10.882  ,   8.3876 ,\n",
              "               -7.5672 ,   5.1736 ,  -1.3839 ,   9.3101 ,  -0.52863,  14.661  ,\n",
              "              -11.363  ,  -0.45509,   2.3826 ,   5.2412 ,  11.021  ,  -4.9485 ,\n",
              "                5.2035 ,   1.9567 ,  -1.3932 ,   1.9121 , -12.905  ,   2.9925 ,\n",
              "               -4.5604 ,   8.0827 ,  -6.0757 , -14.161  ,  -2.0887 ,   3.2842 ,\n",
              "               -7.3499 ,   0.81243,  -5.9115 ,   5.7014 ,   2.1142 ,  -7.8742 ,\n",
              "                8.7693 ,  -5.3984 ,   3.2229 , -15.915  ,  -2.5709 , -11.719  ,\n",
              "               -4.1107 ,  -1.7019 ,   0.94588,   0.60944,   5.4571 ,   2.6904 ,\n",
              "               -1.3684 ,   9.5071 ,  -2.6697 ,  -6.4535 ,   3.5647 ,  17.057  ,\n",
              "               -1.9537 ,   3.1426 ,   6.9016 ,   8.2437 ,   4.3608 ,   0.5035 ,\n",
              "                8.0603 ,  -5.8166 ,  -0.57967,  -5.7441 ,  10.857  ,  10.875  ,\n",
              "               -2.6658 ,   3.1001 ,  -7.1748 ,  -7.4996 ,   7.7818 ,   3.7927 ,\n",
              "                8.0171 ,  -5.9574 ,   3.2896 ,  -2.9119 ,  -3.5894 ,   6.7044 ,\n",
              "               18.257  ,   3.7658 ,  -5.8285 ,   6.9847 ,   9.6442 ,  -4.5482 ,\n",
              "               -5.9637 ,   9.0112 , -12.918  ,   8.5912 , -14.307  ,  -6.3931 ,\n",
              "               -5.8183 ,  13.42   ,   0.96067,  -2.0377 ,  -5.3587 ,   3.2055 ,\n",
              "                4.2714 ,  -9.8336 , -10.108  ,  -6.0853 ,   0.40156,   6.7658 ,\n",
              "              -12.963  ,   7.7114 ,  -3.3331 ,   4.2065 ,   8.8759 ,   8.0321 ,\n",
              "               -4.6963 ,  -4.3725 ,  13.014  ,  -9.9182 ,   1.6307 ,  -3.0914 ,\n",
              "                2.0022 ,   0.39098,  -9.8739 ,  -1.757  ,   1.481  ,   3.1257 ,\n",
              "               -4.1217 ,  -5.8671 ,   3.8537 ,  -2.488  ,  14.358  ,   1.4831 ,\n",
              "               -0.55463,   3.5744 ,   8.8046 ,   6.4114 ,   4.1444 ,   0.54726,\n",
              "                1.5118 ,  -8.5003 ,  -8.0978 ,   5.5809 ,  -3.3734 ,  14.925  ,\n",
              "               -1.1437 , -16.299  ,   1.2431 ,  -0.8185 ,  -1.8208 ,  -7.6586 ,\n",
              "                0.1552 ,  -3.677  ,   1.758  ,  -1.7795 ,   2.5254 ,   4.3451 ,\n",
              "               -2.7476 ,   9.1965 ,   6.1044 ,  -6.0396 ,  -8.1599 ,  -4.4765 ,\n",
              "               -8.6978 , -11.879  ,  -6.6214 ,  -0.75246,  11.09   ,  -6.5598 ,\n",
              "                8.4221 ,   5.1634 ,  -7.807  ,  -5.9326 ,   2.2832 ,   5.9745 ,\n",
              "               -2.5694 ,   3.5528 ,   4.3286 ,  -8.5401 ,  -3.7053 ,   8.1504 ,\n",
              "                5.428  ,  -3.1726 ,   4.1728 ,  -6.7417 ,  -1.1444 ,   0.32133,\n",
              "                2.5149 ,  -3.7853 ,   0.73655,  -1.253  ,  -2.5546 ,   8.5718 ,\n",
              "               -2.626  ,   7.653  ,  -0.40686,   2.9297 ,   5.0907 ,   3.0606 ,\n",
              "                1.4376 ,   6.5    ,  -9.6622 ,  -0.92513,   8.6633 ,   2.0631 ,\n",
              "               -6.054  ,   6.4903 ,  -4.4616 ,   3.375  ,  -7.7742 ,  -1.8702 ,\n",
              "               -7.7412 ,   6.3887 ,  -2.5812 ,  -0.5475 ,  -3.5582 ,   4.1628 ,\n",
              "               -0.11807,  -2.4216 ,   0.31713,  -3.55   ,   6.7516 ,   1.141  ],\n",
              "             dtype=float32)                                                     ],\n",
              "      dtype=object)"
            ]
          },
          "metadata": {},
          "execution_count": 49
        }
      ],
      "source": [
        "X"
      ]
    },
    {
      "cell_type": "code",
      "execution_count": null,
      "metadata": {
        "id": "l7mrr2yDCpk0"
      },
      "outputs": [],
      "source": [
        "X = np.stack(X)"
      ]
    },
    {
      "cell_type": "code",
      "execution_count": null,
      "metadata": {
        "colab": {
          "base_uri": "https://localhost:8080/"
        },
        "id": "F69NVrWQCxkD",
        "outputId": "6301b71e-214e-40bf-fbb6-2e28378419aa"
      },
      "outputs": [
        {
          "output_type": "execute_result",
          "data": {
            "text/plain": [
              "array([[ 1.0331569 ,  1.0382924 , -1.9355139 , ..., -0.47712305,\n",
              "        -4.710346  ,  3.3555586 ],\n",
              "       [ 0.697199  ,  0.7048954 , -3.0286956 , ...,  1.7481321 ,\n",
              "        -4.4995866 ,  2.4953868 ],\n",
              "       [ 2.1675    , -5.4416    ,  7.1424    , ..., -3.55      ,\n",
              "         6.7516    ,  1.141     ],\n",
              "       ...,\n",
              "       [-0.03808767,  0.8454622 , -1.8724911 , ..., -0.60092795,\n",
              "        -2.6536682 ,  1.1594158 ],\n",
              "       [ 2.1675    , -5.4416    ,  7.1424    , ..., -3.55      ,\n",
              "         6.7516    ,  1.141     ],\n",
              "       [ 2.1675    , -5.4416    ,  7.1424    , ..., -3.55      ,\n",
              "         6.7516    ,  1.141     ]], dtype=float32)"
            ]
          },
          "metadata": {},
          "execution_count": 51
        }
      ],
      "source": [
        "X"
      ]
    },
    {
      "cell_type": "code",
      "execution_count": null,
      "metadata": {
        "id": "FjjHPZYaLZnf"
      },
      "outputs": [],
      "source": [
        "from sklearn.preprocessing import MinMaxScaler\n",
        "scaler = MinMaxScaler()\n",
        "X = scaler.fit_transform(X)"
      ]
    },
    {
      "cell_type": "code",
      "execution_count": null,
      "metadata": {
        "colab": {
          "base_uri": "https://localhost:8080/"
        },
        "id": "5jhb0HzgC_gu",
        "outputId": "304b6c1a-78b6-45c5-c973-ca0e78fed63d"
      },
      "outputs": [
        {
          "output_type": "execute_result",
          "data": {
            "text/plain": [
              "array([[0.5547297 , 0.4176635 , 0.35593516, ..., 0.49490103, 0.19878784,\n",
              "        0.6165434 ],\n",
              "       [0.50763327, 0.3961743 , 0.2783755 , ..., 0.6974885 , 0.21352035,\n",
              "        0.50226647],\n",
              "       [0.7137484 , 0.        , 1.        , ..., 0.215146  , 1.        ,\n",
              "        0.32233125],\n",
              "       ...,\n",
              "       [0.40455657, 0.40523458, 0.36040652, ..., 0.48362982, 0.34255362,\n",
              "        0.32477787],\n",
              "       [0.7137484 , 0.        , 1.        , ..., 0.215146  , 1.        ,\n",
              "        0.32233125],\n",
              "       [0.7137484 , 0.        , 1.        , ..., 0.215146  , 1.        ,\n",
              "        0.32233125]], dtype=float32)"
            ]
          },
          "metadata": {},
          "execution_count": 53
        }
      ],
      "source": [
        "X"
      ]
    },
    {
      "cell_type": "code",
      "execution_count": null,
      "metadata": {
        "colab": {
          "base_uri": "https://localhost:8080/"
        },
        "id": "GABpl0QzDI3b",
        "outputId": "64a660ef-952a-4839-a05a-1511755ad9f3"
      },
      "outputs": [
        {
          "output_type": "execute_result",
          "data": {
            "text/plain": [
              "7     933\n",
              "6     239\n",
              "8     239\n",
              "4     195\n",
              "3     165\n",
              "9     153\n",
              "2     143\n",
              "1     134\n",
              "5     122\n",
              "10    107\n",
              "0     100\n",
              "Name: Dominant Distortion, dtype: int64"
            ]
          },
          "metadata": {},
          "execution_count": 54
        }
      ],
      "source": [
        "y.value_counts()"
      ]
    },
    {
      "cell_type": "code",
      "execution_count": null,
      "metadata": {
        "id": "1N6oRVPoDNwQ"
      },
      "outputs": [],
      "source": [
        "# from imblearn.combine import SMOTETomek\n",
        "# from imblearn.under_sampling import TomekLinks\n",
        "# resample=SMOTETomek(tomek=TomekLinks(sampling_strategy='majority'))\n",
        "# X, y = resample.fit_resample(X, y)"
      ]
    },
    {
      "cell_type": "code",
      "execution_count": null,
      "metadata": {
        "colab": {
          "base_uri": "https://localhost:8080/"
        },
        "id": "X-nCv1gyKw5I",
        "outputId": "32f1f454-4719-4c2c-b416-2eeb9fc3c58b"
      },
      "outputs": [
        {
          "output_type": "execute_result",
          "data": {
            "text/plain": [
              "7     933\n",
              "6     239\n",
              "8     239\n",
              "4     195\n",
              "3     165\n",
              "9     153\n",
              "2     143\n",
              "1     134\n",
              "5     122\n",
              "10    107\n",
              "0     100\n",
              "Name: Dominant Distortion, dtype: int64"
            ]
          },
          "metadata": {},
          "execution_count": 56
        }
      ],
      "source": [
        "y.value_counts()"
      ]
    },
    {
      "cell_type": "code",
      "execution_count": null,
      "metadata": {
        "id": "_Malh7xKgo-k"
      },
      "outputs": [],
      "source": [
        "X_train,X_test,y_train,y_test = train_test_split(X,y,test_size=0.3,random_state=2022)"
      ]
    },
    {
      "cell_type": "code",
      "execution_count": null,
      "metadata": {
        "colab": {
          "base_uri": "https://localhost:8080/"
        },
        "id": "T3evMhAwLKal",
        "outputId": "ab13ac1e-70af-444a-d652-10a1808a0b29"
      },
      "outputs": [
        {
          "output_type": "execute_result",
          "data": {
            "text/plain": [
              "array([[0.5889144 , 0.49260837, 0.50590825, ..., 0.6548207 , 0.3954212 ,\n",
              "        0.17692651],\n",
              "       [0.7137484 , 0.        , 1.        , ..., 0.215146  , 1.        ,\n",
              "        0.32233125],\n",
              "       [0.41945142, 0.4044355 , 0.25865006, ..., 0.64932626, 0.41205093,\n",
              "        0.24605143],\n",
              "       ...,\n",
              "       [0.5357762 , 0.49981016, 0.34993616, ..., 0.6408826 , 0.3754685 ,\n",
              "        0.33234006],\n",
              "       [0.56287533, 0.38803917, 0.3497857 , ..., 0.6343975 , 0.19184437,\n",
              "        0.5120743 ],\n",
              "       [0.548898  , 0.4115705 , 0.2892204 , ..., 0.6472836 , 0.16065678,\n",
              "        0.44918722]], dtype=float32)"
            ]
          },
          "metadata": {},
          "execution_count": 58
        }
      ],
      "source": [
        "X_train"
      ]
    },
    {
      "cell_type": "code",
      "execution_count": null,
      "metadata": {
        "colab": {
          "base_uri": "https://localhost:8080/"
        },
        "id": "QclQZE4rhhpU",
        "outputId": "cc186c67-2f03-44bf-c916-92e92bd08fe9"
      },
      "outputs": [
        {
          "output_type": "execute_result",
          "data": {
            "text/plain": [
              "1771"
            ]
          },
          "metadata": {},
          "execution_count": 59
        }
      ],
      "source": [
        "len(X_train)"
      ]
    },
    {
      "cell_type": "code",
      "execution_count": null,
      "metadata": {
        "colab": {
          "base_uri": "https://localhost:8080/"
        },
        "id": "N4Cgk5arhpin",
        "outputId": "baf0b7b0-067b-4eaf-a62f-f3a00bda8765"
      },
      "outputs": [
        {
          "output_type": "execute_result",
          "data": {
            "text/plain": [
              "882     7\n",
              "720     6\n",
              "867     7\n",
              "765     8\n",
              "616     7\n",
              "       ..\n",
              "1794    7\n",
              "1968    7\n",
              "331     9\n",
              "2453    1\n",
              "2302    6\n",
              "Name: Dominant Distortion, Length: 759, dtype: int64"
            ]
          },
          "metadata": {},
          "execution_count": 60
        }
      ],
      "source": [
        "y_test"
      ]
    },
    {
      "cell_type": "code",
      "execution_count": null,
      "metadata": {
        "colab": {
          "base_uri": "https://localhost:8080/"
        },
        "id": "s9GEPCDnh-aO",
        "outputId": "7be66735-a580-4886-e251-104584778950"
      },
      "outputs": [
        {
          "output_type": "execute_result",
          "data": {
            "text/plain": [
              "array([[0.5889144 , 0.49260837, 0.50590825, ..., 0.6548207 , 0.3954212 ,\n",
              "        0.17692651],\n",
              "       [0.7137484 , 0.        , 1.        , ..., 0.215146  , 1.        ,\n",
              "        0.32233125],\n",
              "       [0.41945142, 0.4044355 , 0.25865006, ..., 0.64932626, 0.41205093,\n",
              "        0.24605143],\n",
              "       ...,\n",
              "       [0.5357762 , 0.49981016, 0.34993616, ..., 0.6408826 , 0.3754685 ,\n",
              "        0.33234006],\n",
              "       [0.56287533, 0.38803917, 0.3497857 , ..., 0.6343975 , 0.19184437,\n",
              "        0.5120743 ],\n",
              "       [0.548898  , 0.4115705 , 0.2892204 , ..., 0.6472836 , 0.16065678,\n",
              "        0.44918722]], dtype=float32)"
            ]
          },
          "metadata": {},
          "execution_count": 61
        }
      ],
      "source": [
        "X_train"
      ]
    },
    {
      "cell_type": "code",
      "execution_count": null,
      "metadata": {
        "id": "iNEJrZDji78z"
      },
      "outputs": [],
      "source": [
        "#X_train_2d = np.stack(X_train)\n",
        "#X_test_2d = np.stack(X_test)\n"
      ]
    },
    {
      "cell_type": "code",
      "execution_count": null,
      "metadata": {
        "id": "W5Oird7rkBnM"
      },
      "outputs": [],
      "source": [
        "#X_train_2d"
      ]
    },
    {
      "cell_type": "code",
      "execution_count": null,
      "metadata": {
        "id": "BgETqon2k7vT"
      },
      "outputs": [],
      "source": [
        "#X_train_2d.shape"
      ]
    },
    {
      "cell_type": "code",
      "execution_count": null,
      "metadata": {
        "colab": {
          "base_uri": "https://localhost:8080/"
        },
        "id": "UNyN5okelDhI",
        "outputId": "e3aba467-fa7d-42a3-e5a2-fc285e04d018"
      },
      "outputs": [
        {
          "output_type": "execute_result",
          "data": {
            "text/plain": [
              "array([[0.5889144 , 0.49260837, 0.50590825, ..., 0.6548207 , 0.3954212 ,\n",
              "        0.17692651],\n",
              "       [0.7137484 , 0.        , 1.        , ..., 0.215146  , 1.        ,\n",
              "        0.32233125],\n",
              "       [0.41945142, 0.4044355 , 0.25865006, ..., 0.64932626, 0.41205093,\n",
              "        0.24605143],\n",
              "       ...,\n",
              "       [0.5357762 , 0.49981016, 0.34993616, ..., 0.6408826 , 0.3754685 ,\n",
              "        0.33234006],\n",
              "       [0.56287533, 0.38803917, 0.3497857 , ..., 0.6343975 , 0.19184437,\n",
              "        0.5120743 ],\n",
              "       [0.548898  , 0.4115705 , 0.2892204 , ..., 0.6472836 , 0.16065678,\n",
              "        0.44918722]], dtype=float32)"
            ]
          },
          "metadata": {},
          "execution_count": 65
        }
      ],
      "source": [
        "X_train"
      ]
    },
    {
      "cell_type": "code",
      "execution_count": null,
      "metadata": {
        "colab": {
          "base_uri": "https://localhost:8080/",
          "height": 52
        },
        "id": "vaUGVJuqlPDA",
        "outputId": "40e9285c-61a3-4fdf-c643-76e36648282d"
      },
      "outputs": [
        {
          "output_type": "execute_result",
          "data": {
            "text/plain": [
              "'from sklearn.preprocessing import MinMaxScaler\\nscaler = MinMaxScaler()\\nX_trained_scaled = scaler.fit_transform(X_train_2d)\\nX_test_scaled = scaler.fit_transform(X_test_2d)'"
            ],
            "application/vnd.google.colaboratory.intrinsic+json": {
              "type": "string"
            }
          },
          "metadata": {},
          "execution_count": 66
        }
      ],
      "source": [
        "'''from sklearn.preprocessing import MinMaxScaler\n",
        "scaler = MinMaxScaler()\n",
        "X_trained_scaled = scaler.fit_transform(X_train_2d)\n",
        "X_test_scaled = scaler.fit_transform(X_test_2d)'''"
      ]
    },
    {
      "cell_type": "code",
      "execution_count": null,
      "metadata": {
        "id": "5HTpmDE-pc-9"
      },
      "outputs": [],
      "source": [
        "#X_trained_scaled"
      ]
    },
    {
      "cell_type": "code",
      "execution_count": null,
      "metadata": {
        "id": "EmTNroUNpr5X"
      },
      "outputs": [],
      "source": [
        "from sklearn.tree import DecisionTreeClassifier\n",
        "from sklearn.naive_bayes import MultinomialNB\n",
        "from sklearn.svm import SVC"
      ]
    },
    {
      "cell_type": "code",
      "execution_count": null,
      "metadata": {
        "colab": {
          "base_uri": "https://localhost:8080/"
        },
        "id": "StjOUGeCp2kv",
        "outputId": "d449f89a-e04a-438d-858c-396bb58190f9"
      },
      "outputs": [
        {
          "output_type": "execute_result",
          "data": {
            "text/plain": [
              "0.45454545454545453"
            ]
          },
          "metadata": {},
          "execution_count": 69
        }
      ],
      "source": [
        "dtc = DecisionTreeClassifier()\n",
        "dtc.fit(X_train,y_train)\n",
        "dtc.score(X_test,y_test)"
      ]
    },
    {
      "cell_type": "code",
      "execution_count": null,
      "metadata": {
        "colab": {
          "base_uri": "https://localhost:8080/"
        },
        "id": "2d2O8aMDqRK3",
        "outputId": "ba02ecf1-5fa7-4d01-a74c-c019aa7b4d58"
      },
      "outputs": [
        {
          "output_type": "execute_result",
          "data": {
            "text/plain": [
              "0.48221343873517786"
            ]
          },
          "metadata": {},
          "execution_count": 70
        }
      ],
      "source": [
        "clf = MultinomialNB()\n",
        "clf.fit(X_train,y_train)\n",
        "clf.score(X_test,y_test)"
      ]
    },
    {
      "cell_type": "code",
      "execution_count": null,
      "metadata": {
        "colab": {
          "base_uri": "https://localhost:8080/"
        },
        "id": "fSRIPg47qZir",
        "outputId": "6d676bf5-5b44-4bbe-b364-7653f6b1aef9"
      },
      "outputs": [
        {
          "output_type": "execute_result",
          "data": {
            "text/plain": [
              "0.5111989459815547"
            ]
          },
          "metadata": {},
          "execution_count": 71
        }
      ],
      "source": [
        "svc =SVC()\n",
        "svc.fit(X_train,y_train)\n",
        "svc.score(X_test,y_test)"
      ]
    },
    {
      "cell_type": "code",
      "execution_count": null,
      "metadata": {
        "id": "B0F3dsw5UNFb"
      },
      "outputs": [],
      "source": []
    },
    {
      "cell_type": "code",
      "execution_count": null,
      "metadata": {
        "colab": {
          "base_uri": "https://localhost:8080/"
        },
        "id": "kzJQ2iaIqh14",
        "outputId": "753985d9-6739-45c3-95bc-de9842f62518"
      },
      "outputs": [
        {
          "output_type": "execute_result",
          "data": {
            "text/plain": [
              "0.49407114624505927"
            ]
          },
          "metadata": {},
          "execution_count": 72
        }
      ],
      "source": [
        "from sklearn.ensemble import RandomForestClassifier\n",
        "rf = RandomForestClassifier()\n",
        "rf.fit(X_train,y_train)\n",
        "rf.score(X_test,y_test)"
      ]
    },
    {
      "cell_type": "code",
      "execution_count": null,
      "metadata": {
        "id": "Dv2UzZ02MHWW"
      },
      "outputs": [],
      "source": [
        "from xgboost import XGBClassifier\n",
        "xgb = XGBClassifier()"
      ]
    },
    {
      "cell_type": "code",
      "execution_count": null,
      "metadata": {
        "colab": {
          "base_uri": "https://localhost:8080/"
        },
        "id": "m6YZx2IjRhp2",
        "outputId": "83320c3d-1390-4d30-a9de-4905c3fec508"
      },
      "outputs": [
        {
          "output_type": "execute_result",
          "data": {
            "text/plain": [
              "0.5164690382081687"
            ]
          },
          "metadata": {},
          "execution_count": 74
        }
      ],
      "source": [
        "xgb.fit(X_train,y_train)\n",
        "xgb.score(X_test,y_test)"
      ]
    },
    {
      "cell_type": "code",
      "execution_count": null,
      "metadata": {
        "colab": {
          "base_uri": "https://localhost:8080/"
        },
        "id": "H0md6QoQq2WC",
        "outputId": "27a29dfa-d7f6-4935-b9cc-4927bdcd3efd"
      },
      "outputs": [
        {
          "output_type": "execute_result",
          "data": {
            "text/plain": [
              "0.48089591567852435"
            ]
          },
          "metadata": {},
          "execution_count": 75
        }
      ],
      "source": [
        "from sklearn.neighbors import KNeighborsClassifier\n",
        "knn = KNeighborsClassifier(n_neighbors=150,metric = 'euclidean')\n",
        "knn.fit(X_train,y_train)\n",
        "knn.score(X_test,y_test)"
      ]
    },
    {
      "cell_type": "code",
      "execution_count": null,
      "metadata": {
        "id": "SMGj4yDHYHsH"
      },
      "outputs": [],
      "source": [
        "from sklearn.metrics import f1_score\n",
        "from sklearn.metrics import precision_score\n",
        "from sklearn.metrics import recall_score\n",
        "from sklearn.metrics import confusion_matrix"
      ]
    },
    {
      "cell_type": "code",
      "execution_count": null,
      "metadata": {
        "id": "qGkqrsqWt-0g"
      },
      "outputs": [],
      "source": [
        "y_rf_predicted = rf.predict(X_test)"
      ]
    },
    {
      "cell_type": "code",
      "execution_count": null,
      "metadata": {
        "colab": {
          "base_uri": "https://localhost:8080/",
          "height": 447
        },
        "id": "7MZTTtNIuO4m",
        "outputId": "fde69ac9-678c-48aa-f10b-38876fd3d936"
      },
      "outputs": [
        {
          "output_type": "execute_result",
          "data": {
            "text/plain": [
              "<Axes: >"
            ]
          },
          "metadata": {},
          "execution_count": 78
        },
        {
          "output_type": "display_data",
          "data": {
            "text/plain": [
              "<Figure size 640x480 with 2 Axes>"
            ],
            "image/png": "[encoded data removed]"
          },
          "metadata": {}
        }
      ],
      "source": [
        "cm = confusion_matrix(y_test,y_rf_predicted)\n",
        "sns.heatmap(cm,annot = True)"
      ]
    },
    {
      "cell_type": "code",
      "execution_count": null,
      "metadata": {
        "colab": {
          "base_uri": "https://localhost:8080/"
        },
        "id": "OZ_8mSY5ugGQ",
        "outputId": "9727b18c-cce2-4937-cf75-2b9f10811f0b"
      },
      "outputs": [
        {
          "output_type": "stream",
          "name": "stdout",
          "text": [
            "f1_score: 0.21237991456129993\n",
            "precision_score: 0.277933464274692\n",
            "recall_score: 0.23754257068089626\n"
          ]
        }
      ],
      "source": [
        "\n",
        "print(\"f1_score:\",f1_score(y_test,y_rf_predicted,average = 'macro'))\n",
        "print(\"precision_score:\",precision_score(y_test,y_rf_predicted,average = 'macro'))\n",
        "print(\"recall_score:\",recall_score(y_test,y_rf_predicted,average = 'macro'))\n"
      ]
    },
    {
      "cell_type": "code",
      "execution_count": null,
      "metadata": {
        "colab": {
          "base_uri": "https://localhost:8080/"
        },
        "id": "526JGKuzvLyh",
        "outputId": "105719e0-6abd-4f53-94e2-65025d94e41e"
      },
      "outputs": [
        {
          "output_type": "stream",
          "name": "stdout",
          "text": [
            "confusion_matrix:\n",
            "[[  1   0   1   0   2   0   3   0   8   1   0]\n",
            " [  1   1   4   5   8   0  11   0  10   1   0]\n",
            " [  0   6   5   1   8   0  12   0   9   1   0]\n",
            " [  0   1   5   8   2   1  12   0  18   0   0]\n",
            " [  0   0   5   2  11   2  17   0  17   0   0]\n",
            " [  2   2   4   4   9   0  10   0  18   0   0]\n",
            " [  0   1   7   6  10   0  29   0  14   0   1]\n",
            " [  0   0   0   0   0   0   0 282   0   0   0]\n",
            " [  0   2   1   4   6   0  17   0  35   0   0]\n",
            " [  2   2   4   3  13   0  15   0  15   1   0]\n",
            " [  1   2   2   2   9   0   9   0  13   0   2]]\n"
          ]
        }
      ],
      "source": [
        "print(\"confusion_matrix:\")\n",
        "print(cm)"
      ]
    },
    {
      "cell_type": "code",
      "execution_count": null,
      "metadata": {
        "id": "EktAWJBTwsyr"
      },
      "outputs": [],
      "source": [
        "y_xgb_predicted = xgb.predict(X_test)"
      ]
    },
    {
      "cell_type": "code",
      "execution_count": null,
      "metadata": {
        "colab": {
          "base_uri": "https://localhost:8080/"
        },
        "id": "T8_Rz8P6vRp4",
        "outputId": "6c405c73-5154-4440-d4a5-af27ced5194d"
      },
      "outputs": [
        {
          "output_type": "stream",
          "name": "stdout",
          "text": [
            "f1_score: 0.2710412193991989\n",
            "precision_score: 0.2932869652052212\n",
            "recall_score: 0.2831239478866551\n"
          ]
        }
      ],
      "source": [
        "print(\"f1_score:\",f1_score(y_test,y_xgb_predicted,average = 'macro'))\n",
        "print(\"precision_score:\",precision_score(y_test,y_xgb_predicted,average = 'macro'))\n",
        "print(\"recall_score:\",recall_score(y_test,y_xgb_predicted,average = 'macro'))\n"
      ]
    },
    {
      "cell_type": "code",
      "execution_count": null,
      "metadata": {
        "colab": {
          "base_uri": "https://localhost:8080/",
          "height": 447
        },
        "id": "pBNMTkRFw6Hy",
        "outputId": "b4a68ad7-71f3-468a-b001-52ae2324954a"
      },
      "outputs": [
        {
          "output_type": "execute_result",
          "data": {
            "text/plain": [
              "<Axes: >"
            ]
          },
          "metadata": {},
          "execution_count": 83
        },
        {
          "output_type": "display_data",
          "data": {
            "text/plain": [
              "<Figure size 640x480 with 2 Axes>"
            ],
            "image/png": "[encoded data removed]"
          },
          "metadata": {}
        }
      ],
      "source": [
        "cm_xgb = confusion_matrix(y_test,y_xgb_predicted)\n",
        "sns.heatmap(cm,annot = True)"
      ]
    },
    {
      "cell_type": "code",
      "execution_count": null,
      "metadata": {
        "colab": {
          "base_uri": "https://localhost:8080/"
        },
        "id": "oP6CkbTPxAkH",
        "outputId": "90848411-533f-498f-d062-92c5c99ad7f1"
      },
      "outputs": [
        {
          "output_type": "stream",
          "name": "stdout",
          "text": [
            "confusion_matrix:\n",
            "[[  3   0   0   1   2   1   2   0   6   1   0]\n",
            " [  3   5   5   5   7   0   5   0   7   4   0]\n",
            " [  2   4   9   2   8   1   9   0   3   4   0]\n",
            " [  7   2   0  13   4   2   6   0  10   1   2]\n",
            " [  4   2   3   1  14   1  10   0  14   3   2]\n",
            " [  3   4   7   7   3   2   6   0  13   4   0]\n",
            " [  3   6   4   9   5   0  24   0  10   6   1]\n",
            " [  0   0   0   0   0   0   0 282   0   0   0]\n",
            " [  2   6   0   2   8   3  11   0  31   2   0]\n",
            " [  0   9   1   3  11   2  15   0   7   6   1]\n",
            " [  1   5   1   3   3   0   8   0  15   1   3]]\n"
          ]
        }
      ],
      "source": [
        "print(\"confusion_matrix:\")\n",
        "print(cm_xgb)"
      ]
    },
    {
      "cell_type": "code",
      "source": [
        "\n",
        "from sklearn.naive_bayes import GaussianNB\n",
        "from sklearn.ensemble import AdaBoostClassifier"
      ],
      "metadata": {
        "id": "LT2v91Rq56q9"
      },
      "execution_count": null,
      "outputs": []
    },
    {
      "cell_type": "code",
      "source": [
        "clf_g = GaussianNB()\n",
        "clf_g.fit(X_train,y_train)\n",
        "clf_g.score(X_test,y_test)"
      ],
      "metadata": {
        "colab": {
          "base_uri": "https://localhost:8080/"
        },
        "id": "W6uiWs086jO8",
        "outputId": "72e1c0a8-5e25-4a86-9804-35e6203bc646"
      },
      "execution_count": null,
      "outputs": [
        {
          "output_type": "execute_result",
          "data": {
            "text/plain": [
              "0.47035573122529645"
            ]
          },
          "metadata": {},
          "execution_count": 86
        }
      ]
    },
    {
      "cell_type": "code",
      "source": [
        "y_clf_g_predicted = clf_g.predict(X_test)\n",
        "print(\"f1_score:\",f1_score(y_test,y_clf_g_predicted,average = 'macro'))\n",
        "print(\"precision_score:\",precision_score(y_test,y_clf_g_predicted,average = 'macro'))\n",
        "print(\"recall_score:\",recall_score(y_test,y_clf_g_predicted,average = 'macro'))"
      ],
      "metadata": {
        "colab": {
          "base_uri": "https://localhost:8080/"
        },
        "id": "zs1mWykc3Mu1",
        "outputId": "fe56f489-9691-4e16-9998-77f90176b80c"
      },
      "execution_count": null,
      "outputs": [
        {
          "output_type": "stream",
          "name": "stdout",
          "text": [
            "f1_score: 0.21402975028012475\n",
            "precision_score: 0.22416928897790142\n",
            "recall_score: 0.22606454881559312\n"
          ]
        }
      ]
    },
    {
      "cell_type": "code",
      "source": [
        "clf_ada = AdaBoostClassifier()\n",
        "clf_ada.fit(X_train,y_train)\n",
        "clf_ada.score(X_test,y_test)"
      ],
      "metadata": {
        "colab": {
          "base_uri": "https://localhost:8080/"
        },
        "id": "ShQXxZMj60V7",
        "outputId": "4c98672d-76c6-4e5b-feb3-8e92f48c2580"
      },
      "execution_count": null,
      "outputs": [
        {
          "output_type": "execute_result",
          "data": {
            "text/plain": [
              "0.4400527009222661"
            ]
          },
          "metadata": {},
          "execution_count": 87
        }
      ]
    },
    {
      "cell_type": "code",
      "source": [
        "y_clf_ada_predicted = clf_ada.predict(X_test)\n",
        "print(\"f1_score:\",f1_score(y_test,y_clf_ada_predicted,average = 'macro'))\n",
        "print(\"precision_score:\",precision_score(y_test,y_clf_ada_predicted,average = 'macro'))\n",
        "print(\"recall_score:\",recall_score(y_test,y_clf_ada_predicted,average = 'macro'))"
      ],
      "metadata": {
        "colab": {
          "base_uri": "https://localhost:8080/"
        },
        "id": "4ArXi1ng3bC_",
        "outputId": "23b7bcfc-1a33-4102-93e5-ed4ae21e4a15"
      },
      "execution_count": null,
      "outputs": [
        {
          "output_type": "stream",
          "name": "stdout",
          "text": [
            "f1_score: 0.16483837181459793\n",
            "precision_score: 0.16242497653760019\n",
            "recall_score: 0.1735684295044209\n"
          ]
        }
      ]
    },
    {
      "cell_type": "code",
      "source": [
        "y_dtc_predicted = dtc.predict(X_test)\n",
        "print(\"f1_score:\",f1_score(y_test,y_dtc_predicted ,average = 'macro'))\n",
        "print(\"precision_score:\",precision_score(y_test,y_dtc_predicted ,average = 'macro'))\n",
        "print(\"recall_score:\",recall_score(y_test,y_dtc_predicted ,average = 'macro'))"
      ],
      "metadata": {
        "colab": {
          "base_uri": "https://localhost:8080/"
        },
        "id": "a7XwOmKD4JVD",
        "outputId": "09ecfb13-05b2-4aa6-cc56-4fdabe05ac46"
      },
      "execution_count": null,
      "outputs": [
        {
          "output_type": "stream",
          "name": "stdout",
          "text": [
            "f1_score: 0.20189032318419944\n",
            "precision_score: 0.20376091799950388\n",
            "recall_score: 0.2033018080682538\n"
          ]
        }
      ]
    },
    {
      "cell_type": "code",
      "source": [
        "y_svc_predicted = svc.predict(X_test)\n",
        "print(\"f1_score:\",f1_score(y_test,y_svc_predicted ,average = 'macro'))\n",
        "print(\"precision_score:\",precision_score(y_test,y_svc_predicted ,average = 'macro'))\n",
        "print(\"recall_score:\",recall_score(y_test,y_svc_predicted ,average = 'macro'))"
      ],
      "metadata": {
        "colab": {
          "base_uri": "https://localhost:8080/"
        },
        "id": "X06nF_SG4Ynr",
        "outputId": "0b36888b-4ae8-40a4-a894-20bdc2e66065"
      },
      "execution_count": null,
      "outputs": [
        {
          "output_type": "stream",
          "name": "stdout",
          "text": [
            "f1_score: 0.20110770659968386\n",
            "precision_score: 0.20635636179709135\n",
            "recall_score: 0.24675992667231716\n"
          ]
        },
        {
          "output_type": "stream",
          "name": "stderr",
          "text": [
            "/usr/local/lib/python3.10/dist-packages/sklearn/metrics/_classification.py:1344: UndefinedMetricWarning: Precision is ill-defined and being set to 0.0 in labels with no predicted samples. Use `zero_division` parameter to control this behavior.\n",
            "  _warn_prf(average, modifier, msg_start, len(result))\n"
          ]
        }
      ]
    },
    {
      "cell_type": "code",
      "source": [
        "y_clf_predicted = clf.predict(X_test)\n",
        "print(\"f1_score:\",f1_score(y_test,y_clf_predicted ,average = 'macro'))\n",
        "print(\"precision_score:\",precision_score(y_test,y_clf_predicted ,average = 'macro'))\n",
        "print(\"recall_score:\",recall_score(y_test,y_clf_predicted ,average = 'macro'))"
      ],
      "metadata": {
        "colab": {
          "base_uri": "https://localhost:8080/"
        },
        "id": "PLSLNb6C4kji",
        "outputId": "a77a1d8f-0c16-4964-a0b3-801d4674b111"
      },
      "execution_count": null,
      "outputs": [
        {
          "output_type": "stream",
          "name": "stdout",
          "text": [
            "f1_score: 0.16692946261830327\n",
            "precision_score: 0.16376824942967405\n",
            "recall_score: 0.21308628329904925\n"
          ]
        },
        {
          "output_type": "stream",
          "name": "stderr",
          "text": [
            "/usr/local/lib/python3.10/dist-packages/sklearn/metrics/_classification.py:1344: UndefinedMetricWarning: Precision is ill-defined and being set to 0.0 in labels with no predicted samples. Use `zero_division` parameter to control this behavior.\n",
            "  _warn_prf(average, modifier, msg_start, len(result))\n"
          ]
        }
      ]
    },
    {
      "cell_type": "code",
      "source": [
        "from sklearn.metrics import classification_report"
      ],
      "metadata": {
        "id": "fGcnYQEwX0He"
      },
      "execution_count": null,
      "outputs": []
    },
    {
      "cell_type": "code",
      "source": [
        "def report(model):\n",
        "  pred = model.predict(X_test)\n",
        "  print(classification_report(y_test,pred))"
      ],
      "metadata": {
        "id": "MgRTyse6WZq8"
      },
      "execution_count": null,
      "outputs": []
    },
    {
      "cell_type": "code",
      "source": [
        "report(rf)"
      ],
      "metadata": {
        "colab": {
          "base_uri": "https://localhost:8080/"
        },
        "id": "Xu6yymWRVpjJ",
        "outputId": "f3bad20f-15e0-4a40-c69e-f46c492118bf"
      },
      "execution_count": null,
      "outputs": [
        {
          "output_type": "stream",
          "name": "stdout",
          "text": [
            "              precision    recall  f1-score   support\n",
            "\n",
            "           0       0.14      0.06      0.09        16\n",
            "           1       0.06      0.02      0.03        41\n",
            "           2       0.13      0.12      0.12        42\n",
            "           3       0.23      0.17      0.20        47\n",
            "           4       0.14      0.20      0.17        54\n",
            "           5       0.00      0.00      0.00        49\n",
            "           6       0.21      0.43      0.29        68\n",
            "           7       1.00      1.00      1.00       282\n",
            "           8       0.22      0.54      0.32        65\n",
            "           9       0.25      0.02      0.03        55\n",
            "          10       0.67      0.05      0.09        40\n",
            "\n",
            "    accuracy                           0.49       759\n",
            "   macro avg       0.28      0.24      0.21       759\n",
            "weighted avg       0.50      0.49      0.47       759\n",
            "\n"
          ]
        }
      ]
    },
    {
      "cell_type": "code",
      "source": [
        "report(svc)"
      ],
      "metadata": {
        "colab": {
          "base_uri": "https://localhost:8080/"
        },
        "id": "fPC5L2PLVrlI",
        "outputId": "dcb2d4ed-2ae8-4039-86c9-4348b8221ee0"
      },
      "execution_count": null,
      "outputs": [
        {
          "output_type": "stream",
          "name": "stdout",
          "text": [
            "              precision    recall  f1-score   support\n",
            "\n",
            "           0       0.00      0.00      0.00        16\n",
            "           1       0.00      0.00      0.00        41\n",
            "           2       0.19      0.07      0.10        42\n",
            "           3       0.47      0.19      0.27        47\n",
            "           4       0.17      0.20      0.18        54\n",
            "           5       0.00      0.00      0.00        49\n",
            "           6       0.22      0.63      0.32        68\n",
            "           7       1.00      1.00      1.00       282\n",
            "           8       0.23      0.62      0.33        65\n",
            "           9       0.00      0.00      0.00        55\n",
            "          10       0.00      0.00      0.00        40\n",
            "\n",
            "    accuracy                           0.51       759\n",
            "   macro avg       0.21      0.25      0.20       759\n",
            "weighted avg       0.46      0.51      0.46       759\n",
            "\n"
          ]
        },
        {
          "output_type": "stream",
          "name": "stderr",
          "text": [
            "/usr/local/lib/python3.10/dist-packages/sklearn/metrics/_classification.py:1344: UndefinedMetricWarning: Precision and F-score are ill-defined and being set to 0.0 in labels with no predicted samples. Use `zero_division` parameter to control this behavior.\n",
            "  _warn_prf(average, modifier, msg_start, len(result))\n",
            "/usr/local/lib/python3.10/dist-packages/sklearn/metrics/_classification.py:1344: UndefinedMetricWarning: Precision and F-score are ill-defined and being set to 0.0 in labels with no predicted samples. Use `zero_division` parameter to control this behavior.\n",
            "  _warn_prf(average, modifier, msg_start, len(result))\n",
            "/usr/local/lib/python3.10/dist-packages/sklearn/metrics/_classification.py:1344: UndefinedMetricWarning: Precision and F-score are ill-defined and being set to 0.0 in labels with no predicted samples. Use `zero_division` parameter to control this behavior.\n",
            "  _warn_prf(average, modifier, msg_start, len(result))\n"
          ]
        }
      ]
    },
    {
      "cell_type": "code",
      "source": [
        "report(dtc)"
      ],
      "metadata": {
        "colab": {
          "base_uri": "https://localhost:8080/"
        },
        "id": "BKarxbh0VtvZ",
        "outputId": "3058a0ee-951e-45f5-a2c2-fec239bd2191"
      },
      "execution_count": null,
      "outputs": [
        {
          "output_type": "stream",
          "name": "stdout",
          "text": [
            "              precision    recall  f1-score   support\n",
            "\n",
            "           0       0.03      0.06      0.04        16\n",
            "           1       0.12      0.12      0.12        41\n",
            "           2       0.10      0.10      0.10        42\n",
            "           3       0.22      0.21      0.22        47\n",
            "           4       0.12      0.15      0.13        54\n",
            "           5       0.10      0.06      0.07        49\n",
            "           6       0.17      0.16      0.17        68\n",
            "           7       1.00      1.00      1.00       282\n",
            "           8       0.16      0.20      0.18        65\n",
            "           9       0.11      0.07      0.09        55\n",
            "          10       0.11      0.10      0.11        40\n",
            "\n",
            "    accuracy                           0.45       759\n",
            "   macro avg       0.20      0.20      0.20       759\n",
            "weighted avg       0.46      0.45      0.45       759\n",
            "\n"
          ]
        }
      ]
    },
    {
      "cell_type": "code",
      "source": [
        "report(xgb)"
      ],
      "metadata": {
        "colab": {
          "base_uri": "https://localhost:8080/"
        },
        "id": "0iSDefEDVt9f",
        "outputId": "082ab6f3-30d1-4369-fa50-f8e8a69a6705"
      },
      "execution_count": null,
      "outputs": [
        {
          "output_type": "stream",
          "name": "stdout",
          "text": [
            "              precision    recall  f1-score   support\n",
            "\n",
            "           0       0.11      0.19      0.14        16\n",
            "           1       0.12      0.12      0.12        41\n",
            "           2       0.30      0.21      0.25        42\n",
            "           3       0.28      0.28      0.28        47\n",
            "           4       0.22      0.26      0.24        54\n",
            "           5       0.17      0.04      0.07        49\n",
            "           6       0.25      0.35      0.29        68\n",
            "           7       1.00      1.00      1.00       282\n",
            "           8       0.27      0.48      0.34        65\n",
            "           9       0.19      0.11      0.14        55\n",
            "          10       0.33      0.07      0.12        40\n",
            "\n",
            "    accuracy                           0.52       759\n",
            "   macro avg       0.29      0.28      0.27       759\n",
            "weighted avg       0.52      0.52      0.50       759\n",
            "\n"
          ]
        }
      ]
    },
    {
      "cell_type": "code",
      "source": [
        "report(clf_ada)"
      ],
      "metadata": {
        "colab": {
          "base_uri": "https://localhost:8080/"
        },
        "id": "8Ogpz1XrVuIw",
        "outputId": "444fad51-a78e-4775-c897-ed3ae18d87fc"
      },
      "execution_count": null,
      "outputs": [
        {
          "output_type": "stream",
          "name": "stdout",
          "text": [
            "              precision    recall  f1-score   support\n",
            "\n",
            "           0       0.00      0.00      0.00        16\n",
            "           1       0.00      0.00      0.00        41\n",
            "           2       0.11      0.07      0.09        42\n",
            "           3       0.07      0.13      0.09        47\n",
            "           4       0.11      0.11      0.11        54\n",
            "           5       0.10      0.08      0.09        49\n",
            "           6       0.15      0.21      0.17        68\n",
            "           7       1.00      1.00      1.00       282\n",
            "           8       0.16      0.26      0.20        65\n",
            "           9       0.00      0.00      0.00        55\n",
            "          10       0.08      0.05      0.06        40\n",
            "\n",
            "    accuracy                           0.44       759\n",
            "   macro avg       0.16      0.17      0.16       759\n",
            "weighted avg       0.43      0.44      0.43       759\n",
            "\n"
          ]
        }
      ]
    },
    {
      "cell_type": "code",
      "source": [
        "report(clf)"
      ],
      "metadata": {
        "colab": {
          "base_uri": "https://localhost:8080/"
        },
        "id": "iaCte9iJV2bD",
        "outputId": "383f6cc6-274a-4fcc-e236-48302f46ce83"
      },
      "execution_count": null,
      "outputs": [
        {
          "output_type": "stream",
          "name": "stdout",
          "text": [
            "              precision    recall  f1-score   support\n",
            "\n",
            "           0       0.00      0.00      0.00        16\n",
            "           1       0.00      0.00      0.00        41\n",
            "           2       0.11      0.12      0.11        42\n",
            "           3       0.22      0.11      0.14        47\n",
            "           4       0.11      0.02      0.03        54\n",
            "           5       0.00      0.00      0.00        49\n",
            "           6       0.18      0.50      0.27        68\n",
            "           7       1.00      1.00      1.00       282\n",
            "           8       0.19      0.60      0.28        65\n",
            "           9       0.00      0.00      0.00        55\n",
            "          10       0.00      0.00      0.00        40\n",
            "\n",
            "    accuracy                           0.48       759\n",
            "   macro avg       0.16      0.21      0.17       759\n",
            "weighted avg       0.43      0.48      0.44       759\n",
            "\n"
          ]
        },
        {
          "output_type": "stream",
          "name": "stderr",
          "text": [
            "/usr/local/lib/python3.10/dist-packages/sklearn/metrics/_classification.py:1344: UndefinedMetricWarning: Precision and F-score are ill-defined and being set to 0.0 in labels with no predicted samples. Use `zero_division` parameter to control this behavior.\n",
            "  _warn_prf(average, modifier, msg_start, len(result))\n",
            "/usr/local/lib/python3.10/dist-packages/sklearn/metrics/_classification.py:1344: UndefinedMetricWarning: Precision and F-score are ill-defined and being set to 0.0 in labels with no predicted samples. Use `zero_division` parameter to control this behavior.\n",
            "  _warn_prf(average, modifier, msg_start, len(result))\n",
            "/usr/local/lib/python3.10/dist-packages/sklearn/metrics/_classification.py:1344: UndefinedMetricWarning: Precision and F-score are ill-defined and being set to 0.0 in labels with no predicted samples. Use `zero_division` parameter to control this behavior.\n",
            "  _warn_prf(average, modifier, msg_start, len(result))\n"
          ]
        }
      ]
    },
    {
      "cell_type": "code",
      "source": [
        "report(clf_g)"
      ],
      "metadata": {
        "colab": {
          "base_uri": "https://localhost:8080/"
        },
        "id": "Lw2ZBUY5V6Qm",
        "outputId": "16a0cc4a-5740-424a-dc4f-bab63b3fff6b"
      },
      "execution_count": null,
      "outputs": [
        {
          "output_type": "stream",
          "name": "stdout",
          "text": [
            "              precision    recall  f1-score   support\n",
            "\n",
            "           0       0.05      0.06      0.05        16\n",
            "           1       0.00      0.00      0.00        41\n",
            "           2       0.12      0.21      0.15        42\n",
            "           3       0.32      0.17      0.22        47\n",
            "           4       0.15      0.31      0.20        54\n",
            "           5       0.11      0.08      0.09        49\n",
            "           6       0.11      0.06      0.08        68\n",
            "           7       1.00      1.00      1.00       282\n",
            "           8       0.23      0.32      0.27        65\n",
            "           9       0.15      0.04      0.06        55\n",
            "          10       0.23      0.23      0.23        40\n",
            "\n",
            "    accuracy                           0.47       759\n",
            "   macro avg       0.22      0.23      0.21       759\n",
            "weighted avg       0.47      0.47      0.46       759\n",
            "\n"
          ]
        }
      ]
    },
    {
      "cell_type": "code",
      "source": [],
      "metadata": {
        "id": "HTPnvqH538tR"
      },
      "execution_count": null,
      "outputs": []
    }
  ],
  "metadata": {
    "colab": {
      "provenance": []
    },
    "kernelspec": {
      "display_name": "Python 3",
      "name": "python3"
    },
    "language_info": {
      "name": "python"
    }
  },
  "nbformat": 4,
  "nbformat_minor": 0
}